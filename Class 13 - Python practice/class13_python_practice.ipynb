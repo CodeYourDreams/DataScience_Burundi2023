{
 "cells": [
  {
   "cell_type": "markdown",
   "id": "674ac2a7",
   "metadata": {
    "slideshow": {
     "slide_type": "slide"
    }
   },
   "source": [
    "# We'll start at 2:10 PM \n",
    "\n",
    "Waiting for others to join the call :)\n",
    "\n",
    "https://www.youtube.com/watch?v=kRt2sRyup6A&ab_channel=JuanesVEVO"
   ]
  },
  {
   "cell_type": "markdown",
   "id": "843e46f7",
   "metadata": {
    "slideshow": {
     "slide_type": "slide"
    }
   },
   "source": [
    "<center><img src='img/cdy.png' style='width:500px; float: left; margin: 0px 30px 15px 0px'></center>\n",
    "\n",
    "# Python practice 🎓\n",
    "## Class 13 - Data Science Curriculum \n",
    "\n",
    "<br>\n",
    "\n",
    "#### Women Building Change scholarship program 2023 🇧🇮\n",
    "March 31, 2023\n",
    "\n",
    "\n",
    "\n"
   ]
  },
  {
   "cell_type": "markdown",
   "id": "48500da2",
   "metadata": {
    "slideshow": {
     "slide_type": "slide"
    }
   },
   "source": [
    "# Recap last class\n",
    "\n",
    "- Libraries"
   ]
  },
  {
   "cell_type": "markdown",
   "id": "82476939",
   "metadata": {
    "slideshow": {
     "slide_type": "slide"
    }
   },
   "source": [
    "# 🚀 Today's agenda\n",
    "\n",
    "- Python practice!"
   ]
  },
  {
   "cell_type": "markdown",
   "id": "d7c97442",
   "metadata": {
    "slideshow": {
     "slide_type": "slide"
    }
   },
   "source": [
    "# Google Colab: https://colab.research.google.com/\n",
    "\n",
    "<br>\n",
    "<center><img src='img/superhero.gif' style='height:350px; float: center; margin: 0px 30px 15px 0px'></center>\n",
    "\n"
   ]
  },
  {
   "cell_type": "markdown",
   "id": "48abbe5b",
   "metadata": {
    "slideshow": {
     "slide_type": "slide"
    }
   },
   "source": [
    "# Class 5 - Arithmetic syntax\n",
    "\n",
    "https://pollev.com/vivianamarqu288"
   ]
  },
  {
   "cell_type": "code",
   "execution_count": 14,
   "id": "b55215b4",
   "metadata": {
    "slideshow": {
     "slide_type": "fragment"
    }
   },
   "outputs": [],
   "source": [
    "a = 5\n",
    "b = 10"
   ]
  },
  {
   "cell_type": "code",
   "execution_count": 17,
   "id": "2b8719d6",
   "metadata": {
    "slideshow": {
     "slide_type": "fragment"
    }
   },
   "outputs": [
    {
     "name": "stdout",
     "output_type": "stream",
     "text": [
      "5 10 5\n"
     ]
    }
   ],
   "source": [
    "temp = a\n",
    "print(a,b,temp)"
   ]
  },
  {
   "cell_type": "code",
   "execution_count": 18,
   "id": "38d98ba6",
   "metadata": {
    "slideshow": {
     "slide_type": "fragment"
    }
   },
   "outputs": [
    {
     "name": "stdout",
     "output_type": "stream",
     "text": [
      "10 10 5\n"
     ]
    }
   ],
   "source": [
    "a = b\n",
    "print(a,b,temp)"
   ]
  },
  {
   "cell_type": "code",
   "execution_count": 19,
   "id": "29c07d61",
   "metadata": {
    "slideshow": {
     "slide_type": "fragment"
    }
   },
   "outputs": [
    {
     "name": "stdout",
     "output_type": "stream",
     "text": [
      "10 5 5\n"
     ]
    }
   ],
   "source": [
    "b = temp\n",
    "print(a,b,temp)"
   ]
  },
  {
   "cell_type": "code",
   "execution_count": 23,
   "id": "442863b8",
   "metadata": {
    "slideshow": {
     "slide_type": "slide"
    }
   },
   "outputs": [],
   "source": [
    "def switch(first_var, second_var):\n",
    "    print(f\"The first variable used to be {first_var} and the second one used to be {second_var}\")\n",
    "    temp = first_var\n",
    "    first_var = second_var\n",
    "    second_var = temp\n",
    "    print(f\"Now they are {first_var} and {second_var}\")"
   ]
  },
  {
   "cell_type": "code",
   "execution_count": 24,
   "id": "1ea49a4e",
   "metadata": {
    "slideshow": {
     "slide_type": "fragment"
    }
   },
   "outputs": [
    {
     "name": "stdout",
     "output_type": "stream",
     "text": [
      "The first variable used to be 10 and the second one used to be 5\n",
      "Now they are 5 and 10\n"
     ]
    }
   ],
   "source": [
    "switch(a, b)"
   ]
  },
  {
   "cell_type": "markdown",
   "id": "58f0fb34",
   "metadata": {
    "slideshow": {
     "slide_type": "slide"
    }
   },
   "source": [
    "# Class 7 - Lists and Dictionaries"
   ]
  },
  {
   "cell_type": "markdown",
   "id": "d660e0eb",
   "metadata": {
    "slideshow": {
     "slide_type": "slide"
    }
   },
   "source": [
    "### List"
   ]
  },
  {
   "cell_type": "markdown",
   "id": "e1c55e77",
   "metadata": {
    "slideshow": {
     "slide_type": "fragment"
    }
   },
   "source": [
    "Create a new list and call it classmates, and include all of the classmates you see around you in that list!\n"
   ]
  },
  {
   "cell_type": "code",
   "execution_count": null,
   "id": "6b9f5506",
   "metadata": {
    "slideshow": {
     "slide_type": "fragment"
    }
   },
   "outputs": [],
   "source": []
  },
  {
   "cell_type": "markdown",
   "id": "91964892",
   "metadata": {
    "slideshow": {
     "slide_type": "fragment"
    }
   },
   "source": [
    "Add your name to the list, using the append() function!"
   ]
  },
  {
   "cell_type": "code",
   "execution_count": null,
   "id": "08710ebb",
   "metadata": {
    "slideshow": {
     "slide_type": "fragment"
    }
   },
   "outputs": [],
   "source": []
  },
  {
   "cell_type": "markdown",
   "id": "67ced078",
   "metadata": {
    "slideshow": {
     "slide_type": "slide"
    }
   },
   "source": [
    "### Dictionary"
   ]
  },
  {
   "cell_type": "markdown",
   "id": "d7c2f9fb",
   "metadata": {
    "slideshow": {
     "slide_type": "fragment"
    }
   },
   "source": [
    "Create a dictionary about yourself\n"
   ]
  },
  {
   "cell_type": "code",
   "execution_count": 25,
   "id": "73232c6f",
   "metadata": {
    "slideshow": {
     "slide_type": "fragment"
    }
   },
   "outputs": [],
   "source": [
    "about_me = {\n",
    "    'name': \"Viviana\",\n",
    "    'city': \"Bogota\",\n",
    "    'age': \"125\"\n",
    "}\n"
   ]
  },
  {
   "cell_type": "markdown",
   "id": "2efb77fc",
   "metadata": {
    "slideshow": {
     "slide_type": "fragment"
    }
   },
   "source": [
    "Add the following information to your about_me dictionary\n",
    "- Your favorite food\n",
    "- How many pets you have\n",
    "- Your height\n",
    "- Whether you like chicken wings (this should be a boolean)\n"
   ]
  },
  {
   "cell_type": "code",
   "execution_count": 26,
   "id": "68393aee",
   "metadata": {
    "slideshow": {
     "slide_type": "fragment"
    }
   },
   "outputs": [],
   "source": [
    "about_me['favorite_food'] = 'lasagna'"
   ]
  },
  {
   "cell_type": "markdown",
   "id": "be3f873d",
   "metadata": {
    "slideshow": {
     "slide_type": "fragment"
    }
   },
   "source": [
    "Print your dictionary"
   ]
  },
  {
   "cell_type": "code",
   "execution_count": 28,
   "id": "b9e965f9",
   "metadata": {},
   "outputs": [
    {
     "name": "stdout",
     "output_type": "stream",
     "text": [
      "name is Viviana\n",
      "city is Bogota\n",
      "age is 125\n",
      "favorite_food is lasagna\n"
     ]
    }
   ],
   "source": [
    "for key in about_me.keys():\n",
    "    print(f\"{key} is {about_me[key]}\")"
   ]
  },
  {
   "cell_type": "markdown",
   "id": "e757d6b5",
   "metadata": {
    "slideshow": {
     "slide_type": "slide"
    }
   },
   "source": [
    "# Class 8 - Conditionals"
   ]
  },
  {
   "cell_type": "markdown",
   "id": "95f1179e",
   "metadata": {
    "slideshow": {
     "slide_type": "slide"
    }
   },
   "source": [
    "### Booleans\n",
    "\n",
    "https://pollev.com/vivianamarqu288"
   ]
  },
  {
   "cell_type": "code",
   "execution_count": 33,
   "id": "51c0e9c3",
   "metadata": {},
   "outputs": [],
   "source": [
    "x =1 \n",
    "a = 5\n",
    "c = 2"
   ]
  },
  {
   "cell_type": "code",
   "execution_count": 34,
   "id": "5f4898b4",
   "metadata": {},
   "outputs": [
    {
     "data": {
      "text/plain": [
       "True"
      ]
     },
     "execution_count": 34,
     "metadata": {},
     "output_type": "execute_result"
    }
   ],
   "source": [
    "x < 0 or a > 4"
   ]
  },
  {
   "cell_type": "code",
   "execution_count": 36,
   "id": "17f2a7df",
   "metadata": {},
   "outputs": [
    {
     "data": {
      "text/plain": [
       "False"
      ]
     },
     "execution_count": 36,
     "metadata": {},
     "output_type": "execute_result"
    }
   ],
   "source": [
    "a <= 5 and c > 2"
   ]
  },
  {
   "cell_type": "markdown",
   "id": "797d523f",
   "metadata": {
    "slideshow": {
     "slide_type": "slide"
    }
   },
   "source": [
    "### Conditionals"
   ]
  },
  {
   "cell_type": "code",
   "execution_count": 39,
   "id": "7856dd4a",
   "metadata": {
    "slideshow": {
     "slide_type": "fragment"
    }
   },
   "outputs": [],
   "source": [
    "music_dict = {'taylor swift': 'willow', \n",
    "              'harry styles': 'Watermelon Sugar', \n",
    "              'garth brooks': 'Friends in Low Places', \n",
    "              'bruno mars': 'Leave the Door Open', \n",
    "              'vance joy': 'Riptide', \n",
    "              'bts': 'Butter', \n",
    "              'weeknd': 'Blinding Lights', \n",
    "              'glass animals': 'Heatwave', \n",
    "              'drake': 'Nonstop', \n",
    "              'lynyrd skynyrd' : 'Simple Man', \n",
    "              'the beatles': 'Here Comes the Sun', \n",
    "              'adele': 'Hello', \n",
    "              'lewis capaldi': 'Before You Go', \n",
    "              'one direction': 'What Makes You Beautiful'}"
   ]
  },
  {
   "cell_type": "code",
   "execution_count": 41,
   "id": "2c6ca5b0",
   "metadata": {
    "slideshow": {
     "slide_type": "fragment"
    }
   },
   "outputs": [],
   "source": [
    "artist = 'Taylor Swift'"
   ]
  },
  {
   "cell_type": "code",
   "execution_count": 42,
   "id": "eb640bd3",
   "metadata": {},
   "outputs": [
    {
     "name": "stdout",
     "output_type": "stream",
     "text": [
      "willow\n"
     ]
    }
   ],
   "source": [
    "if artist.lower() in music_dict.keys():\n",
    "    print(music_dict[artist.lower()])\n",
    "else:\n",
    "    print(f\"No {artist} in the dictionary\")"
   ]
  },
  {
   "cell_type": "markdown",
   "id": "6ff872e6",
   "metadata": {
    "slideshow": {
     "slide_type": "slide"
    }
   },
   "source": [
    "# Class 9 - Loops"
   ]
  },
  {
   "cell_type": "markdown",
   "id": "0e562590",
   "metadata": {
    "slideshow": {
     "slide_type": "slide"
    }
   },
   "source": [
    "Make a list with numbers 1 to n, including n, but where each number that is divisible by three is replaced with the word \"fizz\", each number divisible by five with the word \"buzz\", and each number divisible by both 3 and 5 with “fizzbuzz”.\n"
   ]
  },
  {
   "cell_type": "code",
   "execution_count": 44,
   "id": "6f334fee",
   "metadata": {
    "slideshow": {
     "slide_type": "fragment"
    }
   },
   "outputs": [],
   "source": [
    "def check_num(n):\n",
    "    if i % 3 == 0 and i % 5 == 0:\n",
    "        return (\"FizzBuzz\")\n",
    "    elif i % 3 == 0:\n",
    "        return(\"Fizz\")\n",
    "    elif i % 5 == 0:\n",
    "        return(\"Buzz\")\n",
    "    else:\n",
    "        return i"
   ]
  },
  {
   "cell_type": "code",
   "execution_count": 47,
   "id": "11ee14fd",
   "metadata": {
    "slideshow": {
     "slide_type": "fragment"
    }
   },
   "outputs": [
    {
     "name": "stdout",
     "output_type": "stream",
     "text": [
      "1\n",
      "2\n",
      "Fizz\n",
      "4\n",
      "Buzz\n",
      "Fizz\n",
      "7\n",
      "8\n",
      "Fizz\n",
      "Buzz\n",
      "11\n",
      "Fizz\n",
      "13\n",
      "14\n",
      "FizzBuzz\n",
      "16\n",
      "17\n",
      "Fizz\n",
      "19\n",
      "Buzz\n",
      "Fizz\n",
      "22\n",
      "23\n",
      "Fizz\n",
      "Buzz\n",
      "26\n",
      "Fizz\n",
      "28\n",
      "29\n"
     ]
    }
   ],
   "source": [
    "for i in range(1,30):\n",
    "    print(check_num(i))"
   ]
  },
  {
   "cell_type": "markdown",
   "id": "11f1a338",
   "metadata": {
    "slideshow": {
     "slide_type": "slide"
    }
   },
   "source": [
    "We're going to continue adding some code to our program that keeps track of homework scores. We want our program to find out what the highest score for the class was.\n",
    "\n",
    "Write a program that loops through every score in the list. Your program should first set a variable for the highest score to 0. Then, for each score, your program should figure out whether the score is greater than the highest score. If it is, then set the highest score to the current score in the loop. At the end, you should print the highest score."
   ]
  },
  {
   "cell_type": "code",
   "execution_count": null,
   "id": "36d9ddc6",
   "metadata": {
    "slideshow": {
     "slide_type": "fragment"
    }
   },
   "outputs": [],
   "source": [
    "scores = [93, 94, 83, 63, 84, 98, 90, 98, 79, 87, 73, 96, 61, 86, 88, 54, 70, 74, 77, 74]\n",
    "\n",
    "# Set the highest score to 0\n",
    "\n",
    "\n",
    "# Loop through each score\n",
    "#    If the score is greater than the highest score, update the highest score\n",
    "\n",
    "\n",
    "# Print the highest score"
   ]
  },
  {
   "cell_type": "markdown",
   "id": "1e112ef6",
   "metadata": {
    "slideshow": {
     "slide_type": "slide"
    }
   },
   "source": [
    "# Class 11 - Functions"
   ]
  },
  {
   "cell_type": "markdown",
   "id": "742edaaf",
   "metadata": {
    "slideshow": {
     "slide_type": "fragment"
    }
   },
   "source": [
    "https://www.w3resource.com/python-exercises/python-functions-exercises.php"
   ]
  },
  {
   "cell_type": "markdown",
   "id": "d7a88c0e",
   "metadata": {
    "slideshow": {
     "slide_type": "slide"
    }
   },
   "source": [
    "# ⏪ Today's recap\n",
    "\n",
    "- Python practice"
   ]
  },
  {
   "cell_type": "markdown",
   "id": "c3c47662",
   "metadata": {
    "slideshow": {
     "slide_type": "slide"
    }
   },
   "source": [
    "<center><img src='img/bye.gif' style='height:250px;'></center> \n",
    "\n",
    "# Next class: We start with the data science module!\n",
    "# See you next Monday!"
   ]
  }
 ],
 "metadata": {
  "celltoolbar": "Slideshow",
  "kernelspec": {
   "display_name": "Python 3 (ipykernel)",
   "language": "python",
   "name": "python3"
  },
  "language_info": {
   "codemirror_mode": {
    "name": "ipython",
    "version": 3
   },
   "file_extension": ".py",
   "mimetype": "text/x-python",
   "name": "python",
   "nbconvert_exporter": "python",
   "pygments_lexer": "ipython3",
   "version": "3.9.13"
  }
 },
 "nbformat": 4,
 "nbformat_minor": 5
}
