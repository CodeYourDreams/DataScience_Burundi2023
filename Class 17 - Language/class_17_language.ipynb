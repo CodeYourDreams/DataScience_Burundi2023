{
 "cells": [
  {
   "cell_type": "markdown",
   "id": "674ac2a7",
   "metadata": {
    "slideshow": {
     "slide_type": "slide"
    }
   },
   "source": [
    "# We'll start at 2:05ish PM \n",
    "\n",
    "Waiting for others to join the call :)\n",
    "\n",
    "https://www.youtube.com/watch?v=dzsuE5ugxf4"
   ]
  },
  {
   "cell_type": "markdown",
   "id": "843e46f7",
   "metadata": {
    "slideshow": {
     "slide_type": "slide"
    }
   },
   "source": [
    "<center><img src='img/cdy.png' style='width:500px; float: left; margin: 0px 30px 15px 0px'></center>\n",
    "\n",
    "# What is NLP?\n",
    "## Class 17 - Data Science Curriculum \n",
    "\n",
    "<br>\n",
    "\n",
    "#### Women Building Change scholarship program 2023 🇧🇮\n",
    "April 21, 2023\n",
    "\n",
    "\n",
    "\n"
   ]
  },
  {
   "cell_type": "markdown",
   "id": "48500da2",
   "metadata": {
    "slideshow": {
     "slide_type": "slide"
    }
   },
   "source": [
    "# ⏪ Recap last class\n",
    "\n",
    "- data science pipeline\n",
    "- how to read: .csv, .txt, .json\n",
    "- open source data\n",
    "- webscraping with beautiful soup\n",
    "- getting data from twitter"
   ]
  },
  {
   "cell_type": "markdown",
   "id": "82476939",
   "metadata": {
    "slideshow": {
     "slide_type": "slide"
    }
   },
   "source": [
    "# 🚀 Today's agenda\n",
    "\n",
    "- What is NLP?"
   ]
  },
  {
   "cell_type": "markdown",
   "id": "3f7409f0",
   "metadata": {
    "slideshow": {
     "slide_type": "slide"
    }
   },
   "source": [
    "# Natural Language Processing (NLP)\n",
    "\n",
    "<br>\n",
    "<center><img src=\"img/clase01/nlp.png\" style='height:400px;'>\n",
    "    <small>Image credit: CleverTap</small></center>\n",
    "\n",
    "- It is the area of artificial intelligence that deals with human languages and derives valuable information from them\n",
    "\n",
    "- There are dozens of methods and strategies to solve a given problem"
   ]
  },
  {
   "cell_type": "markdown",
   "id": "f1a91959",
   "metadata": {
    "slideshow": {
     "slide_type": "slide"
    }
   },
   "source": [
    "# 🤔 Why learn NLP?"
   ]
  },
  {
   "cell_type": "markdown",
   "id": "ca8998e9",
   "metadata": {
    "slideshow": {
     "slide_type": "slide"
    }
   },
   "source": [
    "### Text and Big Data\n",
    "\n",
    "<center><br>\n",
    "<img src='img/clase01/unstructured.png' style='height:350px;'>\n",
    "</center>\n",
    "\n",
    "• There are more than 7,100 spoken languages in the world\n",
    "\n",
    "• From 80% to 90% of data generated and collected by organizations is unstructured → Most of it is in the form of text\n",
    "\n",
    "• Millions of data are being generated right now: WhatsApp, Twitter, YouTube, Reddit, etc."
   ]
  },
  {
   "cell_type": "markdown",
   "id": "cd7b2268",
   "metadata": {
    "slideshow": {
     "slide_type": "slide"
    }
   },
   "source": [
    "##### NLP in the real world \n",
    "# Language modeling \n",
    "\n",
    "<center><br>\n",
    "<img src='img/clase01/google.png' style='height:400px;'>\n",
    "</center>\n",
    "\n",
    "• Predict a sentence based on the history of the previous words"
   ]
  },
  {
   "cell_type": "markdown",
   "id": "0c2a7ef5",
   "metadata": {
    "slideshow": {
     "slide_type": "slide"
    }
   },
   "source": [
    "##### NLP in the real world\n",
    "# Text classification \n",
    "\n",
    "<center><br>\n",
    "<img src='img/clase01/spam.jpg' style='height:350px;'>\n",
    "</center>\n",
    "\n",
    "- Classify text in different categories based on its content\n",
    "\n",
    "- Most famous example: Spam or not"
   ]
  },
  {
   "cell_type": "markdown",
   "id": "c47d91a7",
   "metadata": {
    "slideshow": {
     "slide_type": "slide"
    }
   },
   "source": [
    "##### NLP in the real world\n",
    "# Information extraction\n",
    "\n",
    "<center><br>\n",
    "<img src='img/clase01/whatsapp2.jpg' style='height:350px;'>\n",
    "</center>\n",
    "\n",
    "- As the name implies, this refers to extracting relevant information from the text\n",
    "\n",
    "- Examples: Calendar events and entities mentioned"
   ]
  },
  {
   "cell_type": "markdown",
   "id": "969c824c",
   "metadata": {
    "slideshow": {
     "slide_type": "slide"
    }
   },
   "source": [
    "##### NLP in the real world\n",
    "# Information retrieval \n",
    "\n",
    "<center><br>\n",
    "<img src='img/clase01/google_ret.png' style='height:350px;'>\n",
    "</center>\n",
    "\n",
    "- Find relevant documents in a large dataset based on a user's search\n",
    "\n",
    "- Related to text summarization"
   ]
  },
  {
   "cell_type": "markdown",
   "id": "6336cc8a",
   "metadata": {
    "slideshow": {
     "slide_type": "slide"
    }
   },
   "source": [
    "##### NLP in the real world\n",
    "# Chatbots\n",
    "\n",
    "<center><br>\n",
    "<img src='img/clase01/chatbot.png' style='height:400px;'>\n",
    "</center>\n",
    "\n",
    "• Systems that answer questions automatically"
   ]
  },
  {
   "cell_type": "markdown",
   "id": "eed57286",
   "metadata": {
    "slideshow": {
     "slide_type": "slide"
    }
   },
   "source": [
    "##### NLP in the real world\n",
    "# Translation \n",
    "\n",
    "<center><br>\n",
    "<img src='img/clase01/deepl.png' style='height:400px;'>\n",
    "</center>"
   ]
  },
  {
   "cell_type": "markdown",
   "id": "6fd63f75",
   "metadata": {
    "slideshow": {
     "slide_type": "slide"
    }
   },
   "source": [
    "##### NLP in the real world\n",
    "# Social media monitoring\n",
    "\n",
    "<center><br>\n",
    "<img src='img/clase01/adele.png' style='height:300px;'>\n",
    "</center>\n",
    "\n",
    "- Companies want to understand their customers (targeted marketing campaigns)\n",
    "\n",
    "- They want to be able to take advantage of explicit and implicit feedback from their customers\n",
    "\n",
    "- Example: [Here](https://www.youtube.com/watch?v=sY9cjVK0mGU&ab_channel=MADSTARS%28%EB%B6%80%EC%82%B0%EA%B5%AD%EC%A0%9C%EA%B4%91%EA%B3%A0%EC%A0%9C%29)"
   ]
  },
  {
   "cell_type": "markdown",
   "id": "30a608f5",
   "metadata": {
    "slideshow": {
     "slide_type": "slide"
    }
   },
   "source": [
    "##### NLP in the real world\n"
   ]
  },
  {
   "cell_type": "markdown",
   "id": "54d7edb1",
   "metadata": {
    "slideshow": {
     "slide_type": "fragment"
    }
   },
   "source": [
    "### How do we talk to Siri? Does it speak English?\n",
    "\n",
    "<center><br>\n",
    "<img src='img/clase01/siri.jpg' style='height:350px;'>"
   ]
  },
  {
   "cell_type": "markdown",
   "id": "9ebfe169",
   "metadata": {
    "slideshow": {
     "slide_type": "slide"
    }
   },
   "source": [
    "### Representation of data in numerical form\n",
    "\n",
    "**Example: Images**\n",
    "\n",
    "<center><img src='img/clase08/komp2.jpeg'>\n",
    "<small>Image credit: VideoNet</small></center>\n",
    "\n",
    "- An image is represented on a computer in the form of a matrix where each $m[i,j]$ represents pixel $i$,$j$ of the image\n",
    "\n",
    "- Similarly, a video is a collection of frames, where each frame is an image. Therefore, any video can be represented as a collection of matrices\n",
    "\n",
    "- (Un)fortunately, representing text numerically is not so simple"
   ]
  },
  {
   "cell_type": "markdown",
   "id": "f15b18ca",
   "metadata": {
    "slideshow": {
     "slide_type": "slide"
    }
   },
   "source": [
    "# 😫 🤯 Why is NLP so hard?\n"
   ]
  },
  {
   "cell_type": "markdown",
   "id": "14151e55",
   "metadata": {
    "slideshow": {
     "slide_type": "fragment"
    }
   },
   "source": [
    "<img src='img/clase01/colina.jpeg' style='height:300px; float: left; margin: 30px 30px 30px 30px'> \n",
    "1. I saw the man. The man was on the hill. I was using a telescope.<br>\n",
    "2. I saw the man. I was on the hill. I was using a telescope.<br>\n",
    "3. I saw the man. The man was on the hill. The hill had a telescope.<br>\n",
    "4. I saw the man. I was on the hill. The hill had a telescope.<br>\n",
    "5. I saw the man. The man was on the hill. I saw him using a telescope.\n",
    "\n",
    "<br><br>\n",
    "<small>Image credit: All Things Linguistic</small>"
   ]
  },
  {
   "cell_type": "markdown",
   "id": "2d2f5bc8",
   "metadata": {
    "slideshow": {
     "slide_type": "slide"
    }
   },
   "source": [
    "# 😫 🤯 Why is NLP so hard?\n"
   ]
  },
  {
   "cell_type": "markdown",
   "id": "9b2908aa",
   "metadata": {
    "slideshow": {
     "slide_type": "fragment"
    }
   },
   "source": [
    "- The city council denied the demonstrators the permit because **they** advocated violence. \n",
    "- The city council denied the demonstrators the permit because **they** feared violence. "
   ]
  },
  {
   "cell_type": "markdown",
   "id": "fc7fd7da",
   "metadata": {
    "slideshow": {
     "slide_type": "slide"
    }
   },
   "source": [
    "<center><img src='img/clase01/chicken.jpg'>\n",
    "<center>    \n",
    "    <big>Is the chicken ready to eat?</big>\n",
    "</center>"
   ]
  },
  {
   "cell_type": "markdown",
   "id": "ca962bc7",
   "metadata": {
    "slideshow": {
     "slide_type": "fragment"
    }
   },
   "source": [
    "### Ambiguity"
   ]
  },
  {
   "cell_type": "markdown",
   "id": "19416416",
   "metadata": {
    "slideshow": {
     "slide_type": "slide"
    }
   },
   "source": [
    "<center><img src='img/clase01/perro.jpg' style='height:350px;'>\n",
    "<center>    \n",
    "    <big>\"The dog bit the man\" vs \"The man bit the dog\"</big>\n",
    "</center>"
   ]
  },
  {
   "cell_type": "markdown",
   "id": "87778310",
   "metadata": {
    "slideshow": {
     "slide_type": "fragment"
    }
   },
   "source": [
    "### Common knowledge"
   ]
  },
  {
   "cell_type": "markdown",
   "id": "20bc7d70",
   "metadata": {
    "slideshow": {
     "slide_type": "slide"
    }
   },
   "source": [
    "<center><img src='img/clase01/homesick.png' style='height:350px;'>\n",
    "<center>    \n",
    "    <big>How do you say \"Dépaysement\" in English?</big>\n",
    "</center>"
   ]
  },
  {
   "cell_type": "markdown",
   "id": "b8ea8ab4",
   "metadata": {
    "slideshow": {
     "slide_type": "fragment"
    }
   },
   "source": [
    "### Language diversity"
   ]
  },
  {
   "cell_type": "markdown",
   "id": "cbfe1292",
   "metadata": {
    "slideshow": {
     "slide_type": "slide"
    }
   },
   "source": [
    "<center><img src='img/clase01/homer.gif' style='height:350px;'>"
   ]
  },
  {
   "cell_type": "markdown",
   "id": "2ac0060d",
   "metadata": {
    "slideshow": {
     "slide_type": "fragment"
    }
   },
   "source": [
    "### Sarcasm"
   ]
  },
  {
   "cell_type": "markdown",
   "id": "dabc5942",
   "metadata": {
    "slideshow": {
     "slide_type": "slide"
    }
   },
   "source": [
    "# 😫 🤯 So now that we have grasped why NLP is hard...\n"
   ]
  },
  {
   "cell_type": "markdown",
   "id": "63a8759b",
   "metadata": {
    "slideshow": {
     "slide_type": "fragment"
    }
   },
   "source": [
    "### Representation of data in numerical form\n",
    "\n",
    "**Example: Images**\n",
    "\n",
    "<center><img src='img/clase08/komp2.jpeg'>\n",
    "<small>Image credit: VideoNet</small></center>\n",
    "\n",
    "- An image is represented on a computer in the form of a matrix where each $m[i,j]$ represents pixel $i$,$j$ of the image\n",
    "\n",
    "- Similarly, a video is a collection of frames, where each frame is an image. Therefore, any video can be represented as a collection of matrices\n",
    "\n",
    "- (Un)fortunately, representing text numerically is not so simple"
   ]
  },
  {
   "cell_type": "markdown",
   "id": "480b0484",
   "metadata": {
    "slideshow": {
     "slide_type": "slide"
    }
   },
   "source": [
    "## 🤔 The issue at hand...\n",
    "\n",
    "<br>\n",
    "<center><img src='img/clase01/gigo.png' style='height:350px;'>\n",
    "<small>Image credit: R-Bloggers</small></center>"
   ]
  },
  {
   "cell_type": "markdown",
   "id": "8b633243",
   "metadata": {
    "slideshow": {
     "slide_type": "fragment"
    }
   },
   "source": [
    " - Let's take as an example the word **bow**. Can we just give it a number to represent it? "
   ]
  },
  {
   "cell_type": "markdown",
   "id": "f8872464",
   "metadata": {
    "slideshow": {
     "slide_type": "fragment"
    }
   },
   "source": [
    "- 🙅‍♀ Then... how do we represent the meaning of a word? "
   ]
  },
  {
   "cell_type": "markdown",
   "id": "7811fe37",
   "metadata": {
    "slideshow": {
     "slide_type": "slide"
    }
   },
   "source": [
    "## How do we, humans, know what a word means?\n",
    "\n",
    "<br>\n",
    "<center><img src='img/clase08/reina.jpg' style='height:500px; float: center; margin: 0px 15px 15px 0px'></center>"
   ]
  },
  {
   "cell_type": "markdown",
   "id": "9dad1d05",
   "metadata": {
    "slideshow": {
     "slide_type": "slide"
    }
   },
   "source": [
    "## We learn through experience\n",
    "\n",
    "<br>\n",
    "<center><img src='img/clase08/reyes2.png' style='height:600px; float: center; margin: 0px 15px 15px 0px'></center>"
   ]
  },
  {
   "cell_type": "markdown",
   "id": "203a4030",
   "metadata": {
    "slideshow": {
     "slide_type": "slide"
    }
   },
   "source": [
    "## Machines can also learn through experience\n",
    "\n",
    "<br>\n",
    "\n",
    "<div align='center'>\n",
    "    <img src='img/clase08/maquina1.png' style='height:500px; float: left; margin: 0px 15px 15px 0px'>\n",
    "    <img src='img/clase08/maquina2.png' style='height:500px; float: left; margin: 0px 15px 15px 0px'>\n",
    "</div>"
   ]
  },
  {
   "cell_type": "markdown",
   "id": "061272f6",
   "metadata": {
    "slideshow": {
     "slide_type": "slide"
    }
   },
   "source": [
    "# 🤔 🤔 🤔\n",
    "# What is meant by the meaning of a word?"
   ]
  },
  {
   "cell_type": "markdown",
   "id": "524149f8",
   "metadata": {
    "slideshow": {
     "slide_type": "slide"
    }
   },
   "source": [
    "# 🤔 🤔 🤔\n",
    "# What is tichiniky? \n",
    "(Don't look it up on Google)\n"
   ]
  },
  {
   "cell_type": "markdown",
   "id": "97cafc56",
   "metadata": {
    "slideshow": {
     "slide_type": "slide"
    }
   },
   "source": [
    "\n",
    "\n",
    "- Joseph offered a glass of <font color='red'>tichiniky</font> to his girlfriend."
   ]
  },
  {
   "cell_type": "markdown",
   "id": "cb6cb34b",
   "metadata": {
    "slideshow": {
     "slide_type": "fragment"
    }
   },
   "source": [
    "- <font color='red'>Tichiniky</font> and steak make a great pairing for a nice meal."
   ]
  },
  {
   "cell_type": "markdown",
   "id": "50122440",
   "metadata": {
    "slideshow": {
     "slide_type": "fragment"
    }
   },
   "source": [
    "- Charles stumbled, his face flushed from drinking too much <font color='red'>tichiniky</font>."
   ]
  },
  {
   "cell_type": "markdown",
   "id": "3eacb1be",
   "metadata": {
    "slideshow": {
     "slide_type": "fragment"
    }
   },
   "source": [
    "- Last night I had bread, cheese, and this excellent <font color='red'>tichiniky</font> for dinner."
   ]
  },
  {
   "cell_type": "markdown",
   "id": "332cb253",
   "metadata": {
    "slideshow": {
     "slide_type": "slide"
    }
   },
   "source": [
    "# 🤔 🤔 🤔\n",
    "I ask you again... \n",
    "# What is tichiniky? \n"
   ]
  },
  {
   "cell_type": "markdown",
   "id": "0ca6abc9",
   "metadata": {
    "slideshow": {
     "slide_type": "fragment"
    }
   },
   "source": [
    "- An alcoholic drink\n",
    "<img src='img/clase08/amor_amistad.gif'>"
   ]
  },
  {
   "cell_type": "markdown",
   "id": "0c76a464",
   "metadata": {
    "slideshow": {
     "slide_type": "slide"
    }
   },
   "source": [
    "## Distributional semantics \n",
    "\n",
    "- A bottle of <font color='red'>tichiniky</font> is on the table.\n",
    "- Not everyone likes <font color='red'>tichiniky</font>.\n",
    "- Don't drink <font color='red'>tichiniky</font> and drive.\n",
    "- We make <font color='red'>tichiniky</font> with grapes. "
   ]
  },
  {
   "cell_type": "markdown",
   "id": "b12cfae5",
   "metadata": {
    "slideshow": {
     "slide_type": "slide"
    }
   },
   "source": [
    "## Distributional semantics \n",
    "\n",
    "- A bottle of <font color='red'>________</font> is on the table.\n",
    "- Not everyone likes <font color='red'>________</font>.\n",
    "- Don't drink <font color='red'>________</font> and drive.\n",
    "- We make <font color='red'>________</font> with grapes. \n",
    "\n",
    "### 🤔 What other words would go well in those contexts?"
   ]
  },
  {
   "cell_type": "markdown",
   "id": "fa1fefa0",
   "metadata": {
    "slideshow": {
     "slide_type": "slide"
    }
   },
   "source": [
    "## Distributional semantics \n",
    "\n",
    "- A bottle of ________ is on the table.\n",
    "- Not everyone likes ________.\n",
    "- Don't drink ________ and drive.\n",
    "- We make ________ with grapes. \n",
    "\n",
    "|                 | 1 | 2 | 3 | 4 | ... |\n",
    "|-----------------|---|---|---|---|-----|\n",
    "| tichiniky       |  |  |  |  |     |\n",
    "| strong          |  |  |  |  |     |\n",
    "| motor oil       |  |  |  |  |     |\n",
    "| tacos           |  |  |  |  |     |\n",
    "| wine            |  |  |  |  |     |"
   ]
  },
  {
   "cell_type": "markdown",
   "id": "e6c91cd3",
   "metadata": {
    "slideshow": {
     "slide_type": "fragment"
    }
   },
   "source": [
    "- ⚠️ Tichiniky & wine have the same **vector representation**"
   ]
  },
  {
   "cell_type": "markdown",
   "id": "1d90e61c",
   "metadata": {
    "slideshow": {
     "slide_type": "slide"
    }
   },
   "source": [
    "# Common NLP terminology\n",
    "<center><img src='img/clase01/terms2.png' style='height:800px;'>"
   ]
  },
  {
   "cell_type": "markdown",
   "id": "909a484a",
   "metadata": {
    "slideshow": {
     "slide_type": "slide"
    }
   },
   "source": [
    "## Once you have a numerical vector representation\n",
    "\n",
    "<center><img src='img/clase08/espacio.jpg' style='height:500px; float: center; margin: 0px 15px 15px 0px'></center>\n",
    "<br>\n",
    "\n",
    "<center><big><b>You can do math!</b></big></center>\n",
    "\n",
    "<br>\n",
    "\n",
    "- meaning($man$) - meaning($king$) + meaning($queen$) = meaning($woman$)\n",
    "\n",
    "Neural networks can make machines understand analogies like humans [Mikolov et al., 2013]"
   ]
  },
  {
   "cell_type": "code",
   "execution_count": 2,
   "id": "e624ea70",
   "metadata": {
    "slideshow": {
     "slide_type": "slide"
    }
   },
   "outputs": [],
   "source": [
    "import ast\n",
    "import pandas as pd\n",
    "import gensim.downloader as api\n",
    "from gensim.models import Word2Vec"
   ]
  },
  {
   "cell_type": "code",
   "execution_count": 3,
   "id": "1f5ec193",
   "metadata": {
    "slideshow": {
     "slide_type": "fragment"
    }
   },
   "outputs": [],
   "source": [
    "def analogy(model, worda, wordb, wordc):\n",
    "    '''\n",
    "    wordA is to wordB as wordC is to ...\n",
    "    '''\n",
    "    result = model.most_similar(negative=[worda], \n",
    "                                positive=[wordb, wordc])\n",
    "    return result[0][0]"
   ]
  },
  {
   "cell_type": "code",
   "execution_count": 4,
   "id": "e02e371a",
   "metadata": {
    "slideshow": {
     "slide_type": "slide"
    }
   },
   "outputs": [],
   "source": [
    "google_wv = api.load('word2vec-google-news-300')"
   ]
  },
  {
   "cell_type": "code",
   "execution_count": 5,
   "id": "0ccdb876",
   "metadata": {
    "slideshow": {
     "slide_type": "fragment"
    }
   },
   "outputs": [
    {
     "data": {
      "text/plain": [
       "'Bujumbura'"
      ]
     },
     "execution_count": 5,
     "metadata": {},
     "output_type": "execute_result"
    }
   ],
   "source": [
    "analogy(google_wv, 'Colombia','Bogota','Burundi')"
   ]
  },
  {
   "cell_type": "code",
   "execution_count": 6,
   "id": "c6a68b7e",
   "metadata": {
    "slideshow": {
     "slide_type": "slide"
    }
   },
   "outputs": [
    {
     "data": {
      "text/plain": [
       "[('games', 0.7636998295783997),\n",
       " ('play', 0.6501179933547974),\n",
       " ('match', 0.648574948310852),\n",
       " ('matchup', 0.6120451092720032),\n",
       " ('agame', 0.5863147974014282),\n",
       " ('ballgame', 0.5731309056282043),\n",
       " ('thegame', 0.5718172788619995),\n",
       " ('opener', 0.5680000185966492),\n",
       " ('matches', 0.5580832958221436),\n",
       " ('tournament', 0.5496207475662231)]"
      ]
     },
     "execution_count": 6,
     "metadata": {},
     "output_type": "execute_result"
    }
   ],
   "source": [
    "google_wv.most_similar(\"game\")"
   ]
  },
  {
   "cell_type": "code",
   "execution_count": 7,
   "id": "7f248dc5",
   "metadata": {
    "slideshow": {
     "slide_type": "slide"
    }
   },
   "outputs": [
    {
     "ename": "NameError",
     "evalue": "name 'profanity' is not defined",
     "output_type": "error",
     "traceback": [
      "\u001b[0;31m---------------------------------------------------------------------------\u001b[0m",
      "\u001b[0;31mNameError\u001b[0m                                 Traceback (most recent call last)",
      "\u001b[0;32m/var/folders/n7/q93jwpcs6jndz6qqvj4mhtcm0000gn/T/ipykernel_15515/4243215074.py\u001b[0m in \u001b[0;36m<module>\u001b[0;34m\u001b[0m\n\u001b[1;32m      1\u001b[0m \u001b[0mdf\u001b[0m \u001b[0;34m=\u001b[0m \u001b[0mpd\u001b[0m\u001b[0;34m.\u001b[0m\u001b[0mread_csv\u001b[0m\u001b[0;34m(\u001b[0m\u001b[0;34m\"data/rap.csv\"\u001b[0m\u001b[0;34m)\u001b[0m\u001b[0;34m\u001b[0m\u001b[0;34m\u001b[0m\u001b[0m\n\u001b[0;32m----> 2\u001b[0;31m \u001b[0mdf\u001b[0m\u001b[0;34m.\u001b[0m\u001b[0mpp\u001b[0m \u001b[0;34m=\u001b[0m \u001b[0mdf\u001b[0m\u001b[0;34m.\u001b[0m\u001b[0mpp\u001b[0m\u001b[0;34m.\u001b[0m\u001b[0mapply\u001b[0m\u001b[0;34m(\u001b[0m\u001b[0;32mlambda\u001b[0m \u001b[0mrow\u001b[0m\u001b[0;34m:\u001b[0m \u001b[0;34m[\u001b[0m\u001b[0mprofanity\u001b[0m\u001b[0;34m.\u001b[0m\u001b[0mcensor\u001b[0m\u001b[0;34m(\u001b[0m\u001b[0mw\u001b[0m\u001b[0;34m)\u001b[0m \u001b[0;32mfor\u001b[0m \u001b[0mw\u001b[0m \u001b[0;32min\u001b[0m \u001b[0mast\u001b[0m\u001b[0;34m.\u001b[0m\u001b[0mliteral_eval\u001b[0m\u001b[0;34m(\u001b[0m\u001b[0mrow\u001b[0m\u001b[0;34m)\u001b[0m\u001b[0;34m]\u001b[0m\u001b[0;34m)\u001b[0m\u001b[0;34m\u001b[0m\u001b[0;34m\u001b[0m\u001b[0m\n\u001b[0m",
      "\u001b[0;32m~/opt/anaconda3/lib/python3.9/site-packages/pandas/core/series.py\u001b[0m in \u001b[0;36mapply\u001b[0;34m(self, func, convert_dtype, args, **kwargs)\u001b[0m\n\u001b[1;32m   4431\u001b[0m         \u001b[0mdtype\u001b[0m\u001b[0;34m:\u001b[0m \u001b[0mfloat64\u001b[0m\u001b[0;34m\u001b[0m\u001b[0;34m\u001b[0m\u001b[0m\n\u001b[1;32m   4432\u001b[0m         \"\"\"\n\u001b[0;32m-> 4433\u001b[0;31m         \u001b[0;32mreturn\u001b[0m \u001b[0mSeriesApply\u001b[0m\u001b[0;34m(\u001b[0m\u001b[0mself\u001b[0m\u001b[0;34m,\u001b[0m \u001b[0mfunc\u001b[0m\u001b[0;34m,\u001b[0m \u001b[0mconvert_dtype\u001b[0m\u001b[0;34m,\u001b[0m \u001b[0margs\u001b[0m\u001b[0;34m,\u001b[0m \u001b[0mkwargs\u001b[0m\u001b[0;34m)\u001b[0m\u001b[0;34m.\u001b[0m\u001b[0mapply\u001b[0m\u001b[0;34m(\u001b[0m\u001b[0;34m)\u001b[0m\u001b[0;34m\u001b[0m\u001b[0;34m\u001b[0m\u001b[0m\n\u001b[0m\u001b[1;32m   4434\u001b[0m \u001b[0;34m\u001b[0m\u001b[0m\n\u001b[1;32m   4435\u001b[0m     def _reduce(\n",
      "\u001b[0;32m~/opt/anaconda3/lib/python3.9/site-packages/pandas/core/apply.py\u001b[0m in \u001b[0;36mapply\u001b[0;34m(self)\u001b[0m\n\u001b[1;32m   1086\u001b[0m             \u001b[0;32mreturn\u001b[0m \u001b[0mself\u001b[0m\u001b[0;34m.\u001b[0m\u001b[0mapply_str\u001b[0m\u001b[0;34m(\u001b[0m\u001b[0;34m)\u001b[0m\u001b[0;34m\u001b[0m\u001b[0;34m\u001b[0m\u001b[0m\n\u001b[1;32m   1087\u001b[0m \u001b[0;34m\u001b[0m\u001b[0m\n\u001b[0;32m-> 1088\u001b[0;31m         \u001b[0;32mreturn\u001b[0m \u001b[0mself\u001b[0m\u001b[0;34m.\u001b[0m\u001b[0mapply_standard\u001b[0m\u001b[0;34m(\u001b[0m\u001b[0;34m)\u001b[0m\u001b[0;34m\u001b[0m\u001b[0;34m\u001b[0m\u001b[0m\n\u001b[0m\u001b[1;32m   1089\u001b[0m \u001b[0;34m\u001b[0m\u001b[0m\n\u001b[1;32m   1090\u001b[0m     \u001b[0;32mdef\u001b[0m \u001b[0magg\u001b[0m\u001b[0;34m(\u001b[0m\u001b[0mself\u001b[0m\u001b[0;34m)\u001b[0m\u001b[0;34m:\u001b[0m\u001b[0;34m\u001b[0m\u001b[0;34m\u001b[0m\u001b[0m\n",
      "\u001b[0;32m~/opt/anaconda3/lib/python3.9/site-packages/pandas/core/apply.py\u001b[0m in \u001b[0;36mapply_standard\u001b[0;34m(self)\u001b[0m\n\u001b[1;32m   1141\u001b[0m                 \u001b[0;31m# List[Union[Callable[..., Any], str]]]]]\"; expected\u001b[0m\u001b[0;34m\u001b[0m\u001b[0;34m\u001b[0m\u001b[0m\n\u001b[1;32m   1142\u001b[0m                 \u001b[0;31m# \"Callable[[Any], Any]\"\u001b[0m\u001b[0;34m\u001b[0m\u001b[0;34m\u001b[0m\u001b[0m\n\u001b[0;32m-> 1143\u001b[0;31m                 mapped = lib.map_infer(\n\u001b[0m\u001b[1;32m   1144\u001b[0m                     \u001b[0mvalues\u001b[0m\u001b[0;34m,\u001b[0m\u001b[0;34m\u001b[0m\u001b[0;34m\u001b[0m\u001b[0m\n\u001b[1;32m   1145\u001b[0m                     \u001b[0mf\u001b[0m\u001b[0;34m,\u001b[0m  \u001b[0;31m# type: ignore[arg-type]\u001b[0m\u001b[0;34m\u001b[0m\u001b[0;34m\u001b[0m\u001b[0m\n",
      "\u001b[0;32m~/opt/anaconda3/lib/python3.9/site-packages/pandas/_libs/lib.pyx\u001b[0m in \u001b[0;36mpandas._libs.lib.map_infer\u001b[0;34m()\u001b[0m\n",
      "\u001b[0;32m/var/folders/n7/q93jwpcs6jndz6qqvj4mhtcm0000gn/T/ipykernel_15515/4243215074.py\u001b[0m in \u001b[0;36m<lambda>\u001b[0;34m(row)\u001b[0m\n\u001b[1;32m      1\u001b[0m \u001b[0mdf\u001b[0m \u001b[0;34m=\u001b[0m \u001b[0mpd\u001b[0m\u001b[0;34m.\u001b[0m\u001b[0mread_csv\u001b[0m\u001b[0;34m(\u001b[0m\u001b[0;34m\"data/rap.csv\"\u001b[0m\u001b[0;34m)\u001b[0m\u001b[0;34m\u001b[0m\u001b[0;34m\u001b[0m\u001b[0m\n\u001b[0;32m----> 2\u001b[0;31m \u001b[0mdf\u001b[0m\u001b[0;34m.\u001b[0m\u001b[0mpp\u001b[0m \u001b[0;34m=\u001b[0m \u001b[0mdf\u001b[0m\u001b[0;34m.\u001b[0m\u001b[0mpp\u001b[0m\u001b[0;34m.\u001b[0m\u001b[0mapply\u001b[0m\u001b[0;34m(\u001b[0m\u001b[0;32mlambda\u001b[0m \u001b[0mrow\u001b[0m\u001b[0;34m:\u001b[0m \u001b[0;34m[\u001b[0m\u001b[0mprofanity\u001b[0m\u001b[0;34m.\u001b[0m\u001b[0mcensor\u001b[0m\u001b[0;34m(\u001b[0m\u001b[0mw\u001b[0m\u001b[0;34m)\u001b[0m \u001b[0;32mfor\u001b[0m \u001b[0mw\u001b[0m \u001b[0;32min\u001b[0m \u001b[0mast\u001b[0m\u001b[0;34m.\u001b[0m\u001b[0mliteral_eval\u001b[0m\u001b[0;34m(\u001b[0m\u001b[0mrow\u001b[0m\u001b[0;34m)\u001b[0m\u001b[0;34m]\u001b[0m\u001b[0;34m)\u001b[0m\u001b[0;34m\u001b[0m\u001b[0;34m\u001b[0m\u001b[0m\n\u001b[0m",
      "\u001b[0;32m/var/folders/n7/q93jwpcs6jndz6qqvj4mhtcm0000gn/T/ipykernel_15515/4243215074.py\u001b[0m in \u001b[0;36m<listcomp>\u001b[0;34m(.0)\u001b[0m\n\u001b[1;32m      1\u001b[0m \u001b[0mdf\u001b[0m \u001b[0;34m=\u001b[0m \u001b[0mpd\u001b[0m\u001b[0;34m.\u001b[0m\u001b[0mread_csv\u001b[0m\u001b[0;34m(\u001b[0m\u001b[0;34m\"data/rap.csv\"\u001b[0m\u001b[0;34m)\u001b[0m\u001b[0;34m\u001b[0m\u001b[0;34m\u001b[0m\u001b[0m\n\u001b[0;32m----> 2\u001b[0;31m \u001b[0mdf\u001b[0m\u001b[0;34m.\u001b[0m\u001b[0mpp\u001b[0m \u001b[0;34m=\u001b[0m \u001b[0mdf\u001b[0m\u001b[0;34m.\u001b[0m\u001b[0mpp\u001b[0m\u001b[0;34m.\u001b[0m\u001b[0mapply\u001b[0m\u001b[0;34m(\u001b[0m\u001b[0;32mlambda\u001b[0m \u001b[0mrow\u001b[0m\u001b[0;34m:\u001b[0m \u001b[0;34m[\u001b[0m\u001b[0mprofanity\u001b[0m\u001b[0;34m.\u001b[0m\u001b[0mcensor\u001b[0m\u001b[0;34m(\u001b[0m\u001b[0mw\u001b[0m\u001b[0;34m)\u001b[0m \u001b[0;32mfor\u001b[0m \u001b[0mw\u001b[0m \u001b[0;32min\u001b[0m \u001b[0mast\u001b[0m\u001b[0;34m.\u001b[0m\u001b[0mliteral_eval\u001b[0m\u001b[0;34m(\u001b[0m\u001b[0mrow\u001b[0m\u001b[0;34m)\u001b[0m\u001b[0;34m]\u001b[0m\u001b[0;34m)\u001b[0m\u001b[0;34m\u001b[0m\u001b[0;34m\u001b[0m\u001b[0m\n\u001b[0m",
      "\u001b[0;31mNameError\u001b[0m: name 'profanity' is not defined"
     ]
    }
   ],
   "source": [
    "df = pd.read_csv(\"data/rap.csv\")\n",
    "df.pp = df.pp.apply(lambda row: [profanity.censor(w) for w in ast.literal_eval(row)])"
   ]
  },
  {
   "cell_type": "code",
   "execution_count": null,
   "id": "e2d36157",
   "metadata": {
    "slideshow": {
     "slide_type": "fragment"
    }
   },
   "outputs": [],
   "source": [
    "df.sample(5)"
   ]
  },
  {
   "cell_type": "code",
   "execution_count": 8,
   "id": "9748e31c",
   "metadata": {
    "slideshow": {
     "slide_type": "slide"
    }
   },
   "outputs": [],
   "source": [
    "rap_model = Word2Vec(df['pp'].values,\n",
    "                     sg=1, # 1 skip-gram, 0 CBOW\n",
    "                     seed=1, vector_size=256, min_count=50, window=12)"
   ]
  },
  {
   "cell_type": "code",
   "execution_count": 28,
   "id": "bda95459",
   "metadata": {
    "slideshow": {
     "slide_type": "fragment"
    }
   },
   "outputs": [
    {
     "data": {
      "text/plain": [
       "[('shame', 0.5394002199172974),\n",
       " ('fame', 0.527763843536377),\n",
       " ('name', 0.4966457188129425),\n",
       " ('aim', 0.4774157404899597),\n",
       " ('remains', 0.4769328534603119),\n",
       " ('maintain', 0.47082945704460144),\n",
       " ('games', 0.4670911431312561),\n",
       " ('change', 0.4589170515537262),\n",
       " ('gain', 0.4562252163887024),\n",
       " ('gimmicks', 0.4560129940509796)]"
      ]
     },
     "execution_count": 28,
     "metadata": {},
     "output_type": "execute_result"
    }
   ],
   "source": [
    "rap_model.wv.most_similar(\"game\")"
   ]
  },
  {
   "cell_type": "code",
   "execution_count": 26,
   "id": "b546fb86",
   "metadata": {
    "slideshow": {
     "slide_type": "fragment"
    }
   },
   "outputs": [
    {
     "data": {
      "text/plain": [
       "[('games', 0.7636997103691101),\n",
       " ('play', 0.6501181125640869),\n",
       " ('match', 0.648574948310852),\n",
       " ('matchup', 0.6120451092720032),\n",
       " ('agame', 0.586314857006073)]"
      ]
     },
     "execution_count": 26,
     "metadata": {},
     "output_type": "execute_result"
    }
   ],
   "source": [
    "google_wv.most_similar(\"game\", topn=5)"
   ]
  },
  {
   "cell_type": "markdown",
   "id": "36c2e2f9",
   "metadata": {
    "slideshow": {
     "slide_type": "slide"
    }
   },
   "source": [
    "# Data science and ethics"
   ]
  },
  {
   "cell_type": "markdown",
   "id": "8d30d683",
   "metadata": {
    "slideshow": {
     "slide_type": "fragment"
    }
   },
   "source": [
    "<center><img src='img/libro1.jpg' style='height:600px; float: center; margin: 0px 15px 15px 0px'></center>"
   ]
  },
  {
   "cell_type": "markdown",
   "id": "7ac5c33c",
   "metadata": {
    "slideshow": {
     "slide_type": "slide"
    }
   },
   "source": [
    "## The evolution of NLP\n",
    "\n",
    "<center><img src='img/clase11/evol.png' style='height:280px; float: center; margin: 0px 15px 15px 0px'></center>\n",
    "<center><small>Image credit: O'Reilly</small></center>\n",
    "\n",
    "- **Bag of Words / TFIDF**\n",
    "\n",
    "    - Simpler techniques to generate text embeddings\n",
    "<br>\n",
    "<br>\n",
    "- 2013: **Word2Vec**\n",
    "\n",
    "    - Technique that takes into account the semantic relationship between words\n",
    "    - One of the first models that use prediction techniques and neural networks\n",
    "   "
   ]
  },
  {
   "cell_type": "markdown",
   "id": "85f7859e",
   "metadata": {
    "slideshow": {
     "slide_type": "slide"
    }
   },
   "source": [
    "## Evolution of NLP\n",
    "\n",
    "<br>\n",
    "<center><img src='img/clase11/evolnnn.png' style='height:250px; float: center; margin: 0px 15px 15px 0px'></center>\n",
    "<center><small>Image credit: O'Reilly</small></center>\n",
    "\n",
    "<br>\n",
    "<br>\n",
    "\n",
    "- 2018: **Transformers**\n",
    "\n",
    "    - Models that use attention to increase the speed of task-specific training"
   ]
  },
  {
   "cell_type": "markdown",
   "id": "bbb550e0",
   "metadata": {
    "slideshow": {
     "slide_type": "slide"
    }
   },
   "source": [
    "# Literacy\n",
    "\n",
    "<br>\n",
    "<center><img src='img/math.jpeg' style='height:500px'></center>\n",
    "\n",
    "- ChatGPT\n",
    "- [Video](https://www.youtube.com/watch?v=cQ54GDm1eL0&ab_channel=BuzzFeedVideo) Barack Obama\n"
   ]
  },
  {
   "cell_type": "markdown",
   "id": "54c2a4bb",
   "metadata": {
    "slideshow": {
     "slide_type": "slide"
    }
   },
   "source": [
    "# ⏪ Today's recap\n",
    "\n",
    "- What is NLP?"
   ]
  },
  {
   "cell_type": "markdown",
   "id": "c3c47662",
   "metadata": {
    "slideshow": {
     "slide_type": "slide"
    }
   },
   "source": [
    "<center><img src='img/bye.gif' style='height:250px;'></center> \n",
    "\n",
    "# Next class: Text pre-processing and Word Clouds\n",
    "# See you next Monday!"
   ]
  }
 ],
 "metadata": {
  "celltoolbar": "Slideshow",
  "kernelspec": {
   "display_name": "Python 3 (ipykernel)",
   "language": "python",
   "name": "python3"
  },
  "language_info": {
   "codemirror_mode": {
    "name": "ipython",
    "version": 3
   },
   "file_extension": ".py",
   "mimetype": "text/x-python",
   "name": "python",
   "nbconvert_exporter": "python",
   "pygments_lexer": "ipython3",
   "version": "3.9.13"
  }
 },
 "nbformat": 4,
 "nbformat_minor": 5
}
