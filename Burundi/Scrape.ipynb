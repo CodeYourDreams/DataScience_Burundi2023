{
  "nbformat": 4,
  "nbformat_minor": 0,
  "metadata": {
    "colab": {
      "provenance": []
    },
    "kernelspec": {
      "name": "python3",
      "display_name": "Python 3"
    },
    "language_info": {
      "name": "python"
    }
  },
  "cells": [
    {
      "cell_type": "code",
      "execution_count": null,
      "metadata": {
        "colab": {
          "base_uri": "https://localhost:8080/"
        },
        "id": "Br1_3W0SyA25",
        "outputId": "f6f7afc0-7317-4e9e-af74-4d62925c8d5c"
      },
      "outputs": [
        {
          "output_type": "stream",
          "name": "stdout",
          "text": [
            "Looking in indexes: https://pypi.org/simple, https://us-python.pkg.dev/colab-wheels/public/simple/\n",
            "Collecting git+https://github.com/JustAnotherArchivist/snscrape.git\n",
            "  Cloning https://github.com/JustAnotherArchivist/snscrape.git to /tmp/pip-req-build-yie1ye2c\n",
            "  Running command git clone --filter=blob:none --quiet https://github.com/JustAnotherArchivist/snscrape.git /tmp/pip-req-build-yie1ye2c\n",
            "  Resolved https://github.com/JustAnotherArchivist/snscrape.git to commit 786815dd05681e2421cd03aa9acf5ab5c773bce9\n",
            "  Installing build dependencies ... \u001b[?25l\u001b[?25hdone\n",
            "  Getting requirements to build wheel ... \u001b[?25l\u001b[?25hdone\n",
            "  Installing backend dependencies ... \u001b[?25l\u001b[?25hdone\n",
            "  Preparing metadata (pyproject.toml) ... \u001b[?25l\u001b[?25hdone\n",
            "Requirement already satisfied: requests[socks] in /usr/local/lib/python3.10/dist-packages (from snscrape==0.6.2.20230321.dev13+g786815d) (2.27.1)\n",
            "Requirement already satisfied: lxml in /usr/local/lib/python3.10/dist-packages (from snscrape==0.6.2.20230321.dev13+g786815d) (4.9.2)\n",
            "Requirement already satisfied: beautifulsoup4 in /usr/local/lib/python3.10/dist-packages (from snscrape==0.6.2.20230321.dev13+g786815d) (4.11.2)\n",
            "Requirement already satisfied: filelock in /usr/local/lib/python3.10/dist-packages (from snscrape==0.6.2.20230321.dev13+g786815d) (3.12.0)\n",
            "Requirement already satisfied: soupsieve>1.2 in /usr/local/lib/python3.10/dist-packages (from beautifulsoup4->snscrape==0.6.2.20230321.dev13+g786815d) (2.4.1)\n",
            "Requirement already satisfied: urllib3<1.27,>=1.21.1 in /usr/local/lib/python3.10/dist-packages (from requests[socks]->snscrape==0.6.2.20230321.dev13+g786815d) (1.26.15)\n",
            "Requirement already satisfied: certifi>=2017.4.17 in /usr/local/lib/python3.10/dist-packages (from requests[socks]->snscrape==0.6.2.20230321.dev13+g786815d) (2022.12.7)\n",
            "Requirement already satisfied: charset-normalizer~=2.0.0 in /usr/local/lib/python3.10/dist-packages (from requests[socks]->snscrape==0.6.2.20230321.dev13+g786815d) (2.0.12)\n",
            "Requirement already satisfied: idna<4,>=2.5 in /usr/local/lib/python3.10/dist-packages (from requests[socks]->snscrape==0.6.2.20230321.dev13+g786815d) (3.4)\n",
            "Requirement already satisfied: PySocks!=1.5.7,>=1.5.6 in /usr/local/lib/python3.10/dist-packages (from requests[socks]->snscrape==0.6.2.20230321.dev13+g786815d) (1.7.1)\n"
          ]
        }
      ],
      "source": [
        "! pip3 install --upgrade git+https://github.com/JustAnotherArchivist/snscrape.git"
      ]
    },
    {
      "cell_type": "code",
      "source": [
        "import snscrape.modules.twitter as snst\n",
        "\n",
        "maxTweets = 10\n",
        "\n",
        "for i, tweet in enumerate(snst.TwitterSearchScraper('birthday' + ' geocode:3.3614,29.3599,150km (filter:safe OR -filter:safe)').get_items()):\n",
        "  if i > maxTweets:\n",
        "    break\n",
        "  print(tweet)\n",
        "  print(tweet.date)\n",
        "  print(tweet.rawContent)\n",
        "  print(\"*\"*89)\n",
        "  print()"
      ],
      "metadata": {
        "colab": {
          "base_uri": "https://localhost:8080/"
        },
        "id": "pxuOicWkyB2v",
        "outputId": "76bd08cd-e588-4569-e36e-a00c3c6dcb8b"
      },
      "execution_count": null,
      "outputs": [
        {
          "output_type": "stream",
          "name": "stderr",
          "text": [
            "WARNING:snscrape.modules.twitter:Skipping unrecognised entry ID: 'promoted-tweet-1617601924861394944-2be9aa6ba3965a4f'\n",
            "WARNING:snscrape.modules.twitter:Skipping unrecognised entry ID: 'promoted-tweet-1658297145676693504-2be9a8a8113c9142'\n"
          ]
        },
        {
          "output_type": "stream",
          "name": "stdout",
          "text": [
            "https://twitter.com/sheila_awor/status/1662050046487977986\n",
            "2023-05-26 10:56:25+00:00\n",
            "@JrDeno3 @fichuganda Happy birthday dear\n",
            "*****************************************************************************************\n",
            "\n",
            "https://twitter.com/Iamjosh_26/status/1662005913216077825\n",
            "2023-05-26 08:01:02+00:00\n",
            "Life is in dynamic processes,each of them bears wonderful lessons that widen our perspective of life. I am glad that, through the ups and downs, I am still standing tall. Happy birthday to me.\n",
            "🎂 https://t.co/tUsoDMHdfC\n",
            "*****************************************************************************************\n",
            "\n",
            "https://twitter.com/DerrykOwin/status/1661962212670337024\n",
            "2023-05-26 05:07:23+00:00\n",
            "@aaubry256 @Hawabarund2 Happy birthday bro\n",
            "*****************************************************************************************\n",
            "\n",
            "https://twitter.com/ObolSylvester/status/1661955150347370496\n",
            "2023-05-26 04:39:20+00:00\n",
            "@Robinsonryema @Rwakakamba @HonAniteEvelyn @dgalabuzi @TodwongR @KennethOmona @JaneBarekye @NabwireIrene9 @IreneMugisha Wod Maa Robinson, Rwot Lacwec Ogwoki Kacel Ki Paco Ni. Pwoc Kikene Pa Maa. Happy birthday.\n",
            "*****************************************************************************************\n",
            "\n",
            "https://twitter.com/djAlliZao/status/1661913951892910080\n",
            "2023-05-26 01:55:37+00:00\n",
            "Its a Friday turned Birthday. Wishing me hard luck so the streets recognise the work we put in 🙏❤💛🎈🎉 https://t.co/ILCkCn83fS\n",
            "*****************************************************************************************\n",
            "\n",
            "https://twitter.com/Opolacen/status/1661901553098276865\n",
            "2023-05-26 01:06:21+00:00\n",
            "@vanmarcus14 Happy birthday sir\n",
            "*****************************************************************************************\n",
            "\n",
            "https://twitter.com/Opolacen/status/1661866458148741122\n",
            "2023-05-25 22:46:54+00:00\n",
            "@vanmarcus14 Happy birthday and keep wining sir.\n",
            "*****************************************************************************************\n",
            "\n",
            "https://twitter.com/MhaliahJr/status/1661845471390994432\n",
            "2023-05-25 21:23:30+00:00\n",
            "Just wish them \"HAPPY BIRTHDAY\" stop adding stuff like \"may all your wishes be fulfilled\" what if their wish is to see you dead\n",
            "*****************************************************************************************\n",
            "\n",
            "https://twitter.com/Sharon641003071/status/1661833556887216142\n",
            "2023-05-25 20:36:09+00:00\n",
            "@RebeccaKadagaUG Happy birthday Mama. We love you from Gulu.\n",
            "*****************************************************************************************\n",
            "\n",
            "https://twitter.com/Eddywizzymusic/status/1661829550039355392\n",
            "2023-05-25 20:20:14+00:00\n",
            "Thank you all so much for the Birthday Greetings and Blessings. God bless y’all 🙏🏽🙏🏽❤️❤️ https://t.co/ZhAVVe6QTp\n",
            "*****************************************************************************************\n",
            "\n",
            "https://twitter.com/SabirMusa16/status/1661807586356723712\n",
            "2023-05-25 18:52:58+00:00\n",
            "Victoria Peace, my Senior in media🙋\n",
            "From @aruaonefmug to UBC Radio, West Nile_ she's just gifted especially anchoring news in LugbaraTi ✅\n",
            "We regularly meet, share &amp; learn from each other🙏\n",
            "Happy Birthday to you big sis🥳\n",
            "\n",
            "Glow 🌞🙏|| #YourStoriesToInsoire https://t.co/8PYtwAt7Mp\n",
            "*****************************************************************************************\n",
            "\n"
          ]
        }
      ]
    },
    {
      "cell_type": "code",
      "source": [],
      "metadata": {
        "id": "cGw8kxCByE9O"
      },
      "execution_count": null,
      "outputs": []
    }
  ]
}