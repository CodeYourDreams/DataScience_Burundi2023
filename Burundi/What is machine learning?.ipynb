{
 "cells": [
  {
   "cell_type": "markdown",
   "id": "2d67e596",
   "metadata": {
    "slideshow": {
     "slide_type": "slide"
    }
   },
   "source": [
    "# ❇️ What is machine learning?\n",
    "\n",
    "\n",
    "<br>\n",
    "<center>\n",
    "<img src='img/ml.jpeg' style='height:500px;'>\n",
    "</center>"
   ]
  },
  {
   "cell_type": "markdown",
   "id": "ebb0843e",
   "metadata": {
    "slideshow": {
     "slide_type": "slide"
    }
   },
   "source": [
    "<img src='img/personal_assistant.jpeg' style='height:600px; float: left; margin: 0px 0px 0px 0px'>\n",
    "\n",
    "<br><br>\n",
    "- Imagine you have a personal assistant\n",
    "- They learn from your behavior and preferences\n",
    "- They may even predict what you might need or want \n"
   ]
  },
  {
   "cell_type": "markdown",
   "id": "86946427",
   "metadata": {
    "slideshow": {
     "slide_type": "slide"
    }
   },
   "source": [
    "## ML in real life: Billions of people use it every day! 🗺️\n",
    "\n",
    "<br>\n",
    "<center>\n",
    "<img src='img/ml_everywhere.webp' style='height:300px;'>\n",
    "</center>"
   ]
  },
  {
   "cell_type": "markdown",
   "id": "fa73a0ab",
   "metadata": {
    "slideshow": {
     "slide_type": "fragment"
    }
   },
   "source": [
    "- Spam filter!"
   ]
  },
  {
   "cell_type": "markdown",
   "id": "18124dc9",
   "metadata": {
    "slideshow": {
     "slide_type": "fragment"
    }
   },
   "source": [
    "- Recommending videos"
   ]
  },
  {
   "cell_type": "markdown",
   "id": "920595e3",
   "metadata": {
    "slideshow": {
     "slide_type": "fragment"
    }
   },
   "source": [
    "- Segment customers and find the best marketing strategy for each group"
   ]
  },
  {
   "cell_type": "markdown",
   "id": "31e3e52a",
   "metadata": {
    "slideshow": {
     "slide_type": "fragment"
    }
   },
   "source": [
    "- Detect which transactions are likely to be fraudulent"
   ]
  },
  {
   "cell_type": "markdown",
   "id": "aef0d338",
   "metadata": {
    "slideshow": {
     "slide_type": "slide"
    }
   },
   "source": [
    "<center>\n",
    "<img src='img/komp2.jpeg' style='height:300px;'>\n",
    "</center>"
   ]
  },
  {
   "cell_type": "markdown",
   "id": "66ff7560",
   "metadata": {
    "slideshow": {
     "slide_type": "slide"
    }
   },
   "source": [
    "# ❇️ Ingredients of a model"
   ]
  },
  {
   "cell_type": "markdown",
   "id": "f6e143af",
   "metadata": {
    "slideshow": {
     "slide_type": "slide"
    }
   },
   "source": [
    "## How do machines learn from data?\n",
    "<br>\n",
    "<center><img src='img/bot.png' style='height:300px;'>\n",
    "</center>\n",
    "\n",
    "Machine Learning involves two key tasks:"
   ]
  },
  {
   "cell_type": "markdown",
   "id": "88a5ec0c",
   "metadata": {
    "slideshow": {
     "slide_type": "fragment"
    }
   },
   "source": [
    "💡 **Representation**: Extracting structure from data through a model"
   ]
  },
  {
   "cell_type": "markdown",
   "id": "08da142e",
   "metadata": {
    "slideshow": {
     "slide_type": "fragment"
    }
   },
   "source": [
    "💡 **Generalization**: Making predictions from data through a model"
   ]
  },
  {
   "cell_type": "markdown",
   "id": "463c8781",
   "metadata": {
    "slideshow": {
     "slide_type": "slide"
    }
   },
   "source": [
    "# Elements of a model in the context of Machine Learning\n",
    "\n",
    "<br>\n",
    "<center><img src='img/iris.png' style='height:300px;'>\n",
    "</center>"
   ]
  },
  {
   "cell_type": "code",
   "execution_count": 1,
   "id": "6c135fbf",
   "metadata": {
    "slideshow": {
     "slide_type": "slide"
    }
   },
   "outputs": [
    {
     "data": {
      "text/html": [
       "<div>\n",
       "<style scoped>\n",
       "    .dataframe tbody tr th:only-of-type {\n",
       "        vertical-align: middle;\n",
       "    }\n",
       "\n",
       "    .dataframe tbody tr th {\n",
       "        vertical-align: top;\n",
       "    }\n",
       "\n",
       "    .dataframe thead th {\n",
       "        text-align: right;\n",
       "    }\n",
       "</style>\n",
       "<table border=\"1\" class=\"dataframe\">\n",
       "  <thead>\n",
       "    <tr style=\"text-align: right;\">\n",
       "      <th></th>\n",
       "      <th>sepal_length</th>\n",
       "      <th>sepal_width</th>\n",
       "      <th>petal_length</th>\n",
       "      <th>petal_width</th>\n",
       "      <th>species</th>\n",
       "    </tr>\n",
       "  </thead>\n",
       "  <tbody>\n",
       "    <tr>\n",
       "      <th>0</th>\n",
       "      <td>5.1</td>\n",
       "      <td>3.5</td>\n",
       "      <td>1.4</td>\n",
       "      <td>0.2</td>\n",
       "      <td>setosa</td>\n",
       "    </tr>\n",
       "    <tr>\n",
       "      <th>1</th>\n",
       "      <td>4.9</td>\n",
       "      <td>3.0</td>\n",
       "      <td>1.4</td>\n",
       "      <td>0.2</td>\n",
       "      <td>setosa</td>\n",
       "    </tr>\n",
       "    <tr>\n",
       "      <th>2</th>\n",
       "      <td>4.7</td>\n",
       "      <td>3.2</td>\n",
       "      <td>1.3</td>\n",
       "      <td>0.2</td>\n",
       "      <td>setosa</td>\n",
       "    </tr>\n",
       "    <tr>\n",
       "      <th>3</th>\n",
       "      <td>4.6</td>\n",
       "      <td>3.1</td>\n",
       "      <td>1.5</td>\n",
       "      <td>0.2</td>\n",
       "      <td>setosa</td>\n",
       "    </tr>\n",
       "    <tr>\n",
       "      <th>4</th>\n",
       "      <td>5.0</td>\n",
       "      <td>3.6</td>\n",
       "      <td>1.4</td>\n",
       "      <td>0.2</td>\n",
       "      <td>setosa</td>\n",
       "    </tr>\n",
       "  </tbody>\n",
       "</table>\n",
       "</div>"
      ],
      "text/plain": [
       "   sepal_length  sepal_width  petal_length  petal_width species\n",
       "0           5.1          3.5           1.4          0.2  setosa\n",
       "1           4.9          3.0           1.4          0.2  setosa\n",
       "2           4.7          3.2           1.3          0.2  setosa\n",
       "3           4.6          3.1           1.5          0.2  setosa\n",
       "4           5.0          3.6           1.4          0.2  setosa"
      ]
     },
     "execution_count": 1,
     "metadata": {},
     "output_type": "execute_result"
    }
   ],
   "source": [
    "import seaborn as sns\n",
    "df = sns.load_dataset('iris')\n",
    "df.head()"
   ]
  },
  {
   "cell_type": "markdown",
   "id": "fbe6d65f",
   "metadata": {
    "slideshow": {
     "slide_type": "fragment"
    }
   },
   "source": [
    "- <b>Model Inputs:</b>\n",
    "Features, Attributes, Predictors, Inputs, Independent Variables, Dimensions, X, probably more..."
   ]
  },
  {
   "cell_type": "markdown",
   "id": "872fd061",
   "metadata": {
    "slideshow": {
     "slide_type": "fragment"
    }
   },
   "source": [
    "- <b>Model Outputs (what you're trying to predict):</b>\n",
    "Target, Response, Output, Dependent Variable, Labels, Y"
   ]
  },
  {
   "cell_type": "markdown",
   "id": "b4b4644d",
   "metadata": {
    "slideshow": {
     "slide_type": "fragment"
    }
   },
   "source": [
    "• **Row of Data (Inputs + Outputs):** Observation, Datapoint, Record, Row"
   ]
  },
  {
   "cell_type": "markdown",
   "id": "1e0233db",
   "metadata": {
    "slideshow": {
     "slide_type": "fragment"
    }
   },
   "source": [
    "• **Labels:** The values on the target variables (in Supervised Learning)"
   ]
  },
  {
   "cell_type": "markdown",
   "id": "ecbe6899",
   "metadata": {
    "slideshow": {
     "slide_type": "slide"
    }
   },
   "source": [
    "# ❇️ Flavors of Machine Learning"
   ]
  },
  {
   "cell_type": "markdown",
   "id": "af73679c",
   "metadata": {
    "slideshow": {
     "slide_type": "slide"
    }
   },
   "source": [
    "### 📝 Types of models in Machine Learning\n",
    "<br>\n",
    "<center><img src='img/dogs.png' style='height:450px; float: center; margin: 0px 0px 0px 0px'>Is it a dog or a muffin?</center>\n",
    "\n",
    "Two questions:\n",
    "\n",
    "- Do we have labels? What type of data do we have?"
   ]
  },
  {
   "cell_type": "markdown",
   "id": "0c82f3a0",
   "metadata": {
    "slideshow": {
     "slide_type": "slide"
    }
   },
   "source": [
    "### First question: Do we have labels?"
   ]
  },
  {
   "cell_type": "markdown",
   "id": "da0c399f",
   "metadata": {
    "slideshow": {
     "slide_type": "fragment"
    }
   },
   "source": [
    "<center><img src='img/supervised_unsupervised.png' style='height:500px; float: center; margin: 0px 0px 0px 0px'></center>\n",
    "\n",
    "- **Supervised** Problems with labels\n",
    "- **Unsupervised** Problems without labels"
   ]
  },
  {
   "cell_type": "markdown",
   "id": "f8f46734",
   "metadata": {
    "slideshow": {
     "slide_type": "slide"
    }
   },
   "source": [
    "#### 👮‍♀️ Pop Quiz: Supervised or unsupervised?\n",
    "\n",
    "- Classify restaurant reviews as positive or negative"
   ]
  },
  {
   "cell_type": "markdown",
   "id": "25b096ea",
   "metadata": {
    "slideshow": {
     "slide_type": "slide"
    }
   },
   "source": [
    "### Second question: What type of data do we have?"
   ]
  },
  {
   "cell_type": "markdown",
   "id": "637030ec",
   "metadata": {
    "slideshow": {
     "slide_type": "fragment"
    }
   },
   "source": [
    "<center><img src='img/clasreg.png' style='height:500px; float: center; margin: 0px 0px 0px 0px'></center>\n",
    "\n",
    "- **Continuous data -> Regression:** Quantitative/numerical information\n",
    "- **Discrete data -> Classification:** Qualitative information"
   ]
  },
  {
   "cell_type": "markdown",
   "id": "58308811",
   "metadata": {
    "slideshow": {
     "slide_type": "slide"
    }
   },
   "source": [
    "#### 👮‍♀️Pop Quiz: Classification or regression?\n",
    "<br>\n",
    "\n",
    "<center><img src='img/pollo.jpg' style='height:500px; float: center; margin: 0px 0px 0px 0px'></center>\n",
    "\n",
    "- Is it a chicken or a dog?"
   ]
  },
  {
   "cell_type": "markdown",
   "id": "c0513c64",
   "metadata": {
    "slideshow": {
     "slide_type": "slide"
    }
   },
   "source": [
    "### First question: Do we have labels?"
   ]
  },
  {
   "cell_type": "markdown",
   "id": "9069a86d",
   "metadata": {
    "slideshow": {
     "slide_type": "fragment"
    }
   },
   "source": [
    "<center><img src='img/ml_map.png' style='height:600px; float: center; margin: 0px 0px 0px 0px'></center>\n",
    "\n",
    "- **Supervised:** Problems with labels\n",
    "- **Unsupervised:** Problems without labels"
   ]
  },
  {
   "cell_type": "markdown",
   "id": "498b1d2b",
   "metadata": {
    "slideshow": {
     "slide_type": "slide"
    }
   },
   "source": [
    "### Second question: What type of data do we have?"
   ]
  },
  {
   "cell_type": "markdown",
   "id": "643a0e8c",
   "metadata": {
    "slideshow": {
     "slide_type": "fragment"
    }
   },
   "source": [
    "<center><img src='img/ml_map2.png' style='height:600px; float: center; margin: 0px 0px 0px 0px'></center>\n",
    "\n",
    "- **Continuous data -> Regression:** Quantitative/numerical information\n",
    "- **Discrete data -> Classification:** Qualitative information"
   ]
  },
  {
   "cell_type": "markdown",
   "id": "81e8f43c",
   "metadata": {
    "slideshow": {
     "slide_type": "slide"
    }
   },
   "source": [
    "# 🤔 Is this email spam or not?"
   ]
  },
  {
   "cell_type": "markdown",
   "id": "d9214204",
   "metadata": {
    "slideshow": {
     "slide_type": "fragment"
    }
   },
   "source": [
    "<center><img src='img/classification.png' style='height:600px; float: center; margin: 0px 0px 0px 0px'></center>"
   ]
  },
  {
   "cell_type": "markdown",
   "id": "89f5697d",
   "metadata": {
    "slideshow": {
     "slide_type": "slide"
    }
   },
   "source": [
    "## Roadmap: Life of a ML model\n",
    "\n",
    "<br>\n",
    "<center>\n",
    "<img src='img/pipeline.png' style='height:500px;'>\n",
    "</center>"
   ]
  },
  {
   "cell_type": "markdown",
   "id": "0b52be3a",
   "metadata": {
    "slideshow": {
     "slide_type": "slide"
    }
   },
   "source": [
    "# 👷🏽‍♀️ Where to get data?"
   ]
  },
  {
   "cell_type": "markdown",
   "id": "825ff190",
   "metadata": {
    "slideshow": {
     "slide_type": "slide"
    }
   },
   "source": [
    "## 1. Open source data"
   ]
  },
  {
   "cell_type": "markdown",
   "id": "f70af914",
   "metadata": {
    "slideshow": {
     "slide_type": "slide"
    }
   },
   "source": [
    "#### Open data repositories:\n",
    "\n",
    "- OpenML.org (https://openml.org)\n",
    "- Kaggle.com (https://kaggle.com/datasets)\n",
    "- PapersWithCode.com (https://paperswithcode.com/datasets)\n",
    "- UC Irvine Machine Learning Repository (https://archive.ics.uci.edu/ml)\n",
    "- Amazon's AWS datasets (https://registry.opendata.aws)\n",
    "- TensorFlow datasets (https://tensorflow.org/datasets)\n",
    "- Google's data search engine: (https://datasetsearch.research.google.com/)"
   ]
  },
  {
   "cell_type": "markdown",
   "id": "d26944df",
   "metadata": {
    "slideshow": {
     "slide_type": "slide"
    }
   },
   "source": [
    "#### Meta portals and other pages listing datasets:\n",
    "\n",
    "- DataPortals.org (https://dataportals.org/)\n",
    "- OpenDataMonitor.eu (https://opendatamonitor.eu/frontend/web/index.php?r=dashboard%2Findex)\n",
    "- Wikipedia's list of machine learning datasets (https://en.wikipedia.org/wiki/List_of_datasets_for_machine-learning_research)\n",
    "- Quora's list (https://www.quora.com/Where-can-I-find-large-datasets-open-to-the-public)\n",
    "- Reddit's dataset (https://www.reddit.com/r/datasets)\n",
    "- GitHub * (https://github.com/)"
   ]
  },
  {
   "cell_type": "markdown",
   "id": "3c0914e5",
   "metadata": {
    "slideshow": {
     "slide_type": "slide"
    }
   },
   "source": [
    "#### Location specific:\n",
    "\n",
    "- Burundi Open Data for Africa: https://burundi.opendataforafrica.org/\n",
    "- IWACU Open Data Burundi: https://iwacu-burundi.org/opendata/en/\n",
    "- Africa Open Data: https://africaopendata.org/group/burundi\n",
    "- World Bank Data Burundi: https://donnees.banquemondiale.org/pays/burundi"
   ]
  },
  {
   "cell_type": "markdown",
   "id": "5fc49b00",
   "metadata": {
    "slideshow": {
     "slide_type": "slide"
    }
   },
   "source": [
    "## 2. APIs"
   ]
  },
  {
   "cell_type": "markdown",
   "id": "ad0fa7b4",
   "metadata": {
    "slideshow": {
     "slide_type": "fragment"
    }
   },
   "source": [
    "- Example: Twitter"
   ]
  },
  {
   "cell_type": "markdown",
   "id": "e94aaa00",
   "metadata": {
    "slideshow": {
     "slide_type": "slide"
    }
   },
   "source": [
    "## 3. Web scraping"
   ]
  },
  {
   "cell_type": "markdown",
   "id": "f9155b1a",
   "metadata": {
    "slideshow": {
     "slide_type": "fragment"
    }
   },
   "source": [
    "- Extract data from web pages, usually HTML\n",
    "- Sophisticated scraping:Selenium. More info [here](https://www.scrapingbee.com/blog/selenium-python/).\n",
    "- With Python: BeautifulSoup `pip install beautifulsoup4`"
   ]
  }
 ],
 "metadata": {
  "celltoolbar": "Slideshow",
  "kernelspec": {
   "display_name": "Python 3 (ipykernel)",
   "language": "python",
   "name": "python3"
  },
  "language_info": {
   "codemirror_mode": {
    "name": "ipython",
    "version": 3
   },
   "file_extension": ".py",
   "mimetype": "text/x-python",
   "name": "python",
   "nbconvert_exporter": "python",
   "pygments_lexer": "ipython3",
   "version": "3.9.13"
  }
 },
 "nbformat": 4,
 "nbformat_minor": 5
}
