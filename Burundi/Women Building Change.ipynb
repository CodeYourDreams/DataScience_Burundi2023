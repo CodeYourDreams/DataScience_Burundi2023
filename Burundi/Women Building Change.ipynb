{
 "cells": [
  {
   "cell_type": "markdown",
   "id": "a9d62be5",
   "metadata": {
    "slideshow": {
     "slide_type": "slide"
    }
   },
   "source": [
    "<center><img src='images/banner.png' style='width:1000px; float: center; margin: 0px 30px 15px 0px'></center>\n",
    "\n",
    "# Hello! Bonjour ! Amahoro! Hola!\n",
    "\n",
    "\n",
    "\n"
   ]
  },
  {
   "cell_type": "markdown",
   "id": "542b419f",
   "metadata": {
    "slideshow": {
     "slide_type": "slide"
    }
   },
   "source": [
    "# About me\n",
    "<br>\n",
    "<img src='images/viviana.jpg' style='height:550px; float: left; margin: 0px 30px 15px 0px'>\n",
    "\n",
    "### 👋 Hi! I'm Viviana Marquez, teacher for Women Building Change - Code Your Dreams\n",
    "<br><small>https://www.linkedin.com/in/vivianamarquez/</small>\n",
    "\n",
    "🎓 MSc. Data Science - *University of San Francisco* <br>\n",
    "🎓 BSc. Mathematics - *Konrad Lorenz University* <br>\n",
    "🎓 A.A. Journalism & Media - *CST* <br>\n",
    "\n",
    "**Currently**: <br>\n",
    "Software Engineer III, Machine Learning @ Dataminr<br>\n",
    "\n",
    "<br><br>\n",
    "<small>*Previous industry experience*: HBO, Royal Caribbean Cruises, Zimmerman Advertising, TruSTAR Technology</small><br>\n",
    "<small>*Previous teaching experience*: USF, Correlation One, KLU, private classes</small><br>"
   ]
  },
  {
   "cell_type": "markdown",
   "id": "49d541cc",
   "metadata": {
    "slideshow": {
     "slide_type": "slide"
    }
   },
   "source": [
    "<center><img src='images/map.png' style='width:1500px; float: center; margin: 0px 30px 15px 0px'></center>"
   ]
  },
  {
   "cell_type": "markdown",
   "id": "86f520c4",
   "metadata": {
    "slideshow": {
     "slide_type": "fragment"
    }
   },
   "source": [
    "## Let's use this space to create friendships across nations and learn data science! 🌎🌍🫶"
   ]
  },
  {
   "cell_type": "markdown",
   "id": "16ab2104",
   "metadata": {
    "slideshow": {
     "slide_type": "slide"
    }
   },
   "source": [
    "# So... what is data science? 🤔\n"
   ]
  },
  {
   "cell_type": "markdown",
   "id": "5fc5fcdf",
   "metadata": {
    "slideshow": {
     "slide_type": "slide"
    }
   },
   "source": [
    "# So... what is data ~~science~~? 🤔\n"
   ]
  },
  {
   "cell_type": "markdown",
   "id": "13383daa",
   "metadata": {
    "slideshow": {
     "slide_type": "slide"
    }
   },
   "source": [
    "<center><img src='images/scribe.jpeg' style='height:550px;'></center>"
   ]
  },
  {
   "cell_type": "markdown",
   "id": "5c427503",
   "metadata": {
    "slideshow": {
     "slide_type": "fragment"
    }
   },
   "source": [
    "- I present to you: **scribes**. People from ancient civilizations who specialized in writing and reading."
   ]
  },
  {
   "cell_type": "markdown",
   "id": "832bdf88",
   "metadata": {
    "slideshow": {
     "slide_type": "fragment"
    }
   },
   "source": [
    "- Data literacy is the new literacy. Those who are able to read, write, and communicate data are modern scribes. "
   ]
  },
  {
   "cell_type": "markdown",
   "id": "a5dea4dd",
   "metadata": {
    "slideshow": {
     "slide_type": "fragment"
    }
   },
   "source": [
    "- ** Data is the new oil**: People with data literacy skills can find better jobs, be more  informed citizens, and make better decisions."
   ]
  },
  {
   "cell_type": "markdown",
   "id": "a657a021",
   "metadata": {
    "slideshow": {
     "slide_type": "slide"
    }
   },
   "source": [
    "# Data science... a career path for everyone!\n",
    "\n",
    "<br>\n",
    "\n",
    "<center><img src='wbc.jpg' style='height:550px'></center>\n",
    "\n",
    "<br>\n",
    "\n"
   ]
  },
  {
   "cell_type": "markdown",
   "id": "655f5ecf",
   "metadata": {
    "slideshow": {
     "slide_type": "slide"
    }
   },
   "source": [
    "# Class logistics\n",
    "\n",
    "\n",
    "- **🗓️ Schedule:** Mondays and Fridays 2:00 p.m. - 3:30 p.m. \n",
    "- Classes were LIVE through Zoom\n",
    "- Students get access to all the code and the video recordings\n",
    "\n",
    "\n",
    "\n"
   ]
  },
  {
   "cell_type": "markdown",
   "id": "f1339b35",
   "metadata": {
    "slideshow": {
     "slide_type": "slide"
    }
   },
   "source": [
    "# Topics\n",
    "\n",
    "\n",
    "- Python\n",
    "- Data Science & Natural Language Processing\n",
    "- Data mining, webscraping, Twitter data\n",
    "- Machine learning models"
   ]
  },
  {
   "cell_type": "markdown",
   "id": "60793ac7",
   "metadata": {
    "slideshow": {
     "slide_type": "slide"
    }
   },
   "source": [
    "# How do you say \"hello\" in Python?"
   ]
  },
  {
   "cell_type": "code",
   "execution_count": null,
   "id": "f201448f",
   "metadata": {
    "slideshow": {
     "slide_type": "fragment"
    }
   },
   "outputs": [],
   "source": [
    "print(\"Hello World\")"
   ]
  }
 ],
 "metadata": {
  "celltoolbar": "Slideshow",
  "kernelspec": {
   "display_name": "Python 3 (ipykernel)",
   "language": "python",
   "name": "python3"
  },
  "language_info": {
   "codemirror_mode": {
    "name": "ipython",
    "version": 3
   },
   "file_extension": ".py",
   "mimetype": "text/x-python",
   "name": "python",
   "nbconvert_exporter": "python",
   "pygments_lexer": "ipython3",
   "version": "3.9.13"
  }
 },
 "nbformat": 4,
 "nbformat_minor": 5
}
