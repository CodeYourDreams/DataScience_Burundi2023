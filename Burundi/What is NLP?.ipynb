{
 "cells": [
  {
   "cell_type": "markdown",
   "id": "a9d62be5",
   "metadata": {
    "slideshow": {
     "slide_type": "slide"
    }
   },
   "source": [
    "<center><img src='images/banner.png' style='width:1000px; float: center; margin: 0px 30px 15px 0px'></center>\n",
    "\n",
    "# Hello! Bonjour ! Hola! Amahoro!\n",
    "\n",
    "\n",
    "\n"
   ]
  },
  {
   "cell_type": "markdown",
   "id": "542b419f",
   "metadata": {
    "slideshow": {
     "slide_type": "slide"
    }
   },
   "source": [
    "# About me\n",
    "<br>\n",
    "<img src='images/viviana.jpg' style='height:550px; float: left; margin: 0px 30px 15px 0px'>\n",
    "\n",
    "👋 Hi! I'm Viviana Marquez\n",
    "<br><small>https://www.linkedin.com/in/vivianamarquez/</small>\n",
    "\n",
    "🎓 MSc. Data Science - *University of San Francisco* <br>\n",
    "🎓 BSc. Mathematics - *Konrad Lorenz University* <br>\n",
    "🎓 A.A. Journalism & Media - *CST* <br>\n",
    "\n",
    "**Currently**: <br>\n",
    "Software Engineer III, Machine Learning @ Dataminr<br>\n",
    "\n",
    "<br><br>\n",
    "<small>*Previous industry experience*: HBO, Royal Caribbean Cruises, Zimmerman Advertising, TruSTAR Technology</small><br>\n",
    "<small>*Previous teaching experience*: USF, Correlation One, KLU, private classes</small><br>"
   ]
  },
  {
   "cell_type": "markdown",
   "id": "49d541cc",
   "metadata": {
    "slideshow": {
     "slide_type": "slide"
    }
   },
   "source": [
    "<center><img src='images/map.png' style='width:1500px; float: center; margin: 0px 30px 15px 0px'></center>"
   ]
  },
  {
   "cell_type": "markdown",
   "id": "13383daa",
   "metadata": {
    "slideshow": {
     "slide_type": "slide"
    }
   },
   "source": [
    "<center><img src='images/scribe.jpeg' style='height:550px;'></center>"
   ]
  },
  {
   "cell_type": "markdown",
   "id": "5c427503",
   "metadata": {
    "slideshow": {
     "slide_type": "fragment"
    }
   },
   "source": [
    "- I present to you: **scribes**. People from ancient civilizations who specialized in writing and reading."
   ]
  },
  {
   "cell_type": "markdown",
   "id": "cb08d92e",
   "metadata": {
    "slideshow": {
     "slide_type": "slide"
    }
   },
   "source": [
    "# What is an algorithm?"
   ]
  },
  {
   "cell_type": "markdown",
   "id": "b73a9e93",
   "metadata": {
    "slideshow": {
     "slide_type": "slide"
    }
   },
   "source": [
    "# How to cook Ibiharage (beans)?\n",
    "\n",
    "<br>\n",
    "<center><img src='img/Ibiharage.webp' style='height:550px;'></center>"
   ]
  },
  {
   "cell_type": "markdown",
   "id": "aad04c10",
   "metadata": {
    "slideshow": {
     "slide_type": "slide"
    }
   },
   "source": [
    "# How to cook Ajiaco?\n",
    "\n",
    "<br>\n",
    "<center><img src='img/ajiaco.png' style='height:300px; float: center; margin: 0px 30px 15px 0px'></center>"
   ]
  },
  {
   "cell_type": "markdown",
   "id": "80db3929",
   "metadata": {
    "slideshow": {
     "slide_type": "fragment"
    }
   },
   "source": [
    "Instructions:\n",
    "- Boil chicken, chicken broth, and water in a pot.\n",
    "- Remove chicken and shred meat from bones.\n",
    "- Add shredded chicken, potatoes, cilantro, and corn to the pot and simmer.\n",
    "- Stir in heavy cream and season with salt and pepper to taste."
   ]
  },
  {
   "cell_type": "markdown",
   "id": "7d5c3881",
   "metadata": {
    "slideshow": {
     "slide_type": "slide"
    }
   },
   "source": [
    "# An algorithm is a set of instructions "
   ]
  },
  {
   "cell_type": "markdown",
   "id": "5a508a57",
   "metadata": {
    "slideshow": {
     "slide_type": "slide"
    }
   },
   "source": [
    "# What is coding?"
   ]
  },
  {
   "cell_type": "markdown",
   "id": "964e51bd",
   "metadata": {
    "slideshow": {
     "slide_type": "fragment"
    }
   },
   "source": [
    "<center><img src='img/cat.gif' style='height:350px; float: center; margin: 0px 30px 15px 0px'></center>"
   ]
  },
  {
   "cell_type": "markdown",
   "id": "3e2a103d",
   "metadata": {
    "slideshow": {
     "slide_type": "fragment"
    }
   },
   "source": [
    "- It's how we communicate with computers to tell them to run algorithms"
   ]
  },
  {
   "cell_type": "markdown",
   "id": "76cfe3e5",
   "metadata": {
    "slideshow": {
     "slide_type": "fragment"
    }
   },
   "source": [
    "- **Anyone can code!** Whatever a computer can do, you can also do it! (A computer just does it faster)"
   ]
  },
  {
   "cell_type": "markdown",
   "id": "70245927",
   "metadata": {
    "slideshow": {
     "slide_type": "slide"
    }
   },
   "source": [
    "<center><img src='images/everyminute.png' style='height:700px;'></center>"
   ]
  },
  {
   "cell_type": "markdown",
   "id": "3f7409f0",
   "metadata": {
    "slideshow": {
     "slide_type": "slide"
    }
   },
   "source": [
    "# Natural Language Processing (NLP)\n",
    "\n",
    "<br>\n",
    "<center><img src=\"img/clase01/nlp.png\" style='height:400px;'>\n",
    "    <small>Image credit: CleverTap</small></center>\n",
    "\n",
    "- It is the area of artificial intelligence that deals with human languages and derives valuable information from them\n",
    "\n",
    "- There are dozens of methods and strategies to solve a given problem"
   ]
  },
  {
   "cell_type": "markdown",
   "id": "f1a91959",
   "metadata": {
    "slideshow": {
     "slide_type": "slide"
    }
   },
   "source": [
    "# 🤔 Why learn NLP?"
   ]
  },
  {
   "cell_type": "markdown",
   "id": "ca8998e9",
   "metadata": {
    "slideshow": {
     "slide_type": "slide"
    }
   },
   "source": [
    "### Text and Big Data\n",
    "\n",
    "<center><br>\n",
    "<img src='img/clase01/unstructured.png' style='height:350px;'>\n",
    "</center>\n",
    "\n",
    "• There are more than 7,100 spoken languages in the world\n",
    "\n",
    "• From 80% to 90% of data generated and collected by organizations is unstructured → Most of it is in the form of text\n",
    "\n",
    "• Millions of data are being generated right now: WhatsApp, Twitter, YouTube, Reddit, etc."
   ]
  },
  {
   "cell_type": "markdown",
   "id": "cd7b2268",
   "metadata": {
    "slideshow": {
     "slide_type": "slide"
    }
   },
   "source": [
    "##### NLP in the real world \n",
    "# Language modeling \n",
    "\n",
    "<center><br>\n",
    "<img src='img/clase01/google.png' style='height:400px;'>\n",
    "</center>\n",
    "\n",
    "• Predict a sentence based on the history of the previous words"
   ]
  },
  {
   "cell_type": "markdown",
   "id": "0c2a7ef5",
   "metadata": {
    "slideshow": {
     "slide_type": "slide"
    }
   },
   "source": [
    "##### NLP in the real world\n",
    "# Text classification \n",
    "\n",
    "<center><br>\n",
    "<img src='img/clase01/spam.jpg' style='height:350px;'>\n",
    "</center>\n",
    "\n",
    "- Classify text in different categories based on its content\n",
    "\n",
    "- Most famous example: Spam or not"
   ]
  },
  {
   "cell_type": "markdown",
   "id": "c47d91a7",
   "metadata": {
    "slideshow": {
     "slide_type": "slide"
    }
   },
   "source": [
    "##### NLP in the real world\n",
    "# Information extraction\n",
    "\n",
    "<center><br>\n",
    "<img src='img/clase01/whatsapp2.jpg' style='height:350px;'>\n",
    "</center>\n",
    "\n",
    "- As the name implies, this refers to extracting relevant information from the text\n",
    "\n",
    "- Examples: Calendar events and entities mentioned"
   ]
  },
  {
   "cell_type": "markdown",
   "id": "969c824c",
   "metadata": {
    "slideshow": {
     "slide_type": "slide"
    }
   },
   "source": [
    "##### NLP in the real world\n",
    "# Information retrieval \n",
    "\n",
    "<center><br>\n",
    "<img src='img/clase01/google_ret.png' style='height:350px;'>\n",
    "</center>\n",
    "\n",
    "- Find relevant documents in a large dataset based on a user's search\n",
    "\n",
    "- Related to text summarization"
   ]
  },
  {
   "cell_type": "markdown",
   "id": "6336cc8a",
   "metadata": {
    "slideshow": {
     "slide_type": "slide"
    }
   },
   "source": [
    "##### NLP in the real world\n",
    "# Chatbots\n",
    "\n",
    "<center><br>\n",
    "<img src='img/clase01/chatbot.png' style='height:400px;'>\n",
    "</center>\n",
    "\n",
    "• Systems that answer questions automatically"
   ]
  },
  {
   "cell_type": "markdown",
   "id": "eed57286",
   "metadata": {
    "slideshow": {
     "slide_type": "slide"
    }
   },
   "source": [
    "##### NLP in the real world\n",
    "# Translation \n",
    "\n",
    "<center><br>\n",
    "<img src='img/clase01/deepl.png' style='height:400px;'>\n",
    "</center>"
   ]
  },
  {
   "cell_type": "markdown",
   "id": "6fd63f75",
   "metadata": {
    "slideshow": {
     "slide_type": "slide"
    }
   },
   "source": [
    "##### NLP in the real world\n",
    "# Social media monitoring\n",
    "\n",
    "<center><br>\n",
    "<img src='img/clase01/adele.png' style='height:300px;'>\n",
    "</center>\n",
    "\n",
    "- Companies want to understand their customers (targeted marketing campaigns)\n",
    "\n",
    "- They want to be able to take advantage of explicit and implicit feedback from their customers\n",
    "\n",
    "- Example: [Here](https://www.youtube.com/watch?v=sY9cjVK0mGU&ab_channel=MADSTARS%28%EB%B6%80%EC%82%B0%EA%B5%AD%EC%A0%9C%EA%B4%91%EA%B3%A0%EC%A0%9C%29)"
   ]
  },
  {
   "cell_type": "markdown",
   "id": "30a608f5",
   "metadata": {
    "slideshow": {
     "slide_type": "slide"
    }
   },
   "source": [
    "##### NLP in the real world\n"
   ]
  },
  {
   "cell_type": "markdown",
   "id": "54d7edb1",
   "metadata": {
    "slideshow": {
     "slide_type": "fragment"
    }
   },
   "source": [
    "### How do we talk to Siri? Does it speak English?\n",
    "\n",
    "<center><br>\n",
    "<img src='img/clase01/siri.jpg' style='height:350px;'>"
   ]
  },
  {
   "cell_type": "markdown",
   "id": "9ebfe169",
   "metadata": {
    "slideshow": {
     "slide_type": "slide"
    }
   },
   "source": [
    "### Representation of data in numerical form\n",
    "\n",
    "**Example: Images**\n",
    "\n",
    "<center><img src='img/clase08/komp2.jpeg'>\n",
    "<small>Image credit: VideoNet</small></center>\n",
    "\n",
    "- An image is represented on a computer in the form of a matrix where each $m[i,j]$ represents pixel $i$,$j$ of the image\n",
    "\n",
    "- Similarly, a video is a collection of frames, where each frame is an image. Therefore, any video can be represented as a collection of matrices\n",
    "\n",
    "- (Un)fortunately, representing text numerically is not so simple"
   ]
  },
  {
   "cell_type": "markdown",
   "id": "2d2f5bc8",
   "metadata": {
    "slideshow": {
     "slide_type": "slide"
    }
   },
   "source": [
    "# 😫 🤯 Why is NLP so hard?\n"
   ]
  },
  {
   "cell_type": "markdown",
   "id": "9b2908aa",
   "metadata": {
    "slideshow": {
     "slide_type": "fragment"
    }
   },
   "source": [
    "- The city council denied the demonstrators the permit because **they** advocated violence. \n",
    "- The city council denied the demonstrators the permit because **they** feared violence. "
   ]
  },
  {
   "cell_type": "markdown",
   "id": "fc7fd7da",
   "metadata": {
    "slideshow": {
     "slide_type": "slide"
    }
   },
   "source": [
    "<center><img src='img/clase01/chicken.jpg'>\n",
    "<center>    \n",
    "    <big>Is the chicken ready to eat?</big>\n",
    "</center>"
   ]
  },
  {
   "cell_type": "markdown",
   "id": "ca962bc7",
   "metadata": {
    "slideshow": {
     "slide_type": "fragment"
    }
   },
   "source": [
    "### Ambiguity"
   ]
  },
  {
   "cell_type": "markdown",
   "id": "19416416",
   "metadata": {
    "slideshow": {
     "slide_type": "slide"
    }
   },
   "source": [
    "<center><img src='img/clase01/perro.jpg' style='height:350px;'>\n",
    "<center>    \n",
    "    <big>\"The dog bit the man\" vs \"The man bit the dog\"</big>\n",
    "</center>"
   ]
  },
  {
   "cell_type": "markdown",
   "id": "87778310",
   "metadata": {
    "slideshow": {
     "slide_type": "fragment"
    }
   },
   "source": [
    "### Common knowledge"
   ]
  },
  {
   "cell_type": "markdown",
   "id": "20bc7d70",
   "metadata": {
    "slideshow": {
     "slide_type": "slide"
    }
   },
   "source": [
    "<center><img src='img/clase01/homesick.png' style='height:350px;'>\n",
    "<center>    \n",
    "    <big>How do you say \"Dépaysement\" in English?</big>\n",
    "</center>"
   ]
  },
  {
   "cell_type": "markdown",
   "id": "b8ea8ab4",
   "metadata": {
    "slideshow": {
     "slide_type": "fragment"
    }
   },
   "source": [
    "### Language diversity"
   ]
  },
  {
   "cell_type": "markdown",
   "id": "cbfe1292",
   "metadata": {
    "slideshow": {
     "slide_type": "slide"
    }
   },
   "source": [
    "<center><img src='img/clase01/homer.gif' style='height:350px;'>"
   ]
  },
  {
   "cell_type": "markdown",
   "id": "2ac0060d",
   "metadata": {
    "slideshow": {
     "slide_type": "fragment"
    }
   },
   "source": [
    "### Sarcasm"
   ]
  },
  {
   "cell_type": "markdown",
   "id": "dabc5942",
   "metadata": {
    "slideshow": {
     "slide_type": "slide"
    }
   },
   "source": [
    "# 😫 🤯 So now that we have grasped why NLP is hard...\n"
   ]
  },
  {
   "cell_type": "markdown",
   "id": "480b0484",
   "metadata": {
    "slideshow": {
     "slide_type": "slide"
    }
   },
   "source": [
    "## 🤔 The issue at hand...\n",
    "\n",
    "<br>\n",
    "<center><img src='img/clase01/gigo.png' style='height:350px;'>\n",
    "<small>Image credit: R-Bloggers</small></center>"
   ]
  },
  {
   "cell_type": "markdown",
   "id": "8b633243",
   "metadata": {
    "slideshow": {
     "slide_type": "fragment"
    }
   },
   "source": [
    " - Let's take as an example the word **bow**. Can we just give it a number to represent it? "
   ]
  },
  {
   "cell_type": "markdown",
   "id": "f8872464",
   "metadata": {
    "slideshow": {
     "slide_type": "fragment"
    }
   },
   "source": [
    "- 🙅‍♀ Then... how do we represent the meaning of a word? "
   ]
  },
  {
   "cell_type": "markdown",
   "id": "7811fe37",
   "metadata": {
    "slideshow": {
     "slide_type": "slide"
    }
   },
   "source": [
    "## How do we, humans, know what a word means?\n",
    "\n",
    "<br>\n",
    "<center><img src='img/clase08/reina.jpg' style='height:500px; float: center; margin: 0px 15px 15px 0px'></center>"
   ]
  },
  {
   "cell_type": "markdown",
   "id": "9dad1d05",
   "metadata": {
    "slideshow": {
     "slide_type": "slide"
    }
   },
   "source": [
    "## We learn through experience\n",
    "\n",
    "<br>\n",
    "<center><img src='img/clase08/reyes2.png' style='height:600px; float: center; margin: 0px 15px 15px 0px'></center>"
   ]
  },
  {
   "cell_type": "markdown",
   "id": "203a4030",
   "metadata": {
    "slideshow": {
     "slide_type": "slide"
    }
   },
   "source": [
    "## Machines can also learn through experience\n",
    "\n",
    "<br>\n",
    "\n",
    "<div align='center'>\n",
    "    <img src='img/clase08/maquina1.png' style='height:500px; float: left; margin: 0px 15px 15px 0px'>\n",
    "</div>"
   ]
  },
  {
   "cell_type": "markdown",
   "id": "061272f6",
   "metadata": {
    "slideshow": {
     "slide_type": "slide"
    }
   },
   "source": [
    "# 🤔 🤔 🤔\n",
    "# What do you mean machines can learn by experience?"
   ]
  },
  {
   "cell_type": "markdown",
   "id": "524149f8",
   "metadata": {
    "slideshow": {
     "slide_type": "slide"
    }
   },
   "source": [
    "# 🤔 🤔 🤔\n",
    "# What is tichiniky? \n",
    "(Don't look it up on Google)\n"
   ]
  },
  {
   "cell_type": "markdown",
   "id": "97cafc56",
   "metadata": {
    "slideshow": {
     "slide_type": "slide"
    }
   },
   "source": [
    "\n",
    "\n",
    "- Joseph offered a glass of <font color='red'>tichiniky</font> to his girlfriend."
   ]
  },
  {
   "cell_type": "markdown",
   "id": "cb6cb34b",
   "metadata": {
    "slideshow": {
     "slide_type": "fragment"
    }
   },
   "source": [
    "- <font color='red'>Tichiniky</font> and steak make a great pairing for a nice meal."
   ]
  },
  {
   "cell_type": "markdown",
   "id": "50122440",
   "metadata": {
    "slideshow": {
     "slide_type": "fragment"
    }
   },
   "source": [
    "- Charles stumbled, his face flushed from drinking too much <font color='red'>tichiniky</font>."
   ]
  },
  {
   "cell_type": "markdown",
   "id": "3eacb1be",
   "metadata": {
    "slideshow": {
     "slide_type": "fragment"
    }
   },
   "source": [
    "- Last night I had bread, cheese, and this excellent <font color='red'>tichiniky</font> for dinner."
   ]
  },
  {
   "cell_type": "markdown",
   "id": "332cb253",
   "metadata": {
    "slideshow": {
     "slide_type": "slide"
    }
   },
   "source": [
    "# 🤔 🤔 🤔\n",
    "I ask you again... \n",
    "# What is tichiniky? \n"
   ]
  },
  {
   "cell_type": "markdown",
   "id": "0ca6abc9",
   "metadata": {
    "slideshow": {
     "slide_type": "fragment"
    }
   },
   "source": [
    "- An alcoholic drink\n",
    "<img src='img/clase08/amor_amistad.gif'>"
   ]
  },
  {
   "cell_type": "markdown",
   "id": "0c76a464",
   "metadata": {
    "slideshow": {
     "slide_type": "slide"
    }
   },
   "source": [
    "## Distributional semantics \n",
    "\n",
    "- A bottle of <font color='red'>tichiniky</font> is on the table.\n",
    "- Not everyone likes <font color='red'>tichiniky</font>.\n",
    "- Don't drink <font color='red'>tichiniky</font> and drive.\n",
    "- We make <font color='red'>tichiniky</font> with grapes. "
   ]
  },
  {
   "cell_type": "markdown",
   "id": "b12cfae5",
   "metadata": {
    "slideshow": {
     "slide_type": "slide"
    }
   },
   "source": [
    "## Distributional semantics \n",
    "\n",
    "- A bottle of <font color='red'>________</font> is on the table.\n",
    "- Not everyone likes <font color='red'>________</font>.\n",
    "- Don't drink <font color='red'>________</font> and drive.\n",
    "- We make <font color='red'>________</font> with grapes. \n",
    "\n",
    "### 🤔 What other words would go well in those contexts?"
   ]
  },
  {
   "cell_type": "markdown",
   "id": "fa1fefa0",
   "metadata": {
    "slideshow": {
     "slide_type": "slide"
    }
   },
   "source": [
    "## Distributional semantics \n",
    "\n",
    "- A bottle of ________ is on the table.\n",
    "- Not everyone likes ________.\n",
    "- Don't drink ________ and drive.\n",
    "- We make ________ with grapes. \n",
    "\n",
    "|                 | 1 | 2 | 3 | 4 | ... |\n",
    "|-----------------|---|---|---|---|-----|\n",
    "| tichiniky       |  |  |  |  |     |\n",
    "| strong          |  |  |  |  |     |\n",
    "| motor oil       |  |  |  |  |     |\n",
    "| tacos           |  |  |  |  |     |\n",
    "| wine            |  |  |  |  |     |"
   ]
  },
  {
   "cell_type": "markdown",
   "id": "ec271276",
   "metadata": {
    "slideshow": {
     "slide_type": "slide"
    }
   },
   "source": [
    "## Distributional semantics \n",
    "\n",
    "- A bottle of ________ is on the table.\n",
    "- Not everyone likes ________.\n",
    "- Don't drink ________ and drive.\n",
    "- We make ________ with grapes. \n",
    "\n",
    "|                 | 1 | 2 | 3 | 4 | ... |\n",
    "|-----------------|---|---|---|---|-----|\n",
    "| tichiniky       | 1 | 1 | 1 | 1 |     |\n",
    "| strong          | 0 | 0 | 0 | 0 |     |\n",
    "| motor oil       | 1 | 0 | 0 | 0 |     |\n",
    "| bread           | 0 | 1 | 0 | 0 |     |\n",
    "| wine            | 1 | 1 | 1 | 1 |     |"
   ]
  },
  {
   "cell_type": "markdown",
   "id": "e6c91cd3",
   "metadata": {
    "slideshow": {
     "slide_type": "fragment"
    }
   },
   "source": [
    "- ⚠️ Tichiniky & wine have the same **vector representation**"
   ]
  },
  {
   "cell_type": "markdown",
   "id": "909a484a",
   "metadata": {
    "slideshow": {
     "slide_type": "slide"
    }
   },
   "source": [
    "## Once you have a numerical vector representation\n",
    "\n",
    "<center><img src='img/clase08/espacio.jpg' style='height:500px; float: center; margin: 0px 15px 15px 0px'></center>\n",
    "<br>\n",
    "\n",
    "<center><big><b>You can do math!</b></big></center>\n",
    "\n",
    "<br>\n",
    "\n",
    "- meaning($man$) - meaning($king$) + meaning($queen$) = meaning($woman$)\n",
    "\n",
    "Neural networks can make machines understand analogies like humans [Mikolov et al., 2013]"
   ]
  }
 ],
 "metadata": {
  "celltoolbar": "Slideshow",
  "kernelspec": {
   "display_name": "Python 3 (ipykernel)",
   "language": "python",
   "name": "python3"
  },
  "language_info": {
   "codemirror_mode": {
    "name": "ipython",
    "version": 3
   },
   "file_extension": ".py",
   "mimetype": "text/x-python",
   "name": "python",
   "nbconvert_exporter": "python",
   "pygments_lexer": "ipython3",
   "version": "3.9.13"
  }
 },
 "nbformat": 4,
 "nbformat_minor": 5
}
