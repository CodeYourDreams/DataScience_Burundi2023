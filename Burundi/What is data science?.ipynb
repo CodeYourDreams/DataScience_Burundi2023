{
 "cells": [
  {
   "cell_type": "markdown",
   "id": "a9d62be5",
   "metadata": {
    "slideshow": {
     "slide_type": "slide"
    }
   },
   "source": [
    "<center><img src='images/banner.png' style='width:1000px; float: center; margin: 0px 30px 15px 0px'></center>\n",
    "\n",
    "# Hello! Bonjour ! Amahoro! Hola!\n",
    "\n",
    "\n",
    "\n"
   ]
  },
  {
   "cell_type": "markdown",
   "id": "542b419f",
   "metadata": {
    "slideshow": {
     "slide_type": "slide"
    }
   },
   "source": [
    "# About me\n",
    "<br>\n",
    "<img src='images/viviana.jpg' style='height:550px; float: left; margin: 0px 30px 15px 0px'>\n",
    "\n",
    "👋 Hi! I'm Viviana Marquez\n",
    "<br><small>https://www.linkedin.com/in/vivianamarquez/</small>\n",
    "\n",
    "🎓 MSc. Data Science - *University of San Francisco* <br>\n",
    "🎓 BSc. Mathematics - *Konrad Lorenz University* <br>\n",
    "🎓 A.A. Journalism & Media - *CST* <br>\n",
    "\n",
    "**Currently**: <br>\n",
    "Software Engineer III, Machine Learning @ Dataminr<br>\n",
    "\n",
    "<br><br>\n",
    "<small>*Previous industry experience*: HBO, Royal Caribbean Cruises, Zimmerman Advertising, TruSTAR Technology</small><br>\n",
    "<small>*Previous teaching experience*: USF, Correlation One, KLU, private classes</small><br>"
   ]
  },
  {
   "cell_type": "markdown",
   "id": "49d541cc",
   "metadata": {
    "slideshow": {
     "slide_type": "slide"
    }
   },
   "source": [
    "<center><img src='images/map.png' style='width:1500px; float: center; margin: 0px 30px 15px 0px'></center>"
   ]
  },
  {
   "cell_type": "markdown",
   "id": "d3ce6cbf",
   "metadata": {
    "slideshow": {
     "slide_type": "slide"
    }
   },
   "source": [
    "# Shakira 🇨🇴\n",
    "\n",
    "Champeta is a Colombian musical genre influenced by African culture\n",
    "\n",
    "https://www.youtube.com/watch?v=aA9swi1thvM&ab_channel=ShakiraIM"
   ]
  },
  {
   "cell_type": "markdown",
   "id": "86f520c4",
   "metadata": {
    "slideshow": {
     "slide_type": "fragment"
    }
   },
   "source": [
    "## Let's use this space to create friendships across nations and learn data science! 🌎🌍🫶"
   ]
  },
  {
   "cell_type": "markdown",
   "id": "16ab2104",
   "metadata": {
    "slideshow": {
     "slide_type": "slide"
    }
   },
   "source": [
    "# So... what is data science? 🤔\n"
   ]
  },
  {
   "cell_type": "markdown",
   "id": "5fc5fcdf",
   "metadata": {
    "slideshow": {
     "slide_type": "slide"
    }
   },
   "source": [
    "# So... what is data ~~science~~? 🤔\n"
   ]
  },
  {
   "cell_type": "markdown",
   "id": "13383daa",
   "metadata": {
    "slideshow": {
     "slide_type": "slide"
    }
   },
   "source": [
    "<center><img src='images/scribe.jpeg' style='height:550px;'></center>"
   ]
  },
  {
   "cell_type": "markdown",
   "id": "5c427503",
   "metadata": {
    "slideshow": {
     "slide_type": "fragment"
    }
   },
   "source": [
    "- I present to you: **scribes**. People from ancient civilizations who specialized in writing and reading."
   ]
  },
  {
   "cell_type": "markdown",
   "id": "70245927",
   "metadata": {
    "slideshow": {
     "slide_type": "slide"
    }
   },
   "source": [
    "<center><img src='images/everyminute.png' style='height:700px;'></center>"
   ]
  },
  {
   "cell_type": "markdown",
   "id": "832bdf88",
   "metadata": {
    "slideshow": {
     "slide_type": "fragment"
    }
   },
   "source": [
    "- Data literacy is the new literacy. Those who are able to read, write, and communicate data are modern scribes. "
   ]
  },
  {
   "cell_type": "markdown",
   "id": "a5dea4dd",
   "metadata": {
    "slideshow": {
     "slide_type": "fragment"
    }
   },
   "source": [
    "- People with data literacy skills can find better jobs, be more  informed citizens, and make better decisions."
   ]
  },
  {
   "cell_type": "markdown",
   "id": "a657a021",
   "metadata": {
    "slideshow": {
     "slide_type": "slide"
    }
   },
   "source": [
    "# Data science... a career path for everyone!\n",
    "\n",
    "<br>\n",
    "\n",
    "<center><img src='images/sf.jpg' style='height:550px'></center>\n",
    "\n",
    "<br>\n",
    "\n",
    "* When I joined my master's program, it had a different name \n",
    "\n"
   ]
  },
  {
   "cell_type": "markdown",
   "id": "b9d97ff1",
   "metadata": {
    "slideshow": {
     "slide_type": "slide"
    }
   },
   "source": [
    "# 🤔 What does a data scientist do?"
   ]
  },
  {
   "cell_type": "markdown",
   "id": "9669393c",
   "metadata": {
    "slideshow": {
     "slide_type": "fragment"
    }
   },
   "source": [
    "<center><img src='images/dsmeme.png' style='height:400px;'></center> \n",
    "\n",
    "• Easy answer: EVERYTHING!\n",
    "    \n",
    "• Long answer: It depends on the job\n",
    "\n"
   ]
  },
  {
   "cell_type": "markdown",
   "id": "d9d9ee50",
   "metadata": {
    "slideshow": {
     "slide_type": "slide"
    }
   },
   "source": [
    "<hr>\n",
    "\n",
    "<center>🏆 Winning formula:</center><br>\n",
    "\n",
    "<center><b>Mathematics + Coding + Communication + Domain Expertise</b></center>\n",
    "\n",
    "<hr>"
   ]
  },
  {
   "cell_type": "markdown",
   "id": "a3d66637",
   "metadata": {
    "slideshow": {
     "slide_type": "slide"
    }
   },
   "source": [
    "# 🤔 What does a data scientist do?\n",
    "\n",
    "<br>\n",
    "\n",
    "### Example: https://tweetfeed.live/\n",
    "\n",
    "### Example: https://twitter.com/nyt_first_said\n",
    "\n",
    "### Example: https://coronavirus.jhu.edu/map.html\n",
    "\n",
    "### Example: https://eodashboard.org/?poi=W4-N2&indicator=N2"
   ]
  },
  {
   "cell_type": "markdown",
   "id": "7fd8dcb6",
   "metadata": {
    "slideshow": {
     "slide_type": "fragment"
    }
   },
   "source": [
    "⚠️ Data is the new oil, we must take advantage of it"
   ]
  },
  {
   "cell_type": "markdown",
   "id": "1351e5aa",
   "metadata": {
    "slideshow": {
     "slide_type": "slide"
    }
   },
   "source": [
    "<center><img src='images/bob.jpeg' style='height:400px;'></center> "
   ]
  },
  {
   "cell_type": "markdown",
   "id": "52a5e33a",
   "metadata": {
    "slideshow": {
     "slide_type": "fragment"
    }
   },
   "source": [
    "A data scientist carries its toolbox to solve data problems!\n",
    "\n",
    "By the end of this program, you will have your very own toolbox too!"
   ]
  },
  {
   "cell_type": "markdown",
   "id": "cb08d92e",
   "metadata": {
    "slideshow": {
     "slide_type": "slide"
    }
   },
   "source": [
    "# What is an algorithm?"
   ]
  },
  {
   "cell_type": "markdown",
   "id": "b73a9e93",
   "metadata": {
    "slideshow": {
     "slide_type": "slide"
    }
   },
   "source": [
    "# How to cook Ibiharage (beans)?\n",
    "\n",
    "<br>\n",
    "<center><img src='img/Ibiharage.webp' style='height:550px;'></center>"
   ]
  },
  {
   "cell_type": "markdown",
   "id": "aad04c10",
   "metadata": {
    "slideshow": {
     "slide_type": "slide"
    }
   },
   "source": [
    "# How to cook Ajiaco?\n",
    "\n",
    "<br>\n",
    "<center><img src='img/ajiaco.png' style='height:300px; float: center; margin: 0px 30px 15px 0px'></center>"
   ]
  },
  {
   "cell_type": "markdown",
   "id": "80db3929",
   "metadata": {
    "slideshow": {
     "slide_type": "fragment"
    }
   },
   "source": [
    "Instructions:\n",
    "- Boil chicken, chicken broth, and water in a pot.\n",
    "- Remove chicken and shred meat from bones.\n",
    "- Add shredded chicken, potatoes, cilantro, and corn to the pot and simmer.\n",
    "- Stir in heavy cream and season with salt and pepper to taste."
   ]
  },
  {
   "cell_type": "markdown",
   "id": "7d5c3881",
   "metadata": {
    "slideshow": {
     "slide_type": "slide"
    }
   },
   "source": [
    "# An algorithm is a set of instructions "
   ]
  },
  {
   "cell_type": "markdown",
   "id": "02f99a46",
   "metadata": {
    "slideshow": {
     "slide_type": "fragment"
    }
   },
   "source": [
    "## 🤔 What other algorithms can you think of? "
   ]
  },
  {
   "cell_type": "markdown",
   "id": "1ee48428",
   "metadata": {
    "slideshow": {
     "slide_type": "slide"
    }
   },
   "source": [
    "# What is a `computer` algorithm?"
   ]
  },
  {
   "cell_type": "markdown",
   "id": "3ecdd6f6",
   "metadata": {
    "slideshow": {
     "slide_type": "fragment"
    }
   },
   "source": [
    "A set of instructions that enable a computer program to generate a result "
   ]
  },
  {
   "cell_type": "markdown",
   "id": "8ca2aa37",
   "metadata": {
    "slideshow": {
     "slide_type": "fragment"
    }
   },
   "source": [
    "<center><img src='img/computer_algorithm.png' style='height:300px; float: center; margin: 0px 30px 15px 0px'></center>"
   ]
  },
  {
   "cell_type": "markdown",
   "id": "e5c83b44",
   "metadata": {
    "slideshow": {
     "slide_type": "slide"
    }
   },
   "source": [
    "# Example of a `computer` algorithm"
   ]
  },
  {
   "cell_type": "markdown",
   "id": "5074b0b4",
   "metadata": {
    "slideshow": {
     "slide_type": "fragment"
    }
   },
   "source": [
    "<center><img src='img/ca_examples.png' style='height:450px; float: center; margin: 0px 30px 15px 0px'></center>"
   ]
  },
  {
   "cell_type": "markdown",
   "id": "58904e22",
   "metadata": {
    "slideshow": {
     "slide_type": "fragment"
    }
   },
   "source": [
    "## 🤔 Can you think of more examples?"
   ]
  },
  {
   "cell_type": "markdown",
   "id": "1a7d8761",
   "metadata": {
    "slideshow": {
     "slide_type": "fragment"
    }
   },
   "source": [
    "Banks, dating apps, cellphones, etc."
   ]
  },
  {
   "cell_type": "markdown",
   "id": "5a508a57",
   "metadata": {
    "slideshow": {
     "slide_type": "slide"
    }
   },
   "source": [
    "# What is coding?"
   ]
  },
  {
   "cell_type": "markdown",
   "id": "964e51bd",
   "metadata": {
    "slideshow": {
     "slide_type": "fragment"
    }
   },
   "source": [
    "<center><img src='img/cat.gif' style='height:350px; float: center; margin: 0px 30px 15px 0px'></center>"
   ]
  },
  {
   "cell_type": "markdown",
   "id": "3e2a103d",
   "metadata": {
    "slideshow": {
     "slide_type": "fragment"
    }
   },
   "source": [
    "- It's how we communicate with computers to tell them to run algorithms"
   ]
  },
  {
   "cell_type": "markdown",
   "id": "76cfe3e5",
   "metadata": {
    "slideshow": {
     "slide_type": "fragment"
    }
   },
   "source": [
    "- **Anyone can code!** Whatever a computer can do, you can also do it! (A computer just does it faster)"
   ]
  },
  {
   "cell_type": "markdown",
   "id": "006ba21c",
   "metadata": {
    "slideshow": {
     "slide_type": "slide"
    }
   },
   "source": [
    "## In order to be able to communicate, we need to learn languages!\n",
    "\n",
    "<br>\n",
    "<center><img src='img/lang.png' style='height:700px; float: center; margin: 0px 30px 15px 0px'></center>"
   ]
  },
  {
   "cell_type": "markdown",
   "id": "b2424ea9",
   "metadata": {
    "slideshow": {
     "slide_type": "slide"
    }
   },
   "source": [
    "## Tips to learn a language:"
   ]
  },
  {
   "cell_type": "markdown",
   "id": "a18adc4d",
   "metadata": {
    "slideshow": {
     "slide_type": "fragment"
    }
   },
   "source": [
    "- Don't be embarrassed to make mistakes"
   ]
  },
  {
   "cell_type": "markdown",
   "id": "922db012",
   "metadata": {
    "slideshow": {
     "slide_type": "fragment"
    }
   },
   "source": [
    "- Practice the language whenever you can"
   ]
  },
  {
   "cell_type": "markdown",
   "id": "48288860",
   "metadata": {
    "slideshow": {
     "slide_type": "fragment"
    }
   },
   "source": [
    "- Think in your target language"
   ]
  },
  {
   "cell_type": "markdown",
   "id": "c0910fce",
   "metadata": {
    "slideshow": {
     "slide_type": "fragment"
    }
   },
   "source": [
    "- Be patient, but persistent"
   ]
  },
  {
   "cell_type": "markdown",
   "id": "997ca8f6",
   "metadata": {
    "slideshow": {
     "slide_type": "fragment"
    }
   },
   "source": [
    "- Immerse yourself in the language"
   ]
  },
  {
   "cell_type": "markdown",
   "id": "35c9975e",
   "metadata": {
    "slideshow": {
     "slide_type": "fragment"
    }
   },
   "source": [
    "## Same applies to programming languages!"
   ]
  },
  {
   "cell_type": "markdown",
   "id": "aa3f2b28",
   "metadata": {
    "slideshow": {
     "slide_type": "slide"
    }
   },
   "source": [
    "<center><img src='img/prog_langs.jpeg' style='height:800px; float: center; margin: 0px 30px 15px 0px'></center>"
   ]
  },
  {
   "cell_type": "markdown",
   "id": "7f48b631",
   "metadata": {
    "slideshow": {
     "slide_type": "slide"
    }
   },
   "source": [
    "# 🐍 Python\n",
    "\n",
    "<center><img src='img/python.png' style='height:100px; float: center; margin: 0px 30px 15px 0px'></center>\n",
    "\n",
    "- Emphasizes code readability \n",
    "- Widely used for machine learning algorithms"
   ]
  },
  {
   "cell_type": "code",
   "execution_count": null,
   "id": "9a7f9e35",
   "metadata": {
    "slideshow": {
     "slide_type": "slide"
    }
   },
   "outputs": [],
   "source": [
    "fruits = ['apple', 'banana', 'mango', 'pear']\n",
    "\n",
    "for fruit in fruits:\n",
    "    print(fruit.upper())"
   ]
  },
  {
   "cell_type": "markdown",
   "id": "79f3848e",
   "metadata": {
    "slideshow": {
     "slide_type": "slide"
    }
   },
   "source": [
    "<img src='img/girl_coding.jpg' style='height:550px; float: left; margin: 0px 30px 15px 0px'>\n",
    "\n",
    "# Colab Notebook\n",
    "\n",
    "https://colab.research.google.com/"
   ]
  },
  {
   "cell_type": "markdown",
   "id": "8ebc1d25",
   "metadata": {
    "slideshow": {
     "slide_type": "slide"
    }
   },
   "source": [
    "# How do you say \"hello\" in Kirundi?"
   ]
  },
  {
   "cell_type": "markdown",
   "id": "60793ac7",
   "metadata": {
    "slideshow": {
     "slide_type": "slide"
    }
   },
   "source": [
    "# How do you say \"hello\" in Python?"
   ]
  },
  {
   "cell_type": "code",
   "execution_count": null,
   "id": "f201448f",
   "metadata": {
    "slideshow": {
     "slide_type": "fragment"
    }
   },
   "outputs": [],
   "source": [
    "print(\"Hello World\")"
   ]
  }
 ],
 "metadata": {
  "celltoolbar": "Slideshow",
  "kernelspec": {
   "display_name": "Python 3 (ipykernel)",
   "language": "python",
   "name": "python3"
  },
  "language_info": {
   "codemirror_mode": {
    "name": "ipython",
    "version": 3
   },
   "file_extension": ".py",
   "mimetype": "text/x-python",
   "name": "python",
   "nbconvert_exporter": "python",
   "pygments_lexer": "ipython3",
   "version": "3.9.13"
  }
 },
 "nbformat": 4,
 "nbformat_minor": 5
}
