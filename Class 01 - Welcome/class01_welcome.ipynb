{
 "cells": [
  {
   "cell_type": "markdown",
   "id": "a9d62be5",
   "metadata": {
    "slideshow": {
     "slide_type": "slide"
    }
   },
   "source": [
    "<center><img src='images/banner.png' style='width:1000px; float: center; margin: 0px 30px 15px 0px'></center>\n",
    "\n",
    "# Welcome! 🎉\n",
    "# Data Science  Curriculum \n",
    "## Women Building Change scholarship program 2023\n",
    "\n",
    "\n",
    "\n"
   ]
  },
  {
   "cell_type": "markdown",
   "id": "1188afd8",
   "metadata": {
    "slideshow": {
     "slide_type": "slide"
    }
   },
   "source": [
    "# 🚀 Today's agenda\n",
    "\n",
    "- Introducing each other! \n",
    "- Class expectations \n",
    "- Go over the curriculum \n",
    "- What is a data scientist? "
   ]
  },
  {
   "cell_type": "markdown",
   "id": "542b419f",
   "metadata": {
    "slideshow": {
     "slide_type": "slide"
    }
   },
   "source": [
    "# About me\n",
    "<br>\n",
    "<img src='images/viviana.jpg' style='height:550px; float: left; margin: 0px 30px 15px 0px'>\n",
    "\n",
    "👋 Hi! I'm Viviana Marquez\n",
    "<br><small>https://www.linkedin.com/in/vivianamarquez/</small>\n",
    "\n",
    "🎓 MSc. Data Science - *University of San Francisco* <br>\n",
    "🎓 BSc. Mathematics - *Konrad Lorenz University* <br>\n",
    "🎓 A.A. Journalism & Media - *CST* <br>\n",
    "\n",
    "**Currently**: <br>\n",
    "Software Engineer II, Machine Learning @ Dataminr<br>\n",
    "<small>📍 Manhattan, New York</small><br>\n",
    "\n",
    "<br><br>\n",
    "<small>*Previous industry experience*: HBO, Royal Caribbean Cruises, Zimmerman Advertising, TruSTAR Technology</small><br>\n",
    "<small>*Previous teaching experience*: USF, Correlation One, KLU, private classes</small><br>"
   ]
  },
  {
   "cell_type": "markdown",
   "id": "49d541cc",
   "metadata": {
    "slideshow": {
     "slide_type": "slide"
    }
   },
   "source": [
    "<center><img src='images/map.png' style='width:1500px; float: center; margin: 0px 30px 15px 0px'></center>"
   ]
  },
  {
   "cell_type": "markdown",
   "id": "d3ce6cbf",
   "metadata": {
    "slideshow": {
     "slide_type": "slide"
    }
   },
   "source": [
    "# Shakira 🇨🇴\n",
    "\n",
    "Champeta is a Colombian musical genre influenced by African culture\n",
    "\n",
    "https://www.youtube.com/watch?v=aA9swi1thvM&ab_channel=ShakiraIM"
   ]
  },
  {
   "cell_type": "markdown",
   "id": "013ccd4b",
   "metadata": {
    "slideshow": {
     "slide_type": "slide"
    }
   },
   "source": [
    "# Fun facts\n",
    "\n",
    "- There's `11 580` km from Colombia to Burundi \n",
    "- Both are equatorial countries: We don't have strong seasons ~~❄️🌸☀️🍂~~\n",
    "\n"
   ]
  },
  {
   "cell_type": "markdown",
   "id": "86f520c4",
   "metadata": {
    "slideshow": {
     "slide_type": "fragment"
    }
   },
   "source": [
    "## Let's use this space to create friendships across nations and learn data science! 🌎🌍🫶"
   ]
  },
  {
   "cell_type": "markdown",
   "id": "32003674",
   "metadata": {
    "slideshow": {
     "slide_type": "slide"
    }
   },
   "source": [
    "<img src='images/girl_coding.jpg' style='height:550px; float: left; margin: 0px 30px 15px 0px'>\n",
    "\n",
    "# Now tell me about yourself!\n",
    "\n",
    "- Name (how do you like to be called?)\n",
    "- Where are you from? Where are you located? \n",
    "- What languages do you speak?\n",
    "- What did you study/want to study?\n",
    "- Why do you want to learn data science? \n",
    "- Fun fact"
   ]
  },
  {
   "cell_type": "markdown",
   "id": "655f5ecf",
   "metadata": {
    "slideshow": {
     "slide_type": "slide"
    }
   },
   "source": [
    "# Class logistics\n",
    "\n",
    "\n",
    "#### 🗓️ Schedule:\n",
    "Mondays and Fridays 3:00 p.m. - 4:30 p.m. **until March 10th**\n",
    "\n",
    "Classes will be LIVE through Zoom\n",
    "\n",
    "#### Other info:\n",
    "- 5 minute fun fact / 5 minute break\n",
    "- Slides/code will be in [this Github repo](https://github.com/CodeYourDreams/DataScience_Burundi2023)\n",
    "- 🙋🏾‍♀️🙋🏿‍♀️🙋🏽‍♀️ Questions and comments are encouraged! \n",
    "\n",
    "\n",
    "\n"
   ]
  },
  {
   "cell_type": "markdown",
   "id": "14d58057",
   "metadata": {
    "slideshow": {
     "slide_type": "slide"
    }
   },
   "source": [
    "# (tentative) schedule \n",
    "\n",
    "https://docs.google.com/spreadsheets/d/1dFjTYSxrviJ2crVNM-oLtn4QnQ-rLmmrOq9bBgPa-8s/edit?usp=sharing\n"
   ]
  },
  {
   "cell_type": "markdown",
   "id": "16ab2104",
   "metadata": {
    "slideshow": {
     "slide_type": "slide"
    }
   },
   "source": [
    "# So... what is data science? 🤔\n"
   ]
  },
  {
   "cell_type": "markdown",
   "id": "5fc5fcdf",
   "metadata": {
    "slideshow": {
     "slide_type": "slide"
    }
   },
   "source": [
    "# So... what is data ~~science~~? 🤔\n"
   ]
  },
  {
   "cell_type": "markdown",
   "id": "13383daa",
   "metadata": {
    "slideshow": {
     "slide_type": "slide"
    }
   },
   "source": [
    "<center><img src='images/scribe.jpeg' style='height:550px;'></center>"
   ]
  },
  {
   "cell_type": "markdown",
   "id": "5c427503",
   "metadata": {
    "slideshow": {
     "slide_type": "fragment"
    }
   },
   "source": [
    "- I present to you: **scribes**. People from ancient civilizations who specialized in writing and reading."
   ]
  },
  {
   "cell_type": "markdown",
   "id": "70245927",
   "metadata": {
    "slideshow": {
     "slide_type": "slide"
    }
   },
   "source": [
    "<center><img src='images/everyminute.png' style='height:700px;'></center>"
   ]
  },
  {
   "cell_type": "markdown",
   "id": "832bdf88",
   "metadata": {
    "slideshow": {
     "slide_type": "fragment"
    }
   },
   "source": [
    "- Data literacy is the new literacy. Those who are able to read, write, and communicate data are modern scribes. "
   ]
  },
  {
   "cell_type": "markdown",
   "id": "a5dea4dd",
   "metadata": {
    "slideshow": {
     "slide_type": "fragment"
    }
   },
   "source": [
    "- People with data literacy skills can find better jobs, be more  informed citizens, and make better decisions."
   ]
  },
  {
   "cell_type": "markdown",
   "id": "a657a021",
   "metadata": {
    "slideshow": {
     "slide_type": "slide"
    }
   },
   "source": [
    "# Data science... a career path for everyone!\n",
    "\n",
    "<br>\n",
    "\n",
    "<center><img src='images/sf.jpg' style='height:550px'></center>\n",
    "\n",
    "<br>\n",
    "\n",
    "* When I joined my master's program, it had a different name \n",
    "\n"
   ]
  },
  {
   "cell_type": "markdown",
   "id": "b9d97ff1",
   "metadata": {
    "slideshow": {
     "slide_type": "slide"
    }
   },
   "source": [
    "# 🤔 What does a data scientist do?"
   ]
  },
  {
   "cell_type": "markdown",
   "id": "9669393c",
   "metadata": {
    "slideshow": {
     "slide_type": "fragment"
    }
   },
   "source": [
    "<center><img src='images/dsmeme.png' style='height:400px;'></center> \n",
    "\n",
    "• Easy answer: EVERYTHING!\n",
    "    \n",
    "• Long answer: It depends on the job\n",
    "\n"
   ]
  },
  {
   "cell_type": "markdown",
   "id": "d9d9ee50",
   "metadata": {
    "slideshow": {
     "slide_type": "slide"
    }
   },
   "source": [
    "<hr>\n",
    "\n",
    "<center>🏆 Winning formula:</center><br>\n",
    "\n",
    "<center><b>Mathematics + Coding + Communication + Domain Expertise</b></center>\n",
    "\n",
    "<hr>"
   ]
  },
  {
   "cell_type": "markdown",
   "id": "a3d66637",
   "metadata": {
    "slideshow": {
     "slide_type": "slide"
    }
   },
   "source": [
    "# 🤔 What does a data scientist do?\n",
    "\n",
    "<br>\n",
    "\n",
    "### Example: https://tweetfeed.live/\n",
    "\n",
    "### Example: https://twitter.com/nyt_first_said\n",
    "\n",
    "### Example: https://coronavirus.jhu.edu/map.html\n",
    "\n",
    "### Example: https://eodashboard.org/?poi=W4-N2&indicator=N2"
   ]
  },
  {
   "cell_type": "markdown",
   "id": "7fd8dcb6",
   "metadata": {
    "slideshow": {
     "slide_type": "fragment"
    }
   },
   "source": [
    "⚠️ Data is the new oil, we must take advantage of it"
   ]
  },
  {
   "cell_type": "markdown",
   "id": "f27dde80",
   "metadata": {
    "slideshow": {
     "slide_type": "slide"
    }
   },
   "source": [
    "# 🤔 Why be a data scientist?"
   ]
  },
  {
   "cell_type": "markdown",
   "id": "847017cb",
   "metadata": {
    "slideshow": {
     "slide_type": "fragment"
    }
   },
   "source": [
    "- It sounds cool 😎\n",
    "- Very good salary $$$ and many job opportunities 🤑\n",
    "- Ease of switching industries 🦄\n",
    "- Learn many skills! 🔥"
   ]
  },
  {
   "cell_type": "markdown",
   "id": "1351e5aa",
   "metadata": {
    "slideshow": {
     "slide_type": "slide"
    }
   },
   "source": [
    "<center><img src='images/bob.jpeg' style='height:400px;'></center> "
   ]
  },
  {
   "cell_type": "markdown",
   "id": "52a5e33a",
   "metadata": {
    "slideshow": {
     "slide_type": "fragment"
    }
   },
   "source": [
    "A data scientist carries its toolbox to solve data problems!\n",
    "\n",
    "By the end of this program, you will have your very own toolbox too!"
   ]
  },
  {
   "cell_type": "markdown",
   "id": "f4bc66c0",
   "metadata": {
    "slideshow": {
     "slide_type": "slide"
    }
   },
   "source": [
    "# Questions?"
   ]
  },
  {
   "cell_type": "markdown",
   "id": "1f6feab7",
   "metadata": {
    "slideshow": {
     "slide_type": "fragment"
    }
   },
   "source": [
    "# What would you like to learn during this program?"
   ]
  },
  {
   "cell_type": "markdown",
   "id": "1f99cf54",
   "metadata": {
    "slideshow": {
     "slide_type": "slide"
    }
   },
   "source": [
    "<center><img src='images/bye.gif' style='height:250px;'></center> \n",
    "\n",
    "# Please answer the following form\n",
    "\n",
    "https://forms.gle/UkAbz1bRRXiRwDUb6"
   ]
  }
 ],
 "metadata": {
  "celltoolbar": "Slideshow",
  "kernelspec": {
   "display_name": "Python 3 (ipykernel)",
   "language": "python",
   "name": "python3"
  },
  "language_info": {
   "codemirror_mode": {
    "name": "ipython",
    "version": 3
   },
   "file_extension": ".py",
   "mimetype": "text/x-python",
   "name": "python",
   "nbconvert_exporter": "python",
   "pygments_lexer": "ipython3",
   "version": "3.9.13"
  }
 },
 "nbformat": 4,
 "nbformat_minor": 5
}
