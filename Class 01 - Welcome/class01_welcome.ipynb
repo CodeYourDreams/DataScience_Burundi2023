{
 "cells": [
  {
   "cell_type": "markdown",
   "id": "50bba693",
   "metadata": {
    "slideshow": {
     "slide_type": "slide"
    }
   },
   "source": [
    "<center><img src='images/banner.png' style='width:1000px; float: center; margin: 0px 30px 15px 0px'></center>\n",
    "\n",
    "# Welcome! 🎉\n",
    "# Data Science  Curriculum \n",
    "## Women Building Change scholarship program 2023\n",
    "\n",
    "\n",
    "\n"
   ]
  },
  {
   "cell_type": "markdown",
   "id": "909b450f",
   "metadata": {
    "slideshow": {
     "slide_type": "slide"
    }
   },
   "source": [
    "# 🚀 Today's agenda\n",
    "\n",
    "- Introducing each other! \n",
    "- Class expectations \n",
    "- Go over the curriculum \n",
    "- What is a data scientist? "
   ]
  },
  {
   "cell_type": "markdown",
   "id": "e5b0da9f",
   "metadata": {
    "slideshow": {
     "slide_type": "slide"
    }
   },
   "source": [
    "# About me\n",
    "<br>\n",
    "<img src='images/viviana.jpg' style='height:550px; float: left; margin: 0px 30px 15px 0px'>\n",
    "\n",
    "👋 Hi! I'm Viviana Marquez\n",
    "<br><small>https://www.linkedin.com/in/vivianamarquez/</small>\n",
    "\n",
    "🎓 MSc. Data Science - *University of San Francisco* <br>\n",
    "🎓 BSc. Mathematics - *Konrad Lorenz University* <br>\n",
    "🎓 A.A. Journalism & Media - *CST* <br>\n",
    "\n",
    "**Currently**: <br>\n",
    "Software Engineer II, Machine Learning @ Dataminr<br>\n",
    "<small>📍 Manhattan, New York</small><br>\n",
    "\n",
    "<br><br>\n",
    "<small>*Previous industry experience*: HBO, Royal Caribbean Cruises, Zimmerman Advertising, TruSTAR Technology</small><br>\n",
    "<small>*Previous teaching experience*: USF, Correlation One, KLU, private classes</small><br>"
   ]
  },
  {
   "cell_type": "markdown",
   "id": "371c14e5",
   "metadata": {
    "slideshow": {
     "slide_type": "slide"
    }
   },
   "source": [
    "<center><img src='images/map.png' style='width:1500px; float: center; margin: 0px 30px 15px 0px'></center>"
   ]
  },
  {
   "cell_type": "markdown",
   "id": "9c1d3345",
   "metadata": {
    "slideshow": {
     "slide_type": "slide"
    }
   },
   "source": [
    "# Shakira 🇨🇴\n",
    "\n",
    "Champeta is a Colombian musical genre influenced by African culture\n",
    "\n",
    "https://www.youtube.com/watch?v=aA9swi1thvM&ab_channel=ShakiraIM"
   ]
  },
  {
   "cell_type": "markdown",
   "id": "694c242f",
   "metadata": {
    "slideshow": {
     "slide_type": "slide"
    }
   },
   "source": [
    "# Fun facts\n",
    "\n",
    "- There's `11 580` km from Colombia to Burundi \n",
    "- Both are equatorial countries: We don't have strong seasons ~~❄️🌸☀️🍂~~\n",
    "\n"
   ]
  },
  {
   "cell_type": "markdown",
   "id": "b202642c",
   "metadata": {
    "slideshow": {
     "slide_type": "fragment"
    }
   },
   "source": [
    "## Let's use this space to create friendships across nations and learn data science! 🌎🌍🫶"
   ]
  },
  {
   "cell_type": "markdown",
   "id": "b973fc18",
   "metadata": {
    "slideshow": {
     "slide_type": "slide"
    }
   },
   "source": [
    "<img src='images/girl_coding.jpg' style='height:550px; float: left; margin: 0px 30px 15px 0px'>\n",
    "\n",
    "# Now tell me about yourself!\n",
    "\n",
    "- Name (how do you like to be called?)\n",
    "- Where are you from? Where are you located? \n",
    "- What did you study/want to study?\n",
    "- Why do you want to learn data science? \n",
    "- Fun fact"
   ]
  },
  {
   "cell_type": "markdown",
   "id": "98b57156",
   "metadata": {
    "slideshow": {
     "slide_type": "slide"
    }
   },
   "source": [
    "# Class logistics\n",
    "\n",
    "\n",
    "#### 🗓️ Schedule:\n",
    "Mondays and Fridays 3:00 p.m. - 4:30 p.m. **until March 10th**\n",
    "\n",
    "Classes will be LIVE through Zoom\n",
    "\n",
    "#### Other info:\n",
    "- 5 minute fun fact / 5 minute break\n",
    "- Slides/code will be in [this Github repo](https://github.com/CodeYourDreams/DataScience_Burundi2023)\n",
    "- 🙋🏾‍♀️🙋🏿‍♀️🙋🏽‍♀️ Questions and comments are encouraged! \n",
    "\n",
    "\n",
    "\n"
   ]
  },
  {
   "cell_type": "markdown",
   "id": "45e2f9b8",
   "metadata": {
    "slideshow": {
     "slide_type": "slide"
    }
   },
   "source": [
    "# (tentative) schedule \n",
    "\n",
    "https://docs.google.com/spreadsheets/d/1dFjTYSxrviJ2crVNM-oLtn4QnQ-rLmmrOq9bBgPa-8s/edit?usp=sharing\n"
   ]
  },
  {
   "cell_type": "markdown",
   "id": "635d4957",
   "metadata": {
    "slideshow": {
     "slide_type": "slide"
    }
   },
   "source": [
    "# Please answer the following form\n",
    "\n",
    "https://forms.gle/UkAbz1bRRXiRwDUb6"
   ]
  },
  {
   "cell_type": "code",
   "execution_count": null,
   "id": "ca81c96c",
   "metadata": {},
   "outputs": [],
   "source": []
  }
 ],
 "metadata": {
  "celltoolbar": "Slideshow",
  "kernelspec": {
   "display_name": "Python 3",
   "language": "python",
   "name": "python3"
  },
  "language_info": {
   "codemirror_mode": {
    "name": "ipython",
    "version": 3
   },
   "file_extension": ".py",
   "mimetype": "text/x-python",
   "name": "python",
   "nbconvert_exporter": "python",
   "pygments_lexer": "ipython3",
   "version": "3.7.4"
  }
 },
 "nbformat": 4,
 "nbformat_minor": 5
}
