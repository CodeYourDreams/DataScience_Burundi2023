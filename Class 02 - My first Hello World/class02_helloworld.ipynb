{
 "cells": [
  {
   "cell_type": "markdown",
   "id": "674ac2a7",
   "metadata": {
    "slideshow": {
     "slide_type": "slide"
    }
   },
   "source": [
    "https://www.youtube.com/watch?v=U6JBZNAkp24&ab_channel=DiamondPlatnumz"
   ]
  },
  {
   "cell_type": "markdown",
   "id": "843e46f7",
   "metadata": {
    "slideshow": {
     "slide_type": "slide"
    }
   },
   "source": [
    "<center><img src='img/cdy.png' style='width:500px; float: left; margin: 0px 30px 15px 0px'></center>\n",
    "\n",
    "# My first `Hello World`\n",
    "## Class 2 - Data Science  Curriculum \n",
    "\n",
    "<br>\n",
    "\n",
    "#### Women Building Change scholarship program 2023 🇧🇮\n",
    "February 17, 2023\n",
    "\n",
    "\n",
    "\n"
   ]
  },
  {
   "cell_type": "markdown",
   "id": "79f3848e",
   "metadata": {
    "slideshow": {
     "slide_type": "slide"
    }
   },
   "source": [
    "<img src='img/girl_coding.jpg' style='height:550px; float: left; margin: 0px 30px 15px 0px'>\n",
    "\n",
    "# Recap last class\n",
    "\n",
    "- Introduced each other \n",
    "- Class expectations [(slides)](https://github.com/CodeYourDreams/DataScience_Burundi2023)\n",
    "- Went over the curriculum [(Link)](https://docs.google.com/spreadsheets/d/1dFjTYSxrviJ2crVNM-oLtn4QnQ-rLmmrOq9bBgPa-8s/edit#gid=496924819)\n",
    "- What is a data scientist? \n",
    "\n",
    "# ⚠️ Tell me about yourself: [format](https://docs.google.com/forms/d/e/1FAIpQLSf00a7KCdg4uPcXtJZEvxJrswjzzzsQEW33B-dil_EUdF83eQ/viewform)"
   ]
  },
  {
   "cell_type": "markdown",
   "id": "82476939",
   "metadata": {
    "slideshow": {
     "slide_type": "slide"
    }
   },
   "source": [
    "# 🚀 Today's agenda\n",
    "\n",
    "- What is an algorithm?\n",
    "- What is coding? \n",
    "- What is Python?\n",
    "- Technical tools: Python, Jupyter Notebooks, Google Collab\n",
    "- `Hello World`"
   ]
  },
  {
   "cell_type": "markdown",
   "id": "cb08d92e",
   "metadata": {
    "slideshow": {
     "slide_type": "slide"
    }
   },
   "source": [
    "# What is an algorithm?"
   ]
  },
  {
   "cell_type": "markdown",
   "id": "b73a9e93",
   "metadata": {
    "slideshow": {
     "slide_type": "slide"
    }
   },
   "source": [
    "# How to cook Ibiharage (beans)?\n",
    "\n",
    "<br>\n",
    "<center><img src='img/Ibiharage.webp' style='height:550px;'></center>"
   ]
  },
  {
   "cell_type": "markdown",
   "id": "aad04c10",
   "metadata": {
    "slideshow": {
     "slide_type": "slide"
    }
   },
   "source": [
    "# How to cook Ajiaco?\n",
    "\n",
    "<br>\n",
    "<center><img src='img/ajiaco.png' style='height:300px; float: center; margin: 0px 30px 15px 0px'></center>"
   ]
  },
  {
   "cell_type": "markdown",
   "id": "80db3929",
   "metadata": {
    "slideshow": {
     "slide_type": "fragment"
    }
   },
   "source": [
    "Instructions:\n",
    "- Boil chicken, chicken broth, and water in a pot.\n",
    "- Remove chicken and shred meat from bones.\n",
    "- Add shredded chicken, potatoes, cilantro, and corn to the pot and simmer.\n",
    "- Stir in heavy cream and season with salt and pepper to taste."
   ]
  },
  {
   "cell_type": "markdown",
   "id": "7d5c3881",
   "metadata": {
    "slideshow": {
     "slide_type": "slide"
    }
   },
   "source": [
    "# An algorithm is a set of instructions "
   ]
  },
  {
   "cell_type": "markdown",
   "id": "02f99a46",
   "metadata": {
    "slideshow": {
     "slide_type": "fragment"
    }
   },
   "source": [
    "## 🤔 What other algorithms can you think of? "
   ]
  },
  {
   "cell_type": "markdown",
   "id": "1ee48428",
   "metadata": {
    "slideshow": {
     "slide_type": "slide"
    }
   },
   "source": [
    "# What is a `computer` algorithm?"
   ]
  },
  {
   "cell_type": "markdown",
   "id": "3ecdd6f6",
   "metadata": {
    "slideshow": {
     "slide_type": "fragment"
    }
   },
   "source": [
    "A set of instructions that enable a computer program to generate a result "
   ]
  },
  {
   "cell_type": "markdown",
   "id": "8ca2aa37",
   "metadata": {
    "slideshow": {
     "slide_type": "fragment"
    }
   },
   "source": [
    "<center><img src='img/computer_algorithm.png' style='height:300px; float: center; margin: 0px 30px 15px 0px'></center>"
   ]
  },
  {
   "cell_type": "markdown",
   "id": "e5c83b44",
   "metadata": {
    "slideshow": {
     "slide_type": "slide"
    }
   },
   "source": [
    "# Example of a `computer` algorithm"
   ]
  },
  {
   "cell_type": "markdown",
   "id": "5074b0b4",
   "metadata": {
    "slideshow": {
     "slide_type": "fragment"
    }
   },
   "source": [
    "<center><img src='img/ca_examples.png' style='height:450px; float: center; margin: 0px 30px 15px 0px'></center>"
   ]
  },
  {
   "cell_type": "markdown",
   "id": "58904e22",
   "metadata": {
    "slideshow": {
     "slide_type": "fragment"
    }
   },
   "source": [
    "## 🤔 Can you think of more examples?"
   ]
  },
  {
   "cell_type": "markdown",
   "id": "1a7d8761",
   "metadata": {
    "slideshow": {
     "slide_type": "fragment"
    }
   },
   "source": [
    "Banks, dating apps, cellphones, etc."
   ]
  },
  {
   "cell_type": "markdown",
   "id": "5a508a57",
   "metadata": {
    "slideshow": {
     "slide_type": "slide"
    }
   },
   "source": [
    "# What is coding?"
   ]
  },
  {
   "cell_type": "markdown",
   "id": "964e51bd",
   "metadata": {
    "slideshow": {
     "slide_type": "fragment"
    }
   },
   "source": [
    "<center><img src='img/cat.gif' style='height:350px; float: center; margin: 0px 30px 15px 0px'></center>"
   ]
  },
  {
   "cell_type": "markdown",
   "id": "e6a22c0c",
   "metadata": {
    "slideshow": {
     "slide_type": "fragment"
    }
   },
   "source": [
    "- It's how we communicate with computers to tell them to run algorithms"
   ]
  },
  {
   "cell_type": "markdown",
   "id": "e57a9205",
   "metadata": {
    "slideshow": {
     "slide_type": "fragment"
    }
   },
   "source": [
    "- **Anyone can code!** Whatever a computer can do, you can also do it! (A computer just does it faster)"
   ]
  },
  {
   "cell_type": "markdown",
   "id": "e07e9eba",
   "metadata": {
    "slideshow": {
     "slide_type": "slide"
    }
   },
   "source": [
    "## In order to be able to communicate, we need to learn languages!\n",
    "\n",
    "<br>\n",
    "<center><img src='img/lang.png' style='height:700px; float: center; margin: 0px 30px 15px 0px'></center>"
   ]
  },
  {
   "cell_type": "markdown",
   "id": "910dde44",
   "metadata": {
    "slideshow": {
     "slide_type": "slide"
    }
   },
   "source": [
    "## Tips to learn a language:"
   ]
  },
  {
   "cell_type": "markdown",
   "id": "65c54ba0",
   "metadata": {
    "slideshow": {
     "slide_type": "fragment"
    }
   },
   "source": [
    "- Don't be embarrassed to make mistakes"
   ]
  },
  {
   "cell_type": "markdown",
   "id": "6d3c559a",
   "metadata": {
    "slideshow": {
     "slide_type": "fragment"
    }
   },
   "source": [
    "- Practice the language whenever you can"
   ]
  },
  {
   "cell_type": "markdown",
   "id": "65a317d4",
   "metadata": {
    "slideshow": {
     "slide_type": "fragment"
    }
   },
   "source": [
    "- Think in your target language"
   ]
  },
  {
   "cell_type": "markdown",
   "id": "f6048c24",
   "metadata": {
    "slideshow": {
     "slide_type": "fragment"
    }
   },
   "source": [
    "- Be patient, but persistent"
   ]
  },
  {
   "cell_type": "markdown",
   "id": "4e201c8c",
   "metadata": {
    "slideshow": {
     "slide_type": "fragment"
    }
   },
   "source": [
    "- Immerse yourself in the language"
   ]
  },
  {
   "cell_type": "markdown",
   "id": "ef06398c",
   "metadata": {
    "slideshow": {
     "slide_type": "fragment"
    }
   },
   "source": [
    "## Same applies to programming languages!"
   ]
  },
  {
   "cell_type": "markdown",
   "id": "bc869001",
   "metadata": {
    "slideshow": {
     "slide_type": "slide"
    }
   },
   "source": [
    "<center><img src='img/prog_langs.jpeg' style='height:800px; float: center; margin: 0px 30px 15px 0px'></center>"
   ]
  },
  {
   "cell_type": "markdown",
   "id": "f84f9150",
   "metadata": {
    "slideshow": {
     "slide_type": "slide"
    }
   },
   "source": [
    "# 🐍 Python\n",
    "\n",
    "<center><img src='img/python.png' style='height:100px; float: center; margin: 0px 30px 15px 0px'></center>\n",
    "\n",
    "- Emphasizes code readability \n",
    "- Widely used for machine learning algorithms"
   ]
  },
  {
   "cell_type": "markdown",
   "id": "f7625490",
   "metadata": {
    "slideshow": {
     "slide_type": "slide"
    }
   },
   "source": [
    "# How to install Python?\n",
    "\n",
    "Anaconda distribution: [Link](https://www.anaconda.com/products/distribution)"
   ]
  },
  {
   "cell_type": "markdown",
   "id": "bfb7392b",
   "metadata": {
    "slideshow": {
     "slide_type": "slide"
    }
   },
   "source": [
    "# File types: `.py` vs `.ipynb`\n",
    "\n",
    "- `.ipynb`: Jupyter Notebook file, you need to have installed Jupyter Notebooks.\n",
    "- `.py`: Script file. They run in the terminal. Can be used for production. You can create them in a code editor (I recommend Visual Studio Code)."
   ]
  },
  {
   "cell_type": "markdown",
   "id": "baca38f2",
   "metadata": {
    "slideshow": {
     "slide_type": "slide"
    }
   },
   "source": [
    "- Step 1: Open `Anaconda Power Shell`\n",
    "- Step 2 (optional): Type `python --version`\n",
    "- Step 3: Type `jupyter notebook`"
   ]
  },
  {
   "cell_type": "markdown",
   "id": "0d7fdae5",
   "metadata": {
    "slideshow": {
     "slide_type": "slide"
    }
   },
   "source": [
    "# 😱 What if my computer can't open Python?\n",
    "\n",
    "<center><img src='img/superhero.gif' style='height:350px; float: center; margin: 0px 30px 15px 0px'></center>\n",
    "\n"
   ]
  },
  {
   "cell_type": "markdown",
   "id": "3aa55110",
   "metadata": {
    "slideshow": {
     "slide_type": "fragment"
    }
   },
   "source": [
    "Use Google Colab: https://colab.research.google.com/"
   ]
  },
  {
   "cell_type": "markdown",
   "id": "b1321e29",
   "metadata": {
    "slideshow": {
     "slide_type": "slide"
    }
   },
   "source": [
    "# How do you say \"hello\" in Kirundi or Swahili?"
   ]
  },
  {
   "cell_type": "markdown",
   "id": "9b15948a",
   "metadata": {
    "slideshow": {
     "slide_type": "slide"
    }
   },
   "source": [
    "# `Hello World`"
   ]
  },
  {
   "cell_type": "markdown",
   "id": "44aa29f4",
   "metadata": {
    "slideshow": {
     "slide_type": "slide"
    }
   },
   "source": [
    "# ⏪ Today's recap\n",
    "\n",
    "- What is an algorithm?\n",
    "- What is coding? \n",
    "- What is Python?\n",
    "- Technical tools: Python, Jupyter Notebooks, Google Collab\n",
    "- `Hello World`"
   ]
  },
  {
   "cell_type": "markdown",
   "id": "c3c47662",
   "metadata": {
    "slideshow": {
     "slide_type": "slide"
    }
   },
   "source": [
    "<center><img src='img/bye.gif' style='height:250px;'></center> \n",
    "\n",
    "# Next class: Python: Variables and Datatypes\n",
    "# See you next Monday!"
   ]
  }
 ],
 "metadata": {
  "celltoolbar": "Slideshow",
  "kernelspec": {
   "display_name": "Python 3",
   "language": "python",
   "name": "python3"
  },
  "language_info": {
   "codemirror_mode": {
    "name": "ipython",
    "version": 3
   },
   "file_extension": ".py",
   "mimetype": "text/x-python",
   "name": "python",
   "nbconvert_exporter": "python",
   "pygments_lexer": "ipython3",
   "version": "3.7.4"
  }
 },
 "nbformat": 4,
 "nbformat_minor": 5
}
