{
 "cells": [
  {
   "cell_type": "markdown",
   "id": "674ac2a7",
   "metadata": {
    "slideshow": {
     "slide_type": "slide"
    }
   },
   "source": [
    "# We'll start at 3:05 PM\n",
    "https://www.youtube.com/watch?v=rnOtac0Q0u4&ab_channel=LETRASRD"
   ]
  },
  {
   "cell_type": "markdown",
   "id": "843e46f7",
   "metadata": {
    "slideshow": {
     "slide_type": "slide"
    }
   },
   "source": [
    "<center><img src='img/cdy.png' style='width:500px; float: left; margin: 0px 30px 15px 0px'></center>\n",
    "\n",
    "# Data Structures\n",
    "## Class 7 - Data Science Curriculum \n",
    "\n",
    "<br>\n",
    "\n",
    "#### Women Building Change scholarship program 2023 🇧🇮\n",
    "March 10, 2023\n",
    "\n",
    "\n",
    "\n"
   ]
  },
  {
   "cell_type": "markdown",
   "id": "79f3848e",
   "metadata": {
    "slideshow": {
     "slide_type": "slide"
    }
   },
   "source": [
    "<center><img src='img/clock.gif' style='width:500px; float: left; margin: 0px 30px 15px 0px'></center>\n",
    "\n",
    "# Daylight saving time in the US! \n",
    "\n",
    "# ⚠️⚠️⚠️ Classes now are going to start at 2 PM ⚠️⚠️⚠️ \n",
    "\n",
    "Daylight Saving Time is most helpful to those who live farther from the equator, where daylight hours are much longer in the summer than in the winter."
   ]
  },
  {
   "cell_type": "markdown",
   "id": "48500da2",
   "metadata": {
    "slideshow": {
     "slide_type": "slide"
    }
   },
   "source": [
    "# Recap last class\n",
    "\n",
    "- Strings"
   ]
  },
  {
   "cell_type": "markdown",
   "id": "82476939",
   "metadata": {
    "slideshow": {
     "slide_type": "slide"
    }
   },
   "source": [
    "# 🚀 Today's agenda\n",
    "\n",
    "#### Data Structures\n",
    "\n",
    "- Lists\n",
    "- Tuples\n",
    "- Sets\n",
    "- Dictionaries\n"
   ]
  },
  {
   "cell_type": "markdown",
   "id": "d7c97442",
   "metadata": {
    "slideshow": {
     "slide_type": "slide"
    }
   },
   "source": [
    "# Google Colab: https://colab.research.google.com/\n",
    "\n",
    "<br>\n",
    "<center><img src='img/superhero.gif' style='height:350px; float: center; margin: 0px 30px 15px 0px'></center>\n",
    "\n"
   ]
  },
  {
   "cell_type": "markdown",
   "id": "492c1614",
   "metadata": {
    "slideshow": {
     "slide_type": "slide"
    }
   },
   "source": [
    "# Warm-up exercise "
   ]
  },
  {
   "cell_type": "code",
   "execution_count": 1,
   "id": "b264c8e3",
   "metadata": {
    "slideshow": {
     "slide_type": "fragment"
    }
   },
   "outputs": [],
   "source": [
    "full_name = \"Diane Nukuri\""
   ]
  },
  {
   "cell_type": "markdown",
   "id": "b3cd81a4",
   "metadata": {
    "slideshow": {
     "slide_type": "fragment"
    }
   },
   "source": [
    "1. What data type is `full_name`? \n",
    "2. Using indexing, print the first letter of the first name\n",
    "3. Using indexing, print the last letter of the first name\n",
    "4. Using splicing, print the last name "
   ]
  },
  {
   "cell_type": "code",
   "execution_count": null,
   "id": "a9a5219a",
   "metadata": {
    "slideshow": {
     "slide_type": "fragment"
    }
   },
   "outputs": [],
   "source": [
    "print(full_name[0])\n",
    "print(full_name[4])\n",
    "print(full_name[6:])"
   ]
  },
  {
   "cell_type": "markdown",
   "id": "9592ff00",
   "metadata": {
    "slideshow": {
     "slide_type": "slide"
    }
   },
   "source": [
    "# Data Structures"
   ]
  },
  {
   "cell_type": "markdown",
   "id": "91ab2ad5",
   "metadata": {
    "slideshow": {
     "slide_type": "fragment"
    }
   },
   "source": [
    "- Data structures are code structures for storing and organizing data that make it easier to modify, navigate, and access information."
   ]
  },
  {
   "cell_type": "markdown",
   "id": "e16fb9ab",
   "metadata": {
    "slideshow": {
     "slide_type": "fragment"
    }
   },
   "source": [
    "- Python has 4 built-in data structures: lists, dictionaries, tuples, and sets."
   ]
  },
  {
   "cell_type": "markdown",
   "id": "4142a752",
   "metadata": {
    "slideshow": {
     "slide_type": "slide"
    }
   },
   "source": [
    "# Lists\n",
    "\n",
    "<center><img src='img/list.png' style='height:250px; float: center; margin: 0px 30px 15px 0px'></center>"
   ]
  },
  {
   "cell_type": "markdown",
   "id": "0b607502",
   "metadata": {
    "slideshow": {
     "slide_type": "fragment"
    }
   },
   "source": [
    "- Mutable - It can change!\n",
    "- Declare it with square brackets `[ ]`\n",
    "- Each value in a list is called an element"
   ]
  },
  {
   "cell_type": "markdown",
   "id": "34479384",
   "metadata": {
    "slideshow": {
     "slide_type": "slide"
    }
   },
   "source": [
    "#### Code example"
   ]
  },
  {
   "cell_type": "code",
   "execution_count": 19,
   "id": "f95461b7",
   "metadata": {
    "slideshow": {
     "slide_type": "fragment"
    }
   },
   "outputs": [
    {
     "name": "stdout",
     "output_type": "stream",
     "text": [
      "3\n",
      "Toyota\n"
     ]
    }
   ],
   "source": [
    "cars = [\"Toyota\", \"Tesla\", \"Hyundai\"]\n",
    "print(len(cars))\n",
    "print(cars[0])\n",
    "cars.append(\"Honda\")\n",
    "cars[2] = \"Ford\""
   ]
  },
  {
   "cell_type": "markdown",
   "id": "b0864cba",
   "metadata": {
    "slideshow": {
     "slide_type": "slide"
    }
   },
   "source": [
    "#### What can go inside lists?"
   ]
  },
  {
   "cell_type": "markdown",
   "id": "d794b2f7",
   "metadata": {
    "slideshow": {
     "slide_type": "fragment"
    }
   },
   "source": [
    "All data types!\n",
    "- Integers `[1, 2, 3]`\n",
    "- Floats `[0.5, 0.333, 3.14]`\n",
    "- Strings `[\"Burundi\", \"Colombia\", \"USA\"]`\n",
    "- Booleans `[True, False`]\n",
    "- Other lists `[[1,2], [2,3]]`\n",
    "- Mixed lists `[1,\"Hello\"]`"
   ]
  },
  {
   "cell_type": "markdown",
   "id": "dd4d0663",
   "metadata": {
    "slideshow": {
     "slide_type": "slide"
    }
   },
   "source": [
    "#### Deleting elements in a list\n",
    "\n",
    "<br>\n",
    "<center><img src='img/remove_pop.png' style='height:450px; float: center; margin: 0px 30px 15px 0px'></center>"
   ]
  },
  {
   "cell_type": "markdown",
   "id": "ea945c98",
   "metadata": {
    "slideshow": {
     "slide_type": "slide"
    }
   },
   "source": [
    "#### Other List operations\n",
    "\n",
    "- `in`\n",
    "- `.sort()`"
   ]
  },
  {
   "cell_type": "markdown",
   "id": "28d23df6",
   "metadata": {
    "slideshow": {
     "slide_type": "slide"
    }
   },
   "source": [
    "# Break for 5 min. See you @ 3:54 PM"
   ]
  },
  {
   "cell_type": "markdown",
   "id": "b4154803",
   "metadata": {
    "slideshow": {
     "slide_type": "slide"
    }
   },
   "source": [
    "# Tuples"
   ]
  },
  {
   "cell_type": "markdown",
   "id": "8208b802",
   "metadata": {
    "slideshow": {
     "slide_type": "fragment"
    }
   },
   "source": [
    "It's like a list but with two differences:\n",
    "\n",
    "- It's not mutable\n",
    "    - Can't append elements\n",
    "    - Can't delete elements\n",
    "    - Can't modify elements\n",
    "- Declare it with parenthesis `( )`"
   ]
  },
  {
   "cell_type": "markdown",
   "id": "285ab755",
   "metadata": {
    "slideshow": {
     "slide_type": "slide"
    }
   },
   "source": [
    "#### Code example"
   ]
  },
  {
   "cell_type": "code",
   "execution_count": 20,
   "id": "e16a9952",
   "metadata": {
    "slideshow": {
     "slide_type": "fragment"
    }
   },
   "outputs": [
    {
     "ename": "TypeError",
     "evalue": "'tuple' object does not support item assignment",
     "output_type": "error",
     "traceback": [
      "\u001b[0;31m---------------------------------------------------------------------------\u001b[0m",
      "\u001b[0;31mTypeError\u001b[0m                                 Traceback (most recent call last)",
      "\u001b[0;32m/var/folders/n7/q93jwpcs6jndz6qqvj4mhtcm0000gn/T/ipykernel_35707/1595727006.py\u001b[0m in \u001b[0;36m<module>\u001b[0;34m\u001b[0m\n\u001b[1;32m      1\u001b[0m \u001b[0mfast_food\u001b[0m \u001b[0;34m=\u001b[0m \u001b[0;34m(\u001b[0m\u001b[0;34m\"pizza\"\u001b[0m\u001b[0;34m,\u001b[0m \u001b[0;34m\"hamburger\"\u001b[0m\u001b[0;34m)\u001b[0m\u001b[0;34m\u001b[0m\u001b[0;34m\u001b[0m\u001b[0m\n\u001b[0;32m----> 2\u001b[0;31m \u001b[0mfast_food\u001b[0m\u001b[0;34m[\u001b[0m\u001b[0;36m0\u001b[0m\u001b[0;34m]\u001b[0m \u001b[0;34m=\u001b[0m \u001b[0;34m\"fries\"\u001b[0m\u001b[0;34m\u001b[0m\u001b[0;34m\u001b[0m\u001b[0m\n\u001b[0m",
      "\u001b[0;31mTypeError\u001b[0m: 'tuple' object does not support item assignment"
     ]
    }
   ],
   "source": [
    "fast_food = (\"pizza\", \"hamburger\")\n",
    "fast_food[0] = \"fries\""
   ]
  },
  {
   "cell_type": "markdown",
   "id": "b49e6790",
   "metadata": {
    "slideshow": {
     "slide_type": "slide"
    }
   },
   "source": [
    "#### Advantages"
   ]
  },
  {
   "cell_type": "markdown",
   "id": "11d8fb1d",
   "metadata": {
    "slideshow": {
     "slide_type": "fragment"
    }
   },
   "source": [
    "- Tuples are faster than lists because they're not dynamic\n",
    "- It makes your code safer if you “write-protect” data that does not need to be changed."
   ]
  },
  {
   "cell_type": "markdown",
   "id": "8efcdfa8",
   "metadata": {
    "slideshow": {
     "slide_type": "slide"
    }
   },
   "source": [
    "# Sets"
   ]
  },
  {
   "cell_type": "markdown",
   "id": "34ce5988",
   "metadata": {
    "slideshow": {
     "slide_type": "fragment"
    }
   },
   "source": [
    "- All elements are unique\n",
    "- Order doesn't matter\n",
    "- Declared with a curly bracket `{ }`"
   ]
  },
  {
   "cell_type": "markdown",
   "id": "3fa1f8ff",
   "metadata": {
    "slideshow": {
     "slide_type": "slide"
    }
   },
   "source": [
    "#### Code example"
   ]
  },
  {
   "cell_type": "code",
   "execution_count": 30,
   "id": "015f9f6c",
   "metadata": {
    "slideshow": {
     "slide_type": "fragment"
    }
   },
   "outputs": [
    {
     "data": {
      "text/plain": [
       "{'cats', 'dogs'}"
      ]
     },
     "execution_count": 30,
     "metadata": {},
     "output_type": "execute_result"
    }
   ],
   "source": [
    "my_set = {\"dogs\", \"cats\", \"dogs\"}\n",
    "my_set"
   ]
  },
  {
   "cell_type": "markdown",
   "id": "8917e5eb",
   "metadata": {
    "slideshow": {
     "slide_type": "slide"
    }
   },
   "source": [
    "# Dictionaries\n",
    "\n",
    "<br>\n",
    "<center><img src='img/dic.png' style='height:350px; float: center; margin: 0px 30px 15px 0px'></center>\n",
    "\n",
    "- Keys are unique"
   ]
  },
  {
   "cell_type": "markdown",
   "id": "f102e409",
   "metadata": {
    "slideshow": {
     "slide_type": "slide"
    }
   },
   "source": [
    "#### Code example"
   ]
  },
  {
   "cell_type": "code",
   "execution_count": 22,
   "id": "5e231c8c",
   "metadata": {
    "slideshow": {
     "slide_type": "fragment"
    }
   },
   "outputs": [],
   "source": [
    "info = {\"Name\": \"Carl\",\n",
    "       \"Age\": 20,\n",
    "       \"Hobby\": \"Play guitar\"}"
   ]
  },
  {
   "cell_type": "code",
   "execution_count": 23,
   "id": "50e56862",
   "metadata": {
    "slideshow": {
     "slide_type": "fragment"
    }
   },
   "outputs": [
    {
     "data": {
      "text/plain": [
       "'Carl'"
      ]
     },
     "execution_count": 23,
     "metadata": {},
     "output_type": "execute_result"
    }
   ],
   "source": [
    "# to address a spefic key\n",
    "\n",
    "info[\"Name\"]"
   ]
  },
  {
   "cell_type": "code",
   "execution_count": 24,
   "id": "28a0fca0",
   "metadata": {
    "slideshow": {
     "slide_type": "fragment"
    }
   },
   "outputs": [],
   "source": [
    "# to change a value\n",
    "\n",
    "info[\"Name\"] = \"Carlos\""
   ]
  },
  {
   "cell_type": "code",
   "execution_count": 25,
   "id": "e4f5f0fe",
   "metadata": {
    "slideshow": {
     "slide_type": "fragment"
    }
   },
   "outputs": [],
   "source": [
    "# to add a pair\n",
    "\n",
    "info[\"Last Name\"] = \"Smith\""
   ]
  },
  {
   "cell_type": "code",
   "execution_count": 27,
   "id": "0b0eca44",
   "metadata": {
    "slideshow": {
     "slide_type": "fragment"
    }
   },
   "outputs": [
    {
     "data": {
      "text/plain": [
       "dict_keys(['Name', 'Age', 'Hobby', 'Last Name'])"
      ]
     },
     "execution_count": 27,
     "metadata": {},
     "output_type": "execute_result"
    }
   ],
   "source": [
    "# Retreive keys\n",
    "info.keys()"
   ]
  },
  {
   "cell_type": "code",
   "execution_count": 29,
   "id": "ac3e5fdf",
   "metadata": {
    "slideshow": {
     "slide_type": "fragment"
    }
   },
   "outputs": [
    {
     "data": {
      "text/plain": [
       "dict_values(['Carlos', 20, 'Play guitar', 'Smith'])"
      ]
     },
     "execution_count": 29,
     "metadata": {},
     "output_type": "execute_result"
    }
   ],
   "source": [
    "# Retreive values\n",
    "info.values()"
   ]
  },
  {
   "cell_type": "markdown",
   "id": "c34c1cdd",
   "metadata": {
    "slideshow": {
     "slide_type": "slide"
    }
   },
   "source": [
    "# Python data structures"
   ]
  },
  {
   "cell_type": "markdown",
   "id": "6a4585c4",
   "metadata": {
    "slideshow": {
     "slide_type": "fragment"
    }
   },
   "source": [
    "- **List:** Array-like structures that let you save a set of mutable objects of the same type to a variable.\n",
    "\n",
    "Resource: https://www.w3schools.com/python/python_lists_methods.asp"
   ]
  },
  {
   "cell_type": "code",
   "execution_count": 31,
   "id": "2b970602",
   "metadata": {
    "slideshow": {
     "slide_type": "fragment"
    }
   },
   "outputs": [],
   "source": [
    "my_list = [1,2,\"4\"]"
   ]
  },
  {
   "cell_type": "markdown",
   "id": "6133adc8",
   "metadata": {
    "slideshow": {
     "slide_type": "fragment"
    }
   },
   "source": [
    "- **Tuple:** Tuples are immutable lists, meaning the elements cannot be changed. It’s declared with parenthesis instead of square brackets.\n",
    "\n",
    "Resource: https://www.w3schools.com/python/python_tuples_methods.asp"
   ]
  },
  {
   "cell_type": "code",
   "execution_count": 9,
   "id": "fc77c6ad",
   "metadata": {
    "slideshow": {
     "slide_type": "fragment"
    }
   },
   "outputs": [],
   "source": [
    "my_tuple = (1,2,3)"
   ]
  },
  {
   "cell_type": "markdown",
   "id": "ca9c96d6",
   "metadata": {
    "slideshow": {
     "slide_type": "slide"
    }
   },
   "source": [
    "- **Set:** Sets are unordered collections, meaning that elements are unindexed and have no set sequence. They’re declared with curly braces.\n",
    "\n",
    "Resource: https://www.w3schools.com/python/python_sets_methods.asp"
   ]
  },
  {
   "cell_type": "code",
   "execution_count": 14,
   "id": "0e03efdb",
   "metadata": {
    "slideshow": {
     "slide_type": "fragment"
    }
   },
   "outputs": [
    {
     "name": "stdout",
     "output_type": "stream",
     "text": [
      "{1, 2, 4}\n"
     ]
    }
   ],
   "source": [
    "my_set = {1,2,4,4}\n",
    "print(my_set)"
   ]
  },
  {
   "cell_type": "markdown",
   "id": "52a09d3b",
   "metadata": {
    "slideshow": {
     "slide_type": "fragment"
    }
   },
   "source": [
    "- **Dictionary:** A dictionary is a collection of key/value pairs. You initialize an empty dictionary with empty curly braces and fill it with colon separated keys and values. All keys are unique, immutable objects.\n",
    "\n",
    "Resource: https://www.w3schools.com/python/python_dictionaries_methods.asp"
   ]
  },
  {
   "cell_type": "code",
   "execution_count": 15,
   "id": "6aa150c3",
   "metadata": {
    "slideshow": {
     "slide_type": "fragment"
    }
   },
   "outputs": [],
   "source": [
    "my_dict = {\"Burundi\": \"Bujumbura\", \"Colombia\": \"Bogotá\"}"
   ]
  },
  {
   "cell_type": "markdown",
   "id": "44aa29f4",
   "metadata": {
    "slideshow": {
     "slide_type": "slide"
    }
   },
   "source": [
    "# ⏪ Today's recap\n",
    "\n",
    "#### Data Structures\n",
    "- Lists\n",
    "- Tuples\n",
    "- Sets\n",
    "- Dictionaries"
   ]
  },
  {
   "cell_type": "markdown",
   "id": "ba820ff4",
   "metadata": {
    "slideshow": {
     "slide_type": "slide"
    }
   },
   "source": [
    "# Practice lab: https://docs.google.com/document/d/1Hsn9KI_5FL2RlO5q1Key_9q5QVbdrtzyEGMHoS5f758/edit"
   ]
  },
  {
   "cell_type": "markdown",
   "id": "9e0f9327",
   "metadata": {
    "slideshow": {
     "slide_type": "slide"
    }
   },
   "source": [
    "<center><img src='img/clock.gif' style='width:500px; float: left; margin: 0px 30px 15px 0px'></center>\n",
    "\n",
    "# Daylight saving time in the US! \n",
    "\n",
    "# ⚠️⚠️⚠️ Classes now are going to start at 2 PM ⚠️⚠️⚠️ \n",
    "\n",
    "Daylight Saving Time is most helpful to those who live farther from the equator, where daylight hours are much longer in the summer than in the winter."
   ]
  },
  {
   "cell_type": "markdown",
   "id": "c3c47662",
   "metadata": {
    "slideshow": {
     "slide_type": "slide"
    }
   },
   "source": [
    "<center><img src='img/bye.gif' style='height:250px;'></center> \n",
    "\n",
    "# Next class: Conditionals\n",
    "# See you next Monday!"
   ]
  },
  {
   "cell_type": "markdown",
   "id": "b21db18b",
   "metadata": {
    "slideshow": {
     "slide_type": "slide"
    }
   },
   "source": [
    "# Questions?"
   ]
  }
 ],
 "metadata": {
  "celltoolbar": "Slideshow",
  "kernelspec": {
   "display_name": "Python 3 (ipykernel)",
   "language": "python",
   "name": "python3"
  },
  "language_info": {
   "codemirror_mode": {
    "name": "ipython",
    "version": 3
   },
   "file_extension": ".py",
   "mimetype": "text/x-python",
   "name": "python",
   "nbconvert_exporter": "python",
   "pygments_lexer": "ipython3",
   "version": "3.9.13"
  }
 },
 "nbformat": 4,
 "nbformat_minor": 5
}
