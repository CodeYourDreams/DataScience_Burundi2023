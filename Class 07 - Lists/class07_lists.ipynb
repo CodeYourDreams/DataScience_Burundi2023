{
 "cells": [
  {
   "cell_type": "markdown",
   "id": "674ac2a7",
   "metadata": {
    "slideshow": {
     "slide_type": "slide"
    }
   },
   "source": [
    "# We'll start at 3:05 PM\n",
    "https://www.youtube.com/watch?v=KR5erT2o5KY&list=PLuwfalDx4tX06urs1vS65DSUbIjc3NGmN&ab_channel=nzokira"
   ]
  },
  {
   "cell_type": "markdown",
   "id": "843e46f7",
   "metadata": {
    "slideshow": {
     "slide_type": "slide"
    }
   },
   "source": [
    "<center><img src='img/cdy.png' style='width:500px; float: left; margin: 0px 30px 15px 0px'></center>\n",
    "\n",
    "# Data Structures\n",
    "## Class 7 - Data Science Curriculum \n",
    "\n",
    "<br>\n",
    "\n",
    "#### Women Building Change scholarship program 2023 🇧🇮\n",
    "March 10, 2023\n",
    "\n",
    "\n",
    "\n"
   ]
  },
  {
   "cell_type": "markdown",
   "id": "79f3848e",
   "metadata": {
    "slideshow": {
     "slide_type": "slide"
    }
   },
   "source": [
    "# Recap last class\n",
    "\n",
    "- Strings"
   ]
  },
  {
   "cell_type": "markdown",
   "id": "82476939",
   "metadata": {
    "slideshow": {
     "slide_type": "slide"
    }
   },
   "source": [
    "# 🚀 Today's agenda\n",
    "\n",
    "#### Data Structures\n",
    "\n",
    "- Lists\n",
    "- Sets\n",
    "- Dictionaries\n",
    "- Tuples\n"
   ]
  },
  {
   "cell_type": "markdown",
   "id": "d7c97442",
   "metadata": {
    "slideshow": {
     "slide_type": "slide"
    }
   },
   "source": [
    "# Google Colab: https://colab.research.google.com/\n",
    "\n",
    "<br>\n",
    "<center><img src='img/superhero.gif' style='height:350px; float: center; margin: 0px 30px 15px 0px'></center>\n",
    "\n"
   ]
  },
  {
   "cell_type": "markdown",
   "id": "44aa29f4",
   "metadata": {
    "slideshow": {
     "slide_type": "slide"
    }
   },
   "source": [
    "# ⏪ Today's recap\n",
    "\n",
    "#### Data Structures\n",
    "- Lists\n",
    "- Sets\n",
    "- Dictionaries\n",
    "- Tuples"
   ]
  },
  {
   "cell_type": "markdown",
   "id": "c3c47662",
   "metadata": {
    "slideshow": {
     "slide_type": "slide"
    }
   },
   "source": [
    "<center><img src='img/bye.gif' style='height:250px;'></center> \n",
    "\n",
    "# Next class: Conditionals\n",
    "# See you next Monday!"
   ]
  }
 ],
 "metadata": {
  "celltoolbar": "Slideshow",
  "kernelspec": {
   "display_name": "Python 3 (ipykernel)",
   "language": "python",
   "name": "python3"
  },
  "language_info": {
   "codemirror_mode": {
    "name": "ipython",
    "version": 3
   },
   "file_extension": ".py",
   "mimetype": "text/x-python",
   "name": "python",
   "nbconvert_exporter": "python",
   "pygments_lexer": "ipython3",
   "version": "3.9.13"
  }
 },
 "nbformat": 4,
 "nbformat_minor": 5
}
