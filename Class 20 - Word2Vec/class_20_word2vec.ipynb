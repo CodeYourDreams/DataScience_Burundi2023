{
 "cells": [
  {
   "cell_type": "markdown",
   "id": "674ac2a7",
   "metadata": {
    "slideshow": {
     "slide_type": "slide"
    }
   },
   "source": [
    "# We'll start at 2:10ish PM \n",
    "\n",
    "Waiting for others to join the call :)\n",
    "\n",
    "https://www.youtube.com/watch?v=VHoT4N43jK8"
   ]
  },
  {
   "cell_type": "markdown",
   "id": "843e46f7",
   "metadata": {
    "slideshow": {
     "slide_type": "slide"
    }
   },
   "source": [
    "<center><img src='img/cdy.png' style='width:500px; float: left; margin: 0px 30px 15px 0px'></center>\n",
    "\n",
    "# TF-IDF and Word2Vec\n",
    "## Class 20 - Data Science Curriculum \n",
    "\n",
    "<br>\n",
    "\n",
    "#### Women Building Change scholarship program 2023 🇧🇮\n",
    "May 8, 2023\n",
    "\n",
    "\n",
    "\n"
   ]
  },
  {
   "cell_type": "markdown",
   "id": "48500da2",
   "metadata": {
    "slideshow": {
     "slide_type": "slide"
    }
   },
   "source": [
    "# ⏪ Recap last class\n",
    "\n",
    "- Vectorial representation of words \n",
    "    - One-Hot Encoding\n",
    "    - Bag of Words\n",
    "- Similarity of texts using\n",
    "    - Euclidean distance\n",
    "    - Cosine distance"
   ]
  },
  {
   "cell_type": "markdown",
   "id": "82476939",
   "metadata": {
    "slideshow": {
     "slide_type": "slide"
    }
   },
   "source": [
    "# 🚀 Today's agenda\n",
    "\n",
    "- TF-IDF\n",
    "- Word2Vec"
   ]
  },
  {
   "cell_type": "markdown",
   "id": "aaee16fd",
   "metadata": {
    "slideshow": {
     "slide_type": "slide"
    }
   },
   "source": [
    "<center><img src='img/pipeline.png' style='width:1500px; margin: 0px 30px 15px 0px'></center>"
   ]
  },
  {
   "cell_type": "markdown",
   "id": "d7c97442",
   "metadata": {
    "slideshow": {
     "slide_type": "slide"
    }
   },
   "source": [
    "# Google Colab: https://colab.research.google.com/\n",
    "\n",
    "<br>\n",
    "<center><img src='img/girl_coding.jpg' style='height:350px; float: center; margin: 0px 30px 15px 0px'></center>\n",
    "\n"
   ]
  },
  {
   "cell_type": "markdown",
   "id": "3130c953",
   "metadata": {
    "slideshow": {
     "slide_type": "slide"
    }
   },
   "source": [
    "# Let's do some text pre-processing"
   ]
  },
  {
   "cell_type": "code",
   "execution_count": 2,
   "id": "916bf187",
   "metadata": {},
   "outputs": [
    {
     "name": "stdout",
     "output_type": "stream",
     "text": [
      "Collecting fr-core-news-md==3.3.0\n",
      "  Downloading https://github.com/explosion/spacy-models/releases/download/fr_core_news_md-3.3.0/fr_core_news_md-3.3.0-py3-none-any.whl (45.8 MB)\n",
      "\u001b[2K     \u001b[90m━━━━━━━━━━━━━━━━━━━━━━━━━━━━━━━━━━━━━━━━\u001b[0m \u001b[32m45.8/45.8 MB\u001b[0m \u001b[31m2.3 MB/s\u001b[0m eta \u001b[36m0:00:00\u001b[0m00:01\u001b[0m00:01\u001b[0mm\n",
      "\u001b[?25hRequirement already satisfied: spacy<3.4.0,>=3.3.0.dev0 in /Users/vmarquez/opt/anaconda3/lib/python3.9/site-packages (from fr-core-news-md==3.3.0) (3.3.0)\n",
      "Requirement already satisfied: thinc<8.1.0,>=8.0.14 in /Users/vmarquez/opt/anaconda3/lib/python3.9/site-packages (from spacy<3.4.0,>=3.3.0.dev0->fr-core-news-md==3.3.0) (8.0.15)\n",
      "Requirement already satisfied: jinja2 in /Users/vmarquez/opt/anaconda3/lib/python3.9/site-packages (from spacy<3.4.0,>=3.3.0.dev0->fr-core-news-md==3.3.0) (2.11.3)\n",
      "Requirement already satisfied: spacy-loggers<2.0.0,>=1.0.0 in /Users/vmarquez/opt/anaconda3/lib/python3.9/site-packages (from spacy<3.4.0,>=3.3.0.dev0->fr-core-news-md==3.3.0) (1.0.2)\n",
      "Requirement already satisfied: cymem<2.1.0,>=2.0.2 in /Users/vmarquez/opt/anaconda3/lib/python3.9/site-packages (from spacy<3.4.0,>=3.3.0.dev0->fr-core-news-md==3.3.0) (2.0.6)\n",
      "Requirement already satisfied: blis<0.8.0,>=0.4.0 in /Users/vmarquez/opt/anaconda3/lib/python3.9/site-packages (from spacy<3.4.0,>=3.3.0.dev0->fr-core-news-md==3.3.0) (0.7.7)\n",
      "Requirement already satisfied: packaging>=20.0 in /Users/vmarquez/opt/anaconda3/lib/python3.9/site-packages (from spacy<3.4.0,>=3.3.0.dev0->fr-core-news-md==3.3.0) (21.3)\n",
      "Requirement already satisfied: pathy>=0.3.5 in /Users/vmarquez/opt/anaconda3/lib/python3.9/site-packages (from spacy<3.4.0,>=3.3.0.dev0->fr-core-news-md==3.3.0) (0.6.1)\n",
      "Requirement already satisfied: wasabi<1.1.0,>=0.9.1 in /Users/vmarquez/opt/anaconda3/lib/python3.9/site-packages (from spacy<3.4.0,>=3.3.0.dev0->fr-core-news-md==3.3.0) (0.9.1)\n",
      "Requirement already satisfied: murmurhash<1.1.0,>=0.28.0 in /Users/vmarquez/opt/anaconda3/lib/python3.9/site-packages (from spacy<3.4.0,>=3.3.0.dev0->fr-core-news-md==3.3.0) (1.0.7)\n",
      "Requirement already satisfied: catalogue<2.1.0,>=2.0.6 in /Users/vmarquez/opt/anaconda3/lib/python3.9/site-packages (from spacy<3.4.0,>=3.3.0.dev0->fr-core-news-md==3.3.0) (2.0.7)\n",
      "Requirement already satisfied: requests<3.0.0,>=2.13.0 in /Users/vmarquez/opt/anaconda3/lib/python3.9/site-packages (from spacy<3.4.0,>=3.3.0.dev0->fr-core-news-md==3.3.0) (2.26.0)\n",
      "Requirement already satisfied: tqdm<5.0.0,>=4.38.0 in /Users/vmarquez/opt/anaconda3/lib/python3.9/site-packages (from spacy<3.4.0,>=3.3.0.dev0->fr-core-news-md==3.3.0) (4.62.3)\n",
      "Requirement already satisfied: spacy-legacy<3.1.0,>=3.0.9 in /Users/vmarquez/opt/anaconda3/lib/python3.9/site-packages (from spacy<3.4.0,>=3.3.0.dev0->fr-core-news-md==3.3.0) (3.0.9)\n",
      "Requirement already satisfied: pydantic!=1.8,!=1.8.1,<1.9.0,>=1.7.4 in /Users/vmarquez/opt/anaconda3/lib/python3.9/site-packages (from spacy<3.4.0,>=3.3.0.dev0->fr-core-news-md==3.3.0) (1.8.2)\n",
      "Requirement already satisfied: setuptools in /Users/vmarquez/opt/anaconda3/lib/python3.9/site-packages (from spacy<3.4.0,>=3.3.0.dev0->fr-core-news-md==3.3.0) (62.2.0)\n",
      "Requirement already satisfied: srsly<3.0.0,>=2.4.3 in /Users/vmarquez/opt/anaconda3/lib/python3.9/site-packages (from spacy<3.4.0,>=3.3.0.dev0->fr-core-news-md==3.3.0) (2.4.3)\n",
      "Requirement already satisfied: numpy>=1.15.0 in /Users/vmarquez/opt/anaconda3/lib/python3.9/site-packages (from spacy<3.4.0,>=3.3.0.dev0->fr-core-news-md==3.3.0) (1.20.3)\n",
      "Requirement already satisfied: preshed<3.1.0,>=3.0.2 in /Users/vmarquez/opt/anaconda3/lib/python3.9/site-packages (from spacy<3.4.0,>=3.3.0.dev0->fr-core-news-md==3.3.0) (3.0.6)\n",
      "Requirement already satisfied: langcodes<4.0.0,>=3.2.0 in /Users/vmarquez/opt/anaconda3/lib/python3.9/site-packages (from spacy<3.4.0,>=3.3.0.dev0->fr-core-news-md==3.3.0) (3.3.0)\n",
      "Requirement already satisfied: typer<0.5.0,>=0.3.0 in /Users/vmarquez/opt/anaconda3/lib/python3.9/site-packages (from spacy<3.4.0,>=3.3.0.dev0->fr-core-news-md==3.3.0) (0.4.1)\n",
      "Requirement already satisfied: pyparsing!=3.0.5,>=2.0.2 in /Users/vmarquez/opt/anaconda3/lib/python3.9/site-packages (from packaging>=20.0->spacy<3.4.0,>=3.3.0.dev0->fr-core-news-md==3.3.0) (3.0.4)\n",
      "Requirement already satisfied: smart-open<6.0.0,>=5.0.0 in /Users/vmarquez/opt/anaconda3/lib/python3.9/site-packages (from pathy>=0.3.5->spacy<3.4.0,>=3.3.0.dev0->fr-core-news-md==3.3.0) (5.2.1)\n",
      "Requirement already satisfied: typing-extensions>=3.7.4.3 in /Users/vmarquez/opt/anaconda3/lib/python3.9/site-packages (from pydantic!=1.8,!=1.8.1,<1.9.0,>=1.7.4->spacy<3.4.0,>=3.3.0.dev0->fr-core-news-md==3.3.0) (4.4.0)\n",
      "Requirement already satisfied: charset-normalizer~=2.0.0 in /Users/vmarquez/opt/anaconda3/lib/python3.9/site-packages (from requests<3.0.0,>=2.13.0->spacy<3.4.0,>=3.3.0.dev0->fr-core-news-md==3.3.0) (2.0.4)\n",
      "Requirement already satisfied: idna<4,>=2.5 in /Users/vmarquez/opt/anaconda3/lib/python3.9/site-packages (from requests<3.0.0,>=2.13.0->spacy<3.4.0,>=3.3.0.dev0->fr-core-news-md==3.3.0) (3.2)\n",
      "Requirement already satisfied: urllib3<1.27,>=1.21.1 in /Users/vmarquez/opt/anaconda3/lib/python3.9/site-packages (from requests<3.0.0,>=2.13.0->spacy<3.4.0,>=3.3.0.dev0->fr-core-news-md==3.3.0) (1.26.14)\n",
      "Requirement already satisfied: certifi>=2017.4.17 in /Users/vmarquez/opt/anaconda3/lib/python3.9/site-packages (from requests<3.0.0,>=2.13.0->spacy<3.4.0,>=3.3.0.dev0->fr-core-news-md==3.3.0) (2021.10.8)\n",
      "Requirement already satisfied: click<9.0.0,>=7.1.1 in /Users/vmarquez/opt/anaconda3/lib/python3.9/site-packages (from typer<0.5.0,>=0.3.0->spacy<3.4.0,>=3.3.0.dev0->fr-core-news-md==3.3.0) (7.1.2)\n",
      "Requirement already satisfied: MarkupSafe>=0.23 in /Users/vmarquez/opt/anaconda3/lib/python3.9/site-packages (from jinja2->spacy<3.4.0,>=3.3.0.dev0->fr-core-news-md==3.3.0) (1.1.1)\n",
      "Installing collected packages: fr-core-news-md\n",
      "Successfully installed fr-core-news-md-3.3.0\n",
      "\u001b[33mWARNING: You are using pip version 22.0.4; however, version 23.1.2 is available.\n",
      "You should consider upgrading via the '/Users/vmarquez/opt/anaconda3/bin/python3 -m pip install --upgrade pip' command.\u001b[0m\u001b[33m\n",
      "\u001b[0m\u001b[38;5;2m✔ Download and installation successful\u001b[0m\n",
      "You can now load the package via spacy.load('fr_core_news_md')\n"
     ]
    },
    {
     "name": "stderr",
     "output_type": "stream",
     "text": [
      "[nltk_data] Downloading package stopwords to\n",
      "[nltk_data]     /Users/vmarquez/nltk_data...\n",
      "[nltk_data]   Package stopwords is already up-to-date!\n"
     ]
    }
   ],
   "source": [
    "! python3 -m spacy download fr_core_news_md\n",
    "import nltk\n",
    "nltk.download('stopwords')\n",
    "\n",
    "import json\n",
    "import pandas as pd\n",
    "import re\n",
    "from nltk.corpus import stopwords\n",
    "import spacy\n",
    "\n",
    "with open('princesses.json', 'r') as f:\n",
    "    data = json.load(f)\n",
    "\n",
    "df = pd.DataFrame(data.items(), columns=['princess', 'description']).set_index('princess')\n",
    "\n",
    "sw = stopwords.words(\"french\")\n",
    "lemma_obj = spacy.load('fr_core_news_md')\n",
    "\n",
    "def text_pre_processing(text):\n",
    "    text = text.lower() # Make it lowercase\n",
    "    text = re.sub(r\"[\\W\\d]\", \" \", text) # Remove punctuation (regex)\n",
    "    text = text.split() # Tokenize\n",
    "    text = [word for word in text if word not in sw] # Remove stop words\n",
    "    text = \" \".join(text) # Make it a string\n",
    "\n",
    "    # Lemmatization\n",
    "    doc = lemma_obj(text)\n",
    "    text = [token.lemma_ for token in doc]\n",
    "\n",
    "    text = \" \".join(text) # Make it a string\n",
    "    return text\n",
    "\n",
    "df['text_pp'] = df['description'].apply(lambda row: text_pre_processing(row))"
   ]
  },
  {
   "cell_type": "markdown",
   "id": "8fc650f4",
   "metadata": {
    "slideshow": {
     "slide_type": "slide"
    }
   },
   "source": [
    "# TF-IDF (Term Frequency, Inverse Document Frequency) \n",
    "\n",
    "- It seeks to quantify the importance of a word relative to the other words in the document and in the corpus.\n",
    "- It is frequently used in information retrieval systems and clustering algorithms.\n",
    "- The more a word helps to distinguish a document from others, the higher its TF-IDF score will be."
   ]
  },
  {
   "cell_type": "markdown",
   "id": "980130c2",
   "metadata": {
    "slideshow": {
     "slide_type": "slide"
    }
   },
   "source": [
    "### TF: Term Frequency\n",
    "\n",
    "- Term frequency: Counting the number of occurrences of a word in a document, divided by the number of words in that document.\n",
    "\n",
    "$$ tf(t,d) = \\dfrac{count(t)}{|d|}$$\n",
    "\n",
    "where\n",
    "- $t$ is term\n",
    "- $d$ is document"
   ]
  },
  {
   "cell_type": "markdown",
   "id": "44103207",
   "metadata": {
    "slideshow": {
     "slide_type": "fragment"
    }
   },
   "source": [
    "*Note: The term frequency is higher for words frequently used in a document.*"
   ]
  },
  {
   "cell_type": "markdown",
   "id": "4073cb5e",
   "metadata": {
    "slideshow": {
     "slide_type": "slide"
    }
   },
   "source": [
    "### DF: Document Frequency\n",
    "\n",
    "- Frequency in documents: It is the number of documents that have that word over the total number of documents.\n",
    "\n",
    "$$ df(t,N) = \\dfrac{|\\{d_i: t\\in d_i, i=1, \\dots , N\\}|}{N}$$\n",
    "\n",
    "where\n",
    "- $t$ is term\n",
    "- $N$ is Number of documents"
   ]
  },
  {
   "cell_type": "markdown",
   "id": "ef64c423",
   "metadata": {
    "slideshow": {
     "slide_type": "fragment"
    }
   },
   "source": [
    "*Note: Frequency in documents is higher for words used in many documents*"
   ]
  },
  {
   "cell_type": "markdown",
   "id": "8a521b2f",
   "metadata": {
    "slideshow": {
     "slide_type": "slide"
    }
   },
   "source": [
    "## So far we have TF and DF... how do we get to TD-IDF?\n",
    "\n",
    "\n",
    "\n"
   ]
  },
  {
   "cell_type": "markdown",
   "id": "90520e04",
   "metadata": {
    "slideshow": {
     "slide_type": "fragment"
    }
   },
   "source": [
    "- A specific word to some document will have very low term frequency"
   ]
  },
  {
   "cell_type": "markdown",
   "id": "10bb90d7",
   "metadata": {
    "slideshow": {
     "slide_type": "fragment"
    }
   },
   "source": [
    "- Since the goal is to distinguish one document from another, we want to highlight words used frequently in one document but penalize them if they are present in all documents. This is called TF-IDF."
   ]
  },
  {
   "cell_type": "markdown",
   "id": "90f342b8",
   "metadata": {
    "slideshow": {
     "slide_type": "fragment"
    }
   },
   "source": [
    "- Then, we obtain:\n",
    "\n",
    "$$tfidf (t,d,N) = tf(df) \\times \\log\\big(\\frac{1}{df(t,N)}\\big)$$\n",
    "\n",
    "where\n",
    "- $t$ is term\n",
    "- $d$ is document\n",
    "- $N$ is Number of documents"
   ]
  },
  {
   "cell_type": "markdown",
   "id": "087c5706",
   "metadata": {
    "slideshow": {
     "slide_type": "fragment"
    }
   },
   "source": [
    "- When $t$ is in all documents, $idf = log(1) = 0$\n",
    " \n",
    "- This makes sense since a word that is in all documents is very bad at distinguishing between documents"
   ]
  },
  {
   "cell_type": "code",
   "execution_count": 7,
   "id": "55cc81c0",
   "metadata": {
    "slideshow": {
     "slide_type": "slide"
    }
   },
   "outputs": [
    {
     "data": {
      "text/html": [
       "<div>\n",
       "<style scoped>\n",
       "    .dataframe tbody tr th:only-of-type {\n",
       "        vertical-align: middle;\n",
       "    }\n",
       "\n",
       "    .dataframe tbody tr th {\n",
       "        vertical-align: top;\n",
       "    }\n",
       "\n",
       "    .dataframe thead th {\n",
       "        text-align: right;\n",
       "    }\n",
       "</style>\n",
       "<table border=\"1\" class=\"dataframe\">\n",
       "  <thead>\n",
       "    <tr style=\"text-align: right;\">\n",
       "      <th>princess</th>\n",
       "      <th>Blanche-Neige</th>\n",
       "      <th>Cendrillon</th>\n",
       "      <th>Aurore</th>\n",
       "      <th>Ariel</th>\n",
       "      <th>Belle</th>\n",
       "      <th>Jasmine</th>\n",
       "      <th>Pocahontas</th>\n",
       "      <th>Mulan</th>\n",
       "      <th>Tiana</th>\n",
       "      <th>Raiponce</th>\n",
       "      <th>Mérida</th>\n",
       "    </tr>\n",
       "  </thead>\n",
       "  <tbody>\n",
       "    <tr>\n",
       "      <th>absent</th>\n",
       "      <td>0.000</td>\n",
       "      <td>0.000</td>\n",
       "      <td>0.081</td>\n",
       "      <td>0.000</td>\n",
       "      <td>0.000</td>\n",
       "      <td>0.0</td>\n",
       "      <td>0.0</td>\n",
       "      <td>0.000</td>\n",
       "      <td>0.000</td>\n",
       "      <td>0.0</td>\n",
       "      <td>0.000</td>\n",
       "    </tr>\n",
       "    <tr>\n",
       "      <th>accomplir</th>\n",
       "      <td>0.127</td>\n",
       "      <td>0.000</td>\n",
       "      <td>0.000</td>\n",
       "      <td>0.000</td>\n",
       "      <td>0.000</td>\n",
       "      <td>0.0</td>\n",
       "      <td>0.0</td>\n",
       "      <td>0.000</td>\n",
       "      <td>0.000</td>\n",
       "      <td>0.0</td>\n",
       "      <td>0.000</td>\n",
       "    </tr>\n",
       "    <tr>\n",
       "      <th>admettre</th>\n",
       "      <td>0.000</td>\n",
       "      <td>0.000</td>\n",
       "      <td>0.081</td>\n",
       "      <td>0.000</td>\n",
       "      <td>0.000</td>\n",
       "      <td>0.0</td>\n",
       "      <td>0.0</td>\n",
       "      <td>0.000</td>\n",
       "      <td>0.000</td>\n",
       "      <td>0.0</td>\n",
       "      <td>0.000</td>\n",
       "    </tr>\n",
       "    <tr>\n",
       "      <th>adolescent</th>\n",
       "      <td>0.000</td>\n",
       "      <td>0.000</td>\n",
       "      <td>0.000</td>\n",
       "      <td>0.000</td>\n",
       "      <td>0.000</td>\n",
       "      <td>0.0</td>\n",
       "      <td>0.0</td>\n",
       "      <td>0.000</td>\n",
       "      <td>0.000</td>\n",
       "      <td>0.0</td>\n",
       "      <td>0.093</td>\n",
       "    </tr>\n",
       "    <tr>\n",
       "      <th>affirme</th>\n",
       "      <td>0.108</td>\n",
       "      <td>0.000</td>\n",
       "      <td>0.000</td>\n",
       "      <td>0.059</td>\n",
       "      <td>0.000</td>\n",
       "      <td>0.0</td>\n",
       "      <td>0.0</td>\n",
       "      <td>0.000</td>\n",
       "      <td>0.000</td>\n",
       "      <td>0.0</td>\n",
       "      <td>0.000</td>\n",
       "    </tr>\n",
       "    <tr>\n",
       "      <th>...</th>\n",
       "      <td>...</td>\n",
       "      <td>...</td>\n",
       "      <td>...</td>\n",
       "      <td>...</td>\n",
       "      <td>...</td>\n",
       "      <td>...</td>\n",
       "      <td>...</td>\n",
       "      <td>...</td>\n",
       "      <td>...</td>\n",
       "      <td>...</td>\n",
       "      <td>...</td>\n",
       "    </tr>\n",
       "    <tr>\n",
       "      <th>étroite</th>\n",
       "      <td>0.000</td>\n",
       "      <td>0.000</td>\n",
       "      <td>0.000</td>\n",
       "      <td>0.069</td>\n",
       "      <td>0.000</td>\n",
       "      <td>0.0</td>\n",
       "      <td>0.0</td>\n",
       "      <td>0.000</td>\n",
       "      <td>0.000</td>\n",
       "      <td>0.0</td>\n",
       "      <td>0.000</td>\n",
       "    </tr>\n",
       "    <tr>\n",
       "      <th>éviter</th>\n",
       "      <td>0.000</td>\n",
       "      <td>0.000</td>\n",
       "      <td>0.000</td>\n",
       "      <td>0.000</td>\n",
       "      <td>0.000</td>\n",
       "      <td>0.0</td>\n",
       "      <td>0.0</td>\n",
       "      <td>0.000</td>\n",
       "      <td>0.000</td>\n",
       "      <td>0.0</td>\n",
       "      <td>0.093</td>\n",
       "    </tr>\n",
       "    <tr>\n",
       "      <th>événement</th>\n",
       "      <td>0.000</td>\n",
       "      <td>0.000</td>\n",
       "      <td>0.000</td>\n",
       "      <td>0.000</td>\n",
       "      <td>0.128</td>\n",
       "      <td>0.0</td>\n",
       "      <td>0.0</td>\n",
       "      <td>0.000</td>\n",
       "      <td>0.000</td>\n",
       "      <td>0.0</td>\n",
       "      <td>0.000</td>\n",
       "    </tr>\n",
       "    <tr>\n",
       "      <th>être</th>\n",
       "      <td>0.000</td>\n",
       "      <td>0.053</td>\n",
       "      <td>0.000</td>\n",
       "      <td>0.046</td>\n",
       "      <td>0.000</td>\n",
       "      <td>0.0</td>\n",
       "      <td>0.0</td>\n",
       "      <td>0.091</td>\n",
       "      <td>0.104</td>\n",
       "      <td>0.0</td>\n",
       "      <td>0.000</td>\n",
       "    </tr>\n",
       "    <tr>\n",
       "      <th>œuvre</th>\n",
       "      <td>0.000</td>\n",
       "      <td>0.000</td>\n",
       "      <td>0.000</td>\n",
       "      <td>0.069</td>\n",
       "      <td>0.000</td>\n",
       "      <td>0.0</td>\n",
       "      <td>0.0</td>\n",
       "      <td>0.000</td>\n",
       "      <td>0.000</td>\n",
       "      <td>0.0</td>\n",
       "      <td>0.000</td>\n",
       "    </tr>\n",
       "  </tbody>\n",
       "</table>\n",
       "<p>690 rows × 11 columns</p>\n",
       "</div>"
      ],
      "text/plain": [
       "princess    Blanche-Neige  Cendrillon  Aurore  Ariel  Belle  Jasmine  \\\n",
       "absent              0.000       0.000   0.081  0.000  0.000      0.0   \n",
       "accomplir           0.127       0.000   0.000  0.000  0.000      0.0   \n",
       "admettre            0.000       0.000   0.081  0.000  0.000      0.0   \n",
       "adolescent          0.000       0.000   0.000  0.000  0.000      0.0   \n",
       "affirme             0.108       0.000   0.000  0.059  0.000      0.0   \n",
       "...                   ...         ...     ...    ...    ...      ...   \n",
       "étroite             0.000       0.000   0.000  0.069  0.000      0.0   \n",
       "éviter              0.000       0.000   0.000  0.000  0.000      0.0   \n",
       "événement           0.000       0.000   0.000  0.000  0.128      0.0   \n",
       "être                0.000       0.053   0.000  0.046  0.000      0.0   \n",
       "œuvre               0.000       0.000   0.000  0.069  0.000      0.0   \n",
       "\n",
       "princess    Pocahontas  Mulan  Tiana  Raiponce  Mérida  \n",
       "absent             0.0  0.000  0.000       0.0   0.000  \n",
       "accomplir          0.0  0.000  0.000       0.0   0.000  \n",
       "admettre           0.0  0.000  0.000       0.0   0.000  \n",
       "adolescent         0.0  0.000  0.000       0.0   0.093  \n",
       "affirme            0.0  0.000  0.000       0.0   0.000  \n",
       "...                ...    ...    ...       ...     ...  \n",
       "étroite            0.0  0.000  0.000       0.0   0.000  \n",
       "éviter             0.0  0.000  0.000       0.0   0.093  \n",
       "événement          0.0  0.000  0.000       0.0   0.000  \n",
       "être               0.0  0.091  0.104       0.0   0.000  \n",
       "œuvre              0.0  0.000  0.000       0.0   0.000  \n",
       "\n",
       "[690 rows x 11 columns]"
      ]
     },
     "execution_count": 7,
     "metadata": {},
     "output_type": "execute_result"
    }
   ],
   "source": [
    "from sklearn.feature_extraction.text import TfidfVectorizer\n",
    "\n",
    "tfidf_vect = TfidfVectorizer()\n",
    "tfidf = tfidf_vect.fit_transform(df['text_pp'].values)\n",
    "\n",
    "tfidf_matrix = pd.DataFrame(tfidf.toarray(), columns=tfidf_vect.get_feature_names())\n",
    "tfidf_matrix.index = df.index\n",
    "\n",
    "tfidf_matrix.T.round(3)"
   ]
  },
  {
   "cell_type": "markdown",
   "id": "ef222119",
   "metadata": {
    "slideshow": {
     "slide_type": "slide"
    }
   },
   "source": [
    "# Similarity measures\n",
    "How similar are the documents?"
   ]
  },
  {
   "cell_type": "markdown",
   "id": "b12fbe32",
   "metadata": {
    "slideshow": {
     "slide_type": "slide"
    }
   },
   "source": [
    "# Euclidean distance\n",
    "\n",
    "<br>\n",
    "<center><img src='img/dist_euc.png' style='height:350px;'>\n",
    "<small>Image credit: R-Bloggers</small></center>"
   ]
  },
  {
   "cell_type": "code",
   "execution_count": 4,
   "id": "adfcff6f",
   "metadata": {
    "slideshow": {
     "slide_type": "slide"
    }
   },
   "outputs": [
    {
     "data": {
      "text/html": [
       "<style type=\"text/css\">\n",
       "#T_77fd0_row0_col0, #T_77fd0_row1_col1, #T_77fd0_row2_col2, #T_77fd0_row3_col3, #T_77fd0_row4_col4, #T_77fd0_row5_col5, #T_77fd0_row6_col6, #T_77fd0_row7_col7, #T_77fd0_row8_col8, #T_77fd0_row9_col9, #T_77fd0_row10_col10 {\n",
       "  background-color: #fff5f0;\n",
       "  color: #000000;\n",
       "}\n",
       "#T_77fd0_row0_col1, #T_77fd0_row0_col3, #T_77fd0_row1_col5, #T_77fd0_row1_col6, #T_77fd0_row2_col1, #T_77fd0_row3_col8, #T_77fd0_row4_col2, #T_77fd0_row4_col6, #T_77fd0_row5_col7, #T_77fd0_row6_col2, #T_77fd0_row6_col4, #T_77fd0_row7_col0, #T_77fd0_row7_col1, #T_77fd0_row7_col5, #T_77fd0_row7_col9, #T_77fd0_row8_col3, #T_77fd0_row8_col9, #T_77fd0_row10_col9 {\n",
       "  background-color: #6b010e;\n",
       "  color: #f1f1f1;\n",
       "}\n",
       "#T_77fd0_row0_col2, #T_77fd0_row2_col7, #T_77fd0_row2_col9, #T_77fd0_row3_col5, #T_77fd0_row4_col9, #T_77fd0_row9_col7, #T_77fd0_row9_col10, #T_77fd0_row10_col3 {\n",
       "  background-color: #71020e;\n",
       "  color: #f1f1f1;\n",
       "}\n",
       "#T_77fd0_row0_col4, #T_77fd0_row0_col5, #T_77fd0_row0_col9, #T_77fd0_row1_col9, #T_77fd0_row2_col3, #T_77fd0_row2_col6, #T_77fd0_row3_col2, #T_77fd0_row3_col4, #T_77fd0_row4_col0, #T_77fd0_row5_col3, #T_77fd0_row9_col3 {\n",
       "  background-color: #6f020e;\n",
       "  color: #f1f1f1;\n",
       "}\n",
       "#T_77fd0_row0_col6, #T_77fd0_row0_col8, #T_77fd0_row1_col3, #T_77fd0_row1_col8, #T_77fd0_row4_col1, #T_77fd0_row4_col7, #T_77fd0_row4_col8, #T_77fd0_row4_col10, #T_77fd0_row5_col1, #T_77fd0_row5_col2, #T_77fd0_row5_col4, #T_77fd0_row5_col6, #T_77fd0_row5_col9, #T_77fd0_row5_col10, #T_77fd0_row6_col0, #T_77fd0_row6_col3, #T_77fd0_row6_col5, #T_77fd0_row7_col4, #T_77fd0_row7_col10, #T_77fd0_row8_col1, #T_77fd0_row10_col4, #T_77fd0_row10_col5, #T_77fd0_row10_col7 {\n",
       "  background-color: #67000d;\n",
       "  color: #f1f1f1;\n",
       "}\n",
       "#T_77fd0_row0_col7, #T_77fd0_row1_col0, #T_77fd0_row1_col7, #T_77fd0_row2_col4, #T_77fd0_row2_col10, #T_77fd0_row3_col0, #T_77fd0_row3_col7, #T_77fd0_row3_col9, #T_77fd0_row4_col3, #T_77fd0_row5_col0, #T_77fd0_row7_col2, #T_77fd0_row8_col10, #T_77fd0_row9_col5, #T_77fd0_row9_col8 {\n",
       "  background-color: #6d010e;\n",
       "  color: #f1f1f1;\n",
       "}\n",
       "#T_77fd0_row0_col10, #T_77fd0_row6_col7, #T_77fd0_row7_col6, #T_77fd0_row7_col8, #T_77fd0_row9_col6 {\n",
       "  background-color: #79040f;\n",
       "  color: #f1f1f1;\n",
       "}\n",
       "#T_77fd0_row1_col2, #T_77fd0_row1_col4, #T_77fd0_row2_col5, #T_77fd0_row3_col1, #T_77fd0_row3_col6, #T_77fd0_row4_col5, #T_77fd0_row6_col1, #T_77fd0_row6_col10, #T_77fd0_row7_col3, #T_77fd0_row8_col0, #T_77fd0_row8_col4, #T_77fd0_row10_col2, #T_77fd0_row10_col6, #T_77fd0_row10_col8 {\n",
       "  background-color: #69000d;\n",
       "  color: #f1f1f1;\n",
       "}\n",
       "#T_77fd0_row1_col10, #T_77fd0_row8_col6, #T_77fd0_row10_col0 {\n",
       "  background-color: #77040f;\n",
       "  color: #f1f1f1;\n",
       "}\n",
       "#T_77fd0_row2_col0, #T_77fd0_row6_col9, #T_77fd0_row9_col0, #T_77fd0_row9_col1, #T_77fd0_row9_col2, #T_77fd0_row10_col1 {\n",
       "  background-color: #73030f;\n",
       "  color: #f1f1f1;\n",
       "}\n",
       "#T_77fd0_row2_col8, #T_77fd0_row8_col5 {\n",
       "  background-color: #7c0510;\n",
       "  color: #f1f1f1;\n",
       "}\n",
       "#T_77fd0_row3_col10, #T_77fd0_row6_col8, #T_77fd0_row9_col4 {\n",
       "  background-color: #75030f;\n",
       "  color: #f1f1f1;\n",
       "}\n",
       "#T_77fd0_row5_col8, #T_77fd0_row8_col2, #T_77fd0_row8_col7 {\n",
       "  background-color: #7a0510;\n",
       "  color: #f1f1f1;\n",
       "}\n",
       "</style>\n",
       "<table id=\"T_77fd0_\">\n",
       "  <thead>\n",
       "    <tr>\n",
       "      <th class=\"index_name level0\" >princess</th>\n",
       "      <th class=\"col_heading level0 col0\" >Blanche-Neige</th>\n",
       "      <th class=\"col_heading level0 col1\" >Cendrillon</th>\n",
       "      <th class=\"col_heading level0 col2\" >Aurore</th>\n",
       "      <th class=\"col_heading level0 col3\" >Ariel</th>\n",
       "      <th class=\"col_heading level0 col4\" >Belle</th>\n",
       "      <th class=\"col_heading level0 col5\" >Jasmine</th>\n",
       "      <th class=\"col_heading level0 col6\" >Pocahontas</th>\n",
       "      <th class=\"col_heading level0 col7\" >Mulan</th>\n",
       "      <th class=\"col_heading level0 col8\" >Tiana</th>\n",
       "      <th class=\"col_heading level0 col9\" >Raiponce</th>\n",
       "      <th class=\"col_heading level0 col10\" >Mérida</th>\n",
       "    </tr>\n",
       "    <tr>\n",
       "      <th class=\"index_name level0\" >princess</th>\n",
       "      <th class=\"blank col0\" >&nbsp;</th>\n",
       "      <th class=\"blank col1\" >&nbsp;</th>\n",
       "      <th class=\"blank col2\" >&nbsp;</th>\n",
       "      <th class=\"blank col3\" >&nbsp;</th>\n",
       "      <th class=\"blank col4\" >&nbsp;</th>\n",
       "      <th class=\"blank col5\" >&nbsp;</th>\n",
       "      <th class=\"blank col6\" >&nbsp;</th>\n",
       "      <th class=\"blank col7\" >&nbsp;</th>\n",
       "      <th class=\"blank col8\" >&nbsp;</th>\n",
       "      <th class=\"blank col9\" >&nbsp;</th>\n",
       "      <th class=\"blank col10\" >&nbsp;</th>\n",
       "    </tr>\n",
       "  </thead>\n",
       "  <tbody>\n",
       "    <tr>\n",
       "      <th id=\"T_77fd0_level0_row0\" class=\"row_heading level0 row0\" >Blanche-Neige</th>\n",
       "      <td id=\"T_77fd0_row0_col0\" class=\"data row0 col0\" >0.000000</td>\n",
       "      <td id=\"T_77fd0_row0_col1\" class=\"data row0 col1\" >1.373237</td>\n",
       "      <td id=\"T_77fd0_row0_col2\" class=\"data row0 col2\" >1.355777</td>\n",
       "      <td id=\"T_77fd0_row0_col3\" class=\"data row0 col3\" >1.374014</td>\n",
       "      <td id=\"T_77fd0_row0_col4\" class=\"data row0 col4\" >1.368327</td>\n",
       "      <td id=\"T_77fd0_row0_col5\" class=\"data row0 col5\" >1.373438</td>\n",
       "      <td id=\"T_77fd0_row0_col6\" class=\"data row0 col6\" >1.393376</td>\n",
       "      <td id=\"T_77fd0_row0_col7\" class=\"data row0 col7\" >1.377620</td>\n",
       "      <td id=\"T_77fd0_row0_col8\" class=\"data row0 col8\" >1.386181</td>\n",
       "      <td id=\"T_77fd0_row0_col9\" class=\"data row0 col9\" >1.356605</td>\n",
       "      <td id=\"T_77fd0_row0_col10\" class=\"data row0 col10\" >1.345197</td>\n",
       "    </tr>\n",
       "    <tr>\n",
       "      <th id=\"T_77fd0_level0_row1\" class=\"row_heading level0 row1\" >Cendrillon</th>\n",
       "      <td id=\"T_77fd0_row1_col0\" class=\"data row1 col0\" >1.373237</td>\n",
       "      <td id=\"T_77fd0_row1_col1\" class=\"data row1 col1\" >0.000000</td>\n",
       "      <td id=\"T_77fd0_row1_col2\" class=\"data row1 col2\" >1.375634</td>\n",
       "      <td id=\"T_77fd0_row1_col3\" class=\"data row1 col3\" >1.381346</td>\n",
       "      <td id=\"T_77fd0_row1_col4\" class=\"data row1 col4\" >1.383473</td>\n",
       "      <td id=\"T_77fd0_row1_col5\" class=\"data row1 col5\" >1.382734</td>\n",
       "      <td id=\"T_77fd0_row1_col6\" class=\"data row1 col6\" >1.379908</td>\n",
       "      <td id=\"T_77fd0_row1_col7\" class=\"data row1 col7\" >1.375117</td>\n",
       "      <td id=\"T_77fd0_row1_col8\" class=\"data row1 col8\" >1.387408</td>\n",
       "      <td id=\"T_77fd0_row1_col9\" class=\"data row1 col9\" >1.354227</td>\n",
       "      <td id=\"T_77fd0_row1_col10\" class=\"data row1 col10\" >1.350327</td>\n",
       "    </tr>\n",
       "    <tr>\n",
       "      <th id=\"T_77fd0_level0_row2\" class=\"row_heading level0 row2\" >Aurore</th>\n",
       "      <td id=\"T_77fd0_row2_col0\" class=\"data row2 col0\" >1.355777</td>\n",
       "      <td id=\"T_77fd0_row2_col1\" class=\"data row2 col1\" >1.375634</td>\n",
       "      <td id=\"T_77fd0_row2_col2\" class=\"data row2 col2\" >0.000000</td>\n",
       "      <td id=\"T_77fd0_row2_col3\" class=\"data row2 col3\" >1.361973</td>\n",
       "      <td id=\"T_77fd0_row2_col4\" class=\"data row2 col4\" >1.372278</td>\n",
       "      <td id=\"T_77fd0_row2_col5\" class=\"data row2 col5\" >1.384766</td>\n",
       "      <td id=\"T_77fd0_row2_col6\" class=\"data row2 col6\" >1.368598</td>\n",
       "      <td id=\"T_77fd0_row2_col7\" class=\"data row2 col7\" >1.365271</td>\n",
       "      <td id=\"T_77fd0_row2_col8\" class=\"data row2 col8\" >1.326518</td>\n",
       "      <td id=\"T_77fd0_row2_col9\" class=\"data row2 col9\" >1.350259</td>\n",
       "      <td id=\"T_77fd0_row2_col10\" class=\"data row2 col10\" >1.378867</td>\n",
       "    </tr>\n",
       "    <tr>\n",
       "      <th id=\"T_77fd0_level0_row3\" class=\"row_heading level0 row3\" >Ariel</th>\n",
       "      <td id=\"T_77fd0_row3_col0\" class=\"data row3 col0\" >1.374014</td>\n",
       "      <td id=\"T_77fd0_row3_col1\" class=\"data row3 col1\" >1.381346</td>\n",
       "      <td id=\"T_77fd0_row3_col2\" class=\"data row3 col2\" >1.361973</td>\n",
       "      <td id=\"T_77fd0_row3_col3\" class=\"data row3 col3\" >0.000000</td>\n",
       "      <td id=\"T_77fd0_row3_col4\" class=\"data row3 col4\" >1.365308</td>\n",
       "      <td id=\"T_77fd0_row3_col5\" class=\"data row3 col5\" >1.363705</td>\n",
       "      <td id=\"T_77fd0_row3_col6\" class=\"data row3 col6\" >1.386612</td>\n",
       "      <td id=\"T_77fd0_row3_col7\" class=\"data row3 col7\" >1.378191</td>\n",
       "      <td id=\"T_77fd0_row3_col8\" class=\"data row3 col8\" >1.375674</td>\n",
       "      <td id=\"T_77fd0_row3_col9\" class=\"data row3 col9\" >1.361189</td>\n",
       "      <td id=\"T_77fd0_row3_col10\" class=\"data row3 col10\" >1.354413</td>\n",
       "    </tr>\n",
       "    <tr>\n",
       "      <th id=\"T_77fd0_level0_row4\" class=\"row_heading level0 row4\" >Belle</th>\n",
       "      <td id=\"T_77fd0_row4_col0\" class=\"data row4 col0\" >1.368327</td>\n",
       "      <td id=\"T_77fd0_row4_col1\" class=\"data row4 col1\" >1.383473</td>\n",
       "      <td id=\"T_77fd0_row4_col2\" class=\"data row4 col2\" >1.372278</td>\n",
       "      <td id=\"T_77fd0_row4_col3\" class=\"data row4 col3\" >1.365308</td>\n",
       "      <td id=\"T_77fd0_row4_col4\" class=\"data row4 col4\" >0.000000</td>\n",
       "      <td id=\"T_77fd0_row4_col5\" class=\"data row4 col5\" >1.389688</td>\n",
       "      <td id=\"T_77fd0_row4_col6\" class=\"data row4 col6\" >1.379667</td>\n",
       "      <td id=\"T_77fd0_row4_col7\" class=\"data row4 col7\" >1.390559</td>\n",
       "      <td id=\"T_77fd0_row4_col8\" class=\"data row4 col8\" >1.383216</td>\n",
       "      <td id=\"T_77fd0_row4_col9\" class=\"data row4 col9\" >1.349807</td>\n",
       "      <td id=\"T_77fd0_row4_col10\" class=\"data row4 col10\" >1.391718</td>\n",
       "    </tr>\n",
       "    <tr>\n",
       "      <th id=\"T_77fd0_level0_row5\" class=\"row_heading level0 row5\" >Jasmine</th>\n",
       "      <td id=\"T_77fd0_row5_col0\" class=\"data row5 col0\" >1.373438</td>\n",
       "      <td id=\"T_77fd0_row5_col1\" class=\"data row5 col1\" >1.382734</td>\n",
       "      <td id=\"T_77fd0_row5_col2\" class=\"data row5 col2\" >1.384766</td>\n",
       "      <td id=\"T_77fd0_row5_col3\" class=\"data row5 col3\" >1.363705</td>\n",
       "      <td id=\"T_77fd0_row5_col4\" class=\"data row5 col4\" >1.389688</td>\n",
       "      <td id=\"T_77fd0_row5_col5\" class=\"data row5 col5\" >0.000000</td>\n",
       "      <td id=\"T_77fd0_row5_col6\" class=\"data row5 col6\" >1.391717</td>\n",
       "      <td id=\"T_77fd0_row5_col7\" class=\"data row5 col7\" >1.381168</td>\n",
       "      <td id=\"T_77fd0_row5_col8\" class=\"data row5 col8\" >1.331025</td>\n",
       "      <td id=\"T_77fd0_row5_col9\" class=\"data row5 col9\" >1.378530</td>\n",
       "      <td id=\"T_77fd0_row5_col10\" class=\"data row5 col10\" >1.395605</td>\n",
       "    </tr>\n",
       "    <tr>\n",
       "      <th id=\"T_77fd0_level0_row6\" class=\"row_heading level0 row6\" >Pocahontas</th>\n",
       "      <td id=\"T_77fd0_row6_col0\" class=\"data row6 col0\" >1.393376</td>\n",
       "      <td id=\"T_77fd0_row6_col1\" class=\"data row6 col1\" >1.379908</td>\n",
       "      <td id=\"T_77fd0_row6_col2\" class=\"data row6 col2\" >1.368598</td>\n",
       "      <td id=\"T_77fd0_row6_col3\" class=\"data row6 col3\" >1.386612</td>\n",
       "      <td id=\"T_77fd0_row6_col4\" class=\"data row6 col4\" >1.379667</td>\n",
       "      <td id=\"T_77fd0_row6_col5\" class=\"data row6 col5\" >1.391717</td>\n",
       "      <td id=\"T_77fd0_row6_col6\" class=\"data row6 col6\" >0.000000</td>\n",
       "      <td id=\"T_77fd0_row6_col7\" class=\"data row6 col7\" >1.343865</td>\n",
       "      <td id=\"T_77fd0_row6_col8\" class=\"data row6 col8\" >1.349423</td>\n",
       "      <td id=\"T_77fd0_row6_col9\" class=\"data row6 col9\" >1.343287</td>\n",
       "      <td id=\"T_77fd0_row6_col10\" class=\"data row6 col10\" >1.386570</td>\n",
       "    </tr>\n",
       "    <tr>\n",
       "      <th id=\"T_77fd0_level0_row7\" class=\"row_heading level0 row7\" >Mulan</th>\n",
       "      <td id=\"T_77fd0_row7_col0\" class=\"data row7 col0\" >1.377620</td>\n",
       "      <td id=\"T_77fd0_row7_col1\" class=\"data row7 col1\" >1.375117</td>\n",
       "      <td id=\"T_77fd0_row7_col2\" class=\"data row7 col2\" >1.365271</td>\n",
       "      <td id=\"T_77fd0_row7_col3\" class=\"data row7 col3\" >1.378191</td>\n",
       "      <td id=\"T_77fd0_row7_col4\" class=\"data row7 col4\" >1.390559</td>\n",
       "      <td id=\"T_77fd0_row7_col5\" class=\"data row7 col5\" >1.381168</td>\n",
       "      <td id=\"T_77fd0_row7_col6\" class=\"data row7 col6\" >1.343865</td>\n",
       "      <td id=\"T_77fd0_row7_col7\" class=\"data row7 col7\" >0.000000</td>\n",
       "      <td id=\"T_77fd0_row7_col8\" class=\"data row7 col8\" >1.335878</td>\n",
       "      <td id=\"T_77fd0_row7_col9\" class=\"data row7 col9\" >1.366105</td>\n",
       "      <td id=\"T_77fd0_row7_col10\" class=\"data row7 col10\" >1.395790</td>\n",
       "    </tr>\n",
       "    <tr>\n",
       "      <th id=\"T_77fd0_level0_row8\" class=\"row_heading level0 row8\" >Tiana</th>\n",
       "      <td id=\"T_77fd0_row8_col0\" class=\"data row8 col0\" >1.386181</td>\n",
       "      <td id=\"T_77fd0_row8_col1\" class=\"data row8 col1\" >1.387408</td>\n",
       "      <td id=\"T_77fd0_row8_col2\" class=\"data row8 col2\" >1.326518</td>\n",
       "      <td id=\"T_77fd0_row8_col3\" class=\"data row8 col3\" >1.375674</td>\n",
       "      <td id=\"T_77fd0_row8_col4\" class=\"data row8 col4\" >1.383216</td>\n",
       "      <td id=\"T_77fd0_row8_col5\" class=\"data row8 col5\" >1.331025</td>\n",
       "      <td id=\"T_77fd0_row8_col6\" class=\"data row8 col6\" >1.349423</td>\n",
       "      <td id=\"T_77fd0_row8_col7\" class=\"data row8 col7\" >1.335878</td>\n",
       "      <td id=\"T_77fd0_row8_col8\" class=\"data row8 col8\" >0.000000</td>\n",
       "      <td id=\"T_77fd0_row8_col9\" class=\"data row8 col9\" >1.365730</td>\n",
       "      <td id=\"T_77fd0_row8_col10\" class=\"data row8 col10\" >1.378886</td>\n",
       "    </tr>\n",
       "    <tr>\n",
       "      <th id=\"T_77fd0_level0_row9\" class=\"row_heading level0 row9\" >Raiponce</th>\n",
       "      <td id=\"T_77fd0_row9_col0\" class=\"data row9 col0\" >1.356605</td>\n",
       "      <td id=\"T_77fd0_row9_col1\" class=\"data row9 col1\" >1.354227</td>\n",
       "      <td id=\"T_77fd0_row9_col2\" class=\"data row9 col2\" >1.350259</td>\n",
       "      <td id=\"T_77fd0_row9_col3\" class=\"data row9 col3\" >1.361189</td>\n",
       "      <td id=\"T_77fd0_row9_col4\" class=\"data row9 col4\" >1.349807</td>\n",
       "      <td id=\"T_77fd0_row9_col5\" class=\"data row9 col5\" >1.378530</td>\n",
       "      <td id=\"T_77fd0_row9_col6\" class=\"data row9 col6\" >1.343287</td>\n",
       "      <td id=\"T_77fd0_row9_col7\" class=\"data row9 col7\" >1.366105</td>\n",
       "      <td id=\"T_77fd0_row9_col8\" class=\"data row9 col8\" >1.365730</td>\n",
       "      <td id=\"T_77fd0_row9_col9\" class=\"data row9 col9\" >0.000000</td>\n",
       "      <td id=\"T_77fd0_row9_col10\" class=\"data row9 col10\" >1.367093</td>\n",
       "    </tr>\n",
       "    <tr>\n",
       "      <th id=\"T_77fd0_level0_row10\" class=\"row_heading level0 row10\" >Mérida</th>\n",
       "      <td id=\"T_77fd0_row10_col0\" class=\"data row10 col0\" >1.345197</td>\n",
       "      <td id=\"T_77fd0_row10_col1\" class=\"data row10 col1\" >1.350327</td>\n",
       "      <td id=\"T_77fd0_row10_col2\" class=\"data row10 col2\" >1.378867</td>\n",
       "      <td id=\"T_77fd0_row10_col3\" class=\"data row10 col3\" >1.354413</td>\n",
       "      <td id=\"T_77fd0_row10_col4\" class=\"data row10 col4\" >1.391718</td>\n",
       "      <td id=\"T_77fd0_row10_col5\" class=\"data row10 col5\" >1.395605</td>\n",
       "      <td id=\"T_77fd0_row10_col6\" class=\"data row10 col6\" >1.386570</td>\n",
       "      <td id=\"T_77fd0_row10_col7\" class=\"data row10 col7\" >1.395790</td>\n",
       "      <td id=\"T_77fd0_row10_col8\" class=\"data row10 col8\" >1.378886</td>\n",
       "      <td id=\"T_77fd0_row10_col9\" class=\"data row10 col9\" >1.367093</td>\n",
       "      <td id=\"T_77fd0_row10_col10\" class=\"data row10 col10\" >0.000000</td>\n",
       "    </tr>\n",
       "  </tbody>\n",
       "</table>\n"
      ],
      "text/plain": [
       "<pandas.io.formats.style.Styler at 0x7fcce05893d0>"
      ]
     },
     "execution_count": 4,
     "metadata": {},
     "output_type": "execute_result"
    }
   ],
   "source": [
    "from sklearn.metrics.pairwise import euclidean_distances\n",
    "\n",
    "dist_euc = euclidean_distances(tfidf_matrix.values)\n",
    "dist_euc = pd.DataFrame(dist_euc, columns = df.index, index = df.index)\n",
    "\n",
    "dist_euc.style.background_gradient(cmap='Reds')"
   ]
  },
  {
   "cell_type": "markdown",
   "id": "e9325fc0",
   "metadata": {
    "slideshow": {
     "slide_type": "slide"
    }
   },
   "source": [
    "# Cosine distance\n",
    "\n",
    "<br>\n",
    "<center><img src='img/dist_cos.png' style='height:350px;'>\n",
    "<small>Image credit: R-Bloggers</small></center>"
   ]
  },
  {
   "cell_type": "code",
   "execution_count": 6,
   "id": "b7caf908",
   "metadata": {
    "slideshow": {
     "slide_type": "slide"
    }
   },
   "outputs": [
    {
     "data": {
      "text/html": [
       "<style type=\"text/css\">\n",
       "#T_61814_row0_col0, #T_61814_row1_col1, #T_61814_row2_col2, #T_61814_row3_col3, #T_61814_row4_col4, #T_61814_row5_col5, #T_61814_row6_col6, #T_61814_row7_col7, #T_61814_row8_col8, #T_61814_row9_col9, #T_61814_row10_col10 {\n",
       "  background-color: #fff5f0;\n",
       "  color: #000000;\n",
       "}\n",
       "#T_61814_row0_col1, #T_61814_row4_col6, #T_61814_row5_col7, #T_61814_row6_col2, #T_61814_row7_col0, #T_61814_row7_col5 {\n",
       "  background-color: #71020e;\n",
       "  color: #f1f1f1;\n",
       "}\n",
       "#T_61814_row0_col2, #T_61814_row2_col9, #T_61814_row4_col9, #T_61814_row9_col7, #T_61814_row9_col10 {\n",
       "  background-color: #7a0510;\n",
       "  color: #f1f1f1;\n",
       "}\n",
       "#T_61814_row0_col3, #T_61814_row1_col5, #T_61814_row1_col6, #T_61814_row2_col1, #T_61814_row3_col8, #T_61814_row4_col2, #T_61814_row6_col4, #T_61814_row7_col1, #T_61814_row7_col9, #T_61814_row8_col3, #T_61814_row8_col9, #T_61814_row10_col9 {\n",
       "  background-color: #6f020e;\n",
       "  color: #f1f1f1;\n",
       "}\n",
       "#T_61814_row0_col4, #T_61814_row0_col5, #T_61814_row0_col9, #T_61814_row1_col9, #T_61814_row3_col2, #T_61814_row5_col3 {\n",
       "  background-color: #77040f;\n",
       "  color: #f1f1f1;\n",
       "}\n",
       "#T_61814_row0_col6, #T_61814_row0_col8, #T_61814_row1_col8, #T_61814_row5_col2, #T_61814_row5_col4, #T_61814_row5_col6, #T_61814_row5_col9, #T_61814_row5_col10, #T_61814_row6_col0, #T_61814_row6_col3, #T_61814_row7_col4, #T_61814_row7_col10, #T_61814_row8_col1, #T_61814_row10_col4, #T_61814_row10_col5, #T_61814_row10_col7 {\n",
       "  background-color: #67000d;\n",
       "  color: #f1f1f1;\n",
       "}\n",
       "#T_61814_row0_col7, #T_61814_row2_col10, #T_61814_row3_col7, #T_61814_row3_col9, #T_61814_row8_col10, #T_61814_row9_col5 {\n",
       "  background-color: #73030f;\n",
       "  color: #f1f1f1;\n",
       "}\n",
       "#T_61814_row0_col10, #T_61814_row6_col7, #T_61814_row7_col8, #T_61814_row9_col6 {\n",
       "  background-color: #8a0812;\n",
       "  color: #f1f1f1;\n",
       "}\n",
       "#T_61814_row1_col0, #T_61814_row1_col7, #T_61814_row2_col4, #T_61814_row3_col0, #T_61814_row4_col3, #T_61814_row5_col0, #T_61814_row7_col2, #T_61814_row9_col8 {\n",
       "  background-color: #75030f;\n",
       "  color: #f1f1f1;\n",
       "}\n",
       "#T_61814_row1_col2, #T_61814_row1_col4, #T_61814_row2_col5, #T_61814_row6_col10, #T_61814_row7_col3, #T_61814_row8_col4, #T_61814_row10_col8 {\n",
       "  background-color: #6d010e;\n",
       "  color: #f1f1f1;\n",
       "}\n",
       "#T_61814_row1_col3, #T_61814_row4_col1, #T_61814_row4_col7, #T_61814_row4_col8, #T_61814_row4_col10, #T_61814_row5_col1, #T_61814_row6_col5 {\n",
       "  background-color: #69000d;\n",
       "  color: #f1f1f1;\n",
       "}\n",
       "#T_61814_row1_col10 {\n",
       "  background-color: #860811;\n",
       "  color: #f1f1f1;\n",
       "}\n",
       "#T_61814_row2_col0, #T_61814_row6_col8, #T_61814_row9_col0, #T_61814_row10_col1 {\n",
       "  background-color: #800610;\n",
       "  color: #f1f1f1;\n",
       "}\n",
       "#T_61814_row2_col3, #T_61814_row2_col6, #T_61814_row3_col4, #T_61814_row4_col0, #T_61814_row9_col3 {\n",
       "  background-color: #79040f;\n",
       "  color: #f1f1f1;\n",
       "}\n",
       "#T_61814_row2_col7, #T_61814_row3_col5, #T_61814_row10_col3 {\n",
       "  background-color: #7c0510;\n",
       "  color: #f1f1f1;\n",
       "}\n",
       "#T_61814_row2_col8, #T_61814_row8_col2, #T_61814_row8_col7 {\n",
       "  background-color: #900a12;\n",
       "  color: #f1f1f1;\n",
       "}\n",
       "#T_61814_row3_col1, #T_61814_row3_col6, #T_61814_row4_col5, #T_61814_row6_col1, #T_61814_row8_col0, #T_61814_row10_col2, #T_61814_row10_col6 {\n",
       "  background-color: #6b010e;\n",
       "  color: #f1f1f1;\n",
       "}\n",
       "#T_61814_row3_col10 {\n",
       "  background-color: #820711;\n",
       "  color: #f1f1f1;\n",
       "}\n",
       "#T_61814_row5_col8 {\n",
       "  background-color: #8e0912;\n",
       "  color: #f1f1f1;\n",
       "}\n",
       "#T_61814_row6_col9, #T_61814_row9_col1, #T_61814_row9_col2 {\n",
       "  background-color: #7e0610;\n",
       "  color: #f1f1f1;\n",
       "}\n",
       "#T_61814_row7_col6, #T_61814_row10_col0 {\n",
       "  background-color: #880811;\n",
       "  color: #f1f1f1;\n",
       "}\n",
       "#T_61814_row8_col5 {\n",
       "  background-color: #940b13;\n",
       "  color: #f1f1f1;\n",
       "}\n",
       "#T_61814_row8_col6, #T_61814_row9_col4 {\n",
       "  background-color: #840711;\n",
       "  color: #f1f1f1;\n",
       "}\n",
       "</style>\n",
       "<table id=\"T_61814_\">\n",
       "  <thead>\n",
       "    <tr>\n",
       "      <th class=\"index_name level0\" >princess</th>\n",
       "      <th class=\"col_heading level0 col0\" >Blanche-Neige</th>\n",
       "      <th class=\"col_heading level0 col1\" >Cendrillon</th>\n",
       "      <th class=\"col_heading level0 col2\" >Aurore</th>\n",
       "      <th class=\"col_heading level0 col3\" >Ariel</th>\n",
       "      <th class=\"col_heading level0 col4\" >Belle</th>\n",
       "      <th class=\"col_heading level0 col5\" >Jasmine</th>\n",
       "      <th class=\"col_heading level0 col6\" >Pocahontas</th>\n",
       "      <th class=\"col_heading level0 col7\" >Mulan</th>\n",
       "      <th class=\"col_heading level0 col8\" >Tiana</th>\n",
       "      <th class=\"col_heading level0 col9\" >Raiponce</th>\n",
       "      <th class=\"col_heading level0 col10\" >Mérida</th>\n",
       "    </tr>\n",
       "    <tr>\n",
       "      <th class=\"index_name level0\" >princess</th>\n",
       "      <th class=\"blank col0\" >&nbsp;</th>\n",
       "      <th class=\"blank col1\" >&nbsp;</th>\n",
       "      <th class=\"blank col2\" >&nbsp;</th>\n",
       "      <th class=\"blank col3\" >&nbsp;</th>\n",
       "      <th class=\"blank col4\" >&nbsp;</th>\n",
       "      <th class=\"blank col5\" >&nbsp;</th>\n",
       "      <th class=\"blank col6\" >&nbsp;</th>\n",
       "      <th class=\"blank col7\" >&nbsp;</th>\n",
       "      <th class=\"blank col8\" >&nbsp;</th>\n",
       "      <th class=\"blank col9\" >&nbsp;</th>\n",
       "      <th class=\"blank col10\" >&nbsp;</th>\n",
       "    </tr>\n",
       "  </thead>\n",
       "  <tbody>\n",
       "    <tr>\n",
       "      <th id=\"T_61814_level0_row0\" class=\"row_heading level0 row0\" >Blanche-Neige</th>\n",
       "      <td id=\"T_61814_row0_col0\" class=\"data row0 col0\" >0.000000</td>\n",
       "      <td id=\"T_61814_row0_col1\" class=\"data row0 col1\" >0.942889</td>\n",
       "      <td id=\"T_61814_row0_col2\" class=\"data row0 col2\" >0.919066</td>\n",
       "      <td id=\"T_61814_row0_col3\" class=\"data row0 col3\" >0.943958</td>\n",
       "      <td id=\"T_61814_row0_col4\" class=\"data row0 col4\" >0.936159</td>\n",
       "      <td id=\"T_61814_row0_col5\" class=\"data row0 col5\" >0.943166</td>\n",
       "      <td id=\"T_61814_row0_col6\" class=\"data row0 col6\" >0.970748</td>\n",
       "      <td id=\"T_61814_row0_col7\" class=\"data row0 col7\" >0.948919</td>\n",
       "      <td id=\"T_61814_row0_col8\" class=\"data row0 col8\" >0.960749</td>\n",
       "      <td id=\"T_61814_row0_col9\" class=\"data row0 col9\" >0.920188</td>\n",
       "      <td id=\"T_61814_row0_col10\" class=\"data row0 col10\" >0.904777</td>\n",
       "    </tr>\n",
       "    <tr>\n",
       "      <th id=\"T_61814_level0_row1\" class=\"row_heading level0 row1\" >Cendrillon</th>\n",
       "      <td id=\"T_61814_row1_col0\" class=\"data row1 col0\" >0.942889</td>\n",
       "      <td id=\"T_61814_row1_col1\" class=\"data row1 col1\" >0.000000</td>\n",
       "      <td id=\"T_61814_row1_col2\" class=\"data row1 col2\" >0.946185</td>\n",
       "      <td id=\"T_61814_row1_col3\" class=\"data row1 col3\" >0.954058</td>\n",
       "      <td id=\"T_61814_row1_col4\" class=\"data row1 col4\" >0.956999</td>\n",
       "      <td id=\"T_61814_row1_col5\" class=\"data row1 col5\" >0.955976</td>\n",
       "      <td id=\"T_61814_row1_col6\" class=\"data row1 col6\" >0.952073</td>\n",
       "      <td id=\"T_61814_row1_col7\" class=\"data row1 col7\" >0.945473</td>\n",
       "      <td id=\"T_61814_row1_col8\" class=\"data row1 col8\" >0.962450</td>\n",
       "      <td id=\"T_61814_row1_col9\" class=\"data row1 col9\" >0.916965</td>\n",
       "      <td id=\"T_61814_row1_col10\" class=\"data row1 col10\" >0.911691</td>\n",
       "    </tr>\n",
       "    <tr>\n",
       "      <th id=\"T_61814_level0_row2\" class=\"row_heading level0 row2\" >Aurore</th>\n",
       "      <td id=\"T_61814_row2_col0\" class=\"data row2 col0\" >0.919066</td>\n",
       "      <td id=\"T_61814_row2_col1\" class=\"data row2 col1\" >0.946185</td>\n",
       "      <td id=\"T_61814_row2_col2\" class=\"data row2 col2\" >0.000000</td>\n",
       "      <td id=\"T_61814_row2_col3\" class=\"data row2 col3\" >0.927486</td>\n",
       "      <td id=\"T_61814_row2_col4\" class=\"data row2 col4\" >0.941573</td>\n",
       "      <td id=\"T_61814_row2_col5\" class=\"data row2 col5\" >0.958789</td>\n",
       "      <td id=\"T_61814_row2_col6\" class=\"data row2 col6\" >0.936531</td>\n",
       "      <td id=\"T_61814_row2_col7\" class=\"data row2 col7\" >0.931983</td>\n",
       "      <td id=\"T_61814_row2_col8\" class=\"data row2 col8\" >0.879825</td>\n",
       "      <td id=\"T_61814_row2_col9\" class=\"data row2 col9\" >0.911600</td>\n",
       "      <td id=\"T_61814_row2_col10\" class=\"data row2 col10\" >0.950637</td>\n",
       "    </tr>\n",
       "    <tr>\n",
       "      <th id=\"T_61814_level0_row3\" class=\"row_heading level0 row3\" >Ariel</th>\n",
       "      <td id=\"T_61814_row3_col0\" class=\"data row3 col0\" >0.943958</td>\n",
       "      <td id=\"T_61814_row3_col1\" class=\"data row3 col1\" >0.954058</td>\n",
       "      <td id=\"T_61814_row3_col2\" class=\"data row3 col2\" >0.927486</td>\n",
       "      <td id=\"T_61814_row3_col3\" class=\"data row3 col3\" >0.000000</td>\n",
       "      <td id=\"T_61814_row3_col4\" class=\"data row3 col4\" >0.932033</td>\n",
       "      <td id=\"T_61814_row3_col5\" class=\"data row3 col5\" >0.929845</td>\n",
       "      <td id=\"T_61814_row3_col6\" class=\"data row3 col6\" >0.961347</td>\n",
       "      <td id=\"T_61814_row3_col7\" class=\"data row3 col7\" >0.949705</td>\n",
       "      <td id=\"T_61814_row3_col8\" class=\"data row3 col8\" >0.946239</td>\n",
       "      <td id=\"T_61814_row3_col9\" class=\"data row3 col9\" >0.926418</td>\n",
       "      <td id=\"T_61814_row3_col10\" class=\"data row3 col10\" >0.917217</td>\n",
       "    </tr>\n",
       "    <tr>\n",
       "      <th id=\"T_61814_level0_row4\" class=\"row_heading level0 row4\" >Belle</th>\n",
       "      <td id=\"T_61814_row4_col0\" class=\"data row4 col0\" >0.936159</td>\n",
       "      <td id=\"T_61814_row4_col1\" class=\"data row4 col1\" >0.956999</td>\n",
       "      <td id=\"T_61814_row4_col2\" class=\"data row4 col2\" >0.941573</td>\n",
       "      <td id=\"T_61814_row4_col3\" class=\"data row4 col3\" >0.932033</td>\n",
       "      <td id=\"T_61814_row4_col4\" class=\"data row4 col4\" >0.000000</td>\n",
       "      <td id=\"T_61814_row4_col5\" class=\"data row4 col5\" >0.965616</td>\n",
       "      <td id=\"T_61814_row4_col6\" class=\"data row4 col6\" >0.951740</td>\n",
       "      <td id=\"T_61814_row4_col7\" class=\"data row4 col7\" >0.966827</td>\n",
       "      <td id=\"T_61814_row4_col8\" class=\"data row4 col8\" >0.956643</td>\n",
       "      <td id=\"T_61814_row4_col9\" class=\"data row4 col9\" >0.910989</td>\n",
       "      <td id=\"T_61814_row4_col10\" class=\"data row4 col10\" >0.968439</td>\n",
       "    </tr>\n",
       "    <tr>\n",
       "      <th id=\"T_61814_level0_row5\" class=\"row_heading level0 row5\" >Jasmine</th>\n",
       "      <td id=\"T_61814_row5_col0\" class=\"data row5 col0\" >0.943166</td>\n",
       "      <td id=\"T_61814_row5_col1\" class=\"data row5 col1\" >0.955976</td>\n",
       "      <td id=\"T_61814_row5_col2\" class=\"data row5 col2\" >0.958789</td>\n",
       "      <td id=\"T_61814_row5_col3\" class=\"data row5 col3\" >0.929845</td>\n",
       "      <td id=\"T_61814_row5_col4\" class=\"data row5 col4\" >0.965616</td>\n",
       "      <td id=\"T_61814_row5_col5\" class=\"data row5 col5\" >0.000000</td>\n",
       "      <td id=\"T_61814_row5_col6\" class=\"data row5 col6\" >0.968438</td>\n",
       "      <td id=\"T_61814_row5_col7\" class=\"data row5 col7\" >0.953813</td>\n",
       "      <td id=\"T_61814_row5_col8\" class=\"data row5 col8\" >0.885813</td>\n",
       "      <td id=\"T_61814_row5_col9\" class=\"data row5 col9\" >0.950172</td>\n",
       "      <td id=\"T_61814_row5_col10\" class=\"data row5 col10\" >0.973857</td>\n",
       "    </tr>\n",
       "    <tr>\n",
       "      <th id=\"T_61814_level0_row6\" class=\"row_heading level0 row6\" >Pocahontas</th>\n",
       "      <td id=\"T_61814_row6_col0\" class=\"data row6 col0\" >0.970748</td>\n",
       "      <td id=\"T_61814_row6_col1\" class=\"data row6 col1\" >0.952073</td>\n",
       "      <td id=\"T_61814_row6_col2\" class=\"data row6 col2\" >0.936531</td>\n",
       "      <td id=\"T_61814_row6_col3\" class=\"data row6 col3\" >0.961347</td>\n",
       "      <td id=\"T_61814_row6_col4\" class=\"data row6 col4\" >0.951740</td>\n",
       "      <td id=\"T_61814_row6_col5\" class=\"data row6 col5\" >0.968438</td>\n",
       "      <td id=\"T_61814_row6_col6\" class=\"data row6 col6\" >0.000000</td>\n",
       "      <td id=\"T_61814_row6_col7\" class=\"data row6 col7\" >0.902987</td>\n",
       "      <td id=\"T_61814_row6_col8\" class=\"data row6 col8\" >0.910472</td>\n",
       "      <td id=\"T_61814_row6_col9\" class=\"data row6 col9\" >0.902210</td>\n",
       "      <td id=\"T_61814_row6_col10\" class=\"data row6 col10\" >0.961288</td>\n",
       "    </tr>\n",
       "    <tr>\n",
       "      <th id=\"T_61814_level0_row7\" class=\"row_heading level0 row7\" >Mulan</th>\n",
       "      <td id=\"T_61814_row7_col0\" class=\"data row7 col0\" >0.948919</td>\n",
       "      <td id=\"T_61814_row7_col1\" class=\"data row7 col1\" >0.945473</td>\n",
       "      <td id=\"T_61814_row7_col2\" class=\"data row7 col2\" >0.931983</td>\n",
       "      <td id=\"T_61814_row7_col3\" class=\"data row7 col3\" >0.949705</td>\n",
       "      <td id=\"T_61814_row7_col4\" class=\"data row7 col4\" >0.966827</td>\n",
       "      <td id=\"T_61814_row7_col5\" class=\"data row7 col5\" >0.953813</td>\n",
       "      <td id=\"T_61814_row7_col6\" class=\"data row7 col6\" >0.902987</td>\n",
       "      <td id=\"T_61814_row7_col7\" class=\"data row7 col7\" >0.000000</td>\n",
       "      <td id=\"T_61814_row7_col8\" class=\"data row7 col8\" >0.892285</td>\n",
       "      <td id=\"T_61814_row7_col9\" class=\"data row7 col9\" >0.933121</td>\n",
       "      <td id=\"T_61814_row7_col10\" class=\"data row7 col10\" >0.974115</td>\n",
       "    </tr>\n",
       "    <tr>\n",
       "      <th id=\"T_61814_level0_row8\" class=\"row_heading level0 row8\" >Tiana</th>\n",
       "      <td id=\"T_61814_row8_col0\" class=\"data row8 col0\" >0.960749</td>\n",
       "      <td id=\"T_61814_row8_col1\" class=\"data row8 col1\" >0.962450</td>\n",
       "      <td id=\"T_61814_row8_col2\" class=\"data row8 col2\" >0.879825</td>\n",
       "      <td id=\"T_61814_row8_col3\" class=\"data row8 col3\" >0.946239</td>\n",
       "      <td id=\"T_61814_row8_col4\" class=\"data row8 col4\" >0.956643</td>\n",
       "      <td id=\"T_61814_row8_col5\" class=\"data row8 col5\" >0.885813</td>\n",
       "      <td id=\"T_61814_row8_col6\" class=\"data row8 col6\" >0.910472</td>\n",
       "      <td id=\"T_61814_row8_col7\" class=\"data row8 col7\" >0.892285</td>\n",
       "      <td id=\"T_61814_row8_col8\" class=\"data row8 col8\" >0.000000</td>\n",
       "      <td id=\"T_61814_row8_col9\" class=\"data row8 col9\" >0.932609</td>\n",
       "      <td id=\"T_61814_row8_col10\" class=\"data row8 col10\" >0.950664</td>\n",
       "    </tr>\n",
       "    <tr>\n",
       "      <th id=\"T_61814_level0_row9\" class=\"row_heading level0 row9\" >Raiponce</th>\n",
       "      <td id=\"T_61814_row9_col0\" class=\"data row9 col0\" >0.920188</td>\n",
       "      <td id=\"T_61814_row9_col1\" class=\"data row9 col1\" >0.916965</td>\n",
       "      <td id=\"T_61814_row9_col2\" class=\"data row9 col2\" >0.911600</td>\n",
       "      <td id=\"T_61814_row9_col3\" class=\"data row9 col3\" >0.926418</td>\n",
       "      <td id=\"T_61814_row9_col4\" class=\"data row9 col4\" >0.910989</td>\n",
       "      <td id=\"T_61814_row9_col5\" class=\"data row9 col5\" >0.950172</td>\n",
       "      <td id=\"T_61814_row9_col6\" class=\"data row9 col6\" >0.902210</td>\n",
       "      <td id=\"T_61814_row9_col7\" class=\"data row9 col7\" >0.933121</td>\n",
       "      <td id=\"T_61814_row9_col8\" class=\"data row9 col8\" >0.932609</td>\n",
       "      <td id=\"T_61814_row9_col9\" class=\"data row9 col9\" >0.000000</td>\n",
       "      <td id=\"T_61814_row9_col10\" class=\"data row9 col10\" >0.934472</td>\n",
       "    </tr>\n",
       "    <tr>\n",
       "      <th id=\"T_61814_level0_row10\" class=\"row_heading level0 row10\" >Mérida</th>\n",
       "      <td id=\"T_61814_row10_col0\" class=\"data row10 col0\" >0.904777</td>\n",
       "      <td id=\"T_61814_row10_col1\" class=\"data row10 col1\" >0.911691</td>\n",
       "      <td id=\"T_61814_row10_col2\" class=\"data row10 col2\" >0.950637</td>\n",
       "      <td id=\"T_61814_row10_col3\" class=\"data row10 col3\" >0.917217</td>\n",
       "      <td id=\"T_61814_row10_col4\" class=\"data row10 col4\" >0.968439</td>\n",
       "      <td id=\"T_61814_row10_col5\" class=\"data row10 col5\" >0.973857</td>\n",
       "      <td id=\"T_61814_row10_col6\" class=\"data row10 col6\" >0.961288</td>\n",
       "      <td id=\"T_61814_row10_col7\" class=\"data row10 col7\" >0.974115</td>\n",
       "      <td id=\"T_61814_row10_col8\" class=\"data row10 col8\" >0.950664</td>\n",
       "      <td id=\"T_61814_row10_col9\" class=\"data row10 col9\" >0.934472</td>\n",
       "      <td id=\"T_61814_row10_col10\" class=\"data row10 col10\" >0.000000</td>\n",
       "    </tr>\n",
       "  </tbody>\n",
       "</table>\n"
      ],
      "text/plain": [
       "<pandas.io.formats.style.Styler at 0x7fcd1c1d2c70>"
      ]
     },
     "execution_count": 6,
     "metadata": {},
     "output_type": "execute_result"
    }
   ],
   "source": [
    "from sklearn.metrics.pairwise import cosine_distances\n",
    "\n",
    "dist_cos = cosine_distances(tfidf_matrix.values)\n",
    "dist_cos = pd.DataFrame(dist_cos, columns = df.index, index = df.index)\n",
    "dist_cos.style.background_gradient(cmap='Reds')"
   ]
  },
  {
   "cell_type": "markdown",
   "id": "389a3040",
   "metadata": {
    "slideshow": {
     "slide_type": "slide"
    }
   },
   "source": [
    "# 🔮 Going from TF-IDF to Word2Vec\n",
    "\n",
    "- So far, the vector representations of text that we have seen treat linguistic units as atomic units.\n",
    "- Vectors are sparse\n",
    "- They have problems with words outside the vocabulary\n",
    "\n",
    "With distributed representations, such as **word2vec**, we can create dense, low-dimensional representations that capture distributional similarities between words"
   ]
  },
  {
   "cell_type": "markdown",
   "id": "54c2a4bb",
   "metadata": {
    "slideshow": {
     "slide_type": "slide"
    }
   },
   "source": [
    "# ⏪ Today's recap\n",
    "\n",
    "- TF-IDF\n",
    "- Word2Vec"
   ]
  },
  {
   "cell_type": "markdown",
   "id": "c3c47662",
   "metadata": {
    "slideshow": {
     "slide_type": "slide"
    }
   },
   "source": [
    "<center><img src='img/bye.gif' style='height:250px;'></center> \n",
    "\n",
    "# Next class: Performance metrics\n",
    "# See you next Friday!"
   ]
  }
 ],
 "metadata": {
  "celltoolbar": "Slideshow",
  "kernelspec": {
   "display_name": "Python 3 (ipykernel)",
   "language": "python",
   "name": "python3"
  },
  "language_info": {
   "codemirror_mode": {
    "name": "ipython",
    "version": 3
   },
   "file_extension": ".py",
   "mimetype": "text/x-python",
   "name": "python",
   "nbconvert_exporter": "python",
   "pygments_lexer": "ipython3",
   "version": "3.9.7"
  }
 },
 "nbformat": 4,
 "nbformat_minor": 5
}
