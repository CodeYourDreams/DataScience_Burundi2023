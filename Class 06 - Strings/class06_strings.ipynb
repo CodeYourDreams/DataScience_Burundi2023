{
 "cells": [
  {
   "cell_type": "markdown",
   "id": "674ac2a7",
   "metadata": {
    "slideshow": {
     "slide_type": "slide"
    }
   },
   "source": [
    "# We will start soon! @3:05 p.m.\n",
    "https://www.youtube.com/watch?v=KR5erT2o5KY&list=PLuwfalDx4tX06urs1vS65DSUbIjc3NGmN&ab_channel=nzokira"
   ]
  },
  {
   "cell_type": "markdown",
   "id": "843e46f7",
   "metadata": {
    "slideshow": {
     "slide_type": "slide"
    }
   },
   "source": [
    "<center><img src='img/cdy.png' style='width:500px; float: left; margin: 0px 30px 15px 0px'></center>\n",
    "\n",
    "# Arithmetic syntax\n",
    "## Class 6 - Strings \n",
    "\n",
    "<br>\n",
    "\n",
    "#### Women Building Change scholarship program 2023 🇧🇮\n",
    "March 3, 2023\n",
    "\n",
    "\n",
    "\n"
   ]
  },
  {
   "cell_type": "markdown",
   "id": "79f3848e",
   "metadata": {
    "slideshow": {
     "slide_type": "slide"
    }
   },
   "source": [
    "# Recap last class\n",
    "\n",
    "- - Arithmetic syntax\n",
    "    - Operations that stay the same: sum, subtraction, multiplication\n",
    "    - True division: `/` returns a float and Floor division: `//` returns an integer\n",
    "    - Modulus operator: `%` Returns remainder after the division of two numbers\n",
    "    - Comparisons: `==`, `!=`, `>`, `<`, `>=`, `<=`\n",
    "    - Logical operators: ``and``, `or`, `not`\n"
   ]
  },
  {
   "cell_type": "markdown",
   "id": "ed6b1b4e",
   "metadata": {
    "slideshow": {
     "slide_type": "slide"
    }
   },
   "source": [
    "# Recap last class continued\n",
    "\n",
    "You find 26 coins while walking to school that you decide to split between yourself and your 3 closest friends.\n",
    "Write an expression that will tell you how many pennies are left over after the split."
   ]
  },
  {
   "cell_type": "code",
   "execution_count": null,
   "id": "42327b86",
   "metadata": {
    "slideshow": {
     "slide_type": "fragment"
    }
   },
   "outputs": [],
   "source": []
  },
  {
   "cell_type": "markdown",
   "id": "82476939",
   "metadata": {
    "slideshow": {
     "slide_type": "slide"
    }
   },
   "source": [
    "# 🚀 Today's agenda\n",
    "\n",
    "- Strings\n"
   ]
  },
  {
   "cell_type": "markdown",
   "id": "d7c97442",
   "metadata": {
    "slideshow": {
     "slide_type": "slide"
    }
   },
   "source": [
    "# Google Colab: https://colab.research.google.com/\n",
    "\n",
    "<br>\n",
    "<center><img src='img/superhero.gif' style='height:350px; float: center; margin: 0px 30px 15px 0px'></center>\n",
    "\n"
   ]
  },
  {
   "cell_type": "markdown",
   "id": "7080fefb",
   "metadata": {
    "slideshow": {
     "slide_type": "slide"
    }
   },
   "source": [
    "# Strings\n",
    "\n",
    "Strings are anything between \"quotations\" (either single or double quotation marks)"
   ]
  },
  {
   "cell_type": "code",
   "execution_count": null,
   "id": "c5cc5b79",
   "metadata": {
    "slideshow": {
     "slide_type": "fragment"
    }
   },
   "outputs": [],
   "source": [
    "\"akjsdkasjdlkas\"\n",
    "\"True\"\n",
    "\"MEET\"\n",
    "\"How are you?\"\n",
    "\"142\""
   ]
  },
  {
   "cell_type": "markdown",
   "id": "eb5dea69",
   "metadata": {
    "slideshow": {
     "slide_type": "slide"
    }
   },
   "source": [
    "# Question\n",
    "\n",
    "Are `num1` and `num2` equal?"
   ]
  },
  {
   "cell_type": "code",
   "execution_count": null,
   "id": "b2440084",
   "metadata": {
    "slideshow": {
     "slide_type": "fragment"
    }
   },
   "outputs": [],
   "source": [
    "num1 = 142\n",
    "num2 = \"142\""
   ]
  },
  {
   "cell_type": "markdown",
   "id": "6ec7d232",
   "metadata": {
    "slideshow": {
     "slide_type": "slide"
    }
   },
   "source": [
    "# Multiline Strings"
   ]
  },
  {
   "cell_type": "code",
   "execution_count": null,
   "id": "4796994e",
   "metadata": {
    "slideshow": {
     "slide_type": "slide"
    }
   },
   "outputs": [],
   "source": [
    "my_text = \"\"\"I remember you.\n",
    "A spark tearing the blue sky. Seeds flirting with clouds. Men confiding in stars.\n",
    "A song held warm and snug, in dreamy backs. Women smelling of butter.\n",
    "A swollen breast. The milky way. Dew quenching the splintered feet.\"\"\""
   ]
  },
  {
   "cell_type": "markdown",
   "id": "fc13021c",
   "metadata": {
    "slideshow": {
     "slide_type": "slide"
    }
   },
   "source": [
    "# What can we do with strings?"
   ]
  },
  {
   "cell_type": "code",
   "execution_count": 6,
   "id": "5484f1f6",
   "metadata": {
    "slideshow": {
     "slide_type": "fragment"
    }
   },
   "outputs": [],
   "source": [
    "var = \"abc 123 xyz\""
   ]
  },
  {
   "cell_type": "markdown",
   "id": "908dae5c",
   "metadata": {
    "slideshow": {
     "slide_type": "fragment"
    }
   },
   "source": [
    "**Indexing**"
   ]
  },
  {
   "cell_type": "code",
   "execution_count": 7,
   "id": "775806cc",
   "metadata": {
    "slideshow": {
     "slide_type": "fragment"
    }
   },
   "outputs": [
    {
     "data": {
      "text/plain": [
       "'a'"
      ]
     },
     "execution_count": 7,
     "metadata": {},
     "output_type": "execute_result"
    }
   ],
   "source": [
    "var[0]"
   ]
  },
  {
   "cell_type": "code",
   "execution_count": 8,
   "id": "da2ba9b8",
   "metadata": {},
   "outputs": [
    {
     "data": {
      "text/plain": [
       "'b'"
      ]
     },
     "execution_count": 8,
     "metadata": {},
     "output_type": "execute_result"
    }
   ],
   "source": [
    "var[1]"
   ]
  },
  {
   "cell_type": "code",
   "execution_count": 9,
   "id": "defe2e2c",
   "metadata": {},
   "outputs": [
    {
     "data": {
      "text/plain": [
       "'z'"
      ]
     },
     "execution_count": 9,
     "metadata": {},
     "output_type": "execute_result"
    }
   ],
   "source": [
    "var[-1]"
   ]
  },
  {
   "cell_type": "code",
   "execution_count": 10,
   "id": "dfc35508",
   "metadata": {},
   "outputs": [
    {
     "data": {
      "text/plain": [
       "'y'"
      ]
     },
     "execution_count": 10,
     "metadata": {},
     "output_type": "execute_result"
    }
   ],
   "source": [
    "var[-2]"
   ]
  },
  {
   "cell_type": "code",
   "execution_count": 13,
   "id": "fbe2a949",
   "metadata": {},
   "outputs": [
    {
     "ename": "IndexError",
     "evalue": "string index out of range",
     "output_type": "error",
     "traceback": [
      "\u001b[0;31m---------------------------------------------------------------------------\u001b[0m",
      "\u001b[0;31mIndexError\u001b[0m                                Traceback (most recent call last)",
      "\u001b[0;32m/var/folders/n7/q93jwpcs6jndz6qqvj4mhtcm0000gn/T/ipykernel_74249/4254725573.py\u001b[0m in \u001b[0;36m<module>\u001b[0;34m\u001b[0m\n\u001b[0;32m----> 1\u001b[0;31m \u001b[0mvar\u001b[0m\u001b[0;34m[\u001b[0m\u001b[0;36m11\u001b[0m\u001b[0;34m]\u001b[0m\u001b[0;34m\u001b[0m\u001b[0;34m\u001b[0m\u001b[0m\n\u001b[0m",
      "\u001b[0;31mIndexError\u001b[0m: string index out of range"
     ]
    }
   ],
   "source": [
    "var[11]"
   ]
  },
  {
   "cell_type": "markdown",
   "id": "70e89d86",
   "metadata": {
    "slideshow": {
     "slide_type": "slide"
    }
   },
   "source": [
    "**Splicing**\n",
    "\n",
    "Note that the first number is inclusive, but not the last one"
   ]
  },
  {
   "cell_type": "code",
   "execution_count": 14,
   "id": "2fe3b3d2",
   "metadata": {
    "slideshow": {
     "slide_type": "fragment"
    }
   },
   "outputs": [],
   "source": [
    "var = \"abc 123 xyz\""
   ]
  },
  {
   "cell_type": "code",
   "execution_count": 16,
   "id": "548cd791",
   "metadata": {
    "slideshow": {
     "slide_type": "fragment"
    }
   },
   "outputs": [
    {
     "data": {
      "text/plain": [
       "'123'"
      ]
     },
     "execution_count": 16,
     "metadata": {},
     "output_type": "execute_result"
    }
   ],
   "source": [
    "var[4:7]"
   ]
  },
  {
   "cell_type": "code",
   "execution_count": 30,
   "id": "235d75ad",
   "metadata": {},
   "outputs": [
    {
     "data": {
      "text/plain": [
       "'abc 123'"
      ]
     },
     "execution_count": 30,
     "metadata": {},
     "output_type": "execute_result"
    }
   ],
   "source": [
    "var[:7]"
   ]
  },
  {
   "cell_type": "code",
   "execution_count": 31,
   "id": "92752621",
   "metadata": {},
   "outputs": [
    {
     "data": {
      "text/plain": [
       "'123 xyz'"
      ]
     },
     "execution_count": 31,
     "metadata": {},
     "output_type": "execute_result"
    }
   ],
   "source": [
    "var[4:]"
   ]
  },
  {
   "cell_type": "code",
   "execution_count": 32,
   "id": "2ba0a12f",
   "metadata": {},
   "outputs": [
    {
     "data": {
      "text/plain": [
       "'123 xy'"
      ]
     },
     "execution_count": 32,
     "metadata": {},
     "output_type": "execute_result"
    }
   ],
   "source": [
    "var[4:-1]"
   ]
  },
  {
   "cell_type": "code",
   "execution_count": 33,
   "id": "01671589",
   "metadata": {},
   "outputs": [
    {
     "data": {
      "text/plain": [
       "'abc 123 xyz'"
      ]
     },
     "execution_count": 33,
     "metadata": {},
     "output_type": "execute_result"
    }
   ],
   "source": [
    "var[:]"
   ]
  },
  {
   "cell_type": "markdown",
   "id": "27c3c90a",
   "metadata": {
    "slideshow": {
     "slide_type": "slide"
    }
   },
   "source": [
    "**Adding strings**"
   ]
  },
  {
   "cell_type": "code",
   "execution_count": 17,
   "id": "d1b3f1fb",
   "metadata": {
    "slideshow": {
     "slide_type": "fragment"
    }
   },
   "outputs": [],
   "source": [
    "name = \"Viviana\""
   ]
  },
  {
   "cell_type": "code",
   "execution_count": 18,
   "id": "425b1c6a",
   "metadata": {
    "slideshow": {
     "slide_type": "fragment"
    }
   },
   "outputs": [
    {
     "data": {
      "text/plain": [
       "'my name isViviana'"
      ]
     },
     "execution_count": 18,
     "metadata": {},
     "output_type": "execute_result"
    }
   ],
   "source": [
    "\"my name is\"+name"
   ]
  },
  {
   "cell_type": "code",
   "execution_count": 19,
   "id": "f4d5f5e4",
   "metadata": {
    "slideshow": {
     "slide_type": "fragment"
    }
   },
   "outputs": [
    {
     "name": "stdout",
     "output_type": "stream",
     "text": [
      "my name isViviana\n"
     ]
    }
   ],
   "source": [
    "print(\"my name is\"+ name)"
   ]
  },
  {
   "cell_type": "code",
   "execution_count": 20,
   "id": "4141380f",
   "metadata": {
    "slideshow": {
     "slide_type": "fragment"
    }
   },
   "outputs": [
    {
     "name": "stdout",
     "output_type": "stream",
     "text": [
      "my name is Viviana\n"
     ]
    }
   ],
   "source": [
    "print(f\"my name is {name}\")"
   ]
  },
  {
   "cell_type": "markdown",
   "id": "1c62831e",
   "metadata": {
    "slideshow": {
     "slide_type": "slide"
    }
   },
   "source": [
    "**Multiply strings**"
   ]
  },
  {
   "cell_type": "code",
   "execution_count": 21,
   "id": "242f8858",
   "metadata": {
    "slideshow": {
     "slide_type": "fragment"
    }
   },
   "outputs": [
    {
     "data": {
      "text/plain": [
       "'HelloHelloHelloHelloHelloHelloHelloHelloHelloHelloHelloHelloHelloHelloHelloHelloHelloHelloHelloHelloHelloHelloHelloHelloHelloHelloHelloHelloHelloHelloHelloHelloHelloHelloHelloHelloHelloHelloHelloHelloHelloHelloHelloHelloHelloHelloHelloHelloHelloHelloHelloHelloHelloHelloHelloHelloHelloHelloHelloHelloHelloHelloHelloHelloHelloHelloHelloHelloHelloHelloHelloHelloHelloHelloHelloHelloHelloHelloHelloHelloHelloHelloHelloHelloHelloHelloHelloHelloHello'"
      ]
     },
     "execution_count": 21,
     "metadata": {},
     "output_type": "execute_result"
    }
   ],
   "source": [
    "\"Hello\"*89"
   ]
  },
  {
   "cell_type": "markdown",
   "id": "16efe3ba",
   "metadata": {
    "slideshow": {
     "slide_type": "slide"
    }
   },
   "source": [
    "**Replace**"
   ]
  },
  {
   "cell_type": "code",
   "execution_count": 23,
   "id": "1f9ff05c",
   "metadata": {
    "slideshow": {
     "slide_type": "fragment"
    }
   },
   "outputs": [],
   "source": [
    "frozen = \"let it snow, let it snow\""
   ]
  },
  {
   "cell_type": "code",
   "execution_count": 24,
   "id": "623098eb",
   "metadata": {
    "slideshow": {
     "slide_type": "fragment"
    }
   },
   "outputs": [
    {
     "data": {
      "text/plain": [
       "'let it go, let it go'"
      ]
     },
     "execution_count": 24,
     "metadata": {},
     "output_type": "execute_result"
    }
   ],
   "source": [
    "frozen.replace(\"snow\", \"go\")"
   ]
  },
  {
   "cell_type": "markdown",
   "id": "e87a2382",
   "metadata": {
    "slideshow": {
     "slide_type": "slide"
    }
   },
   "source": [
    "# Other string operations"
   ]
  },
  {
   "cell_type": "markdown",
   "id": "db4bcb1b",
   "metadata": {
    "slideshow": {
     "slide_type": "fragment"
    }
   },
   "source": [
    "- `str()`  -  Turns an integer/float into a string\n",
    "- `int()`  -  Turns a string into an integer\n",
    "- `float()`  -  Turns a string into a float\n",
    "- `len()`  - \tTells you how many characters are in a string\n",
    "- `.upper()`  -  Turns all letters in a string to UPPERCASE\n",
    "- `.lower()`  -  Turns all letters in a string to lowercase\n",
    "- `.swapcase()`  - Turns all UPPERCASE letter to lowercase and vice versa\n",
    "- `.capitalize()`  -  Makes the first letter of the string UPPERCASE\n",
    "- `.strip()` - Removes any whitespace from the beginning or the end\n",
    "- `.split(\",\")` - Splits the string into substrings\n",
    "- `.startswith()` - Returns true if the string starts with the specified value\n",
    "- `.endswith()` - Returns true if the string ends with the specified value\n",
    "- `.index()` - Finds the first occurrence of the specified value\n",
    "- `.isnumeric()` - Checks if string is numeric characters\n",
    "- `==`   -  Checks if 2 strings are equal\n",
    "- `!=`   -  Checks if 2 strings are NOT equal\n",
    "- `in` / `not in` - Checks if substring is in string"
   ]
  },
  {
   "cell_type": "markdown",
   "id": "b7e72370",
   "metadata": {
    "slideshow": {
     "slide_type": "slide"
    }
   },
   "source": [
    "# Escape characters"
   ]
  },
  {
   "cell_type": "markdown",
   "id": "4501fce8",
   "metadata": {
    "slideshow": {
     "slide_type": "fragment"
    }
   },
   "source": [
    "- `\\n` new line\n",
    "- `\\t` tab"
   ]
  },
  {
   "cell_type": "markdown",
   "id": "44aa29f4",
   "metadata": {
    "slideshow": {
     "slide_type": "slide"
    }
   },
   "source": [
    "# ⏪ Today's recap\n",
    "\n",
    "- Strings\n",
    "- Learn more at: https://www.w3schools.com/python/python_strings_methods.asp"
   ]
  },
  {
   "cell_type": "markdown",
   "id": "c3c47662",
   "metadata": {
    "slideshow": {
     "slide_type": "slide"
    }
   },
   "source": [
    "<center><img src='img/bye.gif' style='height:250px;'></center> \n",
    "\n",
    "# Next class: Lists, Sets, Dictionaries, Tuples\n",
    "# See you next Monday!"
   ]
  }
 ],
 "metadata": {
  "celltoolbar": "Slideshow",
  "kernelspec": {
   "display_name": "Python 3 (ipykernel)",
   "language": "python",
   "name": "python3"
  },
  "language_info": {
   "codemirror_mode": {
    "name": "ipython",
    "version": 3
   },
   "file_extension": ".py",
   "mimetype": "text/x-python",
   "name": "python",
   "nbconvert_exporter": "python",
   "pygments_lexer": "ipython3",
   "version": "3.9.13"
  }
 },
 "nbformat": 4,
 "nbformat_minor": 5
}
