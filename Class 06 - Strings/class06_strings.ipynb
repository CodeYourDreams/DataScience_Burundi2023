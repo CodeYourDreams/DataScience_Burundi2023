{
 "cells": [
  {
   "cell_type": "markdown",
   "id": "674ac2a7",
   "metadata": {
    "slideshow": {
     "slide_type": "slide"
    }
   },
   "source": [
    "# We will start soon! @3:05 p.m.\n",
    "https://www.youtube.com/watch?v=VHoT4N43jK8&ab_channel=StromaeVEVO"
   ]
  },
  {
   "cell_type": "markdown",
   "id": "843e46f7",
   "metadata": {
    "slideshow": {
     "slide_type": "slide"
    }
   },
   "source": [
    "<center><img src='img/cdy.png' style='width:500px; float: left; margin: 0px 30px 15px 0px'></center>\n",
    "\n",
    "# Arithmetic syntax\n",
    "## Class 5 - Data Science Curriculum \n",
    "\n",
    "<br>\n",
    "\n",
    "#### Women Building Change scholarship program 2023 🇧🇮\n",
    "February 27, 2023\n",
    "\n",
    "\n",
    "\n"
   ]
  },
  {
   "cell_type": "markdown",
   "id": "542e69a1",
   "metadata": {
    "slideshow": {
     "slide_type": "slide"
    }
   },
   "source": [
    "# 🧊 Ice breaker\n",
    "\n",
    "What place do you dream of visiting?"
   ]
  },
  {
   "cell_type": "markdown",
   "id": "79f3848e",
   "metadata": {
    "slideshow": {
     "slide_type": "slide"
    }
   },
   "source": [
    "# Recap last class\n",
    "\n",
    "- Python variables and data types \n",
    "\n",
    "- GitHub: https://github.com/CodeYourDreams/DataScience_Burundi2023"
   ]
  },
  {
   "cell_type": "code",
   "execution_count": 1,
   "id": "ff226979",
   "metadata": {
    "slideshow": {
     "slide_type": "fragment"
    }
   },
   "outputs": [],
   "source": [
    "# integer \n",
    "my_fav_number = 23"
   ]
  },
  {
   "cell_type": "code",
   "execution_count": 4,
   "id": "64e770b9",
   "metadata": {
    "slideshow": {
     "slide_type": "fragment"
    }
   },
   "outputs": [
    {
     "data": {
      "text/plain": [
       "float"
      ]
     },
     "execution_count": 4,
     "metadata": {},
     "output_type": "execute_result"
    }
   ],
   "source": [
    "# float\n",
    "temperature_today = 15.5\n",
    "type(temperature_today)"
   ]
  },
  {
   "cell_type": "code",
   "execution_count": 6,
   "id": "310c93a9",
   "metadata": {
    "slideshow": {
     "slide_type": "fragment"
    }
   },
   "outputs": [
    {
     "data": {
      "text/plain": [
       "str"
      ]
     },
     "execution_count": 6,
     "metadata": {},
     "output_type": "execute_result"
    }
   ],
   "source": [
    "# string\n",
    "country_visit = 'Japan'"
   ]
  },
  {
   "cell_type": "code",
   "execution_count": 9,
   "id": "dc203bb3",
   "metadata": {
    "slideshow": {
     "slide_type": "fragment"
    }
   },
   "outputs": [],
   "source": [
    "# boolean \n",
    "older_than_18 = True"
   ]
  },
  {
   "cell_type": "markdown",
   "id": "82476939",
   "metadata": {
    "slideshow": {
     "slide_type": "slide"
    }
   },
   "source": [
    "# 🚀 Today's agenda\n",
    "\n",
    "- Arithmetic syntax\n"
   ]
  },
  {
   "cell_type": "markdown",
   "id": "d7c97442",
   "metadata": {
    "slideshow": {
     "slide_type": "slide"
    }
   },
   "source": [
    "# Google Colab: https://colab.research.google.com/\n",
    "\n",
    "<br>\n",
    "<center><img src='img/superhero.gif' style='height:350px; float: center; margin: 0px 30px 15px 0px'></center>\n",
    "\n"
   ]
  },
  {
   "cell_type": "markdown",
   "id": "4c2b2c4b",
   "metadata": {
    "slideshow": {
     "slide_type": "slide"
    }
   },
   "source": [
    "# Operations that stay the same\n",
    "\n",
    "- Addition\n",
    "- Subtraction\n",
    "- Multiplication"
   ]
  },
  {
   "cell_type": "code",
   "execution_count": null,
   "id": "94c583a8",
   "metadata": {
    "slideshow": {
     "slide_type": "fragment"
    }
   },
   "outputs": [],
   "source": [
    "a = 20 \n",
    "b = 10\n",
    "\n",
    "a1 = b + a # 10 + 20\n",
    "a2 = a - b # 20 - 10\n",
    "a3 = a * b # 20 * 10\n",
    "print(f'20 + 10 = {a1}')\n",
    "print(f'20 - 10 = {a2}')\n",
    "print(f'20 * 10 = {a3}')"
   ]
  },
  {
   "cell_type": "markdown",
   "id": "2757bb3c",
   "metadata": {
    "slideshow": {
     "slide_type": "slide"
    }
   },
   "source": [
    "# There are two types of divisions\n",
    "\n",
    "- **True division**: `/` returns a float\n",
    "- **Floor division**: `//` returns an integer "
   ]
  },
  {
   "cell_type": "code",
   "execution_count": null,
   "id": "cd71b1cb",
   "metadata": {
    "slideshow": {
     "slide_type": "fragment"
    }
   },
   "outputs": [],
   "source": [
    "# True division is with a single slash /\n",
    "# This returns a float\n",
    "c = 10 / 3\n",
    "print(f\"10 / 3 = {c}\")\n",
    "\n",
    "# Floor division is with two slashes //\n",
    "# this returns an int\n",
    "# (the quotient of a and b removing fractional parts)\n",
    "d = 10 // 3 \n",
    "print(f'10 // 3 (floor division) = {d}')"
   ]
  },
  {
   "cell_type": "markdown",
   "id": "dd9d5a06",
   "metadata": {
    "slideshow": {
     "slide_type": "slide"
    }
   },
   "source": [
    "# Modulus operator\n",
    "\n",
    "- Calculated with the `%` percent sign\n",
    "- Returns remainder after the division of two numbers"
   ]
  },
  {
   "cell_type": "code",
   "execution_count": 10,
   "id": "462bc08e",
   "metadata": {
    "slideshow": {
     "slide_type": "fragment"
    }
   },
   "outputs": [
    {
     "name": "stdout",
     "output_type": "stream",
     "text": [
      "remainder of 10 / 3 = 1\n",
      "remainder of 17 / 3 = 2\n",
      "remainder of 10 / 2 = 0\n"
     ]
    }
   ],
   "source": [
    "# the percent sign % is called Modulus. \n",
    "# This returns the remainder after the division\n",
    "# of two numbers\n",
    "\n",
    "e = 10 % 3\n",
    "print(f\"remainder of 10 / 3 = {e}\")\n",
    "\n",
    "e2 = 17 % 3\n",
    "print(f\"remainder of 17 / 3 = {e2}\")\n",
    "\n",
    "e3 = 10 % 2\n",
    "print(f\"remainder of 10 / 2 = {e3}\")"
   ]
  },
  {
   "cell_type": "markdown",
   "id": "c363f08c",
   "metadata": {
    "slideshow": {
     "slide_type": "slide"
    }
   },
   "source": [
    "# Example: Modulus is useful for even/odd numbers (nombre pair et impair)"
   ]
  },
  {
   "cell_type": "code",
   "execution_count": null,
   "id": "ec8e1e21",
   "metadata": {
    "slideshow": {
     "slide_type": "fragment"
    }
   },
   "outputs": [],
   "source": [
    "10 % 2 == 0"
   ]
  },
  {
   "cell_type": "code",
   "execution_count": null,
   "id": "7f13cf53",
   "metadata": {
    "slideshow": {
     "slide_type": "fragment"
    }
   },
   "outputs": [],
   "source": [
    "11 % 2 == 0"
   ]
  },
  {
   "cell_type": "markdown",
   "id": "1f48a6a7",
   "metadata": {
    "slideshow": {
     "slide_type": "slide"
    }
   },
   "source": [
    "# Exponents\n",
    "\n",
    "- Use double asterisk `**`"
   ]
  },
  {
   "cell_type": "code",
   "execution_count": null,
   "id": "66f9643d",
   "metadata": {
    "slideshow": {
     "slide_type": "fragment"
    }
   },
   "outputs": [],
   "source": [
    "# To use exponents, or raise something to a power, \n",
    "# you use a double asterick **\n",
    "f = 2 ** 3 \n",
    "g = 17 ** 0\n",
    "print(f'2 ^ 3 = {f}')\n",
    "print(f'17 ^ 0 = {g}')"
   ]
  },
  {
   "cell_type": "markdown",
   "id": "03826b78",
   "metadata": {
    "slideshow": {
     "slide_type": "slide"
    }
   },
   "source": [
    "# Exercise "
   ]
  },
  {
   "cell_type": "code",
   "execution_count": null,
   "id": "f6289b40",
   "metadata": {
    "slideshow": {
     "slide_type": "fragment"
    }
   },
   "outputs": [],
   "source": [
    "## Try to predict what the answer will be.\n",
    "## Then run the program to check your answer.\n",
    "\n",
    "h = 1 + 2 * 3 / 4.0\n",
    "print(h)\n",
    "\n",
    "## Does Python follow order of operations?"
   ]
  },
  {
   "cell_type": "code",
   "execution_count": null,
   "id": "585ff4c9",
   "metadata": {
    "slideshow": {
     "slide_type": "slide"
    }
   },
   "outputs": [],
   "source": [
    "# Yes, Python uses the PEMDAS Order of Operations, just like math.\n",
    "# When in doubt, use parentheses to be explicit.\n",
    "## Run this cell to see the differences of outcomes.\n",
    "\n",
    "#  P- Parentheses, E- Exponents, M- Multiplication, D- Division, A- Addition, and S- Subtraction. \n",
    "\n",
    "j = 1 + 2 * 3\n",
    "k = (1 + 2) * 3\n",
    "\n",
    "print(f\"j is equal to {j}\")\n",
    "print(f\"k is equal to {k}\")"
   ]
  },
  {
   "cell_type": "markdown",
   "id": "c77aa882",
   "metadata": {
    "slideshow": {
     "slide_type": "slide"
    }
   },
   "source": [
    "# Arithmetic Practice Problems \n",
    "\n",
    "The school day is seven and a half hours, which includes an hour for lunch. You are taking 5 classes. Write an equation to figure out how many hours you spend in each class.\n",
    "\n",
    "- Think about it: which type of division will you want to use? Why?"
   ]
  },
  {
   "cell_type": "code",
   "execution_count": null,
   "id": "a708a513",
   "metadata": {
    "slideshow": {
     "slide_type": "fragment"
    }
   },
   "outputs": [],
   "source": [
    "school_day_length = \n",
    "lunch_length = \n",
    "number_of_classes =\n",
    "\n",
    "length_of_each_class = \n",
    "print(\"I spend {} hours in each class\".format(length_of_each_class))"
   ]
  },
  {
   "cell_type": "markdown",
   "id": "1f4a759c",
   "metadata": {
    "slideshow": {
     "slide_type": "slide"
    }
   },
   "source": [
    "You find 26 coins while walking to school that you decide to split between yourself and your 3 closest friends.\n",
    "Write an expression that will tell you how many pennies are left over after the split."
   ]
  },
  {
   "cell_type": "code",
   "execution_count": null,
   "id": "318cfd47",
   "metadata": {
    "slideshow": {
     "slide_type": "fragment"
    }
   },
   "outputs": [],
   "source": [
    "left_overs =\n",
    "print(f\"There are {left_overs} pennies leftover.\")"
   ]
  },
  {
   "cell_type": "markdown",
   "id": "a0022704",
   "metadata": {
    "slideshow": {
     "slide_type": "slide"
    }
   },
   "source": [
    "# Comparisons \n",
    "\n",
    "Operators such as the equal sign ( = ) compare values on either side of it, and decide on the relation among them. These operators are called comparison or relational operators.\n",
    "\n",
    "Comparison Operators return booleans. Booleans are either True or False values."
   ]
  },
  {
   "cell_type": "code",
   "execution_count": null,
   "id": "7b0ac87e",
   "metadata": {
    "slideshow": {
     "slide_type": "fragment"
    }
   },
   "outputs": [],
   "source": [
    "a = 10\n",
    "b = 20\n",
    "\n",
    "# To see if two values are equal, use double equal signs \n",
    "# (we use one equal sign to assign values, and two to compare them)\n",
    "\n",
    "print(\"10 equals 20\")\n",
    "print(a==b)"
   ]
  },
  {
   "cell_type": "code",
   "execution_count": null,
   "id": "db09d7d4",
   "metadata": {
    "slideshow": {
     "slide_type": "fragment"
    }
   },
   "outputs": [],
   "source": [
    "# Since a is not equal to b, this will return false\n",
    "# Another way to write that a is not equal to b is with the !\n",
    "# ! means not\n",
    "\n",
    "print(\"10 does not equal 20\")\n",
    "print(10 != 20)"
   ]
  },
  {
   "cell_type": "code",
   "execution_count": null,
   "id": "7f8f9c9c",
   "metadata": {
    "slideshow": {
     "slide_type": "fragment"
    }
   },
   "outputs": [],
   "source": [
    "# More straightforward operators are those such as less then\n",
    "# or greater than signs.\n",
    "\n",
    "print(\"10 is greater than 20\")\n",
    "print(10 > 20)\n",
    "\n",
    "print(\"10 is less than 20\")\n",
    "print(10 < 20)"
   ]
  },
  {
   "cell_type": "code",
   "execution_count": null,
   "id": "dd2d7fab",
   "metadata": {
    "slideshow": {
     "slide_type": "fragment"
    }
   },
   "outputs": [],
   "source": [
    "print(\"10 is less than or equal to 20\")\n",
    "a = 10\n",
    "b = 20\n",
    "\n",
    "print(a <= b)\n",
    "\n",
    "print(\"10 is greater than or equal to 20\")\n",
    "print(a >= b)"
   ]
  },
  {
   "cell_type": "markdown",
   "id": "b237a447",
   "metadata": {
    "slideshow": {
     "slide_type": "slide"
    }
   },
   "source": [
    "# Logical Operators "
   ]
  },
  {
   "cell_type": "code",
   "execution_count": null,
   "id": "4f79653a",
   "metadata": {
    "slideshow": {
     "slide_type": "fragment"
    }
   },
   "outputs": [],
   "source": [
    "# The key words AND, OR, and NOT are used on groups of things\n",
    "# For example:\n",
    "\n",
    "# The AND operator is true only if both arguments are true\n",
    "\n",
    "print(True and True)\n",
    "print(True and False)\n",
    "print(False and True)\n",
    "print(False and False)"
   ]
  },
  {
   "cell_type": "code",
   "execution_count": null,
   "id": "21ea003b",
   "metadata": {
    "slideshow": {
     "slide_type": "slide"
    }
   },
   "outputs": [],
   "source": [
    "# the OR operator is true if either arguments are true\n",
    "\n",
    "print(True or True)\n",
    "print(True or False)\n",
    "print(False or True)\n",
    "print(False or False)"
   ]
  },
  {
   "cell_type": "code",
   "execution_count": null,
   "id": "ad46b057",
   "metadata": {
    "slideshow": {
     "slide_type": "fragment"
    }
   },
   "outputs": [],
   "source": [
    "# the NOT operator is used to reverse the logical state of a and b.\n",
    "\n",
    "print(not(True))\n",
    "print(not(False))"
   ]
  },
  {
   "cell_type": "markdown",
   "id": "44aa29f4",
   "metadata": {
    "slideshow": {
     "slide_type": "slide"
    }
   },
   "source": [
    "# ⏪ Today's recap\n",
    "\n",
    "- Arithmetic syntax\n",
    "    - Operations that stay the same: sum, subtraction, multiplication\n",
    "    - True division: `/` returns a float and Floor division: `//` returns an integer\n",
    "    - Modulus operator: `%` Returns remainder after the division of two numbers\n",
    "    - Comparisons: `==`, `!=`, `>`, `<`, `>=`, `<=`\n",
    "    - Logical operators: ``and``, `or`, `not`\n",
    "\n",
    "\n",
    "\n",
    "# 💪 Practice Lab: https://docs.google.com/document/d/1bfAd8Z4Z-D9DgQydL-bL-uZAJuhOKynWgzegUccqUqk/edit#heading=h.jt7w3i9sdqx4"
   ]
  },
  {
   "cell_type": "markdown",
   "id": "c3c47662",
   "metadata": {
    "slideshow": {
     "slide_type": "slide"
    }
   },
   "source": [
    "<center><img src='img/bye.gif' style='height:250px;'></center> \n",
    "\n",
    "# Next class: Strings\n",
    "# See you next Friday!"
   ]
  }
 ],
 "metadata": {
  "celltoolbar": "Slideshow",
  "kernelspec": {
   "display_name": "Python 3 (ipykernel)",
   "language": "python",
   "name": "python3"
  },
  "language_info": {
   "codemirror_mode": {
    "name": "ipython",
    "version": 3
   },
   "file_extension": ".py",
   "mimetype": "text/x-python",
   "name": "python",
   "nbconvert_exporter": "python",
   "pygments_lexer": "ipython3",
   "version": "3.9.13"
  }
 },
 "nbformat": 4,
 "nbformat_minor": 5
}
