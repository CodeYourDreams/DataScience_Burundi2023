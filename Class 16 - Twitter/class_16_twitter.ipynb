{
 "cells": [
  {
   "cell_type": "markdown",
   "id": "674ac2a7",
   "metadata": {
    "slideshow": {
     "slide_type": "slide"
    }
   },
   "source": [
    "# We'll start at 2:05ish PM \n",
    "\n",
    "Waiting for others to join the call :)\n",
    "\n",
    "https://www.youtube.com/watch?v=tJWWJiVYiUA&list=RDtJWWJiVYiUA"
   ]
  },
  {
   "cell_type": "markdown",
   "id": "843e46f7",
   "metadata": {
    "slideshow": {
     "slide_type": "slide"
    }
   },
   "source": [
    "<center><img src='img/cdy.png' style='width:500px; float: left; margin: 0px 30px 15px 0px'></center>\n",
    "\n",
    "# Twitter\n",
    "## Class 16 - Data Science Curriculum \n",
    "\n",
    "<br>\n",
    "\n",
    "#### Women Building Change scholarship program 2023 🇧🇮\n",
    "April 17, 2023\n",
    "\n",
    "\n",
    "\n"
   ]
  },
  {
   "cell_type": "markdown",
   "id": "48500da2",
   "metadata": {
    "slideshow": {
     "slide_type": "slide"
    }
   },
   "source": [
    "# ⏪ Recap last class\n",
    "\n",
    "- data science pipeline\n",
    "- how to read: .csv, .txt, .json\n",
    "- open source data\n",
    "- webscraping with beautiful soup"
   ]
  },
  {
   "cell_type": "markdown",
   "id": "82476939",
   "metadata": {
    "slideshow": {
     "slide_type": "slide"
    }
   },
   "source": [
    "# 🚀 Today's agenda\n",
    "\n",
    "- how do we get data from Twitter?"
   ]
  },
  {
   "cell_type": "markdown",
   "id": "d7c97442",
   "metadata": {
    "slideshow": {
     "slide_type": "slide"
    }
   },
   "source": [
    "# Google Colab: https://colab.research.google.com/\n",
    "\n",
    "<br>\n",
    "<center><img src='img/girl_coding.jpg' style='height:350px; float: center; margin: 0px 30px 15px 0px'></center>\n",
    "\n"
   ]
  },
  {
   "cell_type": "markdown",
   "id": "89f5697d",
   "metadata": {
    "slideshow": {
     "slide_type": "slide"
    }
   },
   "source": [
    "## Roadmap: Life of a ML model\n",
    "\n",
    "<br>\n",
    "<center>\n",
    "<img src='img/pipeline.png' style='height:500px;'>\n",
    "</center>"
   ]
  },
  {
   "cell_type": "markdown",
   "id": "bd080865",
   "metadata": {
    "slideshow": {
     "slide_type": "slide"
    }
   },
   "source": [
    "### Data is the new oil\n",
    "\n",
    "<br>\n",
    "<center>\n",
    "<img src='img/everyminute.png' style='height:800px;'>\n",
    "</center>"
   ]
  },
  {
   "cell_type": "markdown",
   "id": "a4b7c4ea",
   "metadata": {
    "slideshow": {
     "slide_type": "slide"
    }
   },
   "source": [
    "### Challenges of using social media data\n",
    "\n",
    "<br>\n",
    "<center>\n",
    "<img src='img/formal.png' style='height:300px;'>\n",
    "</center>"
   ]
  },
  {
   "cell_type": "markdown",
   "id": "b09fc425",
   "metadata": {
    "slideshow": {
     "slide_type": "fragment"
    }
   },
   "source": [
    "- Different languages\n",
    "- Different writing systems\n",
    "- It's not formal\n",
    "- There's grammar and spelling mistakes\n",
    "- There are non-textual elements (🤔🥺⏫, memes, xD :), etc.)\n",
    "- Short text and new vocabulary"
   ]
  },
  {
   "cell_type": "markdown",
   "id": "82e6d751",
   "metadata": {
    "slideshow": {
     "slide_type": "slide"
    }
   },
   "source": [
    "# Twitter\n",
    "\n",
    "https://twitter.com/\n",
    "\n",
    "<br>\n",
    "<center>\n",
    "<img src='img/twitter.jpg' style='height:300px;'>\n",
    "</center>\n",
    "\n",
    "- Twitter is a free social networking site where users broadcast short posts known as tweets. These tweets can contain text, videos, photos or links"
   ]
  },
  {
   "cell_type": "markdown",
   "id": "7be082bc",
   "metadata": {
    "slideshow": {
     "slide_type": "slide"
    }
   },
   "source": [
    "**Twitter stats:**"
   ]
  },
  {
   "cell_type": "markdown",
   "id": "1e4c3283",
   "metadata": {
    "slideshow": {
     "slide_type": "fragment"
    }
   },
   "source": [
    "- 450 million monthly active users"
   ]
  },
  {
   "cell_type": "markdown",
   "id": "e359a418",
   "metadata": {
    "slideshow": {
     "slide_type": "fragment"
    }
   },
   "source": [
    "- every second, on average, around 6,000 tweets"
   ]
  },
  {
   "cell_type": "markdown",
   "id": "7b299bf6",
   "metadata": {
    "slideshow": {
     "slide_type": "fragment"
    }
   },
   "source": [
    "    - or, 350,000 tweets sent per minute"
   ]
  },
  {
   "cell_type": "markdown",
   "id": "6382291d",
   "metadata": {
    "slideshow": {
     "slide_type": "fragment"
    }
   },
   "source": [
    "    - or, 500 million tweets sent each day"
   ]
  },
  {
   "cell_type": "markdown",
   "id": "ad12613a",
   "metadata": {
    "slideshow": {
     "slide_type": "fragment"
    }
   },
   "source": [
    "    - or, 200 billion tweets per year"
   ]
  },
  {
   "cell_type": "markdown",
   "id": "0b52be3a",
   "metadata": {
    "slideshow": {
     "slide_type": "slide"
    }
   },
   "source": [
    "# 👷🏽‍♀️ Two ways to get Twitter data\n",
    "\n",
    "\n",
    "- Using the Twitter API\n",
    "- Using an open source library SNScrape"
   ]
  },
  {
   "cell_type": "markdown",
   "id": "b8ea6380",
   "metadata": {
    "slideshow": {
     "slide_type": "slide"
    }
   },
   "source": [
    "# What is an API?\n",
    "\n",
    "- API: Application Programming Interface\n",
    "- APIs are mechanisms that enable two software components to communicate with each other using a set of definitions and protocols. For example, the weather bureau’s software system contains daily weather data. The weather app on your phone “talks” to this system via APIs and shows you daily weather updates on your phone."
   ]
  },
  {
   "cell_type": "markdown",
   "id": "20111dde",
   "metadata": {
    "slideshow": {
     "slide_type": "slide"
    }
   },
   "source": [
    "# How to use an API?\n",
    "\n",
    "1. **Authentication tokens**\n",
    "\n",
    "These are used to authorize users to make the API call. Authentication tokens check that the users are who they claim to be and that they have access rights for that particular API call. For example, when you log in to your email server, your email client uses authentication tokens for secure access.\n",
    "\n",
    "2. **API keys**\n",
    "\n",
    "API keys verify the program or application making the API call. They identify the application and ensure it has the access rights required to make the particular API call. API keys are not as secure as tokens but they allow API monitoring in order to gather data on usage. You may have noticed a long string of characters and numbers in your browser URL when you visit different websites. This string is an API key the website uses to make internal API calls."
   ]
  },
  {
   "cell_type": "markdown",
   "id": "42b94447",
   "metadata": {
    "slideshow": {
     "slide_type": "slide"
    }
   },
   "source": [
    "# How to use the Twitter API?\n",
    "\n",
    "- Developer account: https://developer.twitter.com/en\n",
    "\n",
    "- Apply for access: https://developer.twitter.com/en/apply-for-access\n",
    "\n",
    "- Documentation: https://docs.tweepy.org/en/latest/"
   ]
  },
  {
   "cell_type": "code",
   "execution_count": 9,
   "id": "f816e46c",
   "metadata": {
    "slideshow": {
     "slide_type": "slide"
    }
   },
   "outputs": [
    {
     "name": "stdout",
     "output_type": "stream",
     "text": [
      "Requirement already satisfied: tweepy in /Users/vivianamarquez/opt/anaconda3/lib/python3.9/site-packages (4.13.0)\n",
      "Requirement already satisfied: requests-oauthlib<2,>=1.2.0 in /Users/vivianamarquez/opt/anaconda3/lib/python3.9/site-packages (from tweepy) (1.3.1)\n",
      "Requirement already satisfied: requests<3,>=2.27.0 in /Users/vivianamarquez/opt/anaconda3/lib/python3.9/site-packages (from tweepy) (2.28.1)\n",
      "Requirement already satisfied: oauthlib<4,>=3.2.0 in /Users/vivianamarquez/opt/anaconda3/lib/python3.9/site-packages (from tweepy) (3.2.2)\n",
      "Requirement already satisfied: idna<4,>=2.5 in /Users/vivianamarquez/opt/anaconda3/lib/python3.9/site-packages (from requests<3,>=2.27.0->tweepy) (3.3)\n",
      "Requirement already satisfied: charset-normalizer<3,>=2 in /Users/vivianamarquez/opt/anaconda3/lib/python3.9/site-packages (from requests<3,>=2.27.0->tweepy) (2.0.4)\n",
      "Requirement already satisfied: urllib3<1.27,>=1.21.1 in /Users/vivianamarquez/opt/anaconda3/lib/python3.9/site-packages (from requests<3,>=2.27.0->tweepy) (1.26.11)\n",
      "Requirement already satisfied: certifi>=2017.4.17 in /Users/vivianamarquez/opt/anaconda3/lib/python3.9/site-packages (from requests<3,>=2.27.0->tweepy) (2022.9.24)\n"
     ]
    }
   ],
   "source": [
    "! pip install tweepy"
   ]
  },
  {
   "cell_type": "code",
   "execution_count": 2,
   "id": "f774535d",
   "metadata": {
    "slideshow": {
     "slide_type": "slide"
    }
   },
   "outputs": [],
   "source": [
    "import tweepy\n",
    "import pandas as pd\n",
    "\n",
    "# Read keys\n",
    "keys = pd.read_csv(\"keys_demo.csv\", header=None)\n",
    "keys = dict(zip(keys[0],keys[1]))\n",
    "\n",
    "# Authorize \n",
    "auth = tweepy.OAuthHandler(keys['api_key'], keys['api_secret_key'])\n",
    "auth.set_access_token(keys['access_token'], keys['access_token_secret'])\n",
    "api = tweepy.API(auth, wait_on_rate_limit=True)"
   ]
  },
  {
   "cell_type": "code",
   "execution_count": 11,
   "id": "0895c358",
   "metadata": {
    "slideshow": {
     "slide_type": "slide"
    }
   },
   "outputs": [
    {
     "data": {
      "text/plain": [
       "Status(_api=<tweepy.api.API object at 0x7fbf82b9e700>, _json={'created_at': 'Mon Apr 17 12:53:30 +0000 2023', 'id': 1647946384622886912, 'id_str': '1647946384622886912', 'text': \"Certains de mes élèves étaient en retard aujourd'hui, j'espère que cela ne se reproduira pas\", 'truncated': False, 'entities': {'hashtags': [], 'symbols': [], 'user_mentions': [], 'urls': []}, 'source': '<a href=\"https://help.twitter.com/en/using-twitter/how-to-tweet#source-labels\" rel=\"nofollow\">Demo NLP 07-11-2020</a>', 'in_reply_to_status_id': None, 'in_reply_to_status_id_str': None, 'in_reply_to_user_id': None, 'in_reply_to_user_id_str': None, 'in_reply_to_screen_name': None, 'user': {'id': 1295079294239223812, 'id_str': '1295079294239223812', 'name': 'NLP con Vivi', 'screen_name': 'NLPconVivi', 'location': 'Konrad Lorenz', 'description': '“La mejor clase del Universo 7, pero deja muchos talleres” ~ Gokú 2020', 'url': None, 'entities': {'description': {'urls': []}}, 'protected': False, 'followers_count': 43, 'friends_count': 35, 'listed_count': 0, 'created_at': 'Sun Aug 16 19:25:55 +0000 2020', 'favourites_count': 137, 'utc_offset': None, 'time_zone': None, 'geo_enabled': False, 'verified': False, 'statuses_count': 229, 'lang': None, 'contributors_enabled': False, 'is_translator': False, 'is_translation_enabled': False, 'profile_background_color': 'F5F8FA', 'profile_background_image_url': None, 'profile_background_image_url_https': None, 'profile_background_tile': False, 'profile_image_url': 'http://pbs.twimg.com/profile_images/1338673815547768832/tMJaBsW8_normal.jpg', 'profile_image_url_https': 'https://pbs.twimg.com/profile_images/1338673815547768832/tMJaBsW8_normal.jpg', 'profile_banner_url': 'https://pbs.twimg.com/profile_banners/1295079294239223812/1607999522', 'profile_link_color': '1DA1F2', 'profile_sidebar_border_color': 'C0DEED', 'profile_sidebar_fill_color': 'DDEEF6', 'profile_text_color': '333333', 'profile_use_background_image': True, 'has_extended_profile': True, 'default_profile': True, 'default_profile_image': False, 'following': False, 'follow_request_sent': False, 'notifications': False, 'translator_type': 'none', 'withheld_in_countries': []}, 'geo': None, 'coordinates': None, 'place': None, 'contributors': None, 'is_quote_status': False, 'retweet_count': 0, 'favorite_count': 0, 'favorited': False, 'retweeted': False, 'lang': 'fr'}, created_at=datetime.datetime(2023, 4, 17, 12, 53, 30, tzinfo=datetime.timezone.utc), id=1647946384622886912, id_str='1647946384622886912', text=\"Certains de mes élèves étaient en retard aujourd'hui, j'espère que cela ne se reproduira pas\", truncated=False, entities={'hashtags': [], 'symbols': [], 'user_mentions': [], 'urls': []}, source='Demo NLP 07-11-2020', source_url='https://help.twitter.com/en/using-twitter/how-to-tweet#source-labels', in_reply_to_status_id=None, in_reply_to_status_id_str=None, in_reply_to_user_id=None, in_reply_to_user_id_str=None, in_reply_to_screen_name=None, author=User(_api=<tweepy.api.API object at 0x7fbf82b9e700>, _json={'id': 1295079294239223812, 'id_str': '1295079294239223812', 'name': 'NLP con Vivi', 'screen_name': 'NLPconVivi', 'location': 'Konrad Lorenz', 'description': '“La mejor clase del Universo 7, pero deja muchos talleres” ~ Gokú 2020', 'url': None, 'entities': {'description': {'urls': []}}, 'protected': False, 'followers_count': 43, 'friends_count': 35, 'listed_count': 0, 'created_at': 'Sun Aug 16 19:25:55 +0000 2020', 'favourites_count': 137, 'utc_offset': None, 'time_zone': None, 'geo_enabled': False, 'verified': False, 'statuses_count': 229, 'lang': None, 'contributors_enabled': False, 'is_translator': False, 'is_translation_enabled': False, 'profile_background_color': 'F5F8FA', 'profile_background_image_url': None, 'profile_background_image_url_https': None, 'profile_background_tile': False, 'profile_image_url': 'http://pbs.twimg.com/profile_images/1338673815547768832/tMJaBsW8_normal.jpg', 'profile_image_url_https': 'https://pbs.twimg.com/profile_images/1338673815547768832/tMJaBsW8_normal.jpg', 'profile_banner_url': 'https://pbs.twimg.com/profile_banners/1295079294239223812/1607999522', 'profile_link_color': '1DA1F2', 'profile_sidebar_border_color': 'C0DEED', 'profile_sidebar_fill_color': 'DDEEF6', 'profile_text_color': '333333', 'profile_use_background_image': True, 'has_extended_profile': True, 'default_profile': True, 'default_profile_image': False, 'following': False, 'follow_request_sent': False, 'notifications': False, 'translator_type': 'none', 'withheld_in_countries': []}, id=1295079294239223812, id_str='1295079294239223812', name='NLP con Vivi', screen_name='NLPconVivi', location='Konrad Lorenz', description='“La mejor clase del Universo 7, pero deja muchos talleres” ~ Gokú 2020', url=None, entities={'description': {'urls': []}}, protected=False, followers_count=43, friends_count=35, listed_count=0, created_at=datetime.datetime(2020, 8, 16, 19, 25, 55, tzinfo=datetime.timezone.utc), favourites_count=137, utc_offset=None, time_zone=None, geo_enabled=False, verified=False, statuses_count=229, lang=None, contributors_enabled=False, is_translator=False, is_translation_enabled=False, profile_background_color='F5F8FA', profile_background_image_url=None, profile_background_image_url_https=None, profile_background_tile=False, profile_image_url='http://pbs.twimg.com/profile_images/1338673815547768832/tMJaBsW8_normal.jpg', profile_image_url_https='https://pbs.twimg.com/profile_images/1338673815547768832/tMJaBsW8_normal.jpg', profile_banner_url='https://pbs.twimg.com/profile_banners/1295079294239223812/1607999522', profile_link_color='1DA1F2', profile_sidebar_border_color='C0DEED', profile_sidebar_fill_color='DDEEF6', profile_text_color='333333', profile_use_background_image=True, has_extended_profile=True, default_profile=True, default_profile_image=False, following=False, follow_request_sent=False, notifications=False, translator_type='none', withheld_in_countries=[]), user=User(_api=<tweepy.api.API object at 0x7fbf82b9e700>, _json={'id': 1295079294239223812, 'id_str': '1295079294239223812', 'name': 'NLP con Vivi', 'screen_name': 'NLPconVivi', 'location': 'Konrad Lorenz', 'description': '“La mejor clase del Universo 7, pero deja muchos talleres” ~ Gokú 2020', 'url': None, 'entities': {'description': {'urls': []}}, 'protected': False, 'followers_count': 43, 'friends_count': 35, 'listed_count': 0, 'created_at': 'Sun Aug 16 19:25:55 +0000 2020', 'favourites_count': 137, 'utc_offset': None, 'time_zone': None, 'geo_enabled': False, 'verified': False, 'statuses_count': 229, 'lang': None, 'contributors_enabled': False, 'is_translator': False, 'is_translation_enabled': False, 'profile_background_color': 'F5F8FA', 'profile_background_image_url': None, 'profile_background_image_url_https': None, 'profile_background_tile': False, 'profile_image_url': 'http://pbs.twimg.com/profile_images/1338673815547768832/tMJaBsW8_normal.jpg', 'profile_image_url_https': 'https://pbs.twimg.com/profile_images/1338673815547768832/tMJaBsW8_normal.jpg', 'profile_banner_url': 'https://pbs.twimg.com/profile_banners/1295079294239223812/1607999522', 'profile_link_color': '1DA1F2', 'profile_sidebar_border_color': 'C0DEED', 'profile_sidebar_fill_color': 'DDEEF6', 'profile_text_color': '333333', 'profile_use_background_image': True, 'has_extended_profile': True, 'default_profile': True, 'default_profile_image': False, 'following': False, 'follow_request_sent': False, 'notifications': False, 'translator_type': 'none', 'withheld_in_countries': []}, id=1295079294239223812, id_str='1295079294239223812', name='NLP con Vivi', screen_name='NLPconVivi', location='Konrad Lorenz', description='“La mejor clase del Universo 7, pero deja muchos talleres” ~ Gokú 2020', url=None, entities={'description': {'urls': []}}, protected=False, followers_count=43, friends_count=35, listed_count=0, created_at=datetime.datetime(2020, 8, 16, 19, 25, 55, tzinfo=datetime.timezone.utc), favourites_count=137, utc_offset=None, time_zone=None, geo_enabled=False, verified=False, statuses_count=229, lang=None, contributors_enabled=False, is_translator=False, is_translation_enabled=False, profile_background_color='F5F8FA', profile_background_image_url=None, profile_background_image_url_https=None, profile_background_tile=False, profile_image_url='http://pbs.twimg.com/profile_images/1338673815547768832/tMJaBsW8_normal.jpg', profile_image_url_https='https://pbs.twimg.com/profile_images/1338673815547768832/tMJaBsW8_normal.jpg', profile_banner_url='https://pbs.twimg.com/profile_banners/1295079294239223812/1607999522', profile_link_color='1DA1F2', profile_sidebar_border_color='C0DEED', profile_sidebar_fill_color='DDEEF6', profile_text_color='333333', profile_use_background_image=True, has_extended_profile=True, default_profile=True, default_profile_image=False, following=False, follow_request_sent=False, notifications=False, translator_type='none', withheld_in_countries=[]), geo=None, coordinates=None, place=None, contributors=None, is_quote_status=False, retweet_count=0, favorite_count=0, favorited=False, retweeted=False, lang='fr')"
      ]
     },
     "execution_count": 11,
     "metadata": {},
     "output_type": "execute_result"
    }
   ],
   "source": [
    "api.update_status(\"Certains de mes élèves étaient en retard aujourd'hui, j'espère que cela ne se reproduira pas\")"
   ]
  },
  {
   "cell_type": "markdown",
   "id": "d3bf38f1",
   "metadata": {
    "slideshow": {
     "slide_type": "slide"
    }
   },
   "source": [
    "# Disadvantages of using the Twitter API\n",
    "\n",
    "\n",
    "- You have to wait until you get approved as a developer \n",
    "- Limited access to data"
   ]
  },
  {
   "cell_type": "markdown",
   "id": "7c293207",
   "metadata": {
    "slideshow": {
     "slide_type": "slide"
    }
   },
   "source": [
    "# 5 minute break: See you here at 2:50 p.m."
   ]
  },
  {
   "cell_type": "markdown",
   "id": "63adc883",
   "metadata": {
    "slideshow": {
     "slide_type": "slide"
    }
   },
   "source": [
    "# SNScrape: an open source library\n",
    "\n",
    "- Library created to scrape different social media pages (Twitter, Facebook, Instagram, VKontakte, and more...)\n",
    "- Huge disadvantage: In the future it might stop working\n",
    "- Documentation: https://github.com/JustAnotherArchivist/snscrape\n",
    "- Twitter parameters: https://www.tweetbinder.com/blog/twitter-advanced-search/"
   ]
  },
  {
   "cell_type": "code",
   "execution_count": 4,
   "id": "ad2bfa7a",
   "metadata": {
    "slideshow": {
     "slide_type": "slide"
    }
   },
   "outputs": [
    {
     "name": "stdout",
     "output_type": "stream",
     "text": [
      "Requirement already satisfied: snscrape in /Users/vivianamarquez/opt/anaconda3/lib/python3.9/site-packages (0.6.2.20230320)\n",
      "Requirement already satisfied: requests[socks] in /Users/vivianamarquez/opt/anaconda3/lib/python3.9/site-packages (from snscrape) (2.28.1)\n",
      "Requirement already satisfied: lxml in /Users/vivianamarquez/opt/anaconda3/lib/python3.9/site-packages (from snscrape) (4.9.1)\n",
      "Requirement already satisfied: beautifulsoup4 in /Users/vivianamarquez/opt/anaconda3/lib/python3.9/site-packages (from snscrape) (4.11.1)\n",
      "Requirement already satisfied: filelock in /Users/vivianamarquez/opt/anaconda3/lib/python3.9/site-packages (from snscrape) (3.6.0)\n",
      "Requirement already satisfied: soupsieve>1.2 in /Users/vivianamarquez/opt/anaconda3/lib/python3.9/site-packages (from beautifulsoup4->snscrape) (2.3.1)\n",
      "Requirement already satisfied: urllib3<1.27,>=1.21.1 in /Users/vivianamarquez/opt/anaconda3/lib/python3.9/site-packages (from requests[socks]->snscrape) (1.26.11)\n",
      "Requirement already satisfied: idna<4,>=2.5 in /Users/vivianamarquez/opt/anaconda3/lib/python3.9/site-packages (from requests[socks]->snscrape) (3.3)\n",
      "Requirement already satisfied: certifi>=2017.4.17 in /Users/vivianamarquez/opt/anaconda3/lib/python3.9/site-packages (from requests[socks]->snscrape) (2022.9.24)\n",
      "Requirement already satisfied: charset-normalizer<3,>=2 in /Users/vivianamarquez/opt/anaconda3/lib/python3.9/site-packages (from requests[socks]->snscrape) (2.0.4)\n",
      "Requirement already satisfied: PySocks!=1.5.7,>=1.5.6 in /Users/vivianamarquez/opt/anaconda3/lib/python3.9/site-packages (from requests[socks]->snscrape) (1.7.1)\n"
     ]
    }
   ],
   "source": [
    "! pip install snscrape"
   ]
  },
  {
   "cell_type": "code",
   "execution_count": 8,
   "id": "eca947c2",
   "metadata": {
    "slideshow": {
     "slide_type": "slide"
    }
   },
   "outputs": [],
   "source": [
    "import snscrape.modules.twitter as sntwitter\n",
    "\n",
    "maxTweets = 10  \n",
    "for i,tweet in enumerate(sntwitter.TwitterSearchScraper('birthday' + 'since:2022-07-15 until:2022-08-15').get_items()) : # + 'geocode:3.3614,29.3599,150km'\n",
    "        if i > maxTweets :\n",
    "            break\n",
    "        print(tweet)\n",
    "        print(tweet.date)\n",
    "        print(tweet.rawContent)\n",
    "        print(\"*\"*100)\n",
    "        print()"
   ]
  },
  {
   "cell_type": "markdown",
   "id": "54c2a4bb",
   "metadata": {
    "slideshow": {
     "slide_type": "slide"
    }
   },
   "source": [
    "# ⏪ Today's recap\n",
    "\n",
    "- what is an API\n",
    "- getting data from Twitter using SNScrape"
   ]
  },
  {
   "cell_type": "markdown",
   "id": "c3c47662",
   "metadata": {
    "slideshow": {
     "slide_type": "slide"
    }
   },
   "source": [
    "<center><img src='img/bye.gif' style='height:250px;'></center> \n",
    "\n",
    "# Next class: How do computers understand language?\n",
    "# See you next Friday!"
   ]
  }
 ],
 "metadata": {
  "celltoolbar": "Slideshow",
  "kernelspec": {
   "display_name": "Python 3 (ipykernel)",
   "language": "python",
   "name": "python3"
  },
  "language_info": {
   "codemirror_mode": {
    "name": "ipython",
    "version": 3
   },
   "file_extension": ".py",
   "mimetype": "text/x-python",
   "name": "python",
   "nbconvert_exporter": "python",
   "pygments_lexer": "ipython3",
   "version": "3.9.13"
  }
 },
 "nbformat": 4,
 "nbformat_minor": 5
}
