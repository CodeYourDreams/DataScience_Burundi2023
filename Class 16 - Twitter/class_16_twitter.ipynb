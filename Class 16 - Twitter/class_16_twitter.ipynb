{
 "cells": [
  {
   "cell_type": "markdown",
   "id": "674ac2a7",
   "metadata": {
    "slideshow": {
     "slide_type": "slide"
    }
   },
   "source": [
    "# We'll start at 2:05ish PM \n",
    "\n",
    "Waiting for others to join the call :)\n",
    "\n",
    "https://www.youtube.com/watch?v=tJWWJiVYiUA&list=RDtJWWJiVYiUA"
   ]
  },
  {
   "cell_type": "markdown",
   "id": "843e46f7",
   "metadata": {
    "slideshow": {
     "slide_type": "slide"
    }
   },
   "source": [
    "<center><img src='img/cdy.png' style='width:500px; float: left; margin: 0px 30px 15px 0px'></center>\n",
    "\n",
    "# Twitter\n",
    "## Class 16 - Data Science Curriculum \n",
    "\n",
    "<br>\n",
    "\n",
    "#### Women Building Change scholarship program 2023 🇧🇮\n",
    "April 17, 2023\n",
    "\n",
    "\n",
    "\n"
   ]
  },
  {
   "cell_type": "markdown",
   "id": "48500da2",
   "metadata": {
    "slideshow": {
     "slide_type": "slide"
    }
   },
   "source": [
    "# ⏪ Recap last class\n",
    "\n",
    "- data science pipeline\n",
    "- how to read: .csv, .txt, .json\n",
    "- open source data\n",
    "- webscraping with beautiful soup"
   ]
  },
  {
   "cell_type": "markdown",
   "id": "82476939",
   "metadata": {
    "slideshow": {
     "slide_type": "slide"
    }
   },
   "source": [
    "# 🚀 Today's agenda\n",
    "\n",
    "- how do we get data from Twitter?"
   ]
  },
  {
   "cell_type": "markdown",
   "id": "d7c97442",
   "metadata": {
    "slideshow": {
     "slide_type": "slide"
    }
   },
   "source": [
    "# Google Colab: https://colab.research.google.com/\n",
    "\n",
    "<br>\n",
    "<center><img src='img/girl_coding.jpg' style='height:350px; float: center; margin: 0px 30px 15px 0px'></center>\n",
    "\n"
   ]
  },
  {
   "cell_type": "markdown",
   "id": "89f5697d",
   "metadata": {
    "slideshow": {
     "slide_type": "slide"
    }
   },
   "source": [
    "## Roadmap: Life of a ML model\n",
    "\n",
    "<br>\n",
    "<center>\n",
    "<img src='img/pipeline.png' style='height:500px;'>\n",
    "</center>"
   ]
  },
  {
   "cell_type": "markdown",
   "id": "c8a6d67d",
   "metadata": {
    "slideshow": {
     "slide_type": "slide"
    }
   },
   "source": [
    "### Data is the new oil\n",
    "\n",
    "<br>\n",
    "<center>\n",
    "<img src='img/everyminute.png' style='height:500px;'>\n",
    "</center>"
   ]
  },
  {
   "cell_type": "markdown",
   "id": "f2bc5e65",
   "metadata": {
    "slideshow": {
     "slide_type": "slide"
    }
   },
   "source": [
    "### Challenges of using social media data\n",
    "\n",
    "<br>\n",
    "<center>\n",
    "<img src='img/formal.png' style='height:300px;'>\n",
    "</center>"
   ]
  },
  {
   "cell_type": "markdown",
   "id": "8896f373",
   "metadata": {
    "slideshow": {
     "slide_type": "fragment"
    }
   },
   "source": [
    "- Different languages\n",
    "- Different writing systems\n",
    "- It's not formal\n",
    "- There's grammar and spelling mistakes\n",
    "- There are non-textual elements (🤔🥺⏫, memes, xD :), etc.)\n",
    "- Short text and new vocabulary"
   ]
  },
  {
   "cell_type": "markdown",
   "id": "f6c90056",
   "metadata": {
    "slideshow": {
     "slide_type": "slide"
    }
   },
   "source": [
    "# Twitter\n",
    "\n",
    "https://twitter.com/\n",
    "\n",
    "<br>\n",
    "<center>\n",
    "<img src='img/twitter.jpg' style='height:300px;'>\n",
    "</center>\n",
    "\n",
    "- Twitter is a free social networking site where users broadcast short posts known as tweets. These tweets can contain text, videos, photos or links"
   ]
  },
  {
   "cell_type": "markdown",
   "id": "98ec0ccd",
   "metadata": {
    "slideshow": {
     "slide_type": "slide"
    }
   },
   "source": [
    "**Twitter stats:**"
   ]
  },
  {
   "cell_type": "markdown",
   "id": "1ef71054",
   "metadata": {
    "slideshow": {
     "slide_type": "fragment"
    }
   },
   "source": [
    "- 450 million monthly active users"
   ]
  },
  {
   "cell_type": "markdown",
   "id": "20fa23e0",
   "metadata": {
    "slideshow": {
     "slide_type": "fragment"
    }
   },
   "source": [
    "- every second, on average, around 6,000 tweets"
   ]
  },
  {
   "cell_type": "markdown",
   "id": "3382c5bf",
   "metadata": {
    "slideshow": {
     "slide_type": "fragment"
    }
   },
   "source": [
    "    - or, 350,000 tweets sent per minute"
   ]
  },
  {
   "cell_type": "markdown",
   "id": "d04f758f",
   "metadata": {
    "slideshow": {
     "slide_type": "fragment"
    }
   },
   "source": [
    "    - or, 500 million tweets sent each day"
   ]
  },
  {
   "cell_type": "markdown",
   "id": "4ead5dca",
   "metadata": {
    "slideshow": {
     "slide_type": "fragment"
    }
   },
   "source": [
    "    - or, 200 billion tweets per year"
   ]
  },
  {
   "cell_type": "markdown",
   "id": "0b52be3a",
   "metadata": {
    "slideshow": {
     "slide_type": "slide"
    }
   },
   "source": [
    "# 👷🏽‍♀️ Two ways to get Twitter data\n",
    "\n",
    "\n",
    "- Using the Twitter API\n",
    "- Using an open source library"
   ]
  },
  {
   "cell_type": "markdown",
   "id": "89691e44",
   "metadata": {
    "slideshow": {
     "slide_type": "slide"
    }
   },
   "source": [
    "# What is an API?\n",
    "\n",
    "- API: Application Programming Interface\n",
    "- APIs are mechanisms that enable two software components to communicate with each other using a set of definitions and protocols. For example, the weather bureau’s software system contains daily weather data. The weather app on your phone “talks” to this system via APIs and shows you daily weather updates on your phone."
   ]
  },
  {
   "cell_type": "markdown",
   "id": "34cd5b98",
   "metadata": {
    "slideshow": {
     "slide_type": "slide"
    }
   },
   "source": [
    "# How to use an API?\n",
    "\n",
    "1. **Authentication tokens**\n",
    "\n",
    "These are used to authorize users to make the API call. Authentication tokens check that the users are who they claim to be and that they have access rights for that particular API call. For example, when you log in to your email server, your email client uses authentication tokens for secure access.\n",
    "\n",
    "2. **API keys**\n",
    "\n",
    "API keys verify the program or application making the API call. They identify the application and ensure it has the access rights required to make the particular API call. API keys are not as secure as tokens but they allow API monitoring in order to gather data on usage. You may have noticed a long string of characters and numbers in your browser URL when you visit different websites. This string is an API key the website uses to make internal API calls."
   ]
  },
  {
   "cell_type": "markdown",
   "id": "4f67fa63",
   "metadata": {
    "slideshow": {
     "slide_type": "slide"
    }
   },
   "source": [
    "# How to use the Twitter API?\n",
    "\n",
    "- Developer account: https://developer.twitter.com/en\n",
    "\n",
    "- Apply for access: https://developer.twitter.com/en/apply-for-access"
   ]
  },
  {
   "cell_type": "code",
   "execution_count": 2,
   "id": "22daef90",
   "metadata": {
    "slideshow": {
     "slide_type": "slide"
    }
   },
   "outputs": [
    {
     "name": "stdout",
     "output_type": "stream",
     "text": [
      "Collecting tweepy\n",
      "  Downloading tweepy-4.13.0-py3-none-any.whl (102 kB)\n",
      "\u001b[2K     \u001b[90m━━━━━━━━━━━━━━━━━━━━━━━━━━━━━━━━━━━━━━━\u001b[0m \u001b[32m102.8/102.8 kB\u001b[0m \u001b[31m9.4 MB/s\u001b[0m eta \u001b[36m0:00:00\u001b[0m\n",
      "\u001b[?25hCollecting oauthlib<4,>=3.2.0\n",
      "  Downloading oauthlib-3.2.2-py3-none-any.whl (151 kB)\n",
      "\u001b[2K     \u001b[90m━━━━━━━━━━━━━━━━━━━━━━━━━━━━━━━━━━━━━━━\u001b[0m \u001b[32m151.7/151.7 kB\u001b[0m \u001b[31m7.2 MB/s\u001b[0m eta \u001b[36m0:00:00\u001b[0m\n",
      "\u001b[?25hRequirement already satisfied: requests<3,>=2.27.0 in /Users/vivianamarquez/opt/anaconda3/lib/python3.9/site-packages (from tweepy) (2.28.1)\n",
      "Collecting requests-oauthlib<2,>=1.2.0\n",
      "  Using cached requests_oauthlib-1.3.1-py2.py3-none-any.whl (23 kB)\n",
      "Requirement already satisfied: certifi>=2017.4.17 in /Users/vivianamarquez/opt/anaconda3/lib/python3.9/site-packages (from requests<3,>=2.27.0->tweepy) (2022.9.24)\n",
      "Requirement already satisfied: urllib3<1.27,>=1.21.1 in /Users/vivianamarquez/opt/anaconda3/lib/python3.9/site-packages (from requests<3,>=2.27.0->tweepy) (1.26.11)\n",
      "Requirement already satisfied: idna<4,>=2.5 in /Users/vivianamarquez/opt/anaconda3/lib/python3.9/site-packages (from requests<3,>=2.27.0->tweepy) (3.3)\n",
      "Requirement already satisfied: charset-normalizer<3,>=2 in /Users/vivianamarquez/opt/anaconda3/lib/python3.9/site-packages (from requests<3,>=2.27.0->tweepy) (2.0.4)\n",
      "Installing collected packages: oauthlib, requests-oauthlib, tweepy\n",
      "Successfully installed oauthlib-3.2.2 requests-oauthlib-1.3.1 tweepy-4.13.0\n"
     ]
    }
   ],
   "source": [
    "! pip install tweepy"
   ]
  },
  {
   "cell_type": "code",
   "execution_count": 4,
   "id": "30a27af2",
   "metadata": {
    "slideshow": {
     "slide_type": "slide"
    }
   },
   "outputs": [],
   "source": [
    "import tweepy\n",
    "\n",
    "# Read keys\n",
    "keys = pd.read_csv(\"keys_demo.csv\", header=None)\n",
    "keys = dict(zip(keys[0],keys[1]))\n",
    "\n",
    "# Authorize \n",
    "auth = tweepy.OAuthHandler(keys['api_key'], keys['api_secret_key'])\n",
    "auth.set_access_token(keys['access_token'], keys['access_token_secret'])\n",
    "api = tweepy.API(auth, wait_on_rate_limit=True)"
   ]
  },
  {
   "cell_type": "code",
   "execution_count": 5,
   "id": "9fbe7a42",
   "metadata": {
    "slideshow": {
     "slide_type": "slide"
    }
   },
   "outputs": [
    {
     "data": {
      "text/plain": [
       "Status(_api=<tweepy.api.API object at 0x7f9266c729a0>, _json={'created_at': 'Mon Apr 17 10:57:55 +0000 2023', 'id': 1647917299540586496, 'id_str': '1647917299540586496', 'text': 'Aún sigo preparando clase...', 'truncated': False, 'entities': {'hashtags': [], 'symbols': [], 'user_mentions': [], 'urls': []}, 'source': '<a href=\"https://help.twitter.com/en/using-twitter/how-to-tweet#source-labels\" rel=\"nofollow\">Demo NLP 07-11-2020</a>', 'in_reply_to_status_id': None, 'in_reply_to_status_id_str': None, 'in_reply_to_user_id': None, 'in_reply_to_user_id_str': None, 'in_reply_to_screen_name': None, 'user': {'id': 1295079294239223812, 'id_str': '1295079294239223812', 'name': 'NLP con Vivi', 'screen_name': 'NLPconVivi', 'location': 'Konrad Lorenz', 'description': '“La mejor clase del Universo 7, pero deja muchos talleres” ~ Gokú 2020', 'url': None, 'entities': {'description': {'urls': []}}, 'protected': False, 'followers_count': 43, 'friends_count': 34, 'listed_count': 0, 'created_at': 'Sun Aug 16 19:25:55 +0000 2020', 'favourites_count': 137, 'utc_offset': None, 'time_zone': None, 'geo_enabled': False, 'verified': False, 'statuses_count': 226, 'lang': None, 'contributors_enabled': False, 'is_translator': False, 'is_translation_enabled': False, 'profile_background_color': 'F5F8FA', 'profile_background_image_url': None, 'profile_background_image_url_https': None, 'profile_background_tile': False, 'profile_image_url': 'http://pbs.twimg.com/profile_images/1338673815547768832/tMJaBsW8_normal.jpg', 'profile_image_url_https': 'https://pbs.twimg.com/profile_images/1338673815547768832/tMJaBsW8_normal.jpg', 'profile_banner_url': 'https://pbs.twimg.com/profile_banners/1295079294239223812/1607999522', 'profile_link_color': '1DA1F2', 'profile_sidebar_border_color': 'C0DEED', 'profile_sidebar_fill_color': 'DDEEF6', 'profile_text_color': '333333', 'profile_use_background_image': True, 'has_extended_profile': True, 'default_profile': True, 'default_profile_image': False, 'following': False, 'follow_request_sent': False, 'notifications': False, 'translator_type': 'none', 'withheld_in_countries': []}, 'geo': None, 'coordinates': None, 'place': None, 'contributors': None, 'is_quote_status': False, 'retweet_count': 0, 'favorite_count': 0, 'favorited': False, 'retweeted': False, 'lang': 'es'}, created_at=datetime.datetime(2023, 4, 17, 10, 57, 55, tzinfo=datetime.timezone.utc), id=1647917299540586496, id_str='1647917299540586496', text='Aún sigo preparando clase...', truncated=False, entities={'hashtags': [], 'symbols': [], 'user_mentions': [], 'urls': []}, source='Demo NLP 07-11-2020', source_url='https://help.twitter.com/en/using-twitter/how-to-tweet#source-labels', in_reply_to_status_id=None, in_reply_to_status_id_str=None, in_reply_to_user_id=None, in_reply_to_user_id_str=None, in_reply_to_screen_name=None, author=User(_api=<tweepy.api.API object at 0x7f9266c729a0>, _json={'id': 1295079294239223812, 'id_str': '1295079294239223812', 'name': 'NLP con Vivi', 'screen_name': 'NLPconVivi', 'location': 'Konrad Lorenz', 'description': '“La mejor clase del Universo 7, pero deja muchos talleres” ~ Gokú 2020', 'url': None, 'entities': {'description': {'urls': []}}, 'protected': False, 'followers_count': 43, 'friends_count': 34, 'listed_count': 0, 'created_at': 'Sun Aug 16 19:25:55 +0000 2020', 'favourites_count': 137, 'utc_offset': None, 'time_zone': None, 'geo_enabled': False, 'verified': False, 'statuses_count': 226, 'lang': None, 'contributors_enabled': False, 'is_translator': False, 'is_translation_enabled': False, 'profile_background_color': 'F5F8FA', 'profile_background_image_url': None, 'profile_background_image_url_https': None, 'profile_background_tile': False, 'profile_image_url': 'http://pbs.twimg.com/profile_images/1338673815547768832/tMJaBsW8_normal.jpg', 'profile_image_url_https': 'https://pbs.twimg.com/profile_images/1338673815547768832/tMJaBsW8_normal.jpg', 'profile_banner_url': 'https://pbs.twimg.com/profile_banners/1295079294239223812/1607999522', 'profile_link_color': '1DA1F2', 'profile_sidebar_border_color': 'C0DEED', 'profile_sidebar_fill_color': 'DDEEF6', 'profile_text_color': '333333', 'profile_use_background_image': True, 'has_extended_profile': True, 'default_profile': True, 'default_profile_image': False, 'following': False, 'follow_request_sent': False, 'notifications': False, 'translator_type': 'none', 'withheld_in_countries': []}, id=1295079294239223812, id_str='1295079294239223812', name='NLP con Vivi', screen_name='NLPconVivi', location='Konrad Lorenz', description='“La mejor clase del Universo 7, pero deja muchos talleres” ~ Gokú 2020', url=None, entities={'description': {'urls': []}}, protected=False, followers_count=43, friends_count=34, listed_count=0, created_at=datetime.datetime(2020, 8, 16, 19, 25, 55, tzinfo=datetime.timezone.utc), favourites_count=137, utc_offset=None, time_zone=None, geo_enabled=False, verified=False, statuses_count=226, lang=None, contributors_enabled=False, is_translator=False, is_translation_enabled=False, profile_background_color='F5F8FA', profile_background_image_url=None, profile_background_image_url_https=None, profile_background_tile=False, profile_image_url='http://pbs.twimg.com/profile_images/1338673815547768832/tMJaBsW8_normal.jpg', profile_image_url_https='https://pbs.twimg.com/profile_images/1338673815547768832/tMJaBsW8_normal.jpg', profile_banner_url='https://pbs.twimg.com/profile_banners/1295079294239223812/1607999522', profile_link_color='1DA1F2', profile_sidebar_border_color='C0DEED', profile_sidebar_fill_color='DDEEF6', profile_text_color='333333', profile_use_background_image=True, has_extended_profile=True, default_profile=True, default_profile_image=False, following=False, follow_request_sent=False, notifications=False, translator_type='none', withheld_in_countries=[]), user=User(_api=<tweepy.api.API object at 0x7f9266c729a0>, _json={'id': 1295079294239223812, 'id_str': '1295079294239223812', 'name': 'NLP con Vivi', 'screen_name': 'NLPconVivi', 'location': 'Konrad Lorenz', 'description': '“La mejor clase del Universo 7, pero deja muchos talleres” ~ Gokú 2020', 'url': None, 'entities': {'description': {'urls': []}}, 'protected': False, 'followers_count': 43, 'friends_count': 34, 'listed_count': 0, 'created_at': 'Sun Aug 16 19:25:55 +0000 2020', 'favourites_count': 137, 'utc_offset': None, 'time_zone': None, 'geo_enabled': False, 'verified': False, 'statuses_count': 226, 'lang': None, 'contributors_enabled': False, 'is_translator': False, 'is_translation_enabled': False, 'profile_background_color': 'F5F8FA', 'profile_background_image_url': None, 'profile_background_image_url_https': None, 'profile_background_tile': False, 'profile_image_url': 'http://pbs.twimg.com/profile_images/1338673815547768832/tMJaBsW8_normal.jpg', 'profile_image_url_https': 'https://pbs.twimg.com/profile_images/1338673815547768832/tMJaBsW8_normal.jpg', 'profile_banner_url': 'https://pbs.twimg.com/profile_banners/1295079294239223812/1607999522', 'profile_link_color': '1DA1F2', 'profile_sidebar_border_color': 'C0DEED', 'profile_sidebar_fill_color': 'DDEEF6', 'profile_text_color': '333333', 'profile_use_background_image': True, 'has_extended_profile': True, 'default_profile': True, 'default_profile_image': False, 'following': False, 'follow_request_sent': False, 'notifications': False, 'translator_type': 'none', 'withheld_in_countries': []}, id=1295079294239223812, id_str='1295079294239223812', name='NLP con Vivi', screen_name='NLPconVivi', location='Konrad Lorenz', description='“La mejor clase del Universo 7, pero deja muchos talleres” ~ Gokú 2020', url=None, entities={'description': {'urls': []}}, protected=False, followers_count=43, friends_count=34, listed_count=0, created_at=datetime.datetime(2020, 8, 16, 19, 25, 55, tzinfo=datetime.timezone.utc), favourites_count=137, utc_offset=None, time_zone=None, geo_enabled=False, verified=False, statuses_count=226, lang=None, contributors_enabled=False, is_translator=False, is_translation_enabled=False, profile_background_color='F5F8FA', profile_background_image_url=None, profile_background_image_url_https=None, profile_background_tile=False, profile_image_url='http://pbs.twimg.com/profile_images/1338673815547768832/tMJaBsW8_normal.jpg', profile_image_url_https='https://pbs.twimg.com/profile_images/1338673815547768832/tMJaBsW8_normal.jpg', profile_banner_url='https://pbs.twimg.com/profile_banners/1295079294239223812/1607999522', profile_link_color='1DA1F2', profile_sidebar_border_color='C0DEED', profile_sidebar_fill_color='DDEEF6', profile_text_color='333333', profile_use_background_image=True, has_extended_profile=True, default_profile=True, default_profile_image=False, following=False, follow_request_sent=False, notifications=False, translator_type='none', withheld_in_countries=[]), geo=None, coordinates=None, place=None, contributors=None, is_quote_status=False, retweet_count=0, favorite_count=0, favorited=False, retweeted=False, lang='es')"
      ]
     },
     "execution_count": 5,
     "metadata": {},
     "output_type": "execute_result"
    }
   ],
   "source": [
    "# api.update_status(\"J'enseigne en ce moment même à mes merveilleuses étudiantes du Burundi 🇧🇮\")"
   ]
  },
  {
   "cell_type": "markdown",
   "id": "54c2a4bb",
   "metadata": {
    "slideshow": {
     "slide_type": "slide"
    }
   },
   "source": [
    "# ⏪ Today's recap\n",
    "\n",
    "- getting data from Twitter"
   ]
  },
  {
   "cell_type": "markdown",
   "id": "c3c47662",
   "metadata": {
    "slideshow": {
     "slide_type": "slide"
    }
   },
   "source": [
    "<center><img src='img/bye.gif' style='height:250px;'></center> \n",
    "\n",
    "# Next class: How do computers understand language?\n",
    "# See you next Monday!"
   ]
  }
 ],
 "metadata": {
  "celltoolbar": "Slideshow",
  "kernelspec": {
   "display_name": "Python 3 (ipykernel)",
   "language": "python",
   "name": "python3"
  },
  "language_info": {
   "codemirror_mode": {
    "name": "ipython",
    "version": 3
   },
   "file_extension": ".py",
   "mimetype": "text/x-python",
   "name": "python",
   "nbconvert_exporter": "python",
   "pygments_lexer": "ipython3",
   "version": "3.9.13"
  }
 },
 "nbformat": 4,
 "nbformat_minor": 5
}
