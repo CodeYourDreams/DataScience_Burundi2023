{
 "cells": [
  {
   "cell_type": "markdown",
   "id": "674ac2a7",
   "metadata": {
    "slideshow": {
     "slide_type": "slide"
    }
   },
   "source": [
    "# We will start at 3:05 p.m.\n",
    "https://www.youtube.com/watch?v=iyLdoQGBchQ&ab_channel=ClubMusic80s"
   ]
  },
  {
   "cell_type": "markdown",
   "id": "843e46f7",
   "metadata": {
    "slideshow": {
     "slide_type": "slide"
    }
   },
   "source": [
    "<center><img src='img/cdy.png' style='width:500px; float: left; margin: 0px 30px 15px 0px'></center>\n",
    "\n",
    "# Python Variables and Data types\n",
    "## Class 3 - Data Science  Curriculum \n",
    "\n",
    "<br>\n",
    "\n",
    "#### Women Building Change scholarship program 2023 🇧🇮\n",
    "February 20, 2023\n",
    "\n",
    "\n",
    "\n"
   ]
  },
  {
   "cell_type": "markdown",
   "id": "79f3848e",
   "metadata": {
    "slideshow": {
     "slide_type": "slide"
    }
   },
   "source": [
    "# Recap last class\n",
    "\n",
    "- What is an algorithm?\n",
    "- What is coding? \n",
    "- What is Python?\n",
    "- Technical tools: Python, Jupyter Notebooks, Google Colab\n",
    "- `Hello World`"
   ]
  },
  {
   "cell_type": "markdown",
   "id": "82476939",
   "metadata": {
    "slideshow": {
     "slide_type": "slide"
    }
   },
   "source": [
    "# 🚀 Today's agenda\n",
    "\n",
    "- Python, Jupyter Notebooks, Google Colab\n",
    "- Python Variables and Data types \n",
    "- Arithmetic syntax \n"
   ]
  },
  {
   "cell_type": "markdown",
   "id": "72ba187d",
   "metadata": {
    "slideshow": {
     "slide_type": "slide"
    }
   },
   "source": [
    "# How to install Python?\n",
    "\n",
    "Anaconda distribution: [Link](https://www.anaconda.com/products/distribution)"
   ]
  },
  {
   "cell_type": "markdown",
   "id": "262cb5e9",
   "metadata": {
    "slideshow": {
     "slide_type": "slide"
    }
   },
   "source": [
    "# File types: `.py` vs `.ipynb`\n",
    "\n",
    "- `.ipynb`: Jupyter Notebook file, you need to have installed Jupyter Notebooks.\n",
    "- `.py`: Script file. They run in the terminal. Can be used for production. You can create them in a code editor (I recommend Visual Studio Code)."
   ]
  },
  {
   "cell_type": "markdown",
   "id": "cddcf901",
   "metadata": {
    "slideshow": {
     "slide_type": "slide"
    }
   },
   "source": [
    "- Step 1: Open `Anaconda Power Shell`\n",
    "- Step 2 (optional): Type `python --version`\n",
    "- Step 3: Type `jupyter notebook`"
   ]
  },
  {
   "cell_type": "markdown",
   "id": "d7c97442",
   "metadata": {
    "slideshow": {
     "slide_type": "slide"
    }
   },
   "source": [
    "# 😱 What if my computer can't open Python?\n",
    "\n",
    "<br>\n",
    "<center><img src='img/superhero.gif' style='height:350px; float: center; margin: 0px 30px 15px 0px'></center>\n",
    "\n"
   ]
  },
  {
   "cell_type": "markdown",
   "id": "2224c936",
   "metadata": {
    "slideshow": {
     "slide_type": "fragment"
    }
   },
   "source": [
    "Use Google Colab: https://colab.research.google.com/"
   ]
  },
  {
   "cell_type": "markdown",
   "id": "413d1599",
   "metadata": {
    "slideshow": {
     "slide_type": "slide"
    }
   },
   "source": [
    "# Python Variables and Data types\n",
    "\n",
    "Variables are the storage location and name of a piece of data. You can change the value of a variable at any time.\n",
    "\n",
    "There are different \"types of data\". For example, some basic Python data types are:"
   ]
  },
  {
   "cell_type": "markdown",
   "id": "dd20eeeb",
   "metadata": {
    "slideshow": {
     "slide_type": "fragment"
    }
   },
   "source": [
    "- `int`: integer (whole numbers)\n",
    "    - Example: `23`"
   ]
  },
  {
   "cell_type": "markdown",
   "id": "ec812b47",
   "metadata": {
    "slideshow": {
     "slide_type": "fragment"
    }
   },
   "source": [
    "- `float`: number with a decimal\n",
    "    - Example: `3.14`"
   ]
  },
  {
   "cell_type": "markdown",
   "id": "4afa5796",
   "metadata": {
    "slideshow": {
     "slide_type": "fragment"
    }
   },
   "source": [
    "- `boolean`: true or false value\n",
    "    - Example: `True`"
   ]
  },
  {
   "cell_type": "markdown",
   "id": "10ef2df7",
   "metadata": {
    "slideshow": {
     "slide_type": "fragment"
    }
   },
   "source": [
    "- `string`: a sequence of characters in single or double quotes\n",
    "    - Example: `'python'` or `\"Hello World\"`"
   ]
  },
  {
   "cell_type": "markdown",
   "id": "d22e2026",
   "metadata": {
    "slideshow": {
     "slide_type": "slide"
    }
   },
   "source": [
    "### Examples"
   ]
  },
  {
   "cell_type": "markdown",
   "id": "b268cee5",
   "metadata": {
    "slideshow": {
     "slide_type": "fragment"
    }
   },
   "source": [
    "integer "
   ]
  },
  {
   "cell_type": "code",
   "execution_count": null,
   "id": "af6437c4",
   "metadata": {
    "slideshow": {
     "slide_type": "fragment"
    }
   },
   "outputs": [],
   "source": []
  },
  {
   "cell_type": "markdown",
   "id": "94c014f9",
   "metadata": {
    "slideshow": {
     "slide_type": "fragment"
    }
   },
   "source": [
    "float"
   ]
  },
  {
   "cell_type": "code",
   "execution_count": null,
   "id": "b022ba8d",
   "metadata": {
    "slideshow": {
     "slide_type": "fragment"
    }
   },
   "outputs": [],
   "source": []
  },
  {
   "cell_type": "markdown",
   "id": "85b76b9c",
   "metadata": {
    "slideshow": {
     "slide_type": "slide"
    }
   },
   "source": [
    "### Examples"
   ]
  },
  {
   "cell_type": "markdown",
   "id": "8a0deafd",
   "metadata": {
    "slideshow": {
     "slide_type": "fragment"
    }
   },
   "source": [
    "boolean "
   ]
  },
  {
   "cell_type": "code",
   "execution_count": null,
   "id": "ff72603f",
   "metadata": {
    "slideshow": {
     "slide_type": "fragment"
    }
   },
   "outputs": [],
   "source": []
  },
  {
   "cell_type": "markdown",
   "id": "f29a973b",
   "metadata": {
    "slideshow": {
     "slide_type": "fragment"
    }
   },
   "source": [
    "string "
   ]
  },
  {
   "cell_type": "code",
   "execution_count": null,
   "id": "5e2c7e65",
   "metadata": {
    "slideshow": {
     "slide_type": "fragment"
    }
   },
   "outputs": [],
   "source": []
  },
  {
   "cell_type": "markdown",
   "id": "21e9399d",
   "metadata": {
    "slideshow": {
     "slide_type": "slide"
    }
   },
   "source": [
    "## 🤔 When is it better to use `integer`? When is better to use a `float`?"
   ]
  },
  {
   "cell_type": "markdown",
   "id": "6d8ed38c",
   "metadata": {
    "slideshow": {
     "slide_type": "fragment"
    }
   },
   "source": [
    "- `Integer` are good for counting: 1, -1, 10, 8\n",
    "- `Float` are good for calculations: `1.123`, `10.0`, `-5.5`"
   ]
  },
  {
   "cell_type": "markdown",
   "id": "081f03c1",
   "metadata": {
    "slideshow": {
     "slide_type": "slide"
    }
   },
   "source": [
    "## Booleans"
   ]
  },
  {
   "cell_type": "markdown",
   "id": "6d22e71b",
   "metadata": {
    "slideshow": {
     "slide_type": "fragment"
    }
   },
   "source": [
    "Booleans have only two values: `True` and `False`"
   ]
  },
  {
   "cell_type": "code",
   "execution_count": 3,
   "id": "01c6b683",
   "metadata": {
    "slideshow": {
     "slide_type": "fragment"
    }
   },
   "outputs": [
    {
     "data": {
      "text/plain": [
       "True"
      ]
     },
     "execution_count": 3,
     "metadata": {},
     "output_type": "execute_result"
    }
   ],
   "source": [
    "5 == 5"
   ]
  },
  {
   "cell_type": "markdown",
   "id": "b152f8bc",
   "metadata": {
    "slideshow": {
     "slide_type": "fragment"
    }
   },
   "source": [
    "`True` is not the same as `true`. Case matters! "
   ]
  },
  {
   "cell_type": "markdown",
   "id": "288a6431",
   "metadata": {
    "slideshow": {
     "slide_type": "slide"
    }
   },
   "source": [
    "## Strings"
   ]
  },
  {
   "cell_type": "markdown",
   "id": "bcec94ba",
   "metadata": {
    "slideshow": {
     "slide_type": "fragment"
    }
   },
   "source": [
    "Strings are any sequence of characters written inside quotation marks"
   ]
  },
  {
   "cell_type": "markdown",
   "id": "cc54e083",
   "metadata": {
    "slideshow": {
     "slide_type": "fragment"
    }
   },
   "source": [
    "## Python can check type by using `type()`"
   ]
  },
  {
   "cell_type": "code",
   "execution_count": null,
   "id": "85f3cb3c",
   "metadata": {
    "slideshow": {
     "slide_type": "fragment"
    }
   },
   "outputs": [],
   "source": []
  },
  {
   "cell_type": "markdown",
   "id": "3166c11f",
   "metadata": {
    "slideshow": {
     "slide_type": "slide"
    }
   },
   "source": [
    "# Recap: What is a variable?"
   ]
  },
  {
   "cell_type": "markdown",
   "id": "ed3b0727",
   "metadata": {
    "slideshow": {
     "slide_type": "fragment"
    }
   },
   "source": [
    "- You can think of it as a name attached to a value"
   ]
  },
  {
   "cell_type": "markdown",
   "id": "ec8f6a7a",
   "metadata": {
    "slideshow": {
     "slide_type": "fragment"
    }
   },
   "source": [
    "- To create a variable in Python, we don't need to assign the type beforehand"
   ]
  },
  {
   "cell_type": "markdown",
   "id": "fe264a4f",
   "metadata": {
    "slideshow": {
     "slide_type": "fragment"
    }
   },
   "source": [
    "- Variables help us organize all the data around us"
   ]
  },
  {
   "cell_type": "markdown",
   "id": "dc63816c",
   "metadata": {
    "slideshow": {
     "slide_type": "fragment"
    }
   },
   "source": [
    "- You can call the variable whatever you want"
   ]
  },
  {
   "cell_type": "markdown",
   "id": "85c937e1",
   "metadata": {
    "slideshow": {
     "slide_type": "slide"
    }
   },
   "source": [
    "# Write code with good style"
   ]
  },
  {
   "cell_type": "markdown",
   "id": "e59bc0cc",
   "metadata": {
    "slideshow": {
     "slide_type": "fragment"
    }
   },
   "source": [
    "Bad practice"
   ]
  },
  {
   "cell_type": "code",
   "execution_count": 5,
   "id": "ba6811a4",
   "metadata": {
    "slideshow": {
     "slide_type": "fragment"
    }
   },
   "outputs": [
    {
     "ename": "SyntaxError",
     "evalue": "can't assign to literal (<ipython-input-5-88651284007b>, line 2)",
     "output_type": "error",
     "traceback": [
      "\u001b[0;36m  File \u001b[0;32m\"<ipython-input-5-88651284007b>\"\u001b[0;36m, line \u001b[0;32m2\u001b[0m\n\u001b[0;31m    1 = 'one'\u001b[0m\n\u001b[0m             ^\u001b[0m\n\u001b[0;31mSyntaxError\u001b[0m\u001b[0;31m:\u001b[0m can't assign to literal\n"
     ]
    }
   ],
   "source": [
    "this = 5\n",
    "1 = 'one'"
   ]
  },
  {
   "cell_type": "markdown",
   "id": "164b41b3",
   "metadata": {
    "slideshow": {
     "slide_type": "fragment"
    }
   },
   "source": [
    "Good practice"
   ]
  },
  {
   "cell_type": "code",
   "execution_count": null,
   "id": "d8109a39",
   "metadata": {
    "slideshow": {
     "slide_type": "fragment"
    }
   },
   "outputs": [],
   "source": [
    "num_people = 5\n",
    "name = \"Viviana\""
   ]
  },
  {
   "cell_type": "markdown",
   "id": "de7e6ae8",
   "metadata": {
    "slideshow": {
     "slide_type": "fragment"
    }
   },
   "source": [
    "- Variable names should be short but descriptive \n",
    "- We usually use lowercase and underscores"
   ]
  },
  {
   "cell_type": "markdown",
   "id": "18749209",
   "metadata": {
    "slideshow": {
     "slide_type": "slide"
    }
   },
   "source": [
    "# Arithmetic Syntax"
   ]
  },
  {
   "cell_type": "markdown",
   "id": "cfdaf6e5",
   "metadata": {
    "slideshow": {
     "slide_type": "fragment"
    }
   },
   "source": [
    "In Python, there are a few specific ways to write arithmetic values. To start, addition, subtraction, and multiplication are what you would think."
   ]
  },
  {
   "cell_type": "code",
   "execution_count": null,
   "id": "2052d7ca",
   "metadata": {
    "slideshow": {
     "slide_type": "fragment"
    }
   },
   "outputs": [],
   "source": [
    "a = 20 \n",
    "b = 10\n",
    "\n",
    "a1 = b + a \n",
    "a2 = a - b \n",
    "a3 = a * b"
   ]
  },
  {
   "cell_type": "markdown",
   "id": "e7d99d43",
   "metadata": {
    "slideshow": {
     "slide_type": "slide"
    }
   },
   "source": [
    "There are two types of division "
   ]
  },
  {
   "cell_type": "markdown",
   "id": "42ad3fd9",
   "metadata": {
    "slideshow": {
     "slide_type": "fragment"
    }
   },
   "source": [
    "- True division. Uses single slash: `/`. Returns a float"
   ]
  },
  {
   "cell_type": "code",
   "execution_count": null,
   "id": "bf85f322",
   "metadata": {
    "slideshow": {
     "slide_type": "fragment"
    }
   },
   "outputs": [],
   "source": [
    "c = 10 / 3"
   ]
  },
  {
   "cell_type": "markdown",
   "id": "b925b43a",
   "metadata": {
    "slideshow": {
     "slide_type": "fragment"
    }
   },
   "source": [
    "- Floor division. Uses single slash: `//`. Returns an int (the quotient of a and b removing fractional parts)\n"
   ]
  },
  {
   "cell_type": "code",
   "execution_count": null,
   "id": "1f82407b",
   "metadata": {
    "slideshow": {
     "slide_type": "fragment"
    }
   },
   "outputs": [],
   "source": [
    "d = 10 // 3 "
   ]
  },
  {
   "cell_type": "markdown",
   "id": "209c2fcf",
   "metadata": {
    "slideshow": {
     "slide_type": "slide"
    }
   },
   "source": [
    "- The percent sign `%` is called **modulus**. This returns the remainder after the division of two numbers"
   ]
  },
  {
   "cell_type": "code",
   "execution_count": null,
   "id": "cc64c977",
   "metadata": {
    "slideshow": {
     "slide_type": "fragment"
    }
   },
   "outputs": [],
   "source": [
    "e = 10 % 3"
   ]
  },
  {
   "cell_type": "markdown",
   "id": "aa370260",
   "metadata": {
    "slideshow": {
     "slide_type": "slide"
    }
   },
   "source": [
    "To use exponents, or raise something to a power, you use a double asterick `**`"
   ]
  },
  {
   "cell_type": "code",
   "execution_count": null,
   "id": "066145fc",
   "metadata": {
    "slideshow": {
     "slide_type": "fragment"
    }
   },
   "outputs": [],
   "source": [
    "f = 2 ** 3 \n",
    "g = 17 ** 0"
   ]
  },
  {
   "cell_type": "markdown",
   "id": "469bf45e",
   "metadata": {
    "slideshow": {
     "slide_type": "slide"
    }
   },
   "source": [
    "## 🤔 Try to predict what the answer will be. Then run the program to check your answer."
   ]
  },
  {
   "cell_type": "code",
   "execution_count": null,
   "id": "44f8548e",
   "metadata": {
    "slideshow": {
     "slide_type": "fragment"
    }
   },
   "outputs": [],
   "source": [
    "j = 1 + 2 * 3\n",
    "k = (1 + 2) * 3"
   ]
  },
  {
   "cell_type": "markdown",
   "id": "676e5f87",
   "metadata": {
    "slideshow": {
     "slide_type": "slide"
    }
   },
   "source": [
    "# Arithmetic practice problems "
   ]
  },
  {
   "cell_type": "markdown",
   "id": "d3445e12",
   "metadata": {
    "slideshow": {
     "slide_type": "fragment"
    }
   },
   "source": [
    "The school day is seven and a half hours, which includes an hour for lunch. You are taking 5 classes. Write an equation to figure out how many hours you spend in each class.\n",
    "\n",
    "- Think about it: which type of division will you want to use? Why?"
   ]
  },
  {
   "cell_type": "code",
   "execution_count": null,
   "id": "713803b9",
   "metadata": {
    "slideshow": {
     "slide_type": "fragment"
    }
   },
   "outputs": [],
   "source": []
  },
  {
   "cell_type": "code",
   "execution_count": null,
   "id": "9e0491e4",
   "metadata": {
    "slideshow": {
     "slide_type": "slide"
    }
   },
   "outputs": [],
   "source": [
    "num = 7\n",
    "\n",
    "## How would you square the number?\n",
    "squared = \n",
    "\n",
    "## How would you cube the number?\n",
    "cubed = "
   ]
  },
  {
   "cell_type": "markdown",
   "id": "cabb6bb9",
   "metadata": {
    "slideshow": {
     "slide_type": "slide"
    }
   },
   "source": [
    "**Comparisons** \n",
    "\n",
    "- Operators such as the equal sign `=` compare values on either side of it, and decide on the relation among them. These operators are called comparison or relational operators.\n",
    "\n",
    "- Comparison Operators return booleans. Booleans are either True or False values."
   ]
  },
  {
   "cell_type": "code",
   "execution_count": null,
   "id": "3a1b532d",
   "metadata": {
    "slideshow": {
     "slide_type": "fragment"
    }
   },
   "outputs": [],
   "source": [
    "a = 10\n",
    "b = 20\n",
    "\n",
    "a==b"
   ]
  },
  {
   "cell_type": "markdown",
   "id": "1c2e94b8",
   "metadata": {
    "slideshow": {
     "slide_type": "slide"
    }
   },
   "source": [
    "Not equals `!=`\n",
    "\n",
    "- `!` means not in Python"
   ]
  },
  {
   "cell_type": "code",
   "execution_count": null,
   "id": "14cc8fcd",
   "metadata": {
    "slideshow": {
     "slide_type": "fragment"
    }
   },
   "outputs": [],
   "source": [
    "10 != 20"
   ]
  },
  {
   "cell_type": "markdown",
   "id": "998d3f1c",
   "metadata": {
    "slideshow": {
     "slide_type": "slide"
    }
   },
   "source": [
    "Less than `<` and greater than `>` signs"
   ]
  },
  {
   "cell_type": "code",
   "execution_count": null,
   "id": "9dc00793",
   "metadata": {
    "slideshow": {
     "slide_type": "fragment"
    }
   },
   "outputs": [],
   "source": []
  },
  {
   "cell_type": "markdown",
   "id": "d084d111",
   "metadata": {
    "slideshow": {
     "slide_type": "slide"
    }
   },
   "source": [
    "Less than or equal to `<=` and greater than or equal to `>=` signs"
   ]
  },
  {
   "cell_type": "markdown",
   "id": "5456ffb3",
   "metadata": {
    "slideshow": {
     "slide_type": "slide"
    }
   },
   "source": [
    "# Logic operators \n",
    "\n",
    "From highest precedence to lowest is: NOT, AND, OR"
   ]
  },
  {
   "cell_type": "markdown",
   "id": "352a98e8",
   "metadata": {
    "slideshow": {
     "slide_type": "fragment"
    }
   },
   "source": [
    "The AND operator is true only if both arguments are true"
   ]
  },
  {
   "cell_type": "code",
   "execution_count": null,
   "id": "ece667c5",
   "metadata": {
    "slideshow": {
     "slide_type": "fragment"
    }
   },
   "outputs": [],
   "source": [
    "print(True and True)\n",
    "print(True and False)\n",
    "print(False and True)\n",
    "print(False and False)"
   ]
  },
  {
   "cell_type": "markdown",
   "id": "54605bbb",
   "metadata": {
    "slideshow": {
     "slide_type": "slide"
    }
   },
   "source": [
    "The OR operator is true if either arguments are true"
   ]
  },
  {
   "cell_type": "code",
   "execution_count": null,
   "id": "fd059ef2",
   "metadata": {
    "slideshow": {
     "slide_type": "fragment"
    }
   },
   "outputs": [],
   "source": [
    "print(True or True)\n",
    "print(True or False)\n",
    "print(False or True)\n",
    "print(False or False)"
   ]
  },
  {
   "cell_type": "markdown",
   "id": "dcaab594",
   "metadata": {
    "slideshow": {
     "slide_type": "slide"
    }
   },
   "source": [
    "The NOT operator is used to reverse the logical state of a and b"
   ]
  },
  {
   "cell_type": "code",
   "execution_count": null,
   "id": "7a0c55a7",
   "metadata": {
    "slideshow": {
     "slide_type": "fragment"
    }
   },
   "outputs": [],
   "source": [
    "print(not(True))\n",
    "print(not(False))"
   ]
  },
  {
   "cell_type": "markdown",
   "id": "335f2f76",
   "metadata": {
    "slideshow": {
     "slide_type": "slide"
    }
   },
   "source": [
    "# ⚠️  Common errors"
   ]
  },
  {
   "cell_type": "code",
   "execution_count": null,
   "id": "8937c20b",
   "metadata": {
    "slideshow": {
     "slide_type": "fragment"
    }
   },
   "outputs": [],
   "source": [
    "'Hi' + 5 "
   ]
  },
  {
   "cell_type": "code",
   "execution_count": null,
   "id": "c45180e5",
   "metadata": {
    "slideshow": {
     "slide_type": "fragment"
    }
   },
   "outputs": [],
   "source": [
    "\"5.5\" + 5.5"
   ]
  },
  {
   "cell_type": "code",
   "execution_count": null,
   "id": "766d7098",
   "metadata": {
    "slideshow": {
     "slide_type": "fragment"
    }
   },
   "outputs": [],
   "source": [
    "5.5 + 3"
   ]
  },
  {
   "cell_type": "code",
   "execution_count": null,
   "id": "c1f60ae4",
   "metadata": {
    "slideshow": {
     "slide_type": "fragment"
    }
   },
   "outputs": [],
   "source": [
    "\"3\"+\"4\""
   ]
  },
  {
   "cell_type": "markdown",
   "id": "44aa29f4",
   "metadata": {
    "slideshow": {
     "slide_type": "slide"
    }
   },
   "source": [
    "# ⏪ Today's recap\n",
    "\n",
    "- Google Colab: https://colab.research.google.com/ \n",
    "- Python Variables: Name attached to a value \n",
    "- Data types: int, float, boolean, string\n",
    "- Arithmetic syntax \n",
    "\n",
    "\n",
    "### Additional resource: [Variables Lab](https://docs.google.com/document/d/1bfAd8Z4Z-D9DgQydL-bL-uZAJuhOKynWgzegUccqUqk/edit)"
   ]
  },
  {
   "cell_type": "markdown",
   "id": "c3c47662",
   "metadata": {
    "slideshow": {
     "slide_type": "slide"
    }
   },
   "source": [
    "<center><img src='img/bye.gif' style='height:250px;'></center> \n",
    "\n",
    "# Next class: ...\n",
    "# See you next Friday!"
   ]
  }
 ],
 "metadata": {
  "celltoolbar": "Slideshow",
  "kernelspec": {
   "display_name": "Python 3",
   "language": "python",
   "name": "python3"
  },
  "language_info": {
   "codemirror_mode": {
    "name": "ipython",
    "version": 3
   },
   "file_extension": ".py",
   "mimetype": "text/x-python",
   "name": "python",
   "nbconvert_exporter": "python",
   "pygments_lexer": "ipython3",
   "version": "3.7.4"
  }
 },
 "nbformat": 4,
 "nbformat_minor": 5
}
