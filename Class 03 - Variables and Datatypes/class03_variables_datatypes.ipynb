{
 "cells": [
  {
   "cell_type": "markdown",
   "id": "674ac2a7",
   "metadata": {
    "slideshow": {
     "slide_type": "slide"
    }
   },
   "source": [
    "# We will start soon!\n",
    "https://www.youtube.com/watch?v=iyLdoQGBchQ&ab_channel=ClubMusic80s"
   ]
  },
  {
   "cell_type": "markdown",
   "id": "843e46f7",
   "metadata": {
    "slideshow": {
     "slide_type": "slide"
    }
   },
   "source": [
    "<center><img src='img/cdy.png' style='width:500px; float: left; margin: 0px 30px 15px 0px'></center>\n",
    "\n",
    "# Python Variables and Data types\n",
    "## Class 3 - Data Science  Curriculum \n",
    "\n",
    "<br>\n",
    "\n",
    "#### Women Building Change scholarship program 2023 🇧🇮\n",
    "February 20, 2023\n",
    "\n",
    "\n",
    "\n"
   ]
  },
  {
   "cell_type": "markdown",
   "id": "79f3848e",
   "metadata": {
    "slideshow": {
     "slide_type": "slide"
    }
   },
   "source": [
    "# Recap last class\n",
    "\n",
    "- What is an algorithm?\n",
    "- What is coding? \n",
    "- What is Python?\n",
    "- Technical tools: Python, Jupyter Notebooks, Google Colab\n",
    "- `Hello World`"
   ]
  },
  {
   "cell_type": "markdown",
   "id": "82476939",
   "metadata": {
    "slideshow": {
     "slide_type": "slide"
    }
   },
   "source": [
    "# 🚀 Today's agenda\n",
    "\n",
    "- Python, Jupyter Notebooks, Google Colab\n",
    "- Python Variables and Data types \n",
    "- Arithmetic syntax \n"
   ]
  },
  {
   "cell_type": "markdown",
   "id": "72ba187d",
   "metadata": {
    "slideshow": {
     "slide_type": "slide"
    }
   },
   "source": [
    "# How to install Python?\n",
    "\n",
    "Anaconda distribution: [Link](https://www.anaconda.com/products/distribution)"
   ]
  },
  {
   "cell_type": "markdown",
   "id": "262cb5e9",
   "metadata": {
    "slideshow": {
     "slide_type": "slide"
    }
   },
   "source": [
    "# File types: `.py` vs `.ipynb`\n",
    "\n",
    "- `.ipynb`: Jupyter Notebook file, you need to have installed Jupyter Notebooks or run them using Google Colab\n",
    "- `.py`: Script file. They run in the terminal. Can be used for production. You can create them in a code editor (I recommend Visual Studio Code)."
   ]
  },
  {
   "cell_type": "markdown",
   "id": "cddcf901",
   "metadata": {
    "slideshow": {
     "slide_type": "slide"
    }
   },
   "source": [
    "- Step 1: Open `Anaconda Power Shell`\n",
    "- Step 2 (optional): Type `python --version`\n",
    "- Step 3: Type `jupyter notebook`"
   ]
  },
  {
   "cell_type": "markdown",
   "id": "d7c97442",
   "metadata": {
    "slideshow": {
     "slide_type": "slide"
    }
   },
   "source": [
    "# 😱 What if my computer can't open Python?\n",
    "\n",
    "<br>\n",
    "<center><img src='img/superhero.gif' style='height:350px; float: center; margin: 0px 30px 15px 0px'></center>\n",
    "\n"
   ]
  },
  {
   "cell_type": "markdown",
   "id": "2224c936",
   "metadata": {
    "slideshow": {
     "slide_type": "fragment"
    }
   },
   "source": [
    "Use Google Colab: https://colab.research.google.com/"
   ]
  },
  {
   "cell_type": "markdown",
   "id": "ea715e3e",
   "metadata": {
    "slideshow": {
     "slide_type": "slide"
    }
   },
   "source": [
    "# See you all at 4:17 p.m."
   ]
  },
  {
   "cell_type": "markdown",
   "id": "b279b99a",
   "metadata": {
    "slideshow": {
     "slide_type": "slide"
    }
   },
   "source": [
    "# Python Variables and Data types\n",
    "\n",
    "Variables are the storage location and name of a piece of data. You can change the value of a variable at any time.\n",
    "\n",
    "There are different \"types of data\". For example, some basic Python data types are:"
   ]
  },
  {
   "cell_type": "markdown",
   "id": "b6dd0aa1",
   "metadata": {
    "slideshow": {
     "slide_type": "fragment"
    }
   },
   "source": [
    "- `int`: integer (whole numbers)\n",
    "    - Example: `23`"
   ]
  },
  {
   "cell_type": "markdown",
   "id": "45f9110c",
   "metadata": {
    "slideshow": {
     "slide_type": "fragment"
    }
   },
   "source": [
    "- `float`: number with a decimal\n",
    "    - Example: `3.14`"
   ]
  },
  {
   "cell_type": "markdown",
   "id": "d76b39c5",
   "metadata": {
    "slideshow": {
     "slide_type": "fragment"
    }
   },
   "source": [
    "- `boolean`: true or false value\n",
    "    - Example: `True`"
   ]
  },
  {
   "cell_type": "markdown",
   "id": "1e9dfc73",
   "metadata": {
    "slideshow": {
     "slide_type": "fragment"
    }
   },
   "source": [
    "- `string`: a sequence of characters in single or double quotes\n",
    "    - Example: `'python'` or `\"Hello World\"`"
   ]
  },
  {
   "cell_type": "markdown",
   "id": "47bcd561",
   "metadata": {
    "slideshow": {
     "slide_type": "slide"
    }
   },
   "source": [
    "### Examples"
   ]
  },
  {
   "cell_type": "markdown",
   "id": "27c886fa",
   "metadata": {
    "slideshow": {
     "slide_type": "fragment"
    }
   },
   "source": [
    "integer "
   ]
  },
  {
   "cell_type": "code",
   "execution_count": null,
   "id": "a7876621",
   "metadata": {
    "slideshow": {
     "slide_type": "fragment"
    }
   },
   "outputs": [],
   "source": []
  },
  {
   "cell_type": "markdown",
   "id": "77ada850",
   "metadata": {
    "slideshow": {
     "slide_type": "fragment"
    }
   },
   "source": [
    "float"
   ]
  },
  {
   "cell_type": "code",
   "execution_count": null,
   "id": "8a1e5420",
   "metadata": {
    "slideshow": {
     "slide_type": "fragment"
    }
   },
   "outputs": [],
   "source": []
  },
  {
   "cell_type": "markdown",
   "id": "16d88400",
   "metadata": {
    "slideshow": {
     "slide_type": "slide"
    }
   },
   "source": [
    "### Examples"
   ]
  },
  {
   "cell_type": "markdown",
   "id": "5fd0ce63",
   "metadata": {
    "slideshow": {
     "slide_type": "fragment"
    }
   },
   "source": [
    "boolean "
   ]
  },
  {
   "cell_type": "code",
   "execution_count": null,
   "id": "a6a96a9b",
   "metadata": {
    "slideshow": {
     "slide_type": "fragment"
    }
   },
   "outputs": [],
   "source": []
  },
  {
   "cell_type": "markdown",
   "id": "3759c7fa",
   "metadata": {
    "slideshow": {
     "slide_type": "fragment"
    }
   },
   "source": [
    "string "
   ]
  },
  {
   "cell_type": "code",
   "execution_count": null,
   "id": "6fa5623e",
   "metadata": {
    "slideshow": {
     "slide_type": "fragment"
    }
   },
   "outputs": [],
   "source": []
  },
  {
   "cell_type": "markdown",
   "id": "1a6cb778",
   "metadata": {
    "slideshow": {
     "slide_type": "slide"
    }
   },
   "source": [
    "## 🤔 When is it better to use `integer`? When is better to use a `float`?"
   ]
  },
  {
   "cell_type": "markdown",
   "id": "9f75f9a9",
   "metadata": {
    "slideshow": {
     "slide_type": "fragment"
    }
   },
   "source": [
    "- `Integer` are good for counting: 1, -1, 10, 8\n",
    "- `Float` are good for calculations: `1.123`, `10.0`, `-5.5`"
   ]
  },
  {
   "cell_type": "markdown",
   "id": "a96d7fb6",
   "metadata": {
    "slideshow": {
     "slide_type": "slide"
    }
   },
   "source": [
    "## Booleans"
   ]
  },
  {
   "cell_type": "markdown",
   "id": "e9bf46e8",
   "metadata": {
    "slideshow": {
     "slide_type": "fragment"
    }
   },
   "source": [
    "Booleans have only two values: `True` and `False`"
   ]
  },
  {
   "cell_type": "code",
   "execution_count": 3,
   "id": "61e4ff13",
   "metadata": {
    "slideshow": {
     "slide_type": "fragment"
    }
   },
   "outputs": [
    {
     "data": {
      "text/plain": [
       "True"
      ]
     },
     "execution_count": 3,
     "metadata": {},
     "output_type": "execute_result"
    }
   ],
   "source": [
    "5 == 5"
   ]
  },
  {
   "cell_type": "markdown",
   "id": "059f6065",
   "metadata": {
    "slideshow": {
     "slide_type": "fragment"
    }
   },
   "source": [
    "`True` is not the same as `true`. Case matters! "
   ]
  },
  {
   "cell_type": "markdown",
   "id": "d4584e1f",
   "metadata": {
    "slideshow": {
     "slide_type": "slide"
    }
   },
   "source": [
    "## Strings"
   ]
  },
  {
   "cell_type": "markdown",
   "id": "7bd8aeb7",
   "metadata": {
    "slideshow": {
     "slide_type": "fragment"
    }
   },
   "source": [
    "Strings are any sequence of characters written inside quotation marks"
   ]
  },
  {
   "cell_type": "markdown",
   "id": "ef2db965",
   "metadata": {
    "slideshow": {
     "slide_type": "fragment"
    }
   },
   "source": [
    "## Python can check type by using `type()`"
   ]
  },
  {
   "cell_type": "code",
   "execution_count": null,
   "id": "a4e0a3ac",
   "metadata": {
    "slideshow": {
     "slide_type": "fragment"
    }
   },
   "outputs": [],
   "source": []
  },
  {
   "cell_type": "markdown",
   "id": "6c8e67e5",
   "metadata": {
    "slideshow": {
     "slide_type": "slide"
    }
   },
   "source": [
    "# Recap: What is a variable?"
   ]
  },
  {
   "cell_type": "markdown",
   "id": "838bc11a",
   "metadata": {
    "slideshow": {
     "slide_type": "fragment"
    }
   },
   "source": [
    "- You can think of it as a name attached to a value"
   ]
  },
  {
   "cell_type": "markdown",
   "id": "e0d73eb0",
   "metadata": {
    "slideshow": {
     "slide_type": "fragment"
    }
   },
   "source": [
    "- To create a variable in Python, we don't need to assign the type beforehand"
   ]
  },
  {
   "cell_type": "markdown",
   "id": "49d0aa99",
   "metadata": {
    "slideshow": {
     "slide_type": "fragment"
    }
   },
   "source": [
    "- Variables help us organize all the data around us"
   ]
  },
  {
   "cell_type": "markdown",
   "id": "7e4f4028",
   "metadata": {
    "slideshow": {
     "slide_type": "fragment"
    }
   },
   "source": [
    "- You can call the variable whatever you want"
   ]
  },
  {
   "cell_type": "markdown",
   "id": "926ff945",
   "metadata": {
    "slideshow": {
     "slide_type": "slide"
    }
   },
   "source": [
    "# Write code with good style"
   ]
  },
  {
   "cell_type": "markdown",
   "id": "1358ee82",
   "metadata": {
    "slideshow": {
     "slide_type": "fragment"
    }
   },
   "source": [
    "Bad practice"
   ]
  },
  {
   "cell_type": "code",
   "execution_count": 5,
   "id": "3023f236",
   "metadata": {
    "slideshow": {
     "slide_type": "fragment"
    }
   },
   "outputs": [
    {
     "ename": "SyntaxError",
     "evalue": "can't assign to literal (<ipython-input-5-88651284007b>, line 2)",
     "output_type": "error",
     "traceback": [
      "\u001b[0;36m  File \u001b[0;32m\"<ipython-input-5-88651284007b>\"\u001b[0;36m, line \u001b[0;32m2\u001b[0m\n\u001b[0;31m    1 = 'one'\u001b[0m\n\u001b[0m             ^\u001b[0m\n\u001b[0;31mSyntaxError\u001b[0m\u001b[0;31m:\u001b[0m can't assign to literal\n"
     ]
    }
   ],
   "source": [
    "this = 5\n",
    "1 = 'one'"
   ]
  },
  {
   "cell_type": "markdown",
   "id": "84f1a967",
   "metadata": {
    "slideshow": {
     "slide_type": "fragment"
    }
   },
   "source": [
    "Good practice"
   ]
  },
  {
   "cell_type": "code",
   "execution_count": null,
   "id": "4d88e95f",
   "metadata": {
    "slideshow": {
     "slide_type": "fragment"
    }
   },
   "outputs": [],
   "source": [
    "num_people = 5\n",
    "name = \"Viviana\""
   ]
  },
  {
   "cell_type": "markdown",
   "id": "ec9de20a",
   "metadata": {
    "slideshow": {
     "slide_type": "fragment"
    }
   },
   "source": [
    "- Variable names should be short but descriptive \n",
    "- We usually use lowercase and underscores"
   ]
  },
  {
   "cell_type": "markdown",
   "id": "f68f5fff",
   "metadata": {
    "slideshow": {
     "slide_type": "slide"
    }
   },
   "source": [
    "# Arithmetic Syntax"
   ]
  },
  {
   "cell_type": "markdown",
   "id": "97f62761",
   "metadata": {
    "slideshow": {
     "slide_type": "fragment"
    }
   },
   "source": [
    "In Python, there are a few specific ways to write arithmetic values. To start, addition, subtraction, and multiplication are what you would think."
   ]
  },
  {
   "cell_type": "code",
   "execution_count": null,
   "id": "d15e64c5",
   "metadata": {
    "slideshow": {
     "slide_type": "fragment"
    }
   },
   "outputs": [],
   "source": [
    "a = 20 \n",
    "b = 10\n",
    "\n",
    "a1 = b + a \n",
    "a2 = a - b \n",
    "a3 = a * b"
   ]
  },
  {
   "cell_type": "markdown",
   "id": "1a29edf7",
   "metadata": {
    "slideshow": {
     "slide_type": "slide"
    }
   },
   "source": [
    "There are two types of division "
   ]
  },
  {
   "cell_type": "markdown",
   "id": "299a4bb8",
   "metadata": {
    "slideshow": {
     "slide_type": "fragment"
    }
   },
   "source": [
    "- True division. Uses single slash: `/`. Returns a float"
   ]
  },
  {
   "cell_type": "code",
   "execution_count": null,
   "id": "265efc3f",
   "metadata": {
    "slideshow": {
     "slide_type": "fragment"
    }
   },
   "outputs": [],
   "source": [
    "c = 10 / 3"
   ]
  },
  {
   "cell_type": "markdown",
   "id": "06ef7706",
   "metadata": {
    "slideshow": {
     "slide_type": "fragment"
    }
   },
   "source": [
    "- Floor division. Uses single slash: `//`. Returns an int (the quotient of a and b removing fractional parts)\n"
   ]
  },
  {
   "cell_type": "code",
   "execution_count": null,
   "id": "ea1e0fa9",
   "metadata": {
    "slideshow": {
     "slide_type": "fragment"
    }
   },
   "outputs": [],
   "source": [
    "d = 10 // 3 "
   ]
  },
  {
   "cell_type": "markdown",
   "id": "e81b559a",
   "metadata": {
    "slideshow": {
     "slide_type": "slide"
    }
   },
   "source": [
    "- The percent sign `%` is called **modulus**. This returns the remainder after the division of two numbers"
   ]
  },
  {
   "cell_type": "code",
   "execution_count": null,
   "id": "a14e25e8",
   "metadata": {
    "slideshow": {
     "slide_type": "fragment"
    }
   },
   "outputs": [],
   "source": [
    "e = 10 % 3"
   ]
  },
  {
   "cell_type": "markdown",
   "id": "79156880",
   "metadata": {
    "slideshow": {
     "slide_type": "slide"
    }
   },
   "source": [
    "To use exponents, or raise something to a power, you use a double asterick `**`"
   ]
  },
  {
   "cell_type": "code",
   "execution_count": null,
   "id": "dac3c13c",
   "metadata": {
    "slideshow": {
     "slide_type": "fragment"
    }
   },
   "outputs": [],
   "source": [
    "f = 2 ** 3 \n",
    "g = 17 ** 0"
   ]
  },
  {
   "cell_type": "markdown",
   "id": "55d23f6b",
   "metadata": {
    "slideshow": {
     "slide_type": "slide"
    }
   },
   "source": [
    "## 🤔 Try to predict what the answer will be. Then run the program to check your answer."
   ]
  },
  {
   "cell_type": "code",
   "execution_count": null,
   "id": "ea9bffbf",
   "metadata": {
    "slideshow": {
     "slide_type": "fragment"
    }
   },
   "outputs": [],
   "source": [
    "j = 1 + 2 * 3\n",
    "k = (1 + 2) * 3"
   ]
  },
  {
   "cell_type": "markdown",
   "id": "653c7807",
   "metadata": {
    "slideshow": {
     "slide_type": "slide"
    }
   },
   "source": [
    "# Arithmetic practice problems "
   ]
  },
  {
   "cell_type": "markdown",
   "id": "ce271c24",
   "metadata": {
    "slideshow": {
     "slide_type": "fragment"
    }
   },
   "source": [
    "The school day is seven and a half hours, which includes an hour for lunch. You are taking 5 classes. Write an equation to figure out how many hours you spend in each class.\n",
    "\n",
    "- Think about it: which type of division will you want to use? Why?"
   ]
  },
  {
   "cell_type": "code",
   "execution_count": null,
   "id": "47f4bfc3",
   "metadata": {
    "slideshow": {
     "slide_type": "fragment"
    }
   },
   "outputs": [],
   "source": []
  },
  {
   "cell_type": "code",
   "execution_count": null,
   "id": "e4fb802f",
   "metadata": {
    "slideshow": {
     "slide_type": "slide"
    }
   },
   "outputs": [],
   "source": [
    "num = 7\n",
    "\n",
    "## How would you square the number?\n",
    "squared = \n",
    "\n",
    "## How would you cube the number?\n",
    "cubed = "
   ]
  },
  {
   "cell_type": "markdown",
   "id": "f5371e42",
   "metadata": {
    "slideshow": {
     "slide_type": "slide"
    }
   },
   "source": [
    "**Comparisons** \n",
    "\n",
    "- Operators such as the equal sign `=` compare values on either side of it, and decide on the relation among them. These operators are called comparison or relational operators.\n",
    "\n",
    "- Comparison Operators return booleans. Booleans are either True or False values."
   ]
  },
  {
   "cell_type": "code",
   "execution_count": null,
   "id": "3024e5c5",
   "metadata": {
    "slideshow": {
     "slide_type": "fragment"
    }
   },
   "outputs": [],
   "source": [
    "a = 10\n",
    "b = 20\n",
    "\n",
    "a==b"
   ]
  },
  {
   "cell_type": "markdown",
   "id": "3134fa6c",
   "metadata": {
    "slideshow": {
     "slide_type": "slide"
    }
   },
   "source": [
    "Not equals `!=`\n",
    "\n",
    "- `!` means not in Python"
   ]
  },
  {
   "cell_type": "code",
   "execution_count": null,
   "id": "fe2824e2",
   "metadata": {
    "slideshow": {
     "slide_type": "fragment"
    }
   },
   "outputs": [],
   "source": [
    "10 != 20"
   ]
  },
  {
   "cell_type": "markdown",
   "id": "fb923fb7",
   "metadata": {
    "slideshow": {
     "slide_type": "slide"
    }
   },
   "source": [
    "Less than `<` and greater than `>` signs"
   ]
  },
  {
   "cell_type": "code",
   "execution_count": null,
   "id": "ef372ff4",
   "metadata": {
    "slideshow": {
     "slide_type": "fragment"
    }
   },
   "outputs": [],
   "source": []
  },
  {
   "cell_type": "markdown",
   "id": "68641827",
   "metadata": {
    "slideshow": {
     "slide_type": "slide"
    }
   },
   "source": [
    "Less than or equal to `<=` and greater than or equal to `>=` signs"
   ]
  },
  {
   "cell_type": "markdown",
   "id": "69725051",
   "metadata": {
    "slideshow": {
     "slide_type": "slide"
    }
   },
   "source": [
    "# Logic operators \n",
    "\n",
    "From highest precedence to lowest is: NOT, AND, OR"
   ]
  },
  {
   "cell_type": "markdown",
   "id": "0ac38ed5",
   "metadata": {
    "slideshow": {
     "slide_type": "fragment"
    }
   },
   "source": [
    "The AND operator is true only if both arguments are true"
   ]
  },
  {
   "cell_type": "code",
   "execution_count": null,
   "id": "7ca93cad",
   "metadata": {
    "slideshow": {
     "slide_type": "fragment"
    }
   },
   "outputs": [],
   "source": [
    "print(True and True)\n",
    "print(True and False)\n",
    "print(False and True)\n",
    "print(False and False)"
   ]
  },
  {
   "cell_type": "markdown",
   "id": "5f68bc79",
   "metadata": {
    "slideshow": {
     "slide_type": "slide"
    }
   },
   "source": [
    "The OR operator is true if either arguments are true"
   ]
  },
  {
   "cell_type": "code",
   "execution_count": null,
   "id": "1d1508e5",
   "metadata": {
    "slideshow": {
     "slide_type": "fragment"
    }
   },
   "outputs": [],
   "source": [
    "print(True or True)\n",
    "print(True or False)\n",
    "print(False or True)\n",
    "print(False or False)"
   ]
  },
  {
   "cell_type": "markdown",
   "id": "ab3da667",
   "metadata": {
    "slideshow": {
     "slide_type": "slide"
    }
   },
   "source": [
    "The NOT operator is used to reverse the logical state of a and b"
   ]
  },
  {
   "cell_type": "code",
   "execution_count": null,
   "id": "6d91957a",
   "metadata": {
    "slideshow": {
     "slide_type": "fragment"
    }
   },
   "outputs": [],
   "source": [
    "print(not(True))\n",
    "print(not(False))"
   ]
  },
  {
   "cell_type": "markdown",
   "id": "2e1f39f3",
   "metadata": {
    "slideshow": {
     "slide_type": "slide"
    }
   },
   "source": [
    "# ⚠️  Common errors"
   ]
  },
  {
   "cell_type": "code",
   "execution_count": null,
   "id": "d3d26655",
   "metadata": {
    "slideshow": {
     "slide_type": "fragment"
    }
   },
   "outputs": [],
   "source": [
    "'Hi' + 5 "
   ]
  },
  {
   "cell_type": "code",
   "execution_count": null,
   "id": "fe88b4a0",
   "metadata": {
    "slideshow": {
     "slide_type": "fragment"
    }
   },
   "outputs": [],
   "source": [
    "\"5.5\" + 5.5"
   ]
  },
  {
   "cell_type": "code",
   "execution_count": null,
   "id": "7cb4e4f4",
   "metadata": {
    "slideshow": {
     "slide_type": "fragment"
    }
   },
   "outputs": [],
   "source": [
    "5.5 + 3"
   ]
  },
  {
   "cell_type": "code",
   "execution_count": null,
   "id": "d05fed85",
   "metadata": {
    "slideshow": {
     "slide_type": "fragment"
    }
   },
   "outputs": [],
   "source": [
    "\"3\"+\"4\""
   ]
  },
  {
   "cell_type": "markdown",
   "id": "44aa29f4",
   "metadata": {
    "slideshow": {
     "slide_type": "slide"
    }
   },
   "source": [
    "# ⏪ Today's recap\n",
    "\n",
    "- Google Colab: https://colab.research.google.com/ \n",
    "- Quick intro to Python Variables\n",
    "- Quick intro to some data types: int, float\n",
    "\n",
    "\n",
    "\n"
   ]
  },
  {
   "cell_type": "markdown",
   "id": "c3c47662",
   "metadata": {
    "slideshow": {
     "slide_type": "slide"
    }
   },
   "source": [
    "<center><img src='img/bye.gif' style='height:250px;'></center> \n",
    "\n",
    "# Next class: Python Variables and Data types\n",
    "# See you next Friday!"
   ]
  }
 ],
 "metadata": {
  "celltoolbar": "Slideshow",
  "kernelspec": {
   "display_name": "Python 3",
   "language": "python",
   "name": "python3"
  },
  "language_info": {
   "codemirror_mode": {
    "name": "ipython",
    "version": 3
   },
   "file_extension": ".py",
   "mimetype": "text/x-python",
   "name": "python",
   "nbconvert_exporter": "python",
   "pygments_lexer": "ipython3",
   "version": "3.7.4"
  }
 },
 "nbformat": 4,
 "nbformat_minor": 5
}
