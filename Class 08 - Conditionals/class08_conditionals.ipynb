{
 "cells": [
  {
   "cell_type": "markdown",
   "id": "674ac2a7",
   "metadata": {
    "slideshow": {
     "slide_type": "slide"
    }
   },
   "source": [
    "# We'll start at 2:05 PM\n",
    "https://www.youtube.com/watch?v=CdXesX6mYUE&ab_channel=PitbullVEVO"
   ]
  },
  {
   "cell_type": "markdown",
   "id": "843e46f7",
   "metadata": {
    "slideshow": {
     "slide_type": "slide"
    }
   },
   "source": [
    "<center><img src='img/cdy.png' style='width:500px; float: left; margin: 0px 30px 15px 0px'></center>\n",
    "\n",
    "# Conditionals\n",
    "## Class 8 - Data Science Curriculum \n",
    "\n",
    "<br>\n",
    "\n",
    "#### Women Building Change scholarship program 2023 🇧🇮\n",
    "March 13, 2023\n",
    "\n",
    "\n",
    "\n"
   ]
  },
  {
   "cell_type": "markdown",
   "id": "48500da2",
   "metadata": {
    "slideshow": {
     "slide_type": "slide"
    }
   },
   "source": [
    "# Recap last class\n",
    "\n",
    "#### Data Structures\n",
    "\n",
    "- Lists\n",
    "- Tuples\n",
    "- Sets\n",
    "- Dictionaries"
   ]
  },
  {
   "cell_type": "markdown",
   "id": "82476939",
   "metadata": {
    "slideshow": {
     "slide_type": "slide"
    }
   },
   "source": [
    "# 🚀 Today's agenda\n",
    "\n",
    "- Conditionals"
   ]
  },
  {
   "cell_type": "markdown",
   "id": "d7c97442",
   "metadata": {
    "slideshow": {
     "slide_type": "slide"
    }
   },
   "source": [
    "# Google Colab: https://colab.research.google.com/\n",
    "\n",
    "<br>\n",
    "<center><img src='img/superhero.gif' style='height:350px; float: center; margin: 0px 30px 15px 0px'></center>\n",
    "\n"
   ]
  },
  {
   "cell_type": "markdown",
   "id": "44aa29f4",
   "metadata": {
    "slideshow": {
     "slide_type": "slide"
    }
   },
   "source": [
    "# 🏋🏿‍♀️ Coding Warmup "
   ]
  },
  {
   "cell_type": "code",
   "execution_count": 4,
   "id": "b6efbfd7",
   "metadata": {
    "slideshow": {
     "slide_type": "fragment"
    }
   },
   "outputs": [],
   "source": [
    "french_to_english = {\n",
    "    \"mes\": \"my\",\n",
    "    \"chères\": \"dear\",\n",
    "    \"amies\": \"friends\"\n",
    "}"
   ]
  },
  {
   "cell_type": "code",
   "execution_count": 5,
   "id": "34460aff",
   "metadata": {
    "slideshow": {
     "slide_type": "fragment"
    }
   },
   "outputs": [],
   "source": [
    "# Add \"bonjour\" and \"hello\" to the dictionary\n",
    "french_to_english['bonjour'] = \"hello\""
   ]
  },
  {
   "cell_type": "code",
   "execution_count": 6,
   "id": "525aec5d",
   "metadata": {
    "slideshow": {
     "slide_type": "fragment"
    }
   },
   "outputs": [],
   "source": [
    "# Translate \n",
    "french_text = \"bonjour mes chères amies\"\n",
    "# english_text = "
   ]
  },
  {
   "cell_type": "code",
   "execution_count": 8,
   "id": "5d123482",
   "metadata": {
    "slideshow": {
     "slide_type": "fragment"
    }
   },
   "outputs": [],
   "source": [
    "french_text = french_text.split()"
   ]
  },
  {
   "cell_type": "code",
   "execution_count": 13,
   "id": "938ed304",
   "metadata": {
    "slideshow": {
     "slide_type": "fragment"
    }
   },
   "outputs": [
    {
     "data": {
      "text/plain": [
       "'hello my dear friends'"
      ]
     },
     "execution_count": 13,
     "metadata": {},
     "output_type": "execute_result"
    }
   ],
   "source": [
    "french_to_english[french_text[0]] + \" \" + french_to_english[french_text[1]] + \" \" + french_to_english[french_text[2]] + \" \" + french_to_english[french_text[3]] "
   ]
  },
  {
   "cell_type": "markdown",
   "id": "e89f6f10",
   "metadata": {
    "slideshow": {
     "slide_type": "slide"
    }
   },
   "source": [
    "# Conditionals"
   ]
  },
  {
   "cell_type": "markdown",
   "id": "5de186e6",
   "metadata": {
    "slideshow": {
     "slide_type": "fragment"
    }
   },
   "source": [
    "if I like `Stromae`:\n",
    "    \n",
    "   - Listen to `Alors on danse`\n",
    "\n",
    "else: \n",
    "   - Listen to `Rock music`"
   ]
  },
  {
   "cell_type": "markdown",
   "id": "14244441",
   "metadata": {
    "slideshow": {
     "slide_type": "slide"
    }
   },
   "source": [
    "# So... what are they?"
   ]
  },
  {
   "cell_type": "markdown",
   "id": "d6052b05",
   "metadata": {
    "slideshow": {
     "slide_type": "fragment"
    }
   },
   "source": [
    "They tell your computer when to do something!\n",
    "\n",
    "<br>\n",
    "<center><img src='img/crab.png' style='height:500px; float: center; margin: 0px 30px 15px 0px'></center>"
   ]
  },
  {
   "cell_type": "markdown",
   "id": "ace5a1fb",
   "metadata": {
    "slideshow": {
     "slide_type": "slide"
    }
   },
   "source": [
    "# ⚠️ Formatting is important "
   ]
  },
  {
   "cell_type": "markdown",
   "id": "5f33b51e",
   "metadata": {
    "slideshow": {
     "slide_type": "fragment"
    }
   },
   "source": [
    "<img src='img/tab.png' style='width:400px; float: left; margin: 0px 30px 15px 0px'> \n",
    "\n",
    "We need:\n",
    "   - Indenting (one tab space)\n",
    "   - Colon `:`"
   ]
  },
  {
   "cell_type": "markdown",
   "id": "fcba4f8c",
   "metadata": {
    "slideshow": {
     "slide_type": "slide"
    }
   },
   "source": [
    "# Review: Booleans\n",
    "\n",
    "They can have only two types:\n",
    "   - `True`\n",
    "   - `False`"
   ]
  },
  {
   "cell_type": "markdown",
   "id": "38f1ffe8",
   "metadata": {
    "slideshow": {
     "slide_type": "slide"
    }
   },
   "source": [
    "# Booleans Operators\n",
    "\n",
    "<br>\n",
    "<center><img src='img/bool_operators.png' style='height:350px; float: center; margin: 0px 30px 15px 0px'></center>"
   ]
  },
  {
   "cell_type": "code",
   "execution_count": 49,
   "id": "381451d0",
   "metadata": {
    "slideshow": {
     "slide_type": "fragment"
    }
   },
   "outputs": [
    {
     "data": {
      "text/plain": [
       "True"
      ]
     },
     "execution_count": 49,
     "metadata": {},
     "output_type": "execute_result"
    }
   ],
   "source": [
    "3 >= 3"
   ]
  },
  {
   "cell_type": "markdown",
   "id": "44f83da2",
   "metadata": {
    "slideshow": {
     "slide_type": "slide"
    }
   },
   "source": [
    "# Booleans Operators: and, or, not"
   ]
  },
  {
   "cell_type": "markdown",
   "id": "9678d0c6",
   "metadata": {
    "slideshow": {
     "slide_type": "fragment"
    }
   },
   "source": [
    "- `and`: Both statements have to be true for it to work"
   ]
  },
  {
   "cell_type": "code",
   "execution_count": 55,
   "id": "b3003fc0",
   "metadata": {
    "slideshow": {
     "slide_type": "fragment"
    }
   },
   "outputs": [
    {
     "data": {
      "text/plain": [
       "True"
      ]
     },
     "execution_count": 55,
     "metadata": {},
     "output_type": "execute_result"
    }
   ],
   "source": [
    "apple = True\n",
    "strawberry = True\n",
    "orange = False\n",
    "\n",
    "strawberry and strawberry"
   ]
  },
  {
   "cell_type": "markdown",
   "id": "9bf055d3",
   "metadata": {
    "slideshow": {
     "slide_type": "fragment"
    }
   },
   "source": [
    "- `or`: Only one statement has to be true for it to work"
   ]
  },
  {
   "cell_type": "code",
   "execution_count": 63,
   "id": "f1a01386",
   "metadata": {
    "slideshow": {
     "slide_type": "fragment"
    }
   },
   "outputs": [
    {
     "data": {
      "text/plain": [
       "False"
      ]
     },
     "execution_count": 63,
     "metadata": {},
     "output_type": "execute_result"
    }
   ],
   "source": [
    "orange or orange"
   ]
  },
  {
   "cell_type": "markdown",
   "id": "784c919b",
   "metadata": {
    "slideshow": {
     "slide_type": "fragment"
    }
   },
   "source": [
    "- `not`: Negates"
   ]
  },
  {
   "cell_type": "code",
   "execution_count": 66,
   "id": "bde743c3",
   "metadata": {
    "slideshow": {
     "slide_type": "fragment"
    }
   },
   "outputs": [
    {
     "data": {
      "text/plain": [
       "False"
      ]
     },
     "execution_count": 66,
     "metadata": {},
     "output_type": "execute_result"
    }
   ],
   "source": [
    "not strawberry"
   ]
  },
  {
   "cell_type": "markdown",
   "id": "84410f07",
   "metadata": {
    "slideshow": {
     "slide_type": "slide"
    }
   },
   "source": [
    "# Why are booleans important?"
   ]
  },
  {
   "cell_type": "markdown",
   "id": "cb01aeaf",
   "metadata": {
    "slideshow": {
     "slide_type": "fragment"
    }
   },
   "source": [
    "- They make conditional statements"
   ]
  },
  {
   "cell_type": "markdown",
   "id": "cff301b2",
   "metadata": {
    "slideshow": {
     "slide_type": "fragment"
    }
   },
   "source": [
    "- `if`/`elif`/`else` + boolean --> Conditional statement"
   ]
  },
  {
   "cell_type": "markdown",
   "id": "bf196d98",
   "metadata": {
    "slideshow": {
     "slide_type": "fragment"
    }
   },
   "source": [
    "- `elif`: else if"
   ]
  },
  {
   "cell_type": "markdown",
   "id": "4df7842f",
   "metadata": {
    "slideshow": {
     "slide_type": "slide"
    }
   },
   "source": [
    "# Python example"
   ]
  },
  {
   "cell_type": "code",
   "execution_count": 19,
   "id": "88fa8b07",
   "metadata": {
    "slideshow": {
     "slide_type": "fragment"
    }
   },
   "outputs": [
    {
     "name": "stdout",
     "output_type": "stream",
     "text": [
      "What month are you born in? june\n"
     ]
    }
   ],
   "source": [
    "month = input(\"What month are you born in? \")"
   ]
  },
  {
   "cell_type": "code",
   "execution_count": 21,
   "id": "d2892ea7",
   "metadata": {
    "slideshow": {
     "slide_type": "fragment"
    }
   },
   "outputs": [
    {
     "name": "stdout",
     "output_type": "stream",
     "text": [
      "Ah, it's so far away from now!\n",
      "Having a birthday in june is amazing!\n"
     ]
    }
   ],
   "source": [
    "if month == \"March\":\n",
    "    print(\"Wow! That's this month! 🥳\")\n",
    "    print(\"Do you have any plans?\")\n",
    "elif month == \"April\" or month == \"May\":\n",
    "    print(\"That's so soon! We should get cake! 🎂\")\n",
    "else: \n",
    "    print(\"Ah, it's so far away from now!\")\n",
    "print(f\"Having a birthday in {month} is amazing!\")    "
   ]
  },
  {
   "cell_type": "markdown",
   "id": "d1a080f8",
   "metadata": {
    "slideshow": {
     "slide_type": "slide"
    }
   },
   "source": [
    "\n",
    "<center><img src='img/birthdays.png' style='height:600px; float: center; margin: 0px 30px 15px 0px'></center>"
   ]
  },
  {
   "cell_type": "markdown",
   "id": "465d167b",
   "metadata": {
    "slideshow": {
     "slide_type": "slide"
    }
   },
   "source": [
    "# Spot the bug!"
   ]
  },
  {
   "cell_type": "markdown",
   "id": "ba45f8b1",
   "metadata": {
    "slideshow": {
     "slide_type": "fragment"
    }
   },
   "source": [
    "\n",
    "<center><img src='img/rain.png' style='height:650px; float: center; margin: 0px 30px 15px 0px'></center>"
   ]
  },
  {
   "cell_type": "markdown",
   "id": "ef612f85",
   "metadata": {
    "slideshow": {
     "slide_type": "slide"
    }
   },
   "source": [
    "\n",
    "<center><img src='img/rain2.png' style='height:650px; float: center; margin: 0px 30px 15px 0px'></center>"
   ]
  },
  {
   "cell_type": "markdown",
   "id": "1e0fe197",
   "metadata": {
    "slideshow": {
     "slide_type": "slide"
    }
   },
   "source": [
    "# 5 min break -- See you at @ 3:03 PM"
   ]
  },
  {
   "cell_type": "markdown",
   "id": "d36ab627",
   "metadata": {
    "slideshow": {
     "slide_type": "slide"
    }
   },
   "source": [
    "# Nested conditionals\n",
    "\n",
    "- You can have a conditional inside a conditional"
   ]
  },
  {
   "cell_type": "code",
   "execution_count": 22,
   "id": "9a4b5fb4",
   "metadata": {
    "slideshow": {
     "slide_type": "fragment"
    }
   },
   "outputs": [
    {
     "name": "stdout",
     "output_type": "stream",
     "text": [
      "Yay! I have a donut!\n",
      "Strawberry is my favorite!\n",
      "Chocolate is good!\n"
     ]
    }
   ],
   "source": [
    "donut = True\n",
    "strawberry = True\n",
    "chocolate = True\n",
    "\n",
    "if donut:\n",
    "    print(\"Yay! I have a donut!\")\n",
    "    if strawberry:\n",
    "        print(\"Strawberry is my favorite!\")\n",
    "    if chocolate:\n",
    "        print(\"Chocolate is good!\")\n",
    "else:\n",
    "    print(\"😔\")"
   ]
  },
  {
   "cell_type": "markdown",
   "id": "e3aab26e",
   "metadata": {
    "slideshow": {
     "slide_type": "slide"
    }
   },
   "source": [
    "# Comparison and Logic Operators"
   ]
  },
  {
   "cell_type": "code",
   "execution_count": 23,
   "id": "f18ddf30",
   "metadata": {
    "slideshow": {
     "slide_type": "fragment"
    }
   },
   "outputs": [
    {
     "name": "stdout",
     "output_type": "stream",
     "text": [
      "Does a equal b? False\n",
      "Is b greater than a? True\n"
     ]
    }
   ],
   "source": [
    "a = 10\n",
    "b = 20\n",
    "\n",
    "print(\"Does a equal b?\", a==b)\n",
    "print(\"Is b greater than a?\", b>a)"
   ]
  },
  {
   "cell_type": "code",
   "execution_count": 24,
   "id": "38963311",
   "metadata": {
    "slideshow": {
     "slide_type": "fragment"
    }
   },
   "outputs": [
    {
     "name": "stdout",
     "output_type": "stream",
     "text": [
      "Do you have apples and oranges?\n"
     ]
    },
    {
     "data": {
      "text/plain": [
       "True"
      ]
     },
     "execution_count": 24,
     "metadata": {},
     "output_type": "execute_result"
    }
   ],
   "source": [
    "# Number of different items in our cart\n",
    "number_of_apples = 1\n",
    "number_of_oranges = 3\n",
    "number_of_carrots = 4\n",
    "number_of_tomatoes = 0\n",
    "\n",
    "print(\"Do you have apples and oranges?\")\n",
    "(number_of_apples > 0) and (number_of_oranges > 0)"
   ]
  },
  {
   "cell_type": "code",
   "execution_count": 25,
   "id": "5e4e94ff",
   "metadata": {
    "slideshow": {
     "slide_type": "fragment"
    }
   },
   "outputs": [
    {
     "name": "stdout",
     "output_type": "stream",
     "text": [
      "Are there veggies in your cart?\n"
     ]
    },
    {
     "data": {
      "text/plain": [
       "True"
      ]
     },
     "execution_count": 25,
     "metadata": {},
     "output_type": "execute_result"
    }
   ],
   "source": [
    "print(\"Are there veggies in your cart?\")\n",
    "(number_of_carrots > 0) or (number_of_tomatoes > 0)"
   ]
  },
  {
   "cell_type": "markdown",
   "id": "0474f27c",
   "metadata": {
    "slideshow": {
     "slide_type": "slide"
    }
   },
   "source": [
    "# Exercise"
   ]
  },
  {
   "cell_type": "code",
   "execution_count": 26,
   "id": "4f7ee742",
   "metadata": {
    "slideshow": {
     "slide_type": "fragment"
    }
   },
   "outputs": [
    {
     "name": "stdout",
     "output_type": "stream",
     "text": [
      "Do you have milk?\n"
     ]
    },
    {
     "data": {
      "text/plain": [
       "True"
      ]
     },
     "execution_count": 26,
     "metadata": {},
     "output_type": "execute_result"
    }
   ],
   "source": [
    "# Number of each item in the cart\n",
    "cereal = 1\n",
    "apples = 0\n",
    "milk = 2\n",
    "strawberries = 0\n",
    "\n",
    "# Example\n",
    "print(\"Do you have milk?\")  # True\n",
    "milk > 0"
   ]
  },
  {
   "cell_type": "code",
   "execution_count": 27,
   "id": "646ff6d6",
   "metadata": {
    "slideshow": {
     "slide_type": "fragment"
    }
   },
   "outputs": [
    {
     "name": "stdout",
     "output_type": "stream",
     "text": [
      "Do you have more than 1 box of cereal?\n"
     ]
    }
   ],
   "source": [
    "print(\"Do you have more than 1 box of cereal?\")  # False\n",
    "# CODE HERE"
   ]
  },
  {
   "cell_type": "code",
   "execution_count": 29,
   "id": "9b4c66f9",
   "metadata": {
    "slideshow": {
     "slide_type": "fragment"
    }
   },
   "outputs": [
    {
     "name": "stdout",
     "output_type": "stream",
     "text": [
      "Can you make cereal and milk tomorrow?\n"
     ]
    }
   ],
   "source": [
    "print(\"Can you make cereal and milk tomorrow?\")  # True\n",
    "# CODE HERE"
   ]
  },
  {
   "cell_type": "code",
   "execution_count": 29,
   "id": "8ac90fd8",
   "metadata": {
    "slideshow": {
     "slide_type": "fragment"
    }
   },
   "outputs": [
    {
     "name": "stdout",
     "output_type": "stream",
     "text": [
      "Can you make cereal and milk tomorrow?\n"
     ]
    }
   ],
   "source": [
    "print(\"Can you make cereal and milk tomorrow?\")  # True\n",
    "# CODE HERE"
   ]
  },
  {
   "cell_type": "markdown",
   "id": "173d5efe",
   "metadata": {
    "slideshow": {
     "slide_type": "slide"
    }
   },
   "source": [
    "# Conditionals"
   ]
  },
  {
   "cell_type": "markdown",
   "id": "0b550eec",
   "metadata": {
    "slideshow": {
     "slide_type": "fragment"
    }
   },
   "source": [
    "### `if` statements\n",
    "\n",
    "- Right now, our grocery cart program can only print `True` or `False`, which isn't very helpful. What if we only wanted to tell the user that their cart is empty, and we don't want to tell them when their cart has items in it? An if statement let us run parts (or blocks) of code when an expression is `True`:"
   ]
  },
  {
   "cell_type": "code",
   "execution_count": 30,
   "id": "d2389fe3",
   "metadata": {
    "slideshow": {
     "slide_type": "fragment"
    }
   },
   "outputs": [
    {
     "name": "stdout",
     "output_type": "stream",
     "text": [
      "The condition was true\n"
     ]
    }
   ],
   "source": [
    "if True:\n",
    "    print(\"The condition was true\")"
   ]
  },
  {
   "cell_type": "code",
   "execution_count": 32,
   "id": "53399682",
   "metadata": {
    "slideshow": {
     "slide_type": "fragment"
    }
   },
   "outputs": [],
   "source": [
    "if False:\n",
    "    print(\"The condition was False, so this won't print\")"
   ]
  },
  {
   "cell_type": "code",
   "execution_count": 33,
   "id": "45568fc1",
   "metadata": {
    "slideshow": {
     "slide_type": "slide"
    }
   },
   "outputs": [
    {
     "name": "stdout",
     "output_type": "stream",
     "text": [
      "Your cart is empty! Add some items.\n"
     ]
    }
   ],
   "source": [
    "items_in_cart = 0\n",
    "\n",
    "if items_in_cart == 0:\n",
    "    # We could also use not(items_in_cart > 0) here\n",
    "    # There are many possibilities!\n",
    "    print(\"Your cart is empty! Add some items.\")"
   ]
  },
  {
   "cell_type": "code",
   "execution_count": 34,
   "id": "7f8af9c7",
   "metadata": {
    "slideshow": {
     "slide_type": "fragment"
    }
   },
   "outputs": [],
   "source": [
    "if items_in_cart > 10:\n",
    "  # This won't print because items_in_cart isn't greater than 10\n",
    "  print(\"Your cart has too many items!\")"
   ]
  },
  {
   "cell_type": "markdown",
   "id": "494e9818",
   "metadata": {
    "slideshow": {
     "slide_type": "slide"
    }
   },
   "source": [
    "# Exercise"
   ]
  },
  {
   "cell_type": "code",
   "execution_count": 35,
   "id": "49efd656",
   "metadata": {
    "slideshow": {
     "slide_type": "fragment"
    }
   },
   "outputs": [
    {
     "name": "stdout",
     "output_type": "stream",
     "text": [
      "Your cart has milk\n"
     ]
    }
   ],
   "source": [
    "cereal = 1\n",
    "apples = 0\n",
    "milk = 2\n",
    "strawberries = 0\n",
    "\n",
    "# Example\n",
    "if milk > 0:\n",
    "    print(\"Your cart has milk\")"
   ]
  },
  {
   "cell_type": "code",
   "execution_count": null,
   "id": "7709122f",
   "metadata": {
    "slideshow": {
     "slide_type": "fragment"
    }
   },
   "outputs": [],
   "source": [
    "# Fill out the if statement below\n",
    "if _____:\n",
    "    print(\"Your cart has milk and cereal\")"
   ]
  },
  {
   "cell_type": "code",
   "execution_count": null,
   "id": "f6cf8237",
   "metadata": {
    "slideshow": {
     "slide_type": "fragment"
    }
   },
   "outputs": [],
   "source": [
    "# Fill out the if statement below\n",
    "if _____:\n",
    "    print(\"Your cart does not have fruit\")"
   ]
  },
  {
   "cell_type": "markdown",
   "id": "eec9173f",
   "metadata": {
    "slideshow": {
     "slide_type": "fragment"
    }
   },
   "source": [
    "### `else` statements\n",
    "\n",
    "- We can use an else statements to add more possibilities to our grocery cart program. If an if statement doesn't evaluate to True, the else statement will be run instead.\n",
    "\n"
   ]
  },
  {
   "cell_type": "code",
   "execution_count": 37,
   "id": "607811d3",
   "metadata": {
    "slideshow": {
     "slide_type": "fragment"
    }
   },
   "outputs": [
    {
     "name": "stdout",
     "output_type": "stream",
     "text": [
      "Condition is False, running else branch\n"
     ]
    }
   ],
   "source": [
    "condition = False\n",
    "\n",
    "if condition:\n",
    "    # Because condition is False, this won't print\n",
    "    print(\"Condition is True!\")\n",
    "else:\n",
    "    print(\"Condition is False, running else branch\")"
   ]
  },
  {
   "cell_type": "code",
   "execution_count": 38,
   "id": "2fe23795",
   "metadata": {
    "slideshow": {
     "slide_type": "fragment"
    }
   },
   "outputs": [
    {
     "name": "stdout",
     "output_type": "stream",
     "text": [
      "There are apples in your cart\n"
     ]
    }
   ],
   "source": [
    "# There are four apples in our cart\n",
    "apples = 4\n",
    "\n",
    "if apples == 0:\n",
    "    print(\"You still need to buy apples\")\n",
    "else:\n",
    "    print(\"There are apples in your cart\")"
   ]
  },
  {
   "cell_type": "markdown",
   "id": "3319a11f",
   "metadata": {
    "slideshow": {
     "slide_type": "fragment"
    }
   },
   "source": [
    "### `elif` statements\n",
    "\n",
    "- If statements can be chained together using else-if statements. In Python, else-if statements are named `elif`. If the if statement is `not True`, the else-if statements are evaluated in order from top to bottom:\n",
    "\n"
   ]
  },
  {
   "cell_type": "code",
   "execution_count": 40,
   "id": "317924b4",
   "metadata": {
    "slideshow": {
     "slide_type": "slide"
    }
   },
   "outputs": [
    {
     "name": "stdout",
     "output_type": "stream",
     "text": [
      "x is positive\n",
      "y = 2\n"
     ]
    }
   ],
   "source": [
    "# Change x and y to be other numbers to see how the result changes\n",
    "x = 3\n",
    "y = 2\n",
    "\n",
    "# Let's look at the variable x\n",
    "if x > 0:\n",
    "    print(\"x is positive\")\n",
    "elif x < 0:\n",
    "    print(\"x is negative\")\n",
    "else:\n",
    "    print(\"x is zero\")\n",
    "\n",
    "# Let's look at the variable y\n",
    "if y == 1:\n",
    "    print(\"y = 1\")\n",
    "elif y == 2:\n",
    "    print(\"y = 2\")\n",
    "elif y == 3:\n",
    "    print(\"y = 3\")\n",
    "elif y == 4:\n",
    "    print(\"y = 4\")\n",
    "elif y == 5:\n",
    "    print(\"y = 5\")\n",
    "else:\n",
    "    print(\"y is not between 1 and 5\")"
   ]
  },
  {
   "cell_type": "code",
   "execution_count": 42,
   "id": "1c351adf",
   "metadata": {
    "slideshow": {
     "slide_type": "slide"
    }
   },
   "outputs": [
    {
     "name": "stdout",
     "output_type": "stream",
     "text": [
      "You have oranges in your cart\n"
     ]
    }
   ],
   "source": [
    "# Earlier, there were 4 oranges in the grocery cart\n",
    "# Modify this number to see what other outcomes can happen to the program\n",
    "oranges = 4\n",
    "\n",
    "# Now, the user has added another orange to the cart\n",
    "oranges = oranges + 1\n",
    "\n",
    "# Let's print some information for the user without looking at the exact\n",
    "# number of oranges they have\n",
    "if oranges == 0:\n",
    "    print(\"You don't have any oranges in your cart\")\n",
    "elif oranges > 10:\n",
    "    print(\"You have too many oranges!\")\n",
    "else:\n",
    "    print(\"You have oranges in your cart\")"
   ]
  },
  {
   "cell_type": "code",
   "execution_count": 43,
   "id": "1651b978",
   "metadata": {
    "slideshow": {
     "slide_type": "slide"
    }
   },
   "outputs": [
    {
     "name": "stdout",
     "output_type": "stream",
     "text": [
      "There's some cars on the road\n"
     ]
    }
   ],
   "source": [
    "# if, elif, and else statements can be nested, which means you can put statements inside of each other:\n",
    "# Change this number to see what other outcomes can occur\n",
    "cars_on_road = 5\n",
    "\n",
    "if cars_on_road > 0:\n",
    "    if cars_on_road < 5:\n",
    "        print(\"There's a only a few cars on the road\")\n",
    "    elif cars_on_road > 10:\n",
    "        print(\"There are too many cars!\")\n",
    "    else:\n",
    "        print(\"There's some cars on the road\")\n",
    "else:\n",
    "      print(\"There are no nearby cars\")"
   ]
  },
  {
   "cell_type": "markdown",
   "id": "8ea46873",
   "metadata": {
    "slideshow": {
     "slide_type": "slide"
    }
   },
   "source": [
    "# ⏪ Today's recap\n",
    "\n",
    "- Conditionals\n",
    "    - ⚠️ Formating is important: Indentation and Colons"
   ]
  },
  {
   "cell_type": "markdown",
   "id": "ba820ff4",
   "metadata": {
    "slideshow": {
     "slide_type": "slide"
    }
   },
   "source": [
    "# Practice lab: https://docs.google.com/document/d/13XJUcacpTccZNYkicoVxw9z0EWJvizaxaToeWAHsECo/edit"
   ]
  },
  {
   "cell_type": "markdown",
   "id": "c3c47662",
   "metadata": {
    "slideshow": {
     "slide_type": "slide"
    }
   },
   "source": [
    "<center><img src='img/bye.gif' style='height:250px;'></center> \n",
    "\n",
    "# Next class: Loops\n",
    "# See you next Friday!"
   ]
  }
 ],
 "metadata": {
  "celltoolbar": "Slideshow",
  "kernelspec": {
   "display_name": "Python 3 (ipykernel)",
   "language": "python",
   "name": "python3"
  },
  "language_info": {
   "codemirror_mode": {
    "name": "ipython",
    "version": 3
   },
   "file_extension": ".py",
   "mimetype": "text/x-python",
   "name": "python",
   "nbconvert_exporter": "python",
   "pygments_lexer": "ipython3",
   "version": "3.9.13"
  }
 },
 "nbformat": 4,
 "nbformat_minor": 5
}
