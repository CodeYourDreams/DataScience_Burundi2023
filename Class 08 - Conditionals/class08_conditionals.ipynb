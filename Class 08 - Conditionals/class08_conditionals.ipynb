{
 "cells": [
  {
   "cell_type": "markdown",
   "id": "674ac2a7",
   "metadata": {
    "slideshow": {
     "slide_type": "slide"
    }
   },
   "source": [
    "# We'll start at 3:05 PM\n",
    "https://www.youtube.com/watch?v=CdXesX6mYUE&ab_channel=PitbullVEVO"
   ]
  },
  {
   "cell_type": "markdown",
   "id": "843e46f7",
   "metadata": {
    "slideshow": {
     "slide_type": "slide"
    }
   },
   "source": [
    "<center><img src='img/cdy.png' style='width:500px; float: left; margin: 0px 30px 15px 0px'></center>\n",
    "\n",
    "# Conditionals\n",
    "## Class 8 - Data Science Curriculum \n",
    "\n",
    "<br>\n",
    "\n",
    "#### Women Building Change scholarship program 2023 🇧🇮\n",
    "March 13, 2023\n",
    "\n",
    "\n",
    "\n"
   ]
  },
  {
   "cell_type": "markdown",
   "id": "48500da2",
   "metadata": {
    "slideshow": {
     "slide_type": "slide"
    }
   },
   "source": [
    "# Recap last class\n",
    "\n",
    "#### Data Structures\n",
    "\n",
    "- Lists\n",
    "- Tuples\n",
    "- Sets\n",
    "- Dictionaries"
   ]
  },
  {
   "cell_type": "markdown",
   "id": "82476939",
   "metadata": {
    "slideshow": {
     "slide_type": "slide"
    }
   },
   "source": [
    "# 🚀 Today's agenda\n",
    "\n",
    "- Conditionals"
   ]
  },
  {
   "cell_type": "markdown",
   "id": "d7c97442",
   "metadata": {
    "slideshow": {
     "slide_type": "slide"
    }
   },
   "source": [
    "# Google Colab: https://colab.research.google.com/\n",
    "\n",
    "<br>\n",
    "<center><img src='img/superhero.gif' style='height:350px; float: center; margin: 0px 30px 15px 0px'></center>\n",
    "\n"
   ]
  },
  {
   "cell_type": "markdown",
   "id": "44aa29f4",
   "metadata": {
    "slideshow": {
     "slide_type": "slide"
    }
   },
   "source": [
    "# 🏋🏿‍♀️ Coding Warmup "
   ]
  },
  {
   "cell_type": "code",
   "execution_count": 4,
   "id": "eed9055f",
   "metadata": {
    "slideshow": {
     "slide_type": "fragment"
    }
   },
   "outputs": [],
   "source": [
    "french_to_english = {\n",
    "    \"mes\": \"my\",\n",
    "    \"chères\": \"dear\",\n",
    "    \"amies\": \"friends\"\n",
    "}"
   ]
  },
  {
   "cell_type": "code",
   "execution_count": 5,
   "id": "120e0abb",
   "metadata": {
    "slideshow": {
     "slide_type": "fragment"
    }
   },
   "outputs": [],
   "source": [
    "# Add \"bonjour\" and \"hello\" to the dictionary\n",
    "french_to_english['bonjour'] = \"hello\""
   ]
  },
  {
   "cell_type": "code",
   "execution_count": 6,
   "id": "539cab2f",
   "metadata": {
    "slideshow": {
     "slide_type": "fragment"
    }
   },
   "outputs": [],
   "source": [
    "# Translate \n",
    "french_text = \"bonjour mes chères amies\"\n",
    "# english_text = "
   ]
  },
  {
   "cell_type": "code",
   "execution_count": 8,
   "id": "a6d2175a",
   "metadata": {
    "slideshow": {
     "slide_type": "fragment"
    }
   },
   "outputs": [],
   "source": [
    "french_text = french_text.split()"
   ]
  },
  {
   "cell_type": "code",
   "execution_count": 13,
   "id": "4ffc919e",
   "metadata": {
    "slideshow": {
     "slide_type": "fragment"
    }
   },
   "outputs": [
    {
     "data": {
      "text/plain": [
       "'hello my dear friends'"
      ]
     },
     "execution_count": 13,
     "metadata": {},
     "output_type": "execute_result"
    }
   ],
   "source": [
    "french_to_english[french_text[0]] + \" \" + french_to_english[french_text[1]] + \" \" + french_to_english[french_text[2]] + \" \" + french_to_english[french_text[3]] "
   ]
  },
  {
   "cell_type": "markdown",
   "id": "bfd3116a",
   "metadata": {
    "slideshow": {
     "slide_type": "slide"
    }
   },
   "source": [
    "# Conditionals"
   ]
  },
  {
   "cell_type": "markdown",
   "id": "744cfcb1",
   "metadata": {
    "slideshow": {
     "slide_type": "fragment"
    }
   },
   "source": [
    "if I like `Stromae`:\n",
    "    \n",
    "   - Listen to `Alors on danse`\n",
    "\n",
    "else: \n",
    "   - Listen to `Rock music`"
   ]
  },
  {
   "cell_type": "markdown",
   "id": "a57a7382",
   "metadata": {
    "slideshow": {
     "slide_type": "slide"
    }
   },
   "source": [
    "# So... what are they?"
   ]
  },
  {
   "cell_type": "markdown",
   "id": "e6d68b81",
   "metadata": {
    "slideshow": {
     "slide_type": "fragment"
    }
   },
   "source": [
    "They tell your computer when to do something!\n",
    "\n",
    "<br>\n",
    "<center><img src='img/crab.png' style='height:350px; float: center; margin: 0px 30px 15px 0px'></center>"
   ]
  },
  {
   "cell_type": "markdown",
   "id": "7e220704",
   "metadata": {
    "slideshow": {
     "slide_type": "slide"
    }
   },
   "source": [
    "# ⚠️ Formatting is important "
   ]
  },
  {
   "cell_type": "markdown",
   "id": "b167cea4",
   "metadata": {
    "slideshow": {
     "slide_type": "fragment"
    }
   },
   "source": [
    "<img src='img/tab.png' style='width:400px; float: left; margin: 0px 30px 15px 0px'> \n",
    "\n",
    "We need:\n",
    "   - Indenting (one tab space)\n",
    "   - Colon `:`"
   ]
  },
  {
   "cell_type": "markdown",
   "id": "fcb0fdac",
   "metadata": {
    "slideshow": {
     "slide_type": "slide"
    }
   },
   "source": [
    "# Review: Booleans\n",
    "\n",
    "They can have only two types:\n",
    "   - `True`\n",
    "   - `False`"
   ]
  },
  {
   "cell_type": "markdown",
   "id": "6bc861f4",
   "metadata": {
    "slideshow": {
     "slide_type": "slide"
    }
   },
   "source": [
    "# Booleans Operators\n",
    "\n",
    "<br>\n",
    "<center><img src='img/bool_operators.png' style='height:350px; float: center; margin: 0px 30px 15px 0px'></center>"
   ]
  },
  {
   "cell_type": "code",
   "execution_count": 14,
   "id": "c6f260a7",
   "metadata": {
    "slideshow": {
     "slide_type": "fragment"
    }
   },
   "outputs": [
    {
     "data": {
      "text/plain": [
       "True"
      ]
     },
     "execution_count": 14,
     "metadata": {},
     "output_type": "execute_result"
    }
   ],
   "source": [
    "1 + 1 == 2"
   ]
  },
  {
   "cell_type": "markdown",
   "id": "3c30f67b",
   "metadata": {
    "slideshow": {
     "slide_type": "slide"
    }
   },
   "source": [
    "# Booleans Operators: and, or, not"
   ]
  },
  {
   "cell_type": "markdown",
   "id": "22889557",
   "metadata": {
    "slideshow": {
     "slide_type": "fragment"
    }
   },
   "source": [
    "- `and`: Both statements have to be true for it to work"
   ]
  },
  {
   "cell_type": "code",
   "execution_count": 15,
   "id": "9e5f4ae0",
   "metadata": {
    "slideshow": {
     "slide_type": "fragment"
    }
   },
   "outputs": [
    {
     "data": {
      "text/plain": [
       "True"
      ]
     },
     "execution_count": 15,
     "metadata": {},
     "output_type": "execute_result"
    }
   ],
   "source": [
    "True and True"
   ]
  },
  {
   "cell_type": "markdown",
   "id": "bacd059c",
   "metadata": {
    "slideshow": {
     "slide_type": "fragment"
    }
   },
   "source": [
    "- `or`: Only one statement has to be true for it to work"
   ]
  },
  {
   "cell_type": "code",
   "execution_count": 16,
   "id": "4632bcba",
   "metadata": {
    "slideshow": {
     "slide_type": "fragment"
    }
   },
   "outputs": [
    {
     "data": {
      "text/plain": [
       "True"
      ]
     },
     "execution_count": 16,
     "metadata": {},
     "output_type": "execute_result"
    }
   ],
   "source": [
    "True or False"
   ]
  },
  {
   "cell_type": "markdown",
   "id": "287df545",
   "metadata": {
    "slideshow": {
     "slide_type": "fragment"
    }
   },
   "source": [
    "- `not`: Negates"
   ]
  },
  {
   "cell_type": "code",
   "execution_count": 17,
   "id": "a1f58d8f",
   "metadata": {
    "slideshow": {
     "slide_type": "fragment"
    }
   },
   "outputs": [
    {
     "data": {
      "text/plain": [
       "True"
      ]
     },
     "execution_count": 17,
     "metadata": {},
     "output_type": "execute_result"
    }
   ],
   "source": [
    "not False"
   ]
  },
  {
   "cell_type": "markdown",
   "id": "a557e9d0",
   "metadata": {
    "slideshow": {
     "slide_type": "slide"
    }
   },
   "source": [
    "# Why are booleans important?"
   ]
  },
  {
   "cell_type": "markdown",
   "id": "e3889432",
   "metadata": {
    "slideshow": {
     "slide_type": "fragment"
    }
   },
   "source": [
    "- They make conditional statements"
   ]
  },
  {
   "cell_type": "markdown",
   "id": "edf0a693",
   "metadata": {
    "slideshow": {
     "slide_type": "fragment"
    }
   },
   "source": [
    "- `if`/`elif`/`else` + boolean --> Conditional statement"
   ]
  },
  {
   "cell_type": "markdown",
   "id": "7fb4c938",
   "metadata": {
    "slideshow": {
     "slide_type": "fragment"
    }
   },
   "source": [
    "- `elif`: else if"
   ]
  },
  {
   "cell_type": "markdown",
   "id": "4ebca00b",
   "metadata": {
    "slideshow": {
     "slide_type": "slide"
    }
   },
   "source": [
    "# Python example"
   ]
  },
  {
   "cell_type": "code",
   "execution_count": 19,
   "id": "45e3d5dd",
   "metadata": {
    "slideshow": {
     "slide_type": "fragment"
    }
   },
   "outputs": [
    {
     "name": "stdout",
     "output_type": "stream",
     "text": [
      "What month are you born in? june\n"
     ]
    }
   ],
   "source": [
    "month = input(\"What month are you born in? \")"
   ]
  },
  {
   "cell_type": "code",
   "execution_count": 21,
   "id": "e54f97e3",
   "metadata": {
    "slideshow": {
     "slide_type": "fragment"
    }
   },
   "outputs": [
    {
     "name": "stdout",
     "output_type": "stream",
     "text": [
      "Ah, it's so far away from now!\n",
      "Having a birthday in june is amazing!\n"
     ]
    }
   ],
   "source": [
    "if month == \"March\":\n",
    "    print(\"Wow! That's this month! 🥳\")\n",
    "    print(\"Do you have any plans?\")\n",
    "elif month == \"April\" or month == \"May\":\n",
    "    print(\"That's so soon! We should get cake! 🎂\")\n",
    "else: \n",
    "    print(\"Ah, it's so far away from now!\")\n",
    "print(f\"Having a birthday in {month} is amazing!\")    "
   ]
  },
  {
   "cell_type": "markdown",
   "id": "30a72e01",
   "metadata": {
    "slideshow": {
     "slide_type": "slide"
    }
   },
   "source": [
    "\n",
    "<center><img src='img/birthdays.png' style='height:350px; float: center; margin: 0px 30px 15px 0px'></center>"
   ]
  },
  {
   "cell_type": "markdown",
   "id": "a8033a6b",
   "metadata": {
    "slideshow": {
     "slide_type": "slide"
    }
   },
   "source": [
    "# Spot the bug!"
   ]
  },
  {
   "cell_type": "markdown",
   "id": "c3638f49",
   "metadata": {
    "slideshow": {
     "slide_type": "fragment"
    }
   },
   "source": [
    "\n",
    "<center><img src='img/rain.png' style='height:350px; float: center; margin: 0px 30px 15px 0px'></center>"
   ]
  },
  {
   "cell_type": "markdown",
   "id": "250e80f9",
   "metadata": {
    "slideshow": {
     "slide_type": "fragment"
    }
   },
   "source": [
    "\n",
    "<center><img src='img/rain2.png' style='height:350px; float: center; margin: 0px 30px 15px 0px'></center>"
   ]
  },
  {
   "cell_type": "markdown",
   "id": "756b104a",
   "metadata": {
    "slideshow": {
     "slide_type": "slide"
    }
   },
   "source": [
    "# Nested conditionals\n",
    "\n",
    "- You can have a conditional inside a conditional"
   ]
  },
  {
   "cell_type": "code",
   "execution_count": 22,
   "id": "954d4cb1",
   "metadata": {
    "slideshow": {
     "slide_type": "fragment"
    }
   },
   "outputs": [
    {
     "name": "stdout",
     "output_type": "stream",
     "text": [
      "Yay! I have a donut!\n",
      "Strawberry is my favorite!\n",
      "Chocolate is good!\n"
     ]
    }
   ],
   "source": [
    "donut = True\n",
    "strawberry = True\n",
    "chocolate = True\n",
    "\n",
    "if donut:\n",
    "    print(\"Yay! I have a donut!\")\n",
    "    if strawberry:\n",
    "        print(\"Strawberry is my favorite!\")\n",
    "    if chocolate:\n",
    "        print(\"Chocolate is good!\")\n",
    "else:\n",
    "    print(\"😔\")"
   ]
  },
  {
   "cell_type": "markdown",
   "id": "456dfd75",
   "metadata": {
    "slideshow": {
     "slide_type": "slide"
    }
   },
   "source": [
    "# 🛎️ Five minute break :)"
   ]
  },
  {
   "cell_type": "markdown",
   "id": "35c2a664",
   "metadata": {
    "slideshow": {
     "slide_type": "slide"
    }
   },
   "source": [
    "# Comparison and Logic Operators"
   ]
  },
  {
   "cell_type": "code",
   "execution_count": 23,
   "id": "a6197529",
   "metadata": {
    "slideshow": {
     "slide_type": "fragment"
    }
   },
   "outputs": [
    {
     "name": "stdout",
     "output_type": "stream",
     "text": [
      "Does a equal b? False\n",
      "Is b greater than a? True\n"
     ]
    }
   ],
   "source": [
    "a = 10\n",
    "b = 20\n",
    "\n",
    "print(\"Does a equal b?\", a==b)\n",
    "print(\"Is b greater than a?\", b>a)"
   ]
  },
  {
   "cell_type": "code",
   "execution_count": 24,
   "id": "e89d9d26",
   "metadata": {
    "slideshow": {
     "slide_type": "fragment"
    }
   },
   "outputs": [
    {
     "name": "stdout",
     "output_type": "stream",
     "text": [
      "Do you have apples and oranges?\n"
     ]
    },
    {
     "data": {
      "text/plain": [
       "True"
      ]
     },
     "execution_count": 24,
     "metadata": {},
     "output_type": "execute_result"
    }
   ],
   "source": [
    "# Number of different items in our cart\n",
    "number_of_apples = 1\n",
    "number_of_oranges = 3\n",
    "number_of_carrots = 4\n",
    "number_of_tomatoes = 0\n",
    "\n",
    "print(\"Do you have apples and oranges?\")\n",
    "(number_of_apples > 0) and (number_of_oranges > 0)"
   ]
  },
  {
   "cell_type": "code",
   "execution_count": 25,
   "id": "4bfd4d3e",
   "metadata": {
    "slideshow": {
     "slide_type": "fragment"
    }
   },
   "outputs": [
    {
     "name": "stdout",
     "output_type": "stream",
     "text": [
      "Are there veggies in your cart?\n"
     ]
    },
    {
     "data": {
      "text/plain": [
       "True"
      ]
     },
     "execution_count": 25,
     "metadata": {},
     "output_type": "execute_result"
    }
   ],
   "source": [
    "print(\"Are there veggies in your cart?\")\n",
    "(number_of_carrots > 0) or (number_of_tomatoes > 0)"
   ]
  },
  {
   "cell_type": "markdown",
   "id": "e7975be3",
   "metadata": {
    "slideshow": {
     "slide_type": "slide"
    }
   },
   "source": [
    "# Exercise"
   ]
  },
  {
   "cell_type": "code",
   "execution_count": 26,
   "id": "d5cc8fb4",
   "metadata": {
    "slideshow": {
     "slide_type": "fragment"
    }
   },
   "outputs": [
    {
     "name": "stdout",
     "output_type": "stream",
     "text": [
      "Do you have milk?\n"
     ]
    },
    {
     "data": {
      "text/plain": [
       "True"
      ]
     },
     "execution_count": 26,
     "metadata": {},
     "output_type": "execute_result"
    }
   ],
   "source": [
    "# Number of each item in the cart\n",
    "cereal = 1\n",
    "apples = 0\n",
    "milk = 2\n",
    "strawberries = 0\n",
    "\n",
    "# Example\n",
    "print(\"Do you have milk?\")  # True\n",
    "milk > 0"
   ]
  },
  {
   "cell_type": "code",
   "execution_count": 27,
   "id": "68a5b051",
   "metadata": {
    "slideshow": {
     "slide_type": "fragment"
    }
   },
   "outputs": [
    {
     "name": "stdout",
     "output_type": "stream",
     "text": [
      "Do you have more than 1 box of cereal?\n"
     ]
    }
   ],
   "source": [
    "print(\"Do you have more than 1 box of cereal?\")  # False\n",
    "# CODE HERE"
   ]
  },
  {
   "cell_type": "code",
   "execution_count": 29,
   "id": "7d344920",
   "metadata": {
    "slideshow": {
     "slide_type": "fragment"
    }
   },
   "outputs": [
    {
     "name": "stdout",
     "output_type": "stream",
     "text": [
      "Can you make cereal and milk tomorrow?\n"
     ]
    }
   ],
   "source": [
    "print(\"Can you make cereal and milk tomorrow?\")  # True\n",
    "# CODE HERE"
   ]
  },
  {
   "cell_type": "code",
   "execution_count": 29,
   "id": "7299c74e",
   "metadata": {
    "slideshow": {
     "slide_type": "fragment"
    }
   },
   "outputs": [
    {
     "name": "stdout",
     "output_type": "stream",
     "text": [
      "Can you make cereal and milk tomorrow?\n"
     ]
    }
   ],
   "source": [
    "print(\"Can you make cereal and milk tomorrow?\")  # True\n",
    "# CODE HERE"
   ]
  },
  {
   "cell_type": "markdown",
   "id": "a54ca23b",
   "metadata": {
    "slideshow": {
     "slide_type": "slide"
    }
   },
   "source": [
    "# Conditionals"
   ]
  },
  {
   "cell_type": "markdown",
   "id": "9926350e",
   "metadata": {
    "slideshow": {
     "slide_type": "fragment"
    }
   },
   "source": [
    "### `if` statements\n",
    "\n",
    "- Right now, our grocery cart program can only print `True` or `False`, which isn't very helpful. What if we only wanted to tell the user that their cart is empty, and we don't want to tell them when their cart has items in it? An if statement let us run parts (or blocks) of code when an expression is `True`:"
   ]
  },
  {
   "cell_type": "code",
   "execution_count": 30,
   "id": "6f564913",
   "metadata": {
    "slideshow": {
     "slide_type": "fragment"
    }
   },
   "outputs": [
    {
     "name": "stdout",
     "output_type": "stream",
     "text": [
      "The condition was true\n"
     ]
    }
   ],
   "source": [
    "if True:\n",
    "    print(\"The condition was true\")"
   ]
  },
  {
   "cell_type": "code",
   "execution_count": 32,
   "id": "4a97485e",
   "metadata": {
    "slideshow": {
     "slide_type": "fragment"
    }
   },
   "outputs": [],
   "source": [
    "if False:\n",
    "    print(\"The condition was False, so this won't print\")"
   ]
  },
  {
   "cell_type": "code",
   "execution_count": 33,
   "id": "f5f6f8d9",
   "metadata": {
    "slideshow": {
     "slide_type": "slide"
    }
   },
   "outputs": [
    {
     "name": "stdout",
     "output_type": "stream",
     "text": [
      "Your cart is empty! Add some items.\n"
     ]
    }
   ],
   "source": [
    "items_in_cart = 0\n",
    "\n",
    "if items_in_cart == 0:\n",
    "    # We could also use not(items_in_cart > 0) here\n",
    "    # There are many possibilities!\n",
    "    print(\"Your cart is empty! Add some items.\")"
   ]
  },
  {
   "cell_type": "code",
   "execution_count": 34,
   "id": "2798cbba",
   "metadata": {
    "slideshow": {
     "slide_type": "fragment"
    }
   },
   "outputs": [],
   "source": [
    "if items_in_cart > 10:\n",
    "  # This won't print because items_in_cart isn't greater than 10\n",
    "  print(\"Your cart has too many items!\")"
   ]
  },
  {
   "cell_type": "markdown",
   "id": "6b09640e",
   "metadata": {
    "slideshow": {
     "slide_type": "slide"
    }
   },
   "source": [
    "# Exercise"
   ]
  },
  {
   "cell_type": "code",
   "execution_count": 35,
   "id": "61e69160",
   "metadata": {
    "slideshow": {
     "slide_type": "fragment"
    }
   },
   "outputs": [
    {
     "name": "stdout",
     "output_type": "stream",
     "text": [
      "Your cart has milk\n"
     ]
    }
   ],
   "source": [
    "cereal = 1\n",
    "apples = 0\n",
    "milk = 2\n",
    "strawberries = 0\n",
    "\n",
    "# Example\n",
    "if milk > 0:\n",
    "    print(\"Your cart has milk\")"
   ]
  },
  {
   "cell_type": "code",
   "execution_count": null,
   "id": "d0ecd0ff",
   "metadata": {
    "slideshow": {
     "slide_type": "fragment"
    }
   },
   "outputs": [],
   "source": [
    "# Fill out the if statement below\n",
    "if _____:\n",
    "    print(\"Your cart has milk and cereal\")"
   ]
  },
  {
   "cell_type": "code",
   "execution_count": null,
   "id": "3b69b117",
   "metadata": {
    "slideshow": {
     "slide_type": "fragment"
    }
   },
   "outputs": [],
   "source": [
    "# Fill out the if statement below\n",
    "if _____:\n",
    "    print(\"Your cart does not have fruit\")"
   ]
  },
  {
   "cell_type": "markdown",
   "id": "8fcbe4e1",
   "metadata": {
    "slideshow": {
     "slide_type": "fragment"
    }
   },
   "source": [
    "### `else` statements\n",
    "\n",
    "- We can use an else statements to add more possibilities to our grocery cart program. If an if statement doesn't evaluate to True, the else statement will be run instead.\n",
    "\n"
   ]
  },
  {
   "cell_type": "code",
   "execution_count": 37,
   "id": "29bd1469",
   "metadata": {
    "slideshow": {
     "slide_type": "fragment"
    }
   },
   "outputs": [
    {
     "name": "stdout",
     "output_type": "stream",
     "text": [
      "Condition is False, running else branch\n"
     ]
    }
   ],
   "source": [
    "condition = False\n",
    "\n",
    "if condition:\n",
    "    # Because condition is False, this won't print\n",
    "    print(\"Condition is True!\")\n",
    "else:\n",
    "    print(\"Condition is False, running else branch\")"
   ]
  },
  {
   "cell_type": "code",
   "execution_count": 38,
   "id": "95372819",
   "metadata": {
    "slideshow": {
     "slide_type": "fragment"
    }
   },
   "outputs": [
    {
     "name": "stdout",
     "output_type": "stream",
     "text": [
      "There are apples in your cart\n"
     ]
    }
   ],
   "source": [
    "# There are four apples in our cart\n",
    "apples = 4\n",
    "\n",
    "if apples == 0:\n",
    "    print(\"You still need to buy apples\")\n",
    "else:\n",
    "    print(\"There are apples in your cart\")"
   ]
  },
  {
   "cell_type": "markdown",
   "id": "ecd63960",
   "metadata": {
    "slideshow": {
     "slide_type": "fragment"
    }
   },
   "source": [
    "### `elif` statements\n",
    "\n",
    "- If statements can be chained together using else-if statements. In Python, else-if statements are named `elif`. If the if statement is `not True`, the else-if statements are evaluated in order from top to bottom:\n",
    "\n"
   ]
  },
  {
   "cell_type": "code",
   "execution_count": 40,
   "id": "119ecf6a",
   "metadata": {
    "slideshow": {
     "slide_type": "slide"
    }
   },
   "outputs": [
    {
     "name": "stdout",
     "output_type": "stream",
     "text": [
      "x is positive\n",
      "y = 2\n"
     ]
    }
   ],
   "source": [
    "# Change x and y to be other numbers to see how the result changes\n",
    "x = 3\n",
    "y = 2\n",
    "\n",
    "# Let's look at the variable x\n",
    "if x > 0:\n",
    "    print(\"x is positive\")\n",
    "elif x < 0:\n",
    "    print(\"x is negative\")\n",
    "else:\n",
    "    print(\"x is zero\")\n",
    "\n",
    "# Let's look at the variable y\n",
    "if y == 1:\n",
    "    print(\"y = 1\")\n",
    "elif y == 2:\n",
    "    print(\"y = 2\")\n",
    "elif y == 3:\n",
    "    print(\"y = 3\")\n",
    "elif y == 4:\n",
    "    print(\"y = 4\")\n",
    "elif y == 5:\n",
    "    print(\"y = 5\")\n",
    "else:\n",
    "    print(\"y is not between 1 and 5\")"
   ]
  },
  {
   "cell_type": "code",
   "execution_count": 42,
   "id": "52987400",
   "metadata": {
    "slideshow": {
     "slide_type": "slide"
    }
   },
   "outputs": [
    {
     "name": "stdout",
     "output_type": "stream",
     "text": [
      "You have oranges in your cart\n"
     ]
    }
   ],
   "source": [
    "# Earlier, there were 4 oranges in the grocery cart\n",
    "# Modify this number to see what other outcomes can happen to the program\n",
    "oranges = 4\n",
    "\n",
    "# Now, the user has added another orange to the cart\n",
    "oranges = oranges + 1\n",
    "\n",
    "# Let's print some information for the user without looking at the exact\n",
    "# number of oranges they have\n",
    "if oranges == 0:\n",
    "    print(\"You don't have any oranges in your cart\")\n",
    "elif oranges > 10:\n",
    "    print(\"You have too many oranges!\")\n",
    "else:\n",
    "    print(\"You have oranges in your cart\")"
   ]
  },
  {
   "cell_type": "code",
   "execution_count": 43,
   "id": "1d2d55d6",
   "metadata": {
    "slideshow": {
     "slide_type": "slide"
    }
   },
   "outputs": [
    {
     "name": "stdout",
     "output_type": "stream",
     "text": [
      "There's some cars on the road\n"
     ]
    }
   ],
   "source": [
    "# if, elif, and else statements can be nested, which means you can put statements inside of each other:\n",
    "# Change this number to see what other outcomes can occur\n",
    "cars_on_road = 5\n",
    "\n",
    "if cars_on_road > 0:\n",
    "    if cars_on_road < 5:\n",
    "        print(\"There's a only a few cars on the road\")\n",
    "    elif cars_on_road > 10:\n",
    "        print(\"There are too many cars!\")\n",
    "    else:\n",
    "        print(\"There's some cars on the road\")\n",
    "else:\n",
    "      print(\"There are no nearby cars\")"
   ]
  },
  {
   "cell_type": "markdown",
   "id": "5b155633",
   "metadata": {
    "slideshow": {
     "slide_type": "slide"
    }
   },
   "source": [
    "# ⏪ Today's recap\n",
    "\n",
    "- Conditionals\n",
    "    - ⚠️ Formating is important: Indentation and Colons"
   ]
  },
  {
   "cell_type": "markdown",
   "id": "ba820ff4",
   "metadata": {
    "slideshow": {
     "slide_type": "slide"
    }
   },
   "source": [
    "# Practice lab: https://docs.google.com/document/d/13XJUcacpTccZNYkicoVxw9z0EWJvizaxaToeWAHsECo/edit"
   ]
  },
  {
   "cell_type": "markdown",
   "id": "c3c47662",
   "metadata": {
    "slideshow": {
     "slide_type": "slide"
    }
   },
   "source": [
    "<center><img src='img/bye.gif' style='height:250px;'></center> \n",
    "\n",
    "# Next class: Loops\n",
    "# See you next Friday!"
   ]
  }
 ],
 "metadata": {
  "celltoolbar": "Slideshow",
  "kernelspec": {
   "display_name": "Python 3 (ipykernel)",
   "language": "python",
   "name": "python3"
  },
  "language_info": {
   "codemirror_mode": {
    "name": "ipython",
    "version": 3
   },
   "file_extension": ".py",
   "mimetype": "text/x-python",
   "name": "python",
   "nbconvert_exporter": "python",
   "pygments_lexer": "ipython3",
   "version": "3.9.13"
  }
 },
 "nbformat": 4,
 "nbformat_minor": 5
}
