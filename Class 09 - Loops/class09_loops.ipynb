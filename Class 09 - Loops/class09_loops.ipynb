{
 "cells": [
  {
   "cell_type": "markdown",
   "id": "674ac2a7",
   "metadata": {
    "slideshow": {
     "slide_type": "slide"
    }
   },
   "source": [
    "# We'll start @2:15PM\n",
    "https://www.youtube.com/watch?v=K_r2pQkI-G8"
   ]
  },
  {
   "cell_type": "markdown",
   "id": "843e46f7",
   "metadata": {
    "slideshow": {
     "slide_type": "slide"
    }
   },
   "source": [
    "<center><img src='img/cdy.png' style='width:500px; float: left; margin: 0px 30px 15px 0px'></center>\n",
    "\n",
    "# Loops\n",
    "## Class 9 - Data Science Curriculum \n",
    "\n",
    "<br>\n",
    "\n",
    "#### Women Building Change scholarship program 2023 🇧🇮\n",
    "March 17, 2023\n",
    "\n",
    "\n",
    "\n"
   ]
  },
  {
   "cell_type": "markdown",
   "id": "48500da2",
   "metadata": {
    "slideshow": {
     "slide_type": "slide"
    }
   },
   "source": [
    "# Recap last class\n",
    "\n",
    "- Conditionals\n",
    "\n",
    "```python\n",
    "if condition:\n",
    "    # do something\n",
    "elif other condition:\n",
    "    # do something \n",
    "else:\n",
    "    # do something\n",
    "```"
   ]
  },
  {
   "cell_type": "markdown",
   "id": "82476939",
   "metadata": {
    "slideshow": {
     "slide_type": "slide"
    }
   },
   "source": [
    "# 🚀 Today's agenda\n",
    "\n",
    "- Loops\n",
    "    - `for`\n",
    "    - `while`"
   ]
  },
  {
   "cell_type": "markdown",
   "id": "d7c97442",
   "metadata": {
    "slideshow": {
     "slide_type": "slide"
    }
   },
   "source": [
    "# Google Colab: https://colab.research.google.com/\n",
    "\n",
    "<br>\n",
    "<center><img src='img/superhero.gif' style='height:350px; float: center; margin: 0px 30px 15px 0px'></center>\n",
    "\n"
   ]
  },
  {
   "cell_type": "markdown",
   "id": "44aa29f4",
   "metadata": {
    "slideshow": {
     "slide_type": "slide"
    }
   },
   "source": [
    "# 🏋🏿‍♀️ Coding Warmup "
   ]
  },
  {
   "cell_type": "code",
   "execution_count": 2,
   "id": "0d8f07ad",
   "metadata": {
    "slideshow": {
     "slide_type": "fragment"
    }
   },
   "outputs": [
    {
     "name": "stdout",
     "output_type": "stream",
     "text": [
      "I can sell you the drink 🍺\n"
     ]
    }
   ],
   "source": [
    "# imagine you work at a store selling drinks\n",
    "# write an statement that will print \"I can sell you the drink\" if the age is greater than or equal to 18\n",
    "# otherwise print \"I cannot sell you the drink\"\n",
    "\n",
    "age = 19\n",
    "\n",
    "if age>=18:\n",
    "    print(\"I can sell you the drink 🍺\")\n",
    "else:\n",
    "    print(\"I CANNOT sell you the drink\")"
   ]
  },
  {
   "cell_type": "code",
   "execution_count": 3,
   "id": "363ba4ea",
   "metadata": {
    "slideshow": {
     "slide_type": "slide"
    }
   },
   "outputs": [
    {
     "data": {
      "text/plain": [
       "'cow'"
      ]
     },
     "execution_count": 3,
     "metadata": {},
     "output_type": "execute_result"
    }
   ],
   "source": [
    "# get cow\n",
    "\n",
    "animals = [\"dog\", \"cat\", \"cow\", \"duck\"]\n",
    "animals[2]"
   ]
  },
  {
   "cell_type": "markdown",
   "id": "2d1d233d",
   "metadata": {
    "slideshow": {
     "slide_type": "slide"
    }
   },
   "source": [
    "# Loops are used to repeat code"
   ]
  },
  {
   "cell_type": "markdown",
   "id": "3e839937",
   "metadata": {
    "slideshow": {
     "slide_type": "fragment"
    }
   },
   "source": [
    "There's two types of loops"
   ]
  },
  {
   "cell_type": "markdown",
   "id": "3e1a5dd2",
   "metadata": {
    "slideshow": {
     "slide_type": "fragment"
    }
   },
   "source": [
    "# For\n",
    "\n",
    "Used to repeat code for a **fixed** number of times"
   ]
  },
  {
   "cell_type": "markdown",
   "id": "e45d5768",
   "metadata": {
    "slideshow": {
     "slide_type": "fragment"
    }
   },
   "source": [
    "# While\n",
    "\n",
    "Used to repeat code **until** a condition is met"
   ]
  },
  {
   "cell_type": "markdown",
   "id": "f80eaead",
   "metadata": {
    "slideshow": {
     "slide_type": "slide"
    }
   },
   "source": [
    "# For\n",
    "\n",
    "<br>\n",
    "<center><img src='img/food.webp' style='height:500px; float: center; margin: 0px 30px 15px 0px'></center>\n",
    "\n",
    "`For` each day in the week $\\rightarrow$ pick one thing to eat for lunch"
   ]
  },
  {
   "cell_type": "markdown",
   "id": "9d2c2239",
   "metadata": {
    "slideshow": {
     "slide_type": "slide"
    }
   },
   "source": [
    "# While\n",
    "\n",
    "<br>\n",
    "<center><img src='img/kitchen.jpeg' style='height:350px; float: center; margin: 0px 30px 15px 0px'></center>\n",
    "\n",
    "`While` kitchen is dirty $\\rightarrow$ clean it!"
   ]
  },
  {
   "cell_type": "markdown",
   "id": "ad5a33dd",
   "metadata": {
    "slideshow": {
     "slide_type": "slide"
    }
   },
   "source": [
    "# Take 60 seconds and try to come up with real life examples for each kind of loop!"
   ]
  },
  {
   "cell_type": "markdown",
   "id": "665d7d72",
   "metadata": {
    "slideshow": {
     "slide_type": "slide"
    }
   },
   "source": [
    "# 🤔 Why do you think loops are important in programming?"
   ]
  },
  {
   "cell_type": "markdown",
   "id": "9f17c720",
   "metadata": {
    "slideshow": {
     "slide_type": "fragment"
    }
   },
   "source": [
    "- Save you from extra work "
   ]
  },
  {
   "cell_type": "markdown",
   "id": "f3f045ac",
   "metadata": {
    "slideshow": {
     "slide_type": "fragment"
    }
   },
   "source": [
    "- Keep code clean and organized"
   ]
  },
  {
   "cell_type": "markdown",
   "id": "34868854",
   "metadata": {
    "slideshow": {
     "slide_type": "slide"
    }
   },
   "source": [
    "# For\n",
    "\n",
    "Used to repeat code for a **fixed** number of times"
   ]
  },
  {
   "cell_type": "markdown",
   "id": "a468ba2e",
   "metadata": {
    "slideshow": {
     "slide_type": "fragment"
    }
   },
   "source": [
    "```python \n",
    "\n",
    "for item in iterable_variable:\n",
    "    # do something with `item`\n",
    "  ```"
   ]
  },
  {
   "cell_type": "markdown",
   "id": "fed05e7e",
   "metadata": {
    "slideshow": {
     "slide_type": "fragment"
    }
   },
   "source": [
    "**Iterate**: Means to go through everything that something contains (a.k.a. repeat)"
   ]
  },
  {
   "cell_type": "markdown",
   "id": "b56429ec",
   "metadata": {
    "slideshow": {
     "slide_type": "fragment"
    }
   },
   "source": [
    "**Iterable variables**: It can be a list, a string, a range"
   ]
  },
  {
   "cell_type": "markdown",
   "id": "dfac52d8",
   "metadata": {
    "slideshow": {
     "slide_type": "slide"
    }
   },
   "source": [
    "# Coding"
   ]
  },
  {
   "cell_type": "code",
   "execution_count": 4,
   "id": "bd731cf4",
   "metadata": {
    "slideshow": {
     "slide_type": "fragment"
    }
   },
   "outputs": [
    {
     "name": "stdout",
     "output_type": "stream",
     "text": [
      "0\n",
      "2\n",
      "4\n",
      "6\n",
      "8\n",
      "10\n"
     ]
    }
   ],
   "source": [
    "evens = [0, 2, 4, 6, 8, 10]\n",
    "for number in evens:\n",
    "    print(number)"
   ]
  },
  {
   "cell_type": "code",
   "execution_count": 5,
   "id": "8018dc5c",
   "metadata": {
    "slideshow": {
     "slide_type": "fragment"
    }
   },
   "outputs": [
    {
     "name": "stdout",
     "output_type": "stream",
     "text": [
      "0\n",
      "2\n",
      "4\n",
      "6\n",
      "8\n",
      "10\n"
     ]
    }
   ],
   "source": [
    "evens = [0, 2, 4, 6, 8, 10]\n",
    "for sandwitch in evens:\n",
    "    print(sandwitch)"
   ]
  },
  {
   "cell_type": "code",
   "execution_count": 7,
   "id": "339c8183",
   "metadata": {
    "slideshow": {
     "slide_type": "slide"
    }
   },
   "outputs": [
    {
     "name": "stdout",
     "output_type": "stream",
     "text": [
      "Picked up my red socks\n",
      "Picked up my green socks\n",
      "Picked up my white socks\n",
      "Picked up my blue socks\n"
     ]
    }
   ],
   "source": [
    "dirty_socks = [\"red\", \"green\", \"white\", \"blue\"]\n",
    "for sock in dirty_socks:\n",
    "    print(f\"Picked up my {sock} socks\")"
   ]
  },
  {
   "cell_type": "markdown",
   "id": "e00b9566",
   "metadata": {
    "slideshow": {
     "slide_type": "slide"
    }
   },
   "source": [
    "# Special function `range()`"
   ]
  },
  {
   "cell_type": "code",
   "execution_count": 40,
   "id": "a5ae0441",
   "metadata": {
    "slideshow": {
     "slide_type": "fragment"
    }
   },
   "outputs": [
    {
     "data": {
      "text/plain": [
       "[0, 1, 2, 3, 4, 5, 6, 7, 8, 9, 10, 11, 12, 13, 14, 15, 16, 17, 18, 19, 20]"
      ]
     },
     "execution_count": 40,
     "metadata": {},
     "output_type": "execute_result"
    }
   ],
   "source": [
    "list(range(21))"
   ]
  },
  {
   "cell_type": "code",
   "execution_count": 39,
   "id": "2a997faf",
   "metadata": {
    "slideshow": {
     "slide_type": "fragment"
    }
   },
   "outputs": [
    {
     "data": {
      "text/plain": [
       "[7, 8, 9, 10, 11, 12, 13, 14, 15, 16, 17, 18, 19, 20]"
      ]
     },
     "execution_count": 39,
     "metadata": {},
     "output_type": "execute_result"
    }
   ],
   "source": [
    "list(range(7,21))"
   ]
  },
  {
   "cell_type": "markdown",
   "id": "363e57ef",
   "metadata": {
    "slideshow": {
     "slide_type": "slide"
    }
   },
   "source": [
    "<center><img src='img/range.png' style='height:350px; float: center; margin: 0px 30px 15px 0px'></center>"
   ]
  },
  {
   "cell_type": "code",
   "execution_count": 42,
   "id": "757e7c30",
   "metadata": {
    "slideshow": {
     "slide_type": "fragment"
    }
   },
   "outputs": [
    {
     "data": {
      "text/plain": [
       "[0, 1, 2, 3, 4, 5, 6]"
      ]
     },
     "execution_count": 42,
     "metadata": {},
     "output_type": "execute_result"
    }
   ],
   "source": [
    "# What's the start and finish?\n",
    "list(range(7))"
   ]
  },
  {
   "cell_type": "code",
   "execution_count": 44,
   "id": "fcbed08c",
   "metadata": {
    "slideshow": {
     "slide_type": "fragment"
    }
   },
   "outputs": [
    {
     "data": {
      "text/plain": [
       "[1, 2, 3, 4, 5, 6]"
      ]
     },
     "execution_count": 44,
     "metadata": {},
     "output_type": "execute_result"
    }
   ],
   "source": [
    "# What's the start and finish?\n",
    "list(range(1,7))"
   ]
  },
  {
   "cell_type": "markdown",
   "id": "c07f709b",
   "metadata": {
    "slideshow": {
     "slide_type": "slide"
    }
   },
   "source": [
    "# Example\n",
    "\n",
    "Let's say you work in a mini market, and we had 11 cartons of milk to organize"
   ]
  },
  {
   "cell_type": "code",
   "execution_count": 13,
   "id": "e175cc0e",
   "metadata": {
    "slideshow": {
     "slide_type": "fragment"
    }
   },
   "outputs": [
    {
     "name": "stdout",
     "output_type": "stream",
     "text": [
      "Organized milk cartoon number 1\n",
      "Organized milk cartoon number 2\n",
      "Organized milk cartoon number 3\n",
      "Organized milk cartoon number 4\n",
      "Organized milk cartoon number 5\n",
      "Organized milk cartoon number 6\n",
      "Organized milk cartoon number 7\n",
      "Organized milk cartoon number 8\n",
      "Organized milk cartoon number 9\n",
      "Organized milk cartoon number 10\n",
      "Organized milk cartoon number 11\n"
     ]
    }
   ],
   "source": [
    "for carton in range(11):\n",
    "    print(f\"Organized milk cartoon number {carton+1}\")"
   ]
  },
  {
   "cell_type": "markdown",
   "id": "28b29a9b",
   "metadata": {
    "slideshow": {
     "slide_type": "slide"
    }
   },
   "source": [
    "# While\n",
    "\n",
    "Used to repeat code **until** a condition is met"
   ]
  },
  {
   "cell_type": "markdown",
   "id": "1da06f3c",
   "metadata": {
    "slideshow": {
     "slide_type": "fragment"
    }
   },
   "source": [
    "```python \n",
    "\n",
    "while (boolean):\n",
    "    # run this code\n",
    "  ```"
   ]
  },
  {
   "cell_type": "code",
   "execution_count": 15,
   "id": "2b180037",
   "metadata": {
    "slideshow": {
     "slide_type": "slide"
    }
   },
   "outputs": [
    {
     "name": "stderr",
     "output_type": "stream",
     "text": [
      "IOPub data rate exceeded.\n",
      "The notebook server will temporarily stop sending output\n",
      "to the client in order to avoid crashing it.\n",
      "To change this limit, set the config variable\n",
      "`--NotebookApp.iopub_data_rate_limit`.\n",
      "\n",
      "Current values:\n",
      "NotebookApp.iopub_data_rate_limit=1000000.0 (bytes/sec)\n",
      "NotebookApp.rate_limit_window=3.0 (secs)\n",
      "\n"
     ]
    },
    {
     "ename": "KeyboardInterrupt",
     "evalue": "",
     "output_type": "error",
     "traceback": [
      "\u001b[0;31m---------------------------------------------------------------------------\u001b[0m",
      "\u001b[0;31mKeyboardInterrupt\u001b[0m                         Traceback (most recent call last)",
      "\u001b[0;32m/var/folders/n7/q93jwpcs6jndz6qqvj4mhtcm0000gn/T/ipykernel_8256/2607899499.py\u001b[0m in \u001b[0;36m<module>\u001b[0;34m\u001b[0m\n\u001b[1;32m      1\u001b[0m \u001b[0mroom_clean\u001b[0m \u001b[0;34m=\u001b[0m \u001b[0;32mFalse\u001b[0m\u001b[0;34m\u001b[0m\u001b[0;34m\u001b[0m\u001b[0m\n\u001b[1;32m      2\u001b[0m \u001b[0;32mwhile\u001b[0m \u001b[0;34m(\u001b[0m\u001b[0mroom_clean\u001b[0m \u001b[0;34m!=\u001b[0m \u001b[0;32mTrue\u001b[0m\u001b[0;34m)\u001b[0m\u001b[0;34m:\u001b[0m\u001b[0;34m\u001b[0m\u001b[0;34m\u001b[0m\u001b[0m\n\u001b[0;32m----> 3\u001b[0;31m     \u001b[0mprint\u001b[0m\u001b[0;34m(\u001b[0m\u001b[0;34m\"Pick up your dirty socks!\"\u001b[0m\u001b[0;34m)\u001b[0m\u001b[0;34m\u001b[0m\u001b[0;34m\u001b[0m\u001b[0m\n\u001b[0m",
      "\u001b[0;32m~/opt/anaconda3/lib/python3.9/site-packages/ipykernel/iostream.py\u001b[0m in \u001b[0;36mwrite\u001b[0;34m(self, string)\u001b[0m\n\u001b[1;32m    542\u001b[0m             \u001b[0mis_child\u001b[0m \u001b[0;34m=\u001b[0m \u001b[0;32mnot\u001b[0m \u001b[0mself\u001b[0m\u001b[0;34m.\u001b[0m\u001b[0m_is_master_process\u001b[0m\u001b[0;34m(\u001b[0m\u001b[0;34m)\u001b[0m\u001b[0;34m\u001b[0m\u001b[0;34m\u001b[0m\u001b[0m\n\u001b[1;32m    543\u001b[0m             \u001b[0;31m# only touch the buffer in the IO thread to avoid races\u001b[0m\u001b[0;34m\u001b[0m\u001b[0;34m\u001b[0m\u001b[0m\n\u001b[0;32m--> 544\u001b[0;31m             \u001b[0;32mwith\u001b[0m \u001b[0mself\u001b[0m\u001b[0;34m.\u001b[0m\u001b[0m_buffer_lock\u001b[0m\u001b[0;34m:\u001b[0m\u001b[0;34m\u001b[0m\u001b[0;34m\u001b[0m\u001b[0m\n\u001b[0m\u001b[1;32m    545\u001b[0m                 \u001b[0mself\u001b[0m\u001b[0;34m.\u001b[0m\u001b[0m_buffer\u001b[0m\u001b[0;34m.\u001b[0m\u001b[0mwrite\u001b[0m\u001b[0;34m(\u001b[0m\u001b[0mstring\u001b[0m\u001b[0;34m)\u001b[0m\u001b[0;34m\u001b[0m\u001b[0;34m\u001b[0m\u001b[0m\n\u001b[1;32m    546\u001b[0m             \u001b[0;32mif\u001b[0m \u001b[0mis_child\u001b[0m\u001b[0;34m:\u001b[0m\u001b[0;34m\u001b[0m\u001b[0;34m\u001b[0m\u001b[0m\n",
      "\u001b[0;31mKeyboardInterrupt\u001b[0m: "
     ]
    }
   ],
   "source": [
    "room_clean = False\n",
    "while (room_clean != True):\n",
    "    print(\"Pick up your dirty socks!\")"
   ]
  },
  {
   "cell_type": "markdown",
   "id": "6925abcd",
   "metadata": {
    "slideshow": {
     "slide_type": "fragment"
    }
   },
   "source": [
    "# ⚠️ Be careful with infinite loops!"
   ]
  },
  {
   "cell_type": "markdown",
   "id": "777b78e8",
   "metadata": {
    "slideshow": {
     "slide_type": "slide"
    }
   },
   "source": [
    "# 🤔 What if you want to end the loop early?"
   ]
  },
  {
   "cell_type": "markdown",
   "id": "9635e972",
   "metadata": {
    "slideshow": {
     "slide_type": "fragment"
    }
   },
   "source": [
    "Use the keyword `break`"
   ]
  },
  {
   "cell_type": "code",
   "execution_count": 19,
   "id": "dcd3b747",
   "metadata": {
    "slideshow": {
     "slide_type": "slide"
    }
   },
   "outputs": [
    {
     "name": "stdout",
     "output_type": "stream",
     "text": [
      "Picked up my red socks\n",
      "Picked up my green socks\n",
      "Found my white socks\n"
     ]
    }
   ],
   "source": [
    "dirty_socks = ['red', 'green', 'white', 'blue']\n",
    "for sock in dirty_socks:\n",
    "    if sock == \"white\":\n",
    "        print(f\"Found my {sock} socks\")\n",
    "        break\n",
    "    print(f\"Picked up my {sock} socks\")"
   ]
  },
  {
   "cell_type": "markdown",
   "id": "9d6fd3d9",
   "metadata": {
    "slideshow": {
     "slide_type": "slide"
    }
   },
   "source": [
    "# Breaks\n",
    "\n",
    "In Python, a break will tell the program to exit a loop. For example, if we put a break at the top of a loop, the loop will exit immediately:"
   ]
  },
  {
   "cell_type": "code",
   "execution_count": 31,
   "id": "2360b4ca",
   "metadata": {
    "slideshow": {
     "slide_type": "slide"
    }
   },
   "outputs": [
    {
     "name": "stdout",
     "output_type": "stream",
     "text": [
      "Quitting...\n"
     ]
    }
   ],
   "source": [
    "# Run this code, then comment out break and run it again to see what happens\n",
    "\n",
    "for x in [1, 2, 3, 4, 5]:\n",
    "    print('Quitting...')\n",
    "    break\n",
    "    \n",
    "    # This won't print because the loop has been exited\n",
    "    print('x = ', x)"
   ]
  },
  {
   "cell_type": "code",
   "execution_count": 32,
   "id": "7fb02b4e",
   "metadata": {
    "slideshow": {
     "slide_type": "slide"
    }
   },
   "outputs": [
    {
     "name": "stdout",
     "output_type": "stream",
     "text": [
      "Found John, which is not Nicky\n",
      "Found Laila, which is not Nicky\n",
      "Found Nicky, exiting loop...\n"
     ]
    }
   ],
   "source": [
    "student_names = ['John', 'Laila', 'Nicky', 'Anita']\n",
    "\n",
    "for name in student_names:\n",
    "    if name == 'Nicky':\n",
    "        print('Found Nicky, exiting loop...')\n",
    "        break\n",
    "    else:\n",
    "        print('Found ' + name + ', which is not Nicky')"
   ]
  },
  {
   "cell_type": "markdown",
   "id": "58f0210c",
   "metadata": {
    "slideshow": {
     "slide_type": "slide"
    }
   },
   "source": [
    "# Looping dictionaries\n",
    "\n",
    "In Python, a break will tell the program to exit a loop. For example, if we put a break at the top of a loop, the loop will exit immediately:"
   ]
  },
  {
   "cell_type": "code",
   "execution_count": 33,
   "id": "40960524",
   "metadata": {
    "slideshow": {
     "slide_type": "fragment"
    }
   },
   "outputs": [
    {
     "name": "stdout",
     "output_type": "stream",
     "text": [
      "John got a score of 89\n",
      "Laila got a score of 99\n",
      "Nicky got a score of 95\n",
      "Anita got a score of 85\n"
     ]
    }
   ],
   "source": [
    "scores = {'John': 89, 'Laila': 99, 'Nicky': 95, 'Anita': 85}\n",
    "\n",
    "for name in scores:\n",
    "    student_score = scores[name]\n",
    "    print(name, 'got a score of', student_score)"
   ]
  },
  {
   "cell_type": "markdown",
   "id": "a3441e0d",
   "metadata": {
    "slideshow": {
     "slide_type": "slide"
    }
   },
   "source": [
    "# Exercises for you to try!!!!!"
   ]
  },
  {
   "cell_type": "markdown",
   "id": "980757e2",
   "metadata": {
    "slideshow": {
     "slide_type": "slide"
    }
   },
   "source": [
    "# More examples with `while`"
   ]
  },
  {
   "cell_type": "markdown",
   "id": "6692d7dc",
   "metadata": {
    "slideshow": {
     "slide_type": "fragment"
    }
   },
   "source": [
    "But what if we want to do something over and over again until something happens? For example, what if we want to write a program that counts down from 5 to 1?"
   ]
  },
  {
   "cell_type": "code",
   "execution_count": 20,
   "id": "2a5de9af",
   "metadata": {
    "slideshow": {
     "slide_type": "fragment"
    }
   },
   "outputs": [
    {
     "name": "stdout",
     "output_type": "stream",
     "text": [
      "5\n",
      "4\n",
      "3\n",
      "2\n",
      "1\n",
      "0\n",
      "Blast off!\n"
     ]
    }
   ],
   "source": [
    "counter = 5\n",
    "\n",
    "print(counter)\n",
    "counter = counter - 1\n",
    "print(counter)\n",
    "counter = counter - 1\n",
    "print(counter)\n",
    "counter = counter - 1\n",
    "print(counter)\n",
    "counter = counter - 1\n",
    "print(counter)\n",
    "counter = counter - 1\n",
    "print(counter)\n",
    "\n",
    "print('Blast off!')"
   ]
  },
  {
   "cell_type": "markdown",
   "id": "1d8dfd69",
   "metadata": {
    "slideshow": {
     "slide_type": "slide"
    }
   },
   "source": [
    "This code has a lot of repeating parts, and isn't easy to edit later. What if we wanted to count down to zero? What if we wanted to count down by 2's instead of 1's? With a while loop, we can make our count down code much shorter:"
   ]
  },
  {
   "cell_type": "code",
   "execution_count": 21,
   "id": "db1087cd",
   "metadata": {
    "slideshow": {
     "slide_type": "fragment"
    }
   },
   "outputs": [
    {
     "name": "stdout",
     "output_type": "stream",
     "text": [
      "5\n",
      "4\n",
      "3\n",
      "2\n",
      "1\n",
      "0\n",
      "Blast off!\n"
     ]
    }
   ],
   "source": [
    "counter = 5\n",
    "\n",
    "while (counter >= 0):\n",
    "    print(counter)\n",
    "    counter = counter - 1\n",
    "\n",
    "print('Blast off!')"
   ]
  },
  {
   "cell_type": "markdown",
   "id": "f5f52fd8",
   "metadata": {
    "slideshow": {
     "slide_type": "slide"
    }
   },
   "source": [
    "A while loop checks a condition, like our (counter >= 0). If the condition is True, the while loop will run the block of code that prints the counter and subtracts one. If the condition is not True (or False), the while loop won't run."
   ]
  },
  {
   "cell_type": "code",
   "execution_count": 22,
   "id": "6029fd37",
   "metadata": {
    "slideshow": {
     "slide_type": "fragment"
    }
   },
   "outputs": [],
   "source": [
    "number = 27\n",
    "\n",
    "while (number < 10):\n",
    "    # This won't print because number isn't < 10\n",
    "    print('The number is still small')\n",
    "    number = number + 1"
   ]
  },
  {
   "cell_type": "markdown",
   "id": "3c1cf717",
   "metadata": {
    "slideshow": {
     "slide_type": "fragment"
    }
   },
   "source": [
    "🤔 Tell me in your own words... why is it not running?"
   ]
  },
  {
   "cell_type": "markdown",
   "id": "cbba846c",
   "metadata": {
    "slideshow": {
     "slide_type": "slide"
    }
   },
   "source": [
    "# Exercise"
   ]
  },
  {
   "cell_type": "code",
   "execution_count": null,
   "id": "b43c0113",
   "metadata": {
    "slideshow": {
     "slide_type": "fragment"
    }
   },
   "outputs": [],
   "source": [
    "# Complete the program below to add up each number from 1 to 20:\n",
    "\n",
    "current_number = 1\n",
    "total = 0\n",
    "\n",
    "# Fill in the code below\n",
    "while _____:\n",
    "    total = _____\n",
    "    current_number = ____\n",
    "    \n",
    "print('Sum of numbers from 1 to 20:', total)"
   ]
  },
  {
   "cell_type": "code",
   "execution_count": 23,
   "id": "8ddb74f2",
   "metadata": {
    "slideshow": {
     "slide_type": "slide"
    }
   },
   "outputs": [
    {
     "name": "stdout",
     "output_type": "stream",
     "text": [
      "Sum of numbers from 1 to 20: 210\n"
     ]
    }
   ],
   "source": [
    "# SOLUTION\n",
    "\n",
    "current_number = 1\n",
    "total = 0\n",
    "\n",
    "while current_number <= 20:\n",
    "    total = total + current_number\n",
    "    current_number = current_number + 1\n",
    "    \n",
    "print('Sum of numbers from 1 to 20:', total)"
   ]
  },
  {
   "cell_type": "markdown",
   "id": "d1445401",
   "metadata": {
    "slideshow": {
     "slide_type": "slide"
    }
   },
   "source": [
    "# More examples with `for`"
   ]
  },
  {
   "cell_type": "code",
   "execution_count": 24,
   "id": "23b00747",
   "metadata": {
    "slideshow": {
     "slide_type": "fragment"
    }
   },
   "outputs": [],
   "source": [
    "french_to_english = {\n",
    "    \"mes\": \"my\",\n",
    "    \"chères\": \"dear\",\n",
    "    \"amies\": \"friends\"\n",
    "}\n",
    "\n",
    "# Add \"bonjour\" and \"hello\" to the dictionary\n",
    "french_to_english['bonjour'] = \"hello\"\n",
    "\n",
    "# Translate \n",
    "french_text = \"bonjour mes chères amies\"\n",
    "# english_text = "
   ]
  },
  {
   "cell_type": "code",
   "execution_count": 25,
   "id": "80389190",
   "metadata": {
    "slideshow": {
     "slide_type": "fragment"
    }
   },
   "outputs": [
    {
     "data": {
      "text/plain": [
       "'hello my dear friends'"
      ]
     },
     "execution_count": 25,
     "metadata": {},
     "output_type": "execute_result"
    }
   ],
   "source": [
    "french_text = french_text.split()\n",
    "french_to_english[french_text[0]] + \" \" + french_to_english[french_text[1]] + \" \" + french_to_english[french_text[2]] + \" \" + french_to_english[french_text[3]] \n",
    "'hello my dear friends'"
   ]
  },
  {
   "cell_type": "markdown",
   "id": "c2ebc86a",
   "metadata": {
    "slideshow": {
     "slide_type": "slide"
    }
   },
   "source": [
    "This code has a lot of repeating parts, and isn't easy to edit later"
   ]
  },
  {
   "cell_type": "code",
   "execution_count": 29,
   "id": "2a773bda",
   "metadata": {
    "slideshow": {
     "slide_type": "fragment"
    }
   },
   "outputs": [
    {
     "name": "stdout",
     "output_type": "stream",
     "text": [
      "hello my dear friends "
     ]
    }
   ],
   "source": [
    "for word in french_text:\n",
    "    print(french_to_english[word], end =\" \")"
   ]
  },
  {
   "cell_type": "markdown",
   "id": "ed4ab5a9",
   "metadata": {
    "slideshow": {
     "slide_type": "slide"
    }
   },
   "source": [
    "If a list doesn't have any values in it, the for loop won't run anything"
   ]
  },
  {
   "cell_type": "code",
   "execution_count": 30,
   "id": "b2fbabfe",
   "metadata": {
    "slideshow": {
     "slide_type": "fragment"
    }
   },
   "outputs": [],
   "source": [
    "empty_list = []\n",
    "\n",
    "# Because empty_list is empty, nothing will happen when you run this code\n",
    "for item in empty_list:\n",
    "    print('There was an item! It is', item)"
   ]
  },
  {
   "cell_type": "markdown",
   "id": "ab6a864a",
   "metadata": {
    "slideshow": {
     "slide_type": "slide"
    }
   },
   "source": [
    "# Exercise"
   ]
  },
  {
   "cell_type": "code",
   "execution_count": null,
   "id": "85f68384",
   "metadata": {
    "slideshow": {
     "slide_type": "fragment"
    }
   },
   "outputs": [],
   "source": [
    "# Fill in the code below to write a for loop that will add up every number in a list. \n",
    "# For example, if numbers = [1, 2, 3], then the total sum will be 6.\n",
    "\n",
    "numbers = [3, 6, 8, 7, 1, 2]\n",
    "total = 0\n",
    "\n",
    "# Replace the underscores with a variable name that you want\n",
    "# to use for each number\n",
    "for _____ in numbers:\n",
    "    total = total + _____\n",
    "    \n",
    "print('Sum of the numbers:', total)"
   ]
  },
  {
   "cell_type": "markdown",
   "id": "8ea46873",
   "metadata": {
    "slideshow": {
     "slide_type": "slide"
    }
   },
   "source": [
    "# ⏪ Today's recap\n",
    "\n",
    "- Loops\n",
    "    - `for`: Used to repeat code for a fixed number of times\n",
    "    - `while`: Used to repeat code until a condition is met\n",
    "    \n",
    "- Loops are important because they help us do less work!"
   ]
  },
  {
   "cell_type": "markdown",
   "id": "ba820ff4",
   "metadata": {
    "slideshow": {
     "slide_type": "fragment"
    }
   },
   "source": [
    "# Practice lab: https://docs.google.com/document/d/1jE-pII7_q8ZIESF0xeI61ot8PZPrU6WHdUiOD0xUpiQ/edit"
   ]
  },
  {
   "cell_type": "markdown",
   "id": "eed5deef",
   "metadata": {
    "slideshow": {
     "slide_type": "slide"
    }
   },
   "source": [
    "# Challenge 💪\n",
    "\n",
    "We're going to continue adding some code to our program that keeps track of homework scores. We want our program to find out what the highest score for the class was.\n",
    "\n",
    "Write a program that loops through every score in the list. Your program should first set a variable for the highest score to 0. Then, for each score, your program should figure out whether the score is greater than the highest score. If it is, then set the highest score to the current score in the loop. At the end, you should print the highest score."
   ]
  },
  {
   "cell_type": "code",
   "execution_count": 34,
   "id": "f38acca1",
   "metadata": {
    "slideshow": {
     "slide_type": "fragment"
    }
   },
   "outputs": [
    {
     "ename": "SyntaxError",
     "evalue": "invalid syntax (1296400938.py, line 1)",
     "output_type": "error",
     "traceback": [
      "\u001b[0;36m  File \u001b[0;32m\"/var/folders/n7/q93jwpcs6jndz6qqvj4mhtcm0000gn/T/ipykernel_8256/1296400938.py\"\u001b[0;36m, line \u001b[0;32m1\u001b[0m\n\u001b[0;31m    scores = [93, 94, 83, 63, 84 98, 90, 98, 79, 87 73, 96, 61, 86, 88 54, 70, 74, 77, 74]\u001b[0m\n\u001b[0m                                 ^\u001b[0m\n\u001b[0;31mSyntaxError\u001b[0m\u001b[0;31m:\u001b[0m invalid syntax\n"
     ]
    }
   ],
   "source": [
    "scores = [93, 94, 83, 63, 84 98, 90, 98, 79, 87 73, 96, 61, 86, 88 54, 70, 74, 77, 74]\n",
    "\n",
    "# Set the highest score to 0\n",
    "\n",
    "\n",
    "# Loop through each score\n",
    "#    If the score is greater than the highest score, update the highest score\n",
    "\n",
    "\n",
    "# Print the highest score"
   ]
  },
  {
   "cell_type": "markdown",
   "id": "c3c47662",
   "metadata": {
    "slideshow": {
     "slide_type": "slide"
    }
   },
   "source": [
    "<center><img src='img/bye.gif' style='height:250px;'></center> \n",
    "\n",
    "# Next class: Comprehension lists\n",
    "# See you next Monday!"
   ]
  }
 ],
 "metadata": {
  "celltoolbar": "Slideshow",
  "kernelspec": {
   "display_name": "Python 3 (ipykernel)",
   "language": "python",
   "name": "python3"
  },
  "language_info": {
   "codemirror_mode": {
    "name": "ipython",
    "version": 3
   },
   "file_extension": ".py",
   "mimetype": "text/x-python",
   "name": "python",
   "nbconvert_exporter": "python",
   "pygments_lexer": "ipython3",
   "version": "3.9.13"
  }
 },
 "nbformat": 4,
 "nbformat_minor": 5
}
