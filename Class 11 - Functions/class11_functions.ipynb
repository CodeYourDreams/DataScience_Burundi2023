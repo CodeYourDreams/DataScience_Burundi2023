{
 "cells": [
  {
   "cell_type": "markdown",
   "id": "674ac2a7",
   "metadata": {
    "slideshow": {
     "slide_type": "slide"
    }
   },
   "source": [
    "# We'll start soon! \n",
    "\n",
    "Waiting for others to join the call :)\n",
    "\n",
    "https://www.youtube.com/watch?v=G13xad3mrJc&t=957s&ab_channel=DeepWavesMusic"
   ]
  },
  {
   "cell_type": "markdown",
   "id": "843e46f7",
   "metadata": {
    "slideshow": {
     "slide_type": "slide"
    }
   },
   "source": [
    "<center><img src='img/cdy.png' style='width:500px; float: left; margin: 0px 30px 15px 0px'></center>\n",
    "\n",
    "# Functions\n",
    "## Class 11 - Data Science Curriculum \n",
    "\n",
    "<br>\n",
    "\n",
    "#### Women Building Change scholarship program 2023 🇧🇮\n",
    "March 23, 2023\n",
    "\n",
    "\n",
    "\n"
   ]
  },
  {
   "cell_type": "markdown",
   "id": "48500da2",
   "metadata": {
    "slideshow": {
     "slide_type": "slide"
    }
   },
   "source": [
    "# Recap last class\n",
    "\n",
    "- List comprehension\n",
    "\n",
    "```python\n",
    "\n",
    "[expression for element in list]\n",
    "```"
   ]
  },
  {
   "cell_type": "markdown",
   "id": "82476939",
   "metadata": {
    "slideshow": {
     "slide_type": "slide"
    }
   },
   "source": [
    "# 🚀 Today's agenda\n",
    "\n",
    "- Functions"
   ]
  },
  {
   "cell_type": "markdown",
   "id": "d7c97442",
   "metadata": {
    "slideshow": {
     "slide_type": "slide"
    }
   },
   "source": [
    "# Google Colab: https://colab.research.google.com/\n",
    "\n",
    "<br>\n",
    "<center><img src='img/superhero.gif' style='height:350px; float: center; margin: 0px 30px 15px 0px'></center>\n",
    "\n"
   ]
  },
  {
   "cell_type": "markdown",
   "id": "44aa29f4",
   "metadata": {
    "slideshow": {
     "slide_type": "slide"
    }
   },
   "source": [
    "# 🏋🏿‍♀️ Coding Warmup "
   ]
  },
  {
   "cell_type": "markdown",
   "id": "e1c5be0c",
   "metadata": {
    "slideshow": {
     "slide_type": "fragment"
    }
   },
   "source": [
    "Imagine you're a farm owner and you have a list of animals to check. "
   ]
  },
  {
   "cell_type": "code",
   "execution_count": 3,
   "id": "3cec3d03",
   "metadata": {
    "slideshow": {
     "slide_type": "fragment"
    }
   },
   "outputs": [
    {
     "name": "stdout",
     "output_type": "stream",
     "text": [
      "The cow is ready to be checked!\n",
      "The sheep is ready to be checked!\n",
      "The pig is ready to be checked!\n",
      "The bull is ready to be checked!\n",
      "The hen is ready to be checked!\n",
      "The horse is ready to be checked!\n",
      "The dog is ready to be checked!\n"
     ]
    }
   ],
   "source": [
    "animals = [\"cow\", \"sheep\", \"pig\", \"bull\", \"hen\", \"horse\", \"dog\"]\n",
    "print(\"The\", animals[0], \"is ready to be checked!\")\n",
    "print(\"The\", animals[1], \"is ready to be checked!\")\n",
    "print(\"The\", animals[2], \"is ready to be checked!\")\n",
    "print(\"The\", animals[3], \"is ready to be checked!\")\n",
    "print(\"The\", animals[4], \"is ready to be checked!\")\n",
    "print(\"The\", animals[5], \"is ready to be checked!\")\n",
    "print(\"The\", animals[6], \"is ready to be checked!\")"
   ]
  },
  {
   "cell_type": "markdown",
   "id": "4e44279b",
   "metadata": {
    "slideshow": {
     "slide_type": "fragment"
    }
   },
   "source": [
    "Imagine if you had to do this a 100 times or a 1,000 times!"
   ]
  },
  {
   "cell_type": "code",
   "execution_count": 4,
   "id": "8e57a77c",
   "metadata": {
    "slideshow": {
     "slide_type": "fragment"
    }
   },
   "outputs": [
    {
     "name": "stdout",
     "output_type": "stream",
     "text": [
      "The cow is ready to be checked!\n",
      "The sheep is ready to be checked!\n",
      "The pig is ready to be checked!\n",
      "The bull is ready to be checked!\n",
      "The hen is ready to be checked!\n",
      "The horse is ready to be checked!\n",
      "The dog is ready to be checked!\n"
     ]
    }
   ],
   "source": [
    "for animal in animals:\n",
    "    print(f\"The {animal} is ready to be checked!\")"
   ]
  },
  {
   "cell_type": "code",
   "execution_count": 6,
   "id": "b37473e6",
   "metadata": {
    "slideshow": {
     "slide_type": "fragment"
    }
   },
   "outputs": [
    {
     "data": {
      "text/plain": [
       "['The cow is ready to be checked!',\n",
       " 'The sheep is ready to be checked!',\n",
       " 'The pig is ready to be checked!',\n",
       " 'The bull is ready to be checked!',\n",
       " 'The hen is ready to be checked!',\n",
       " 'The horse is ready to be checked!',\n",
       " 'The dog is ready to be checked!']"
      ]
     },
     "execution_count": 6,
     "metadata": {},
     "output_type": "execute_result"
    }
   ],
   "source": [
    "[f\"The {animal} is ready to be checked!\" for animal in animals]"
   ]
  },
  {
   "cell_type": "markdown",
   "id": "b3200614",
   "metadata": {
    "slideshow": {
     "slide_type": "slide"
    }
   },
   "source": [
    "# ✨ Functions\n",
    "\n",
    "- Functions are chunks of code that you can use over and over again, rather than writing it out multiple times (makes your life easier!)\n"
   ]
  },
  {
   "cell_type": "markdown",
   "id": "1e63f514",
   "metadata": {
    "slideshow": {
     "slide_type": "fragment"
    }
   },
   "source": [
    "#### Ingredients of a function:\n",
    "\n",
    "- Input (parameters)\n"
   ]
  },
  {
   "cell_type": "markdown",
   "id": "3e8345fb",
   "metadata": {
    "slideshow": {
     "slide_type": "fragment"
    }
   },
   "source": [
    "- A name"
   ]
  },
  {
   "cell_type": "markdown",
   "id": "52b95bcf",
   "metadata": {
    "slideshow": {
     "slide_type": "fragment"
    }
   },
   "source": [
    "- Stuff it does"
   ]
  },
  {
   "cell_type": "markdown",
   "id": "62a414dd",
   "metadata": {
    "slideshow": {
     "slide_type": "fragment"
    }
   },
   "source": [
    "- Output (return values)"
   ]
  },
  {
   "cell_type": "markdown",
   "id": "593647d0",
   "metadata": {
    "slideshow": {
     "slide_type": "slide"
    }
   },
   "source": [
    "<br>\n",
    "<center><img src='img/functions.png' style='height:650px; float: center; margin: 0px 30px 15px 0px'></center>\n",
    "\n",
    "\n"
   ]
  },
  {
   "cell_type": "markdown",
   "id": "d9a909a0",
   "metadata": {
    "slideshow": {
     "slide_type": "slide"
    }
   },
   "source": [
    "# Coding example"
   ]
  },
  {
   "cell_type": "code",
   "execution_count": 7,
   "id": "e91891c7",
   "metadata": {
    "slideshow": {
     "slide_type": "fragment"
    }
   },
   "outputs": [],
   "source": [
    "def say_hello(name):\n",
    "    print(f\"Hello {name}\")"
   ]
  },
  {
   "cell_type": "code",
   "execution_count": 8,
   "id": "45542bd3",
   "metadata": {
    "slideshow": {
     "slide_type": "fragment"
    }
   },
   "outputs": [
    {
     "name": "stdout",
     "output_type": "stream",
     "text": [
      "Hello Jessica\n"
     ]
    }
   ],
   "source": [
    "say_hello(\"Jessica\")"
   ]
  },
  {
   "cell_type": "code",
   "execution_count": 9,
   "id": "4df1732a",
   "metadata": {
    "slideshow": {
     "slide_type": "fragment"
    }
   },
   "outputs": [],
   "source": [
    "def add_5(num):\n",
    "    return num+5"
   ]
  },
  {
   "cell_type": "code",
   "execution_count": 10,
   "id": "9a4c66a7",
   "metadata": {
    "slideshow": {
     "slide_type": "fragment"
    }
   },
   "outputs": [
    {
     "data": {
      "text/plain": [
       "7"
      ]
     },
     "execution_count": 10,
     "metadata": {},
     "output_type": "execute_result"
    }
   ],
   "source": [
    "add_5(2)"
   ]
  },
  {
   "cell_type": "markdown",
   "id": "55b8949d",
   "metadata": {
    "slideshow": {
     "slide_type": "slide"
    }
   },
   "source": [
    "# Print vs Return"
   ]
  },
  {
   "cell_type": "code",
   "execution_count": 12,
   "id": "a342370b",
   "metadata": {
    "slideshow": {
     "slide_type": "fragment"
    }
   },
   "outputs": [
    {
     "name": "stdout",
     "output_type": "stream",
     "text": [
      "Hello Abby\n"
     ]
    }
   ],
   "source": [
    "hello_abby = say_hello(\"Abby\")\n",
    "three_plus_5 = add_5(3)"
   ]
  },
  {
   "cell_type": "code",
   "execution_count": 13,
   "id": "4a08898d",
   "metadata": {
    "slideshow": {
     "slide_type": "fragment"
    }
   },
   "outputs": [],
   "source": [
    "hello_abby"
   ]
  },
  {
   "cell_type": "code",
   "execution_count": 14,
   "id": "d61438fc",
   "metadata": {
    "slideshow": {
     "slide_type": "fragment"
    }
   },
   "outputs": [
    {
     "data": {
      "text/plain": [
       "8"
      ]
     },
     "execution_count": 14,
     "metadata": {},
     "output_type": "execute_result"
    }
   ],
   "source": [
    "three_plus_5"
   ]
  },
  {
   "cell_type": "markdown",
   "id": "b62025eb",
   "metadata": {
    "slideshow": {
     "slide_type": "slide"
    }
   },
   "source": [
    "# Example\n",
    "\n",
    "Not all functions need to take in an argument to work. The function say_dream, for instance, needs no input argument and is still able to print the word \"Dream!\""
   ]
  },
  {
   "cell_type": "code",
   "execution_count": 15,
   "id": "32923e7d",
   "metadata": {
    "slideshow": {
     "slide_type": "fragment"
    }
   },
   "outputs": [],
   "source": [
    "def say_dream():\n",
    "    '''\n",
    "    Prints out Dream! onto the console\n",
    "    '''\n",
    "    print(\"Dream!\")"
   ]
  },
  {
   "cell_type": "code",
   "execution_count": 16,
   "id": "d0b9bc92",
   "metadata": {
    "slideshow": {
     "slide_type": "fragment"
    }
   },
   "outputs": [
    {
     "data": {
      "text/plain": [
       "<function __main__.say_dream()>"
      ]
     },
     "execution_count": 16,
     "metadata": {},
     "output_type": "execute_result"
    }
   ],
   "source": [
    "say_dream"
   ]
  },
  {
   "cell_type": "code",
   "execution_count": 17,
   "id": "457bfce9",
   "metadata": {
    "slideshow": {
     "slide_type": "fragment"
    }
   },
   "outputs": [
    {
     "name": "stdout",
     "output_type": "stream",
     "text": [
      "Dream!\n"
     ]
    }
   ],
   "source": [
    "say_dream()"
   ]
  },
  {
   "cell_type": "markdown",
   "id": "640e88fe",
   "metadata": {
    "slideshow": {
     "slide_type": "slide"
    }
   },
   "source": [
    "# Exercise\n",
    "\n",
    "Create a function named even_odd that takes in 1 parameter and prints whether the input is even or odd"
   ]
  },
  {
   "cell_type": "code",
   "execution_count": 18,
   "id": "091772a8",
   "metadata": {
    "slideshow": {
     "slide_type": "fragment"
    }
   },
   "outputs": [],
   "source": [
    "def even_odd(num):\n",
    "    if num % 2 == 0:\n",
    "        print(f\"{num} is even\")\n",
    "    else:\n",
    "        print(f\"{num} is odd\")"
   ]
  },
  {
   "cell_type": "code",
   "execution_count": 20,
   "id": "02e95ac5",
   "metadata": {
    "slideshow": {
     "slide_type": "fragment"
    }
   },
   "outputs": [
    {
     "name": "stdout",
     "output_type": "stream",
     "text": [
      "5 is odd\n"
     ]
    }
   ],
   "source": [
    "even_odd(5)"
   ]
  },
  {
   "cell_type": "markdown",
   "id": "d6caff80",
   "metadata": {
    "slideshow": {
     "slide_type": "slide"
    }
   },
   "source": [
    "# Exercise\n",
    "\n",
    "Create a function named dream_big that takes in two parameters: name and country. Make the function print:\n",
    "\n",
    "\"I am (name) and I am from (country), and I dream big!\"\n",
    "\n",
    "Call the function with your desired inputs to make sure it works."
   ]
  },
  {
   "cell_type": "code",
   "execution_count": 21,
   "id": "fd958c68",
   "metadata": {
    "slideshow": {
     "slide_type": "fragment"
    }
   },
   "outputs": [],
   "source": [
    "def dream_big(name, country):\n",
    "    print(f\"I am {name} and I am from {country}, and I dream big!\")"
   ]
  },
  {
   "cell_type": "code",
   "execution_count": 22,
   "id": "9ad47647",
   "metadata": {
    "slideshow": {
     "slide_type": "fragment"
    }
   },
   "outputs": [
    {
     "name": "stdout",
     "output_type": "stream",
     "text": [
      "I am Viviana and I am from Colombia, and I dream big!\n"
     ]
    }
   ],
   "source": [
    "dream_big(\"Viviana\", \"Colombia\")"
   ]
  },
  {
   "cell_type": "markdown",
   "id": "032d5460",
   "metadata": {
    "slideshow": {
     "slide_type": "slide"
    }
   },
   "source": [
    "# Exercise\n",
    "\n",
    "Create a function named area_circle that takes in the radius and returns the area of a circle\n",
    "\n",
    "$$A = \\pi r^2$$"
   ]
  },
  {
   "cell_type": "code",
   "execution_count": 25,
   "id": "9f4f8be4",
   "metadata": {
    "slideshow": {
     "slide_type": "fragment"
    }
   },
   "outputs": [],
   "source": [
    "def area_circle(r):\n",
    "    a = 3.14159 * r ** 2\n",
    "    print(f\"The area of a circle with radius {r} is {a}\")"
   ]
  },
  {
   "cell_type": "code",
   "execution_count": 26,
   "id": "eb273235",
   "metadata": {
    "slideshow": {
     "slide_type": "fragment"
    }
   },
   "outputs": [
    {
     "name": "stdout",
     "output_type": "stream",
     "text": [
      "The area of a circle with radius 10 is 314.159\n"
     ]
    }
   ],
   "source": [
    "area_circle(10)"
   ]
  },
  {
   "cell_type": "markdown",
   "id": "ccda3488",
   "metadata": {
    "slideshow": {
     "slide_type": "slide"
    }
   },
   "source": [
    "# Exercise\n",
    "\n",
    "Say we wanted to find out if someone was age eligible for a program we are implementing. Let's create a function named age_req that determines if a given participant's age is between 13 - 17 years."
   ]
  },
  {
   "cell_type": "code",
   "execution_count": 27,
   "id": "375a1092",
   "metadata": {
    "slideshow": {
     "slide_type": "fragment"
    }
   },
   "outputs": [],
   "source": [
    "def age_req(age):\n",
    "    if age >= 13 and age <= 17:\n",
    "        return True\n",
    "    else:\n",
    "        return False"
   ]
  },
  {
   "cell_type": "code",
   "execution_count": 28,
   "id": "19371b31",
   "metadata": {
    "slideshow": {
     "slide_type": "fragment"
    }
   },
   "outputs": [
    {
     "data": {
      "text/plain": [
       "False"
      ]
     },
     "execution_count": 28,
     "metadata": {},
     "output_type": "execute_result"
    }
   ],
   "source": [
    "age_req(9)"
   ]
  },
  {
   "cell_type": "code",
   "execution_count": 29,
   "id": "c7ea30c8",
   "metadata": {
    "slideshow": {
     "slide_type": "fragment"
    }
   },
   "outputs": [],
   "source": [
    "def age_req(age):\n",
    "    return age >= 13 and age <= 17"
   ]
  },
  {
   "cell_type": "code",
   "execution_count": 30,
   "id": "4acfd25d",
   "metadata": {
    "slideshow": {
     "slide_type": "fragment"
    }
   },
   "outputs": [
    {
     "data": {
      "text/plain": [
       "False"
      ]
     },
     "execution_count": 30,
     "metadata": {},
     "output_type": "execute_result"
    }
   ],
   "source": [
    "age_req(9)"
   ]
  },
  {
   "cell_type": "markdown",
   "id": "8ea46873",
   "metadata": {
    "slideshow": {
     "slide_type": "slide"
    }
   },
   "source": [
    "# 🔔 5 minute break. See you here @"
   ]
  },
  {
   "cell_type": "markdown",
   "id": "89804c5d",
   "metadata": {
    "slideshow": {
     "slide_type": "slide"
    }
   },
   "source": [
    "# Count how many `a`s are in these names"
   ]
  },
  {
   "cell_type": "code",
   "execution_count": 31,
   "id": "4bedc3f7",
   "metadata": {
    "slideshow": {
     "slide_type": "fragment"
    }
   },
   "outputs": [],
   "source": [
    "names = [\"Nella\", \"Gaga\", \"Christella\", \"Elise\", \"Micka\", \"Ineza\", \"Yasmina\", \"Santiana\"]"
   ]
  },
  {
   "cell_type": "code",
   "execution_count": 37,
   "id": "b73fcb7b",
   "metadata": {
    "slideshow": {
     "slide_type": "fragment"
    }
   },
   "outputs": [
    {
     "name": "stdout",
     "output_type": "stream",
     "text": [
      "1\n"
     ]
    }
   ],
   "source": [
    "count = 0\n",
    "for letter in names[0]:\n",
    "    if letter == \"a\":\n",
    "        count = count + 1\n",
    "print(count)"
   ]
  },
  {
   "cell_type": "code",
   "execution_count": 40,
   "id": "417581b7",
   "metadata": {
    "slideshow": {
     "slide_type": "fragment"
    }
   },
   "outputs": [
    {
     "name": "stdout",
     "output_type": "stream",
     "text": [
      "Nella 1\n",
      "Gaga 2\n",
      "Christella 1\n",
      "Elise 0\n",
      "Micka 1\n",
      "Ineza 1\n",
      "Yasmina 2\n",
      "Santiana 3\n"
     ]
    }
   ],
   "source": [
    "for name in names:\n",
    "    count = 0\n",
    "    for letter in name:\n",
    "        if letter == \"a\":\n",
    "            count = count + 1\n",
    "    print(name, count)"
   ]
  },
  {
   "cell_type": "code",
   "execution_count": 41,
   "id": "d7a39154",
   "metadata": {
    "slideshow": {
     "slide_type": "fragment"
    }
   },
   "outputs": [],
   "source": [
    "def count_a(name):\n",
    "    count = 0\n",
    "    for letter in name:\n",
    "        if letter == \"a\":\n",
    "            count = count + 1\n",
    "    return count"
   ]
  },
  {
   "cell_type": "code",
   "execution_count": 42,
   "id": "c0389700",
   "metadata": {
    "slideshow": {
     "slide_type": "fragment"
    }
   },
   "outputs": [
    {
     "name": "stdout",
     "output_type": "stream",
     "text": [
      "Nella 1\n",
      "Gaga 2\n",
      "Christella 1\n",
      "Elise 0\n",
      "Micka 1\n",
      "Ineza 1\n",
      "Yasmina 2\n",
      "Santiana 3\n"
     ]
    }
   ],
   "source": [
    "for name in names:\n",
    "    print(f\"{name} {count_a(name)}\")"
   ]
  },
  {
   "cell_type": "code",
   "execution_count": 43,
   "id": "d6fd404d",
   "metadata": {
    "slideshow": {
     "slide_type": "fragment"
    }
   },
   "outputs": [
    {
     "data": {
      "text/plain": [
       "[('Nella', 1),\n",
       " ('Gaga', 2),\n",
       " ('Christella', 1),\n",
       " ('Elise', 0),\n",
       " ('Micka', 1),\n",
       " ('Ineza', 1),\n",
       " ('Yasmina', 2),\n",
       " ('Santiana', 3)]"
      ]
     },
     "execution_count": 43,
     "metadata": {},
     "output_type": "execute_result"
    }
   ],
   "source": [
    "[(name, count_a(name)) for name in names]"
   ]
  },
  {
   "cell_type": "markdown",
   "id": "6040f6b8",
   "metadata": {
    "slideshow": {
     "slide_type": "slide"
    }
   },
   "source": [
    "# More exercises! \n",
    "\n",
    "https://www.w3resource.com/python-exercises/python-functions-exercises.php"
   ]
  },
  {
   "cell_type": "markdown",
   "id": "48abbe5b",
   "metadata": {
    "slideshow": {
     "slide_type": "slide"
    }
   },
   "source": [
    "# ⏪ Today's recap\n",
    "\n",
    "- Functions"
   ]
  },
  {
   "cell_type": "markdown",
   "id": "ba820ff4",
   "metadata": {
    "slideshow": {
     "slide_type": "fragment"
    }
   },
   "source": [
    "# Practice lab\n",
    "\n",
    "https://docs.google.com/document/d/1_F9qzojP8MUKlK1klHZ6B4BrmlucrfSKmnplT85LZfM/edit"
   ]
  },
  {
   "cell_type": "markdown",
   "id": "c3c47662",
   "metadata": {
    "slideshow": {
     "slide_type": "slide"
    }
   },
   "source": [
    "<center><img src='img/bye.gif' style='height:250px;'></center> \n",
    "\n",
    "# Next class: Libraries\n",
    "# See you next Monday!"
   ]
  }
 ],
 "metadata": {
  "celltoolbar": "Slideshow",
  "kernelspec": {
   "display_name": "Python 3 (ipykernel)",
   "language": "python",
   "name": "python3"
  },
  "language_info": {
   "codemirror_mode": {
    "name": "ipython",
    "version": 3
   },
   "file_extension": ".py",
   "mimetype": "text/x-python",
   "name": "python",
   "nbconvert_exporter": "python",
   "pygments_lexer": "ipython3",
   "version": "3.9.13"
  }
 },
 "nbformat": 4,
 "nbformat_minor": 5
}
