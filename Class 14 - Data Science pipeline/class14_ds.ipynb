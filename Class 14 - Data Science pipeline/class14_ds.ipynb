{
 "cells": [
  {
   "cell_type": "markdown",
   "id": "674ac2a7",
   "metadata": {
    "slideshow": {
     "slide_type": "slide"
    }
   },
   "source": [
    "# We'll start at 2:05ish PM \n",
    "\n",
    "Waiting for others to join the call :)\n",
    "\n",
    "https://www.youtube.com/watch?v=M0QyxnFrnP4&ab_channel=Amagabaclub"
   ]
  },
  {
   "cell_type": "markdown",
   "id": "843e46f7",
   "metadata": {
    "slideshow": {
     "slide_type": "slide"
    }
   },
   "source": [
    "<center><img src='img/cdy.png' style='width:500px; float: left; margin: 0px 30px 15px 0px'></center>\n",
    "\n",
    "# Data Science pipeline\n",
    "## Class 14 - Data Science Curriculum \n",
    "\n",
    "<br>\n",
    "\n",
    "#### Women Building Change scholarship program 2023 🇧🇮\n",
    "April 3, 2023\n",
    "\n",
    "\n",
    "\n"
   ]
  },
  {
   "cell_type": "markdown",
   "id": "48500da2",
   "metadata": {
    "slideshow": {
     "slide_type": "slide"
    }
   },
   "source": [
    "# We have officially finished our Python module 🥳"
   ]
  },
  {
   "cell_type": "markdown",
   "id": "a85b7645",
   "metadata": {
    "slideshow": {
     "slide_type": "fragment"
    }
   },
   "source": [
    "# Now we will start with the Data Science module"
   ]
  },
  {
   "cell_type": "markdown",
   "id": "82476939",
   "metadata": {
    "slideshow": {
     "slide_type": "slide"
    }
   },
   "source": [
    "# 🚀 Today's agenda\n",
    "\n",
    "- data science pipeline\n",
    "- how to read: .csv, .txt, .json"
   ]
  },
  {
   "cell_type": "markdown",
   "id": "d7c97442",
   "metadata": {
    "slideshow": {
     "slide_type": "slide"
    }
   },
   "source": [
    "# Google Colab: https://colab.research.google.com/\n",
    "\n",
    "<br>\n",
    "<center><img src='img/girl_coding.jpg' style='height:350px; float: center; margin: 0px 30px 15px 0px'></center>\n",
    "\n"
   ]
  },
  {
   "cell_type": "markdown",
   "id": "2d67e596",
   "metadata": {
    "slideshow": {
     "slide_type": "slide"
    }
   },
   "source": [
    "# ❇️ What is machine learning?\n",
    "\n",
    "\n",
    "<br>\n",
    "<center>\n",
    "<img src='img/ml.jpeg' style='height:500px;'>\n",
    "</center>"
   ]
  },
  {
   "cell_type": "markdown",
   "id": "ebb0843e",
   "metadata": {
    "slideshow": {
     "slide_type": "slide"
    }
   },
   "source": [
    "<img src='img/personal_assistant.jpeg' style='height:600px; float: left; margin: 0px 0px 0px 0px'>\n",
    "\n",
    "<br><br>\n",
    "- Imagine you have a personal assistant\n",
    "- They learn from your behavior and preferences\n",
    "- They may even predict what you might need or want \n"
   ]
  },
  {
   "cell_type": "markdown",
   "id": "86946427",
   "metadata": {
    "slideshow": {
     "slide_type": "slide"
    }
   },
   "source": [
    "## ML in real life: Billions of people use it every day! 🗺️\n",
    "\n",
    "<br>\n",
    "<center>\n",
    "<img src='img/ml_everywhere.webp' style='height:300px;'>\n",
    "</center>"
   ]
  },
  {
   "cell_type": "markdown",
   "id": "fa73a0ab",
   "metadata": {
    "slideshow": {
     "slide_type": "fragment"
    }
   },
   "source": [
    "- Spam filter!"
   ]
  },
  {
   "cell_type": "markdown",
   "id": "18124dc9",
   "metadata": {
    "slideshow": {
     "slide_type": "fragment"
    }
   },
   "source": [
    "- Recommending videos"
   ]
  },
  {
   "cell_type": "markdown",
   "id": "920595e3",
   "metadata": {
    "slideshow": {
     "slide_type": "fragment"
    }
   },
   "source": [
    "- Segment customers and find the best marketing strategy for each group"
   ]
  },
  {
   "cell_type": "markdown",
   "id": "31e3e52a",
   "metadata": {
    "slideshow": {
     "slide_type": "fragment"
    }
   },
   "source": [
    "- Detect which transactions are likely to be fraudulent"
   ]
  },
  {
   "cell_type": "markdown",
   "id": "aef0d338",
   "metadata": {
    "slideshow": {
     "slide_type": "slide"
    }
   },
   "source": [
    "<center>\n",
    "<img src='img/komp2.jpeg' style='height:300px;'>\n",
    "</center>"
   ]
  },
  {
   "cell_type": "markdown",
   "id": "66ff7560",
   "metadata": {
    "slideshow": {
     "slide_type": "slide"
    }
   },
   "source": [
    "# ❇️ Ingredients of a model"
   ]
  },
  {
   "cell_type": "markdown",
   "id": "f6e143af",
   "metadata": {
    "slideshow": {
     "slide_type": "slide"
    }
   },
   "source": [
    "## How do machines learn from data?\n",
    "<br>\n",
    "<center><img src='img/bot.png' style='height:300px;'>\n",
    "</center>\n",
    "\n",
    "Machine Learning involves two key tasks:"
   ]
  },
  {
   "cell_type": "markdown",
   "id": "88a5ec0c",
   "metadata": {
    "slideshow": {
     "slide_type": "fragment"
    }
   },
   "source": [
    "💡 **Representation**: Extracting structure from data through a model"
   ]
  },
  {
   "cell_type": "markdown",
   "id": "08da142e",
   "metadata": {
    "slideshow": {
     "slide_type": "fragment"
    }
   },
   "source": [
    "💡 **Generalization**: Making predictions from data through a model"
   ]
  },
  {
   "cell_type": "markdown",
   "id": "463c8781",
   "metadata": {
    "slideshow": {
     "slide_type": "slide"
    }
   },
   "source": [
    "# Elements of a model in the context of Machine Learning\n",
    "\n",
    "<br>\n",
    "<center><img src='img/iris.png' style='height:300px;'>\n",
    "</center>"
   ]
  },
  {
   "cell_type": "code",
   "execution_count": 1,
   "id": "6c135fbf",
   "metadata": {
    "slideshow": {
     "slide_type": "slide"
    }
   },
   "outputs": [
    {
     "data": {
      "text/html": [
       "<div>\n",
       "<style scoped>\n",
       "    .dataframe tbody tr th:only-of-type {\n",
       "        vertical-align: middle;\n",
       "    }\n",
       "\n",
       "    .dataframe tbody tr th {\n",
       "        vertical-align: top;\n",
       "    }\n",
       "\n",
       "    .dataframe thead th {\n",
       "        text-align: right;\n",
       "    }\n",
       "</style>\n",
       "<table border=\"1\" class=\"dataframe\">\n",
       "  <thead>\n",
       "    <tr style=\"text-align: right;\">\n",
       "      <th></th>\n",
       "      <th>sepal_length</th>\n",
       "      <th>sepal_width</th>\n",
       "      <th>petal_length</th>\n",
       "      <th>petal_width</th>\n",
       "      <th>species</th>\n",
       "    </tr>\n",
       "  </thead>\n",
       "  <tbody>\n",
       "    <tr>\n",
       "      <th>0</th>\n",
       "      <td>5.1</td>\n",
       "      <td>3.5</td>\n",
       "      <td>1.4</td>\n",
       "      <td>0.2</td>\n",
       "      <td>setosa</td>\n",
       "    </tr>\n",
       "    <tr>\n",
       "      <th>1</th>\n",
       "      <td>4.9</td>\n",
       "      <td>3.0</td>\n",
       "      <td>1.4</td>\n",
       "      <td>0.2</td>\n",
       "      <td>setosa</td>\n",
       "    </tr>\n",
       "    <tr>\n",
       "      <th>2</th>\n",
       "      <td>4.7</td>\n",
       "      <td>3.2</td>\n",
       "      <td>1.3</td>\n",
       "      <td>0.2</td>\n",
       "      <td>setosa</td>\n",
       "    </tr>\n",
       "    <tr>\n",
       "      <th>3</th>\n",
       "      <td>4.6</td>\n",
       "      <td>3.1</td>\n",
       "      <td>1.5</td>\n",
       "      <td>0.2</td>\n",
       "      <td>setosa</td>\n",
       "    </tr>\n",
       "    <tr>\n",
       "      <th>4</th>\n",
       "      <td>5.0</td>\n",
       "      <td>3.6</td>\n",
       "      <td>1.4</td>\n",
       "      <td>0.2</td>\n",
       "      <td>setosa</td>\n",
       "    </tr>\n",
       "  </tbody>\n",
       "</table>\n",
       "</div>"
      ],
      "text/plain": [
       "   sepal_length  sepal_width  petal_length  petal_width species\n",
       "0           5.1          3.5           1.4          0.2  setosa\n",
       "1           4.9          3.0           1.4          0.2  setosa\n",
       "2           4.7          3.2           1.3          0.2  setosa\n",
       "3           4.6          3.1           1.5          0.2  setosa\n",
       "4           5.0          3.6           1.4          0.2  setosa"
      ]
     },
     "execution_count": 1,
     "metadata": {},
     "output_type": "execute_result"
    }
   ],
   "source": [
    "import seaborn as sns\n",
    "df = sns.load_dataset('iris')\n",
    "df.head()"
   ]
  },
  {
   "cell_type": "markdown",
   "id": "fbe6d65f",
   "metadata": {
    "slideshow": {
     "slide_type": "fragment"
    }
   },
   "source": [
    "- <b>Model Inputs:</b>\n",
    "Features, Attributes, Predictors, Inputs, Independent Variables, Dimensions, X, probably more..."
   ]
  },
  {
   "cell_type": "markdown",
   "id": "872fd061",
   "metadata": {
    "slideshow": {
     "slide_type": "fragment"
    }
   },
   "source": [
    "- <b>Model Outputs (what you're trying to predict):</b>\n",
    "Target, Response, Output, Dependent Variable, Labels, Y"
   ]
  },
  {
   "cell_type": "markdown",
   "id": "b4b4644d",
   "metadata": {
    "slideshow": {
     "slide_type": "fragment"
    }
   },
   "source": [
    "• **Row of Data (Inputs + Outputs):** Observation, Datapoint, Record, Row"
   ]
  },
  {
   "cell_type": "markdown",
   "id": "1e0233db",
   "metadata": {
    "slideshow": {
     "slide_type": "fragment"
    }
   },
   "source": [
    "• **Labels:** The values on the target variables (in Supervised Learning)"
   ]
  },
  {
   "cell_type": "markdown",
   "id": "ecbe6899",
   "metadata": {
    "slideshow": {
     "slide_type": "slide"
    }
   },
   "source": [
    "# ❇️ Flavors of Machine Learning"
   ]
  },
  {
   "cell_type": "markdown",
   "id": "af73679c",
   "metadata": {
    "slideshow": {
     "slide_type": "slide"
    }
   },
   "source": [
    "### 📝 Types of models in Machine Learning\n",
    "<br>\n",
    "<center><img src='img/dogs.png' style='height:450px; float: center; margin: 0px 0px 0px 0px'>Is it a dog or a muffin?</center>\n",
    "\n",
    "Two questions:\n",
    "\n",
    "- Do we have labels? What type of data do we have?"
   ]
  },
  {
   "cell_type": "markdown",
   "id": "0c82f3a0",
   "metadata": {
    "slideshow": {
     "slide_type": "slide"
    }
   },
   "source": [
    "### First question: Do we have labels?"
   ]
  },
  {
   "cell_type": "markdown",
   "id": "da0c399f",
   "metadata": {
    "slideshow": {
     "slide_type": "fragment"
    }
   },
   "source": [
    "<center><img src='img/supervised_unsupervised.png' style='height:500px; float: center; margin: 0px 0px 0px 0px'></center>\n",
    "\n",
    "- **Supervised** Problems with labels\n",
    "- **Unsupervised** Problems without labels"
   ]
  },
  {
   "cell_type": "markdown",
   "id": "f8f46734",
   "metadata": {
    "slideshow": {
     "slide_type": "slide"
    }
   },
   "source": [
    "#### 👮‍♀️ Pop Quiz: Supervised or unsupervised?\n",
    "\n",
    "- Classify restaurant reviews as positive or negative"
   ]
  },
  {
   "cell_type": "markdown",
   "id": "25b096ea",
   "metadata": {
    "slideshow": {
     "slide_type": "slide"
    }
   },
   "source": [
    "### Second question: What type of data do we have?"
   ]
  },
  {
   "cell_type": "markdown",
   "id": "637030ec",
   "metadata": {
    "slideshow": {
     "slide_type": "fragment"
    }
   },
   "source": [
    "<center><img src='img/clasreg.png' style='height:500px; float: center; margin: 0px 0px 0px 0px'></center>\n",
    "\n",
    "- **Continuous data -> Regression:** Quantitative/numerical information\n",
    "- **Discrete data -> Classification:** Qualitative information"
   ]
  },
  {
   "cell_type": "markdown",
   "id": "58308811",
   "metadata": {
    "slideshow": {
     "slide_type": "slide"
    }
   },
   "source": [
    "#### 👮‍♀️Pop Quiz: Classification or regression?\n",
    "<br>\n",
    "\n",
    "<center><img src='img/pollo.jpg' style='height:500px; float: center; margin: 0px 0px 0px 0px'></center>\n",
    "\n",
    "- Is it a chicken or a dog?"
   ]
  },
  {
   "cell_type": "markdown",
   "id": "c0513c64",
   "metadata": {
    "slideshow": {
     "slide_type": "slide"
    }
   },
   "source": [
    "### First question: Do we have labels?"
   ]
  },
  {
   "cell_type": "markdown",
   "id": "9069a86d",
   "metadata": {
    "slideshow": {
     "slide_type": "fragment"
    }
   },
   "source": [
    "<center><img src='img/ml_map.png' style='height:600px; float: center; margin: 0px 0px 0px 0px'></center>\n",
    "\n",
    "- **Supervised:** Problems with labels\n",
    "- **Unsupervised:** Problems without labels"
   ]
  },
  {
   "cell_type": "markdown",
   "id": "498b1d2b",
   "metadata": {
    "slideshow": {
     "slide_type": "slide"
    }
   },
   "source": [
    "### Second question: What type of data do we have?"
   ]
  },
  {
   "cell_type": "markdown",
   "id": "643a0e8c",
   "metadata": {
    "slideshow": {
     "slide_type": "fragment"
    }
   },
   "source": [
    "<center><img src='img/ml_map2.png' style='height:600px; float: center; margin: 0px 0px 0px 0px'></center>\n",
    "\n",
    "- **Continuous data -> Regression:** Quantitative/numerical information\n",
    "- **Discrete data -> Classification:** Qualitative information"
   ]
  },
  {
   "cell_type": "markdown",
   "id": "81e8f43c",
   "metadata": {
    "slideshow": {
     "slide_type": "slide"
    }
   },
   "source": [
    "# 🤔 Is this email spam or not?"
   ]
  },
  {
   "cell_type": "markdown",
   "id": "d9214204",
   "metadata": {
    "slideshow": {
     "slide_type": "fragment"
    }
   },
   "source": [
    "<center><img src='img/classification.png' style='height:600px; float: center; margin: 0px 0px 0px 0px'></center>"
   ]
  },
  {
   "cell_type": "markdown",
   "id": "6972aa22",
   "metadata": {
    "slideshow": {
     "slide_type": "slide"
    }
   },
   "source": [
    "# Break time, see you here in 5 minutes! 2:58 PM"
   ]
  },
  {
   "cell_type": "markdown",
   "id": "03ae58b9",
   "metadata": {
    "slideshow": {
     "slide_type": "slide"
    }
   },
   "source": [
    "# ❇️ Machine Learning workflow: End-to-End ML Project"
   ]
  },
  {
   "cell_type": "markdown",
   "id": "89f5697d",
   "metadata": {
    "slideshow": {
     "slide_type": "slide"
    }
   },
   "source": [
    "## Roadmap: Life of a ML model\n",
    "\n",
    "<br>\n",
    "<center>\n",
    "<img src='img/pipeline.png' style='height:500px;'>\n",
    "</center>"
   ]
  },
  {
   "cell_type": "markdown",
   "id": "994776c0",
   "metadata": {
    "slideshow": {
     "slide_type": "slide"
    }
   },
   "source": [
    "# As a data professional, you'll have a toolbox...\n",
    "<br>\n",
    "<center>\n",
    "<img src='img/bob.jpeg' style='height:400px;'> \n",
    "</center>"
   ]
  },
  {
   "cell_type": "markdown",
   "id": "fe781589",
   "metadata": {
    "slideshow": {
     "slide_type": "slide"
    }
   },
   "source": [
    "# 🗺️📍 Guide map \n",
    "\n",
    "<center>\n",
    "    <img src='img/ml_map2.png' style='height:450px; float: center; margin: 0px 0px 0px 0px'>\n",
    "    <img src='img/pipeline.png' style='height:350px;'>\n",
    "</center>\n",
    "    \n",
    "\n"
   ]
  },
  {
   "cell_type": "markdown",
   "id": "62ef5b5f",
   "metadata": {
    "slideshow": {
     "slide_type": "slide"
    }
   },
   "source": [
    "## Getting data\n",
    "\n",
    "<br>\n",
    "<center>\n",
    "<img src='img/pipeline_EDA.png' style='height:500px;'>\n",
    "</center>"
   ]
  },
  {
   "cell_type": "markdown",
   "id": "2caf311e",
   "metadata": {
    "slideshow": {
     "slide_type": "slide"
    }
   },
   "source": [
    "# Most common file types\n",
    "\n",
    "- csv (comma separated values)\n",
    "- txt\n",
    "- json"
   ]
  },
  {
   "cell_type": "markdown",
   "id": "f49c5b64",
   "metadata": {
    "slideshow": {
     "slide_type": "slide"
    }
   },
   "source": [
    "## TXT files"
   ]
  },
  {
   "cell_type": "code",
   "execution_count": 4,
   "id": "35e5d885",
   "metadata": {
    "slideshow": {
     "slide_type": "fragment"
    }
   },
   "outputs": [],
   "source": [
    "with open(\"data/poem.txt\", encoding='utf-8') as file:\n",
    "    data = file.read()"
   ]
  },
  {
   "cell_type": "code",
   "execution_count": 6,
   "id": "e81af0b3",
   "metadata": {
    "slideshow": {
     "slide_type": "fragment"
    }
   },
   "outputs": [
    {
     "name": "stdout",
     "output_type": "stream",
     "text": [
      "Je me souviens de toi\n",
      "KETTY NIVYABANDI\n",
      "\n",
      "Je me souviens de toi\n",
      "Une étincelle qui déchire la nuit bleue\n",
      "Des semences qui cherchent les cieux\n",
      "Des étoiles témoins des hommes\n",
      "Un chant serré au chaud dans les dos rêveurs\n",
      "De femmes sentant le beurre\n",
      "Un sein engorgé, un sentier lacté\n",
      "La rosée dans les fêlures des pieds craquelés\n",
      "Je me souviens de toi\n",
      "Un rêve pétri de latérite et d’acier\n",
      "Des hommes fiers\n",
      "Poitrines pleines à craquer\n",
      "Serpes et lances à terre\n",
      "Marchant nus vers le soleil\n",
      "Des filles papillons\n",
      "Qui s’éparpillent, s’envolent\n",
      "Une explosion de couleurs dans le ciel\n",
      "Des rires étouffés, des rires défaits\n",
      "Des rires par milliers\n",
      "Je me souviens de toi\n",
      "Peuple sûr\n",
      "Peuple droit\n",
      "Peuple adroit\n",
      "Peuple fissuré, mais entier\n",
      "Beauté jade et fuyante\n",
      "Beauté jalouse, farouche, ensorcelante\n",
      "A en brûler les yeux des prophètes\n",
      "Un tout petit bout de terre qui fit trembler le Reich...\n",
      "Je me souviens de toi\n",
      "Avant tes paroles plumes\n",
      "Avant tes fils en papier\n",
      "Avant ta terre béante, tes enfants errants\n",
      "Avant ta dignité en miettes\n",
      "En vente libre\n",
      "Sur les trottoirs des boulevards gloutons\n",
      "Je me souviens de toi\n",
      "Dans la fureur de mes cheveux crépus\n",
      "Dans l’encre qui serpente mes mains\n",
      "Dans mes rêves précieux, poudreux de poussière\n",
      "Dans mes sueurs\n",
      "Dans mes cris\n",
      "Dans mes fièvres\n",
      "Dans mes yeux pendus sur la lune, ouverts et ballants\n",
      "Je me souviens de toi\n",
      "Hier encore\n",
      "Demain (bien sûr)\n",
      "Ce matin,\n",
      "Peut-être.\n"
     ]
    }
   ],
   "source": [
    "print(data)"
   ]
  },
  {
   "cell_type": "markdown",
   "id": "5448bbd7",
   "metadata": {
    "slideshow": {
     "slide_type": "slide"
    }
   },
   "source": [
    "## JSON files"
   ]
  },
  {
   "cell_type": "code",
   "execution_count": 7,
   "id": "85641f6a",
   "metadata": {
    "slideshow": {
     "slide_type": "fragment"
    }
   },
   "outputs": [],
   "source": [
    "import json\n",
    "\n",
    "with open (\"data/orders.json\") as file:\n",
    "    data = json.load(file)"
   ]
  },
  {
   "cell_type": "code",
   "execution_count": 9,
   "id": "6a98f936",
   "metadata": {
    "slideshow": {
     "slide_type": "fragment"
    }
   },
   "outputs": [
    {
     "data": {
      "text/plain": [
       "{'orders': [{'size': 'medium',\n",
       "   'price': 15.67,\n",
       "   'toppings': ['mushrooms', 'pepperoni', 'basil'],\n",
       "   'extra_cheese': False,\n",
       "   'delivery': True,\n",
       "   'client': {'name': 'Emily Irakoze',\n",
       "    'phone': None,\n",
       "    'email': 'ei@email.com'}},\n",
       "  {'size': 'small',\n",
       "   'price': 6.54,\n",
       "   'toppings': None,\n",
       "   'extra_cheese': True,\n",
       "   'delivery': False,\n",
       "   'client': {'name': 'Felipa Bizimana',\n",
       "    'phone': '556-342-452',\n",
       "    'email': None}}]}"
      ]
     },
     "execution_count": 9,
     "metadata": {},
     "output_type": "execute_result"
    }
   ],
   "source": [
    "data"
   ]
  },
  {
   "cell_type": "code",
   "execution_count": 12,
   "id": "31cf5aa0",
   "metadata": {
    "slideshow": {
     "slide_type": "fragment"
    }
   },
   "outputs": [
    {
     "data": {
      "text/plain": [
       "{'size': 'small',\n",
       " 'price': 6.54,\n",
       " 'toppings': None,\n",
       " 'extra_cheese': True,\n",
       " 'delivery': False,\n",
       " 'client': {'name': 'Felipa Bizimana', 'phone': '556-342-452', 'email': None}}"
      ]
     },
     "execution_count": 12,
     "metadata": {},
     "output_type": "execute_result"
    }
   ],
   "source": [
    "data['orders'][-1]"
   ]
  },
  {
   "cell_type": "code",
   "execution_count": 14,
   "id": "a013e62b",
   "metadata": {
    "slideshow": {
     "slide_type": "fragment"
    }
   },
   "outputs": [
    {
     "data": {
      "text/html": [
       "<div>\n",
       "<style scoped>\n",
       "    .dataframe tbody tr th:only-of-type {\n",
       "        vertical-align: middle;\n",
       "    }\n",
       "\n",
       "    .dataframe tbody tr th {\n",
       "        vertical-align: top;\n",
       "    }\n",
       "\n",
       "    .dataframe thead th {\n",
       "        text-align: right;\n",
       "    }\n",
       "</style>\n",
       "<table border=\"1\" class=\"dataframe\">\n",
       "  <thead>\n",
       "    <tr style=\"text-align: right;\">\n",
       "      <th></th>\n",
       "      <th>size</th>\n",
       "      <th>price</th>\n",
       "      <th>toppings</th>\n",
       "      <th>extra_cheese</th>\n",
       "      <th>delivery</th>\n",
       "      <th>client.name</th>\n",
       "      <th>client.phone</th>\n",
       "      <th>client.email</th>\n",
       "    </tr>\n",
       "  </thead>\n",
       "  <tbody>\n",
       "    <tr>\n",
       "      <th>0</th>\n",
       "      <td>medium</td>\n",
       "      <td>15.67</td>\n",
       "      <td>[mushrooms, pepperoni, basil]</td>\n",
       "      <td>False</td>\n",
       "      <td>True</td>\n",
       "      <td>Emily Irakoze</td>\n",
       "      <td>None</td>\n",
       "      <td>ei@email.com</td>\n",
       "    </tr>\n",
       "    <tr>\n",
       "      <th>1</th>\n",
       "      <td>small</td>\n",
       "      <td>6.54</td>\n",
       "      <td>None</td>\n",
       "      <td>True</td>\n",
       "      <td>False</td>\n",
       "      <td>Felipa Bizimana</td>\n",
       "      <td>556-342-452</td>\n",
       "      <td>None</td>\n",
       "    </tr>\n",
       "  </tbody>\n",
       "</table>\n",
       "</div>"
      ],
      "text/plain": [
       "     size  price                       toppings  extra_cheese  delivery  \\\n",
       "0  medium  15.67  [mushrooms, pepperoni, basil]         False      True   \n",
       "1   small   6.54                           None          True     False   \n",
       "\n",
       "       client.name client.phone  client.email  \n",
       "0    Emily Irakoze         None  ei@email.com  \n",
       "1  Felipa Bizimana  556-342-452          None  "
      ]
     },
     "execution_count": 14,
     "metadata": {},
     "output_type": "execute_result"
    }
   ],
   "source": [
    "from pandas import json_normalize\n",
    "json_normalize(data['orders'])"
   ]
  },
  {
   "cell_type": "markdown",
   "id": "2f23161a",
   "metadata": {
    "slideshow": {
     "slide_type": "slide"
    }
   },
   "source": [
    "## CSV files"
   ]
  },
  {
   "cell_type": "markdown",
   "id": "829b1f46",
   "metadata": {
    "slideshow": {
     "slide_type": "fragment"
    }
   },
   "source": [
    "### Pandas\n",
    "\n",
    "- A fast, powerful, flexible and easy to use data analysis and manipulation tool"
   ]
  },
  {
   "cell_type": "code",
   "execution_count": 3,
   "id": "b9d2a685",
   "metadata": {
    "slideshow": {
     "slide_type": "fragment"
    }
   },
   "outputs": [
    {
     "data": {
      "text/html": [
       "<div>\n",
       "<style scoped>\n",
       "    .dataframe tbody tr th:only-of-type {\n",
       "        vertical-align: middle;\n",
       "    }\n",
       "\n",
       "    .dataframe tbody tr th {\n",
       "        vertical-align: top;\n",
       "    }\n",
       "\n",
       "    .dataframe thead th {\n",
       "        text-align: right;\n",
       "    }\n",
       "</style>\n",
       "<table border=\"1\" class=\"dataframe\">\n",
       "  <thead>\n",
       "    <tr style=\"text-align: right;\">\n",
       "      <th></th>\n",
       "      <th>age</th>\n",
       "      <th>sex</th>\n",
       "      <th>bmi</th>\n",
       "      <th>children</th>\n",
       "      <th>smoker</th>\n",
       "      <th>region</th>\n",
       "      <th>charges</th>\n",
       "    </tr>\n",
       "  </thead>\n",
       "  <tbody>\n",
       "    <tr>\n",
       "      <th>0</th>\n",
       "      <td>19</td>\n",
       "      <td>female</td>\n",
       "      <td>27.900</td>\n",
       "      <td>0</td>\n",
       "      <td>yes</td>\n",
       "      <td>southwest</td>\n",
       "      <td>16884.92400</td>\n",
       "    </tr>\n",
       "    <tr>\n",
       "      <th>1</th>\n",
       "      <td>18</td>\n",
       "      <td>male</td>\n",
       "      <td>33.770</td>\n",
       "      <td>1</td>\n",
       "      <td>no</td>\n",
       "      <td>southeast</td>\n",
       "      <td>1725.55230</td>\n",
       "    </tr>\n",
       "    <tr>\n",
       "      <th>2</th>\n",
       "      <td>28</td>\n",
       "      <td>male</td>\n",
       "      <td>33.000</td>\n",
       "      <td>3</td>\n",
       "      <td>no</td>\n",
       "      <td>southeast</td>\n",
       "      <td>4449.46200</td>\n",
       "    </tr>\n",
       "    <tr>\n",
       "      <th>3</th>\n",
       "      <td>33</td>\n",
       "      <td>male</td>\n",
       "      <td>22.705</td>\n",
       "      <td>0</td>\n",
       "      <td>no</td>\n",
       "      <td>northwest</td>\n",
       "      <td>21984.47061</td>\n",
       "    </tr>\n",
       "    <tr>\n",
       "      <th>4</th>\n",
       "      <td>32</td>\n",
       "      <td>male</td>\n",
       "      <td>28.880</td>\n",
       "      <td>0</td>\n",
       "      <td>no</td>\n",
       "      <td>northwest</td>\n",
       "      <td>3866.85520</td>\n",
       "    </tr>\n",
       "  </tbody>\n",
       "</table>\n",
       "</div>"
      ],
      "text/plain": [
       "   age     sex     bmi  children smoker     region      charges\n",
       "0   19  female  27.900         0    yes  southwest  16884.92400\n",
       "1   18    male  33.770         1     no  southeast   1725.55230\n",
       "2   28    male  33.000         3     no  southeast   4449.46200\n",
       "3   33    male  22.705         0     no  northwest  21984.47061\n",
       "4   32    male  28.880         0     no  northwest   3866.85520"
      ]
     },
     "execution_count": 3,
     "metadata": {},
     "output_type": "execute_result"
    }
   ],
   "source": [
    "import pandas as pd\n",
    "df = pd.read_csv(\"data/insurance.csv\")\n",
    "df.head()"
   ]
  },
  {
   "cell_type": "markdown",
   "id": "54c2a4bb",
   "metadata": {
    "slideshow": {
     "slide_type": "slide"
    }
   },
   "source": [
    "# ⏪ Today's recap\n",
    "\n",
    "- data science / machine learning pipeline\n",
    "- how to read: .csv, .txt, .json"
   ]
  },
  {
   "cell_type": "markdown",
   "id": "c3c47662",
   "metadata": {
    "slideshow": {
     "slide_type": "slide"
    }
   },
   "source": [
    "<center><img src='img/bye.gif' style='height:250px;'></center> \n",
    "\n",
    "# Next class: Web scraping\n",
    "# See you next Friday!"
   ]
  }
 ],
 "metadata": {
  "celltoolbar": "Slideshow",
  "kernelspec": {
   "display_name": "Python 3 (ipykernel)",
   "language": "python",
   "name": "python3"
  },
  "language_info": {
   "codemirror_mode": {
    "name": "ipython",
    "version": 3
   },
   "file_extension": ".py",
   "mimetype": "text/x-python",
   "name": "python",
   "nbconvert_exporter": "python",
   "pygments_lexer": "ipython3",
   "version": "3.9.7"
  }
 },
 "nbformat": 4,
 "nbformat_minor": 5
}
