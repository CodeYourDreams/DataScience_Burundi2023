{
 "cells": [
  {
   "cell_type": "markdown",
   "id": "ecf8788f",
   "metadata": {
    "slideshow": {
     "slide_type": "slide"
    }
   },
   "source": [
    "<center><img src='img/cdy.png' style='width:500px; float: left; margin: 0px 30px 15px 0px'></center>\n",
    "\n",
    "# Classification models\n",
    "## Class 24 - Data Science Curriculum \n",
    "\n",
    "<br>\n",
    "\n",
    "#### Women Building Change scholarship program 2023 🇧🇮\n",
    "May 26, 2023\n",
    "\n",
    "\n",
    "\n"
   ]
  },
  {
   "cell_type": "markdown",
   "id": "52d145e2",
   "metadata": {
    "slideshow": {
     "slide_type": "slide"
    }
   },
   "source": [
    "# Good news..."
   ]
  },
  {
   "cell_type": "markdown",
   "id": "59660346",
   "metadata": {
    "slideshow": {
     "slide_type": "slide"
    }
   },
   "source": [
    "# 🇧🇮 Brianne and I will be going to Burundi!\n",
    "\n",
    "\n",
    "<br>\n",
    "<center><img src='img/excited.gif' style='height:200px; float: center; margin: 0px 0px 0px 0px'></center>\n",
    "<br>"
   ]
  },
  {
   "cell_type": "markdown",
   "id": "d3603898",
   "metadata": {
    "slideshow": {
     "slide_type": "slide"
    }
   },
   "source": [
    "# Next classes will be in person\n",
    "\n",
    "- Clustering models\n",
    "- Neural Networks and Hugging Face\n",
    "- Tips on how to succeed as a Data Scientist "
   ]
  },
  {
   "cell_type": "markdown",
   "id": "d03853f3",
   "metadata": {
    "slideshow": {
     "slide_type": "slide"
    }
   },
   "source": [
    "# Start thinking about a project... "
   ]
  },
  {
   "cell_type": "markdown",
   "id": "8189ab64",
   "metadata": {
    "slideshow": {
     "slide_type": "fragment"
    }
   },
   "source": [
    "Examples:\n",
    "\n",
    "- Sacred text analysis in French or Kirundi\n",
    "- Tweets in/about Burundi analysis\n",
    "- Use open source African data sets:\n",
    "    - Burundi Open Data for Africa: https://burundi.opendataforafrica.org/\n",
    "    - IWACU Open Data Burundi: https://iwacu-burundi.org/opendata/en/\n",
    "    - Africa Open Data: https://africaopendata.org/group/burundi\n",
    "    - World Bank Data Burundi: https://donnees.banquemondiale.org/pays/burundi\n",
    "- Whatsapp conversations\n",
    "- Books in Kirundi\n",
    "- Burundian singers lyrics"
   ]
  }
 ],
 "metadata": {
  "celltoolbar": "Slideshow",
  "kernelspec": {
   "display_name": "Python 3 (ipykernel)",
   "language": "python",
   "name": "python3"
  },
  "language_info": {
   "codemirror_mode": {
    "name": "ipython",
    "version": 3
   },
   "file_extension": ".py",
   "mimetype": "text/x-python",
   "name": "python",
   "nbconvert_exporter": "python",
   "pygments_lexer": "ipython3",
   "version": "3.9.13"
  }
 },
 "nbformat": 4,
 "nbformat_minor": 5
}
