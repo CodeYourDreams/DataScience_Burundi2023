{
 "cells": [
  {
   "cell_type": "markdown",
   "id": "674ac2a7",
   "metadata": {
    "slideshow": {
     "slide_type": "slide"
    }
   },
   "source": [
    "# We'll start @2:05PM\n",
    "https://www.youtube.com/watch?v=1LfgyPn8Byk&ab_channel=Stromae"
   ]
  },
  {
   "cell_type": "markdown",
   "id": "843e46f7",
   "metadata": {
    "slideshow": {
     "slide_type": "slide"
    }
   },
   "source": [
    "<center><img src='img/cdy.png' style='width:500px; float: left; margin: 0px 30px 15px 0px'></center>\n",
    "\n",
    "# Comprehension Lists\n",
    "## Class 10 - Data Science Curriculum \n",
    "\n",
    "<br>\n",
    "\n",
    "#### Women Building Change scholarship program 2023 🇧🇮\n",
    "March 20, 2023\n",
    "\n",
    "\n",
    "\n"
   ]
  },
  {
   "cell_type": "markdown",
   "id": "48500da2",
   "metadata": {
    "slideshow": {
     "slide_type": "slide"
    }
   },
   "source": [
    "# Recap last class\n",
    "\n",
    "- Loops\n",
    "    - `for`: Used to repeat code for a **fixed** number of times\n",
    "    - `while`: Used to repeat code **until** a condition is met\n",
    "    \n",
    "- Loops are important because they help us do less work!"
   ]
  },
  {
   "cell_type": "markdown",
   "id": "a468ba2e",
   "metadata": {
    "slideshow": {
     "slide_type": "fragment"
    }
   },
   "source": [
    "```python \n",
    "\n",
    "for item in iterable_variable:\n",
    "    # do something with `item`\n",
    "  ```"
   ]
  },
  {
   "cell_type": "markdown",
   "id": "1da06f3c",
   "metadata": {
    "slideshow": {
     "slide_type": "fragment"
    }
   },
   "source": [
    "```python \n",
    "\n",
    "while condition:\n",
    "    # run this code\n",
    "  ```"
   ]
  },
  {
   "cell_type": "markdown",
   "id": "82476939",
   "metadata": {
    "slideshow": {
     "slide_type": "slide"
    }
   },
   "source": [
    "# 🚀 Today's agenda\n",
    "\n",
    "- Comprehension lists"
   ]
  },
  {
   "cell_type": "markdown",
   "id": "d7c97442",
   "metadata": {
    "slideshow": {
     "slide_type": "slide"
    }
   },
   "source": [
    "# Google Colab: https://colab.research.google.com/\n",
    "\n",
    "<br>\n",
    "<center><img src='img/superhero.gif' style='height:350px; float: center; margin: 0px 30px 15px 0px'></center>\n",
    "\n"
   ]
  },
  {
   "cell_type": "markdown",
   "id": "44aa29f4",
   "metadata": {
    "slideshow": {
     "slide_type": "slide"
    }
   },
   "source": [
    "# 🏋🏿‍♀️ Coding Warmup "
   ]
  },
  {
   "cell_type": "markdown",
   "id": "6692d7dc",
   "metadata": {
    "slideshow": {
     "slide_type": "fragment"
    }
   },
   "source": [
    "But what if we want to do something over and over again until something happens? For example, what if we want to write a program that counts down from 5 to 1?"
   ]
  },
  {
   "cell_type": "code",
   "execution_count": 20,
   "id": "2a5de9af",
   "metadata": {
    "slideshow": {
     "slide_type": "fragment"
    }
   },
   "outputs": [
    {
     "name": "stdout",
     "output_type": "stream",
     "text": [
      "5\n",
      "4\n",
      "3\n",
      "2\n",
      "1\n",
      "0\n",
      "Blast off!\n"
     ]
    }
   ],
   "source": [
    "counter = 5\n",
    "\n",
    "print(counter)\n",
    "counter = counter - 1\n",
    "print(counter)\n",
    "counter = counter - 1\n",
    "print(counter)\n",
    "counter = counter - 1\n",
    "print(counter)\n",
    "counter = counter - 1\n",
    "print(counter)\n",
    "counter = counter - 1\n",
    "print(counter)\n",
    "\n",
    "print('Blast off!')"
   ]
  },
  {
   "cell_type": "markdown",
   "id": "1d8dfd69",
   "metadata": {
    "slideshow": {
     "slide_type": "slide"
    }
   },
   "source": [
    "This code has a lot of repeating parts, and isn't easy to edit later. What if we wanted to count down to zero? What if we wanted to count down by 2's instead of 1's? With a while loop, we can make our count down code much shorter:"
   ]
  },
  {
   "cell_type": "code",
   "execution_count": 21,
   "id": "db1087cd",
   "metadata": {
    "slideshow": {
     "slide_type": "fragment"
    }
   },
   "outputs": [
    {
     "name": "stdout",
     "output_type": "stream",
     "text": [
      "5\n",
      "4\n",
      "3\n",
      "2\n",
      "1\n",
      "0\n",
      "Blast off!\n"
     ]
    }
   ],
   "source": [
    "counter = 5\n",
    "\n",
    "while (counter >= 0):\n",
    "    print(counter)\n",
    "    counter = counter - 1\n",
    "\n",
    "print('Blast off!')"
   ]
  },
  {
   "cell_type": "markdown",
   "id": "f5f52fd8",
   "metadata": {
    "slideshow": {
     "slide_type": "slide"
    }
   },
   "source": [
    "A while loop checks a condition, like our (counter >= 0). If the condition is True, the while loop will run the block of code that prints the counter and subtracts one. If the condition is not True (or False), the while loop won't run."
   ]
  },
  {
   "cell_type": "code",
   "execution_count": 22,
   "id": "6029fd37",
   "metadata": {
    "slideshow": {
     "slide_type": "fragment"
    }
   },
   "outputs": [],
   "source": [
    "number = 27\n",
    "\n",
    "while (number < 10):\n",
    "    # This won't print because number isn't < 10\n",
    "    print('The number is still small')\n",
    "    number = number + 1"
   ]
  },
  {
   "cell_type": "markdown",
   "id": "3c1cf717",
   "metadata": {
    "slideshow": {
     "slide_type": "fragment"
    }
   },
   "source": [
    "🤔 Tell me in your own words... why is it not running?"
   ]
  },
  {
   "cell_type": "markdown",
   "id": "cbba846c",
   "metadata": {
    "slideshow": {
     "slide_type": "slide"
    }
   },
   "source": [
    "# Exercise"
   ]
  },
  {
   "cell_type": "code",
   "execution_count": null,
   "id": "b43c0113",
   "metadata": {
    "slideshow": {
     "slide_type": "fragment"
    }
   },
   "outputs": [],
   "source": [
    "# Complete the program below to add up each number from 1 to 20:\n",
    "\n",
    "current_number = 1\n",
    "total = 0\n",
    "\n",
    "# Fill in the code below\n",
    "while _____:\n",
    "    total = _____\n",
    "    current_number = ____\n",
    "    \n",
    "print('Sum of numbers from 1 to 20:', total)"
   ]
  },
  {
   "cell_type": "code",
   "execution_count": 23,
   "id": "8ddb74f2",
   "metadata": {
    "slideshow": {
     "slide_type": "slide"
    }
   },
   "outputs": [
    {
     "name": "stdout",
     "output_type": "stream",
     "text": [
      "Sum of numbers from 1 to 20: 210\n"
     ]
    }
   ],
   "source": [
    "# SOLUTION\n",
    "\n",
    "current_number = 1\n",
    "total = 0\n",
    "\n",
    "while current_number <= 20:\n",
    "    total = total + current_number\n",
    "    current_number = current_number + 1\n",
    "    \n",
    "print('Sum of numbers from 1 to 20:', total)"
   ]
  },
  {
   "cell_type": "markdown",
   "id": "d1445401",
   "metadata": {
    "slideshow": {
     "slide_type": "slide"
    }
   },
   "source": [
    "# More examples with `for`"
   ]
  },
  {
   "cell_type": "code",
   "execution_count": null,
   "id": "85f68384",
   "metadata": {
    "slideshow": {
     "slide_type": "fragment"
    }
   },
   "outputs": [],
   "source": [
    "# Fill in the code below to write a for loop that will add up every number in a list. \n",
    "# For example, if numbers = [1, 2, 3], then the total sum will be 6.\n",
    "\n",
    "numbers = [3, 6, 8, 7, 1, 2]\n",
    "total = 0\n",
    "\n",
    "# Replace the underscores with a variable name that you want\n",
    "# to use for each number\n",
    "for _____ in numbers:\n",
    "    total = total + _____\n",
    "    \n",
    "print('Sum of the numbers:', total)"
   ]
  },
  {
   "cell_type": "markdown",
   "id": "d6cc6101",
   "metadata": {
    "slideshow": {
     "slide_type": "slide"
    }
   },
   "source": [
    "# ✨ Comprehension lists\n",
    "\n",
    "```python\n",
    "\n",
    "[expression for element in list]\n",
    "```"
   ]
  },
  {
   "cell_type": "markdown",
   "id": "78dc5f7a",
   "metadata": {
    "slideshow": {
     "slide_type": "fragment"
    }
   },
   "source": [
    "- Python's List Comprehension is a quick and compact syntax to generate a list from a string or any other list"
   ]
  },
  {
   "cell_type": "markdown",
   "id": "22d55e09",
   "metadata": {
    "slideshow": {
     "slide_type": "fragment"
    }
   },
   "source": [
    "- It can replace loops that alter lists"
   ]
  },
  {
   "cell_type": "markdown",
   "id": "3c82b32b",
   "metadata": {
    "slideshow": {
     "slide_type": "fragment"
    }
   },
   "source": [
    "- It applies the expression to each element in the list"
   ]
  },
  {
   "cell_type": "markdown",
   "id": "fc01c4f1",
   "metadata": {
    "slideshow": {
     "slide_type": "slide"
    }
   },
   "source": [
    "## Coding"
   ]
  },
  {
   "cell_type": "code",
   "execution_count": null,
   "id": "7a363700",
   "metadata": {
    "slideshow": {
     "slide_type": "fragment"
    }
   },
   "outputs": [],
   "source": []
  },
  {
   "cell_type": "markdown",
   "id": "8ea46873",
   "metadata": {
    "slideshow": {
     "slide_type": "slide"
    }
   },
   "source": [
    "# ⏪ Today's recap\n",
    "\n",
    "- Comprehension lists\n",
    "\n",
    "```python\n",
    "\n",
    "[expression for element in list]\n",
    "```"
   ]
  },
  {
   "cell_type": "markdown",
   "id": "ba820ff4",
   "metadata": {
    "slideshow": {
     "slide_type": "fragment"
    }
   },
   "source": [
    "# Practice lab: https://docs.google.com/document/d/1jE-pII7_q8ZIESF0xeI61ot8PZPrU6WHdUiOD0xUpiQ/edit"
   ]
  },
  {
   "cell_type": "markdown",
   "id": "eed5deef",
   "metadata": {
    "slideshow": {
     "slide_type": "slide"
    }
   },
   "source": [
    "# Challenge 💪\n",
    "\n",
    "We're going to continue adding some code to our program that keeps track of homework scores. We want our program to find out what the highest score for the class was.\n",
    "\n",
    "Write a program that loops through every score in the list. Your program should first set a variable for the highest score to 0. Then, for each score, your program should figure out whether the score is greater than the highest score. If it is, then set the highest score to the current score in the loop. At the end, you should print the highest score."
   ]
  },
  {
   "cell_type": "code",
   "execution_count": 3,
   "id": "f38acca1",
   "metadata": {
    "slideshow": {
     "slide_type": "fragment"
    }
   },
   "outputs": [],
   "source": [
    "scores = [93, 94, 83, 63, 84, 98, 90, 98, 79, 87, 73, 96, 61, 86, 88, 54, 70, 74, 77, 74]\n",
    "\n",
    "# Set the highest score to 0\n",
    "\n",
    "\n",
    "# Loop through each score\n",
    "#    If the score is greater than the highest score, update the highest score\n",
    "\n",
    "\n",
    "# Print the highest score"
   ]
  },
  {
   "cell_type": "markdown",
   "id": "c3c47662",
   "metadata": {
    "slideshow": {
     "slide_type": "slide"
    }
   },
   "source": [
    "<center><img src='img/bye.gif' style='height:250px;'></center> \n",
    "\n",
    "# Next class: Functions\n",
    "# See you next Friday!"
   ]
  }
 ],
 "metadata": {
  "celltoolbar": "Slideshow",
  "kernelspec": {
   "display_name": "Python 3 (ipykernel)",
   "language": "python",
   "name": "python3"
  },
  "language_info": {
   "codemirror_mode": {
    "name": "ipython",
    "version": 3
   },
   "file_extension": ".py",
   "mimetype": "text/x-python",
   "name": "python",
   "nbconvert_exporter": "python",
   "pygments_lexer": "ipython3",
   "version": "3.9.13"
  }
 },
 "nbformat": 4,
 "nbformat_minor": 5
}
